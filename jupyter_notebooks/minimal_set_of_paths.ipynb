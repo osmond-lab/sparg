{
 "cells": [
  {
   "cell_type": "code",
   "execution_count": 53,
   "id": "ee997ee6",
   "metadata": {},
   "outputs": [],
   "source": [
    "import msprime\n",
    "import tskit\n",
    "import numpy as np\n",
    "import math\n",
    "import random\n",
    "from collections import defaultdict\n",
    "from itertools import chain\n",
    "import networkx as nx\n",
    "import matplotlib.pyplot as plt    \n",
    "import time\n",
    "\n",
    "\n",
    "def identify_unique_paths(ts):\n",
    "    \"\"\"\n",
    "    Finds all of the paths within the incomplete ARG, stored as a tskit tree sequence\n",
    "    \n",
    "    Input:\n",
    "    - ts: tskit tree sequence\n",
    "    \n",
    "    Output:\n",
    "    - all_paths: list, unique paths within the ARG\n",
    "    \"\"\"\n",
    "    # make the (incomplete) ARG\n",
    "    topology = defaultdict(list)\n",
    "    for tree in ts.trees():\n",
    "        for k, v in chain(tree.parent_dict.items()):\n",
    "            if v not in topology[k]:\n",
    "                topology[k].append(v)\n",
    "    G = nx.DiGraph(dict(topology))\n",
    "\n",
    "    #unique paths up the ARG\n",
    "    gmrca = ts.node(ts.num_nodes-1).id\n",
    "    all_paths = []\n",
    "    for sample in ts.samples():\n",
    "        paths = nx.all_simple_paths(G, source=sample, target=gmrca)\n",
    "        all_paths.extend(paths)\n",
    "    return all_paths\n",
    "\n",
    "def create_sample_locations_array(paths, sample_locs):\n",
    "    \"\"\"\n",
    "    Expands sample locations to pair with the unique paths. Accounts for samples having multiple\n",
    "    paths.\n",
    "    \n",
    "    Inputs:\n",
    "    - paths: list, unique paths within the ARG. Output of identify_unique_paths(). If not\n",
    "        provided, this will be calculated\n",
    "    - sample_locs: numpy array, sample locations\n",
    "    \n",
    "    Output:\n",
    "    - path_locs: numpy array, sample locations expanded to match number of paths\n",
    "    \"\"\"\n",
    "    sample_locs_array = []\n",
    "    for path in paths:\n",
    "        sample_locs_array.append([sample_locs[path[0]]])\n",
    "    path_locs = np.array(sample_locs_array)\n",
    "    return path_locs\n",
    "\n",
    "def link_node_with_path(ts, paths):\n",
    "    \"\"\"\n",
    "    Adds paths from internal nodes to the root to the paths list used for calculating the\n",
    "    covariance matrix. Could potentially only do one of the two recombination nodes, but keeping\n",
    "    it simple for now\n",
    "\n",
    "    Inputs:\n",
    "    - ts: tskit tree sequence\n",
    "    - paths: list, unique paths within the ARG. Output of identify_unique_paths().\n",
    "\n",
    "    Output:\n",
    "    - path_list: list, updated paths list\n",
    "    \"\"\"\n",
    "    path_list = []\n",
    "    for node in ts.nodes():\n",
    "        if node.flags == tskit.NODE_IS_SAMPLE or node.time == ts.max_root_time:\n",
    "            continue\n",
    "        for i in range(len(paths)):\n",
    "            if node.id in paths[i]:\n",
    "                path_list.append(paths[i][paths[i].index(node.id):])\n",
    "                break\n",
    "    return path_list\n",
    "\n",
    "def calc_covariance_matrix(paths, ts):\n",
    "    \"\"\"\n",
    "    Calculates the covariance matrix between paths in a full ARG, stored as a tskit tree sequence.\n",
    "    \n",
    "    Inputs:\n",
    "    - paths: list, unique paths within the ARG. Output of identify_unique_paths()\n",
    "    - ts: tskit tree sequence. Needed for node times\n",
    "    \n",
    "    Output:\n",
    "    - times: numpy array, shared times between the paths within the ARG\n",
    "    \"\"\"\n",
    "    edges = ts.tables.edges\n",
    "    parent_list = list(edges.parent)\n",
    "    child_list = list(edges.child)\n",
    "    gmrca = ts.node(ts.num_nodes-1).id\n",
    "    tgmrca = ts.node(gmrca).time\n",
    "    times = np.empty((len(paths),len(paths)))\n",
    "    tree = ts.first()\n",
    "    for i, p in enumerate(paths):\n",
    "        for j in range(i+1):\n",
    "            intersect = list(set(p).intersection(paths[j]))\n",
    "            if i == j:\n",
    "                times[i,j] = tgmrca\n",
    "            elif intersect == [gmrca]:\n",
    "                times[i,j] = 0\n",
    "            else:\n",
    "                edges = []\n",
    "                for child in intersect:\n",
    "                    if child != gmrca:\n",
    "                        edges.append(ts.node(parent_list[child_list.index(child)]).time - ts.node(child).time)\n",
    "                times[i,j] = np.sum(edges) # Do I need np.unique()? Ask Matt, because it was previously in his\n",
    "            times[j,i] = times[i,j]\n",
    "    return times\n",
    "    \n",
    "def locate_mle_gmrca(inv_sigma_22, sample_locs):\n",
    "    \"\"\"\n",
    "    Locates the maximum likelihood estimate of the grand most recent common ancestor based on the covariance\n",
    "    matrix between paths and sample locations (Equation 5.6 from \n",
    "    https://lukejharmon.github.io/pcm/pdf/phylogeneticComparativeMethods.pdf). Currently, requires simga_22\n",
    "    to be pre-inverted (may be worth adding both options in future).\n",
    "    \n",
    "    Inputs:\n",
    "    - inv_sigma_22: numpy array, inverted covariance matrix between paths at sample time\n",
    "    - sample_locs: numpy array, sample locations expanded to match number of paths. Output of\n",
    "        create_sample_locations_array().\n",
    "    \n",
    "    Output:\n",
    "    - u1: float, maximum likelihood estimate of the grand most recent common ancestor (GMRCA). Output of \n",
    "        locate_mle_gmrca().\n",
    "    \"\"\"\n",
    "    k = len(inv_sigma_22)\n",
    "    a1 = np.matmul(np.matmul(np.ones(k), inv_sigma_22), np.ones(k).reshape(-1,1))\n",
    "    a2 = np.matmul(np.matmul(np.ones(k), inv_sigma_22), sample_locs)\n",
    "    u1 = a2/a1\n",
    "    return u1\n",
    "\n",
    "def estimate_mle_dispersal(Tinv, locs):\n",
    "    '''\n",
    "    MLE dispersal estimate\n",
    "    \n",
    "    parameters\n",
    "    ----------\n",
    "    Tinv: inverse covariance matrix among sample locations\n",
    "    locs: sample locations\n",
    "    '''\n",
    "    \n",
    "    k = len(locs) #number of paths\n",
    "    # find MLE MRCA location (eqn 5.6 Harmon book)\n",
    "    a1 = np.matmul(np.matmul(np.ones(k), Tinv), np.ones(k).reshape(-1,1))\n",
    "    a2 = np.matmul(np.matmul(np.ones(k), Tinv), locs)\n",
    "    ahat = a2/a1\n",
    "    # find MLE dispersal rate (eqn 5.7 Harmon book)\n",
    "    x = locs.reshape(-1,1) #make locations a column vector\n",
    "    R1 = x - ahat * np.ones(k).reshape(-1,1)\n",
    "    Rhat = np.matmul(np.matmul(np.transpose(R1), Tinv), R1) #/ (k-1)\n",
    "    return Rhat[0]\n",
    "\n",
    "def reconstruct_node_locations(ts, paths, sample_locs):\n",
    "    \"\"\"\n",
    "    Calculates the location of ancestral nodes using conditional multivariate normal distribution.\n",
    "\n",
    "    Inputs:\n",
    "    - ts: tskit tree sequence. Needed for node times\n",
    "    - paths: list, unique paths within the ARG. Output of identify_unique_paths()\n",
    "    - sample_locs: list of sample locations, one location per sample\n",
    "\n",
    "    Outputs:\n",
    "    - node_times: list, time of nodes from present\n",
    "    - node_locs: list, location of nodes\n",
    "    \"\"\"\n",
    "    sample_locs_array = create_sample_locations_array(paths=paths, sample_locs=sample_locs) # expands locs\n",
    "    node_paths = link_node_with_path(ts=ts, paths=paths)\n",
    "    all_paths = node_paths + paths\n",
    "    print(all_paths)\n",
    "    sigma = calc_covariance_matrix(paths=all_paths, ts=ts)\n",
    "    sigma_11 = sigma[0:sigma.shape[0]-len(paths),0:sigma.shape[1]-len(paths)]\n",
    "    sigma_12 = sigma[0:sigma.shape[0]-len(paths),sigma.shape[1]-len(paths):sigma.shape[1]]\n",
    "    sigma_21 = sigma[sigma.shape[0]-len(paths):sigma.shape[0],0:sigma.shape[1]-len(paths)]\n",
    "    sigma_22 = sigma[sigma.shape[0]-len(paths):sigma.shape[0],sigma.shape[1]-len(paths):sigma.shape[1]]\n",
    "    inv_sigma_22 = np.linalg.pinv(sigma_22)\n",
    "    dispersal_rate = estimate_mle_dispersal(inv_sigma_22, sample_locs_array)\n",
    "    u1 = locate_mle_gmrca(inv_sigma_22=inv_sigma_22, sample_locs=sample_locs_array)\n",
    "    cmvn_u = u1 + np.dot(np.dot(sigma_12, inv_sigma_22),sample_locs_array - u1)\n",
    "    cmvn_sigma = sigma_11 - np.dot(np.dot(sigma_12, inv_sigma_22), sigma_21)\n",
    "    node_times = ts.tables.nodes.time\n",
    "    node_locs = np.concatenate((sample_locs, np.transpose(cmvn_u)[0], u1))\n",
    "    return node_times, node_locs, dispersal_rate, sigma_22"
   ]
  },
  {
   "cell_type": "markdown",
   "id": "abd1b6b5",
   "metadata": {},
   "source": [
    "# Example 1"
   ]
  },
  {
   "cell_type": "code",
   "execution_count": 14,
   "id": "54e723d8",
   "metadata": {},
   "outputs": [
    {
     "name": "stdout",
     "output_type": "stream",
     "text": [
      "6.00┊       ┊  10   ┊  10   ┊  \n",
      "    ┊       ┊  ┏┻━┓ ┊ ┏━┻┓  ┊  \n",
      "5.00┊   9   ┊  9  ┃ ┊ 9  ┃  ┊  \n",
      "    ┊  ┏┻━┓ ┊  ┃  ┃ ┊ ┃  ┃  ┊  \n",
      "4.00┊  ┃  7 ┊  ┃  8 ┊ ┃  8  ┊  \n",
      "    ┊  ┃  ┃ ┊  ┃  ┃ ┊ ┃  ┃  ┊  \n",
      "3.00┊  6  ┃ ┊  6  ┃ ┊ 6  ┃  ┊  \n",
      "    ┊ ┏┻┓ ┃ ┊ ┏┻┓ ┃ ┊ ┃  ┃  ┊  \n",
      "2.00┊ ┃ ┃ 5 ┊ ┃ ┃ 5 ┊ ┃  5  ┊  \n",
      "    ┊ ┃ ┃ ┃ ┊ ┃ ┃ ┃ ┊ ┃ ┏┻┓ ┊  \n",
      "1.00┊ ┃ 3 ┃ ┊ ┃ 3 ┃ ┊ ┃ 4 ┃ ┊  \n",
      "    ┊ ┃ ┃ ┃ ┊ ┃ ┃ ┃ ┊ ┃ ┃ ┃ ┊  \n",
      "0.00┊ 0 1 2 ┊ 0 1 2 ┊ 0 1 2 ┊  \n",
      "    0      250     500    1000 \n",
      "\n"
     ]
    }
   ],
   "source": [
    "tables = tskit.TableCollection(sequence_length=1e3)\n",
    "\n",
    "node_table = tables.nodes\n",
    "node_table.add_row(flags=tskit.NODE_IS_SAMPLE)  # Node 0\n",
    "node_table.add_row(flags=tskit.NODE_IS_SAMPLE)  # Node 1\n",
    "node_table.add_row(flags=tskit.NODE_IS_SAMPLE)  # Node 2\n",
    "node_table.add_row(time=1, flags=msprime.NODE_IS_RE_EVENT)  # Node 3\n",
    "node_table.add_row(time=1, flags=msprime.NODE_IS_RE_EVENT)  # Node 4\n",
    "node_table.add_row(time=2)  # Node 5\n",
    "node_table.add_row(time=3)  # Node 6\n",
    "node_table.add_row(time=4, flags=msprime.NODE_IS_RE_EVENT)  # Node 7\n",
    "node_table.add_row(time=4, flags=msprime.NODE_IS_RE_EVENT)  # Node 8\n",
    "node_table.add_row(time=5)  # Node 5\n",
    "node_table.add_row(time=6)  # Node 6\n",
    "\n",
    "edge_table = tables.edges\n",
    "edge_table.add_row(left=0, right=1e3, parent=6, child=0)\n",
    "edge_table.add_row(left=0, right=500, parent=3, child=1)\n",
    "edge_table.add_row(left=500, right=1e3, parent=4, child=1)\n",
    "edge_table.add_row(left=0, right=1e3, parent=5, child=2)\n",
    "edge_table.add_row(left=0, right=500, parent=6, child=3)\n",
    "edge_table.add_row(left=500, right=1e3, parent=5, child=4)\n",
    "edge_table.add_row(left=0, right=250, parent=7, child=5)\n",
    "edge_table.add_row(left=250, right=1e3, parent=8, child=5)\n",
    "edge_table.add_row(left=0, right=1e3, parent=9, child=6)\n",
    "edge_table.add_row(left=0, right=250, parent=9, child=7)\n",
    "edge_table.add_row(left=250, right=1e3, parent=10, child=8)\n",
    "edge_table.add_row(left=250, right=1e3, parent=10, child=9)\n",
    "\n",
    "tables.sort()\n",
    "\n",
    "\n",
    "ts = tables.tree_sequence()\n",
    "\n",
    "print(ts.draw_text())"
   ]
  },
  {
   "cell_type": "code",
   "execution_count": 18,
   "id": "73c27d4d",
   "metadata": {},
   "outputs": [
    {
     "name": "stdout",
     "output_type": "stream",
     "text": [
      "Number of Samples: 3\n",
      "Number of Trees: 3\n",
      "Number of Paths: 6\n",
      "Estimated Dispersal Rate: [0.15106732]\n"
     ]
    }
   ],
   "source": [
    "print(\"Number of Samples:\", ts.num_samples)\n",
    "print(\"Number of Trees:\", ts.num_trees)\n",
    "\n",
    "paths = identify_unique_paths(ts=ts)\n",
    "print(\"Number of Paths:\", len(paths))\n",
    "\n",
    "sample_locs = np.linspace(0, 1, ts.num_samples) # evenly space the samples, ignore ordering of tree samples\n",
    "\n",
    "times, locations, dispersal_rate, cov_mat = reconstruct_node_locations(\n",
    "    ts=ts,\n",
    "    paths=paths,\n",
    "    sample_locs=sample_locs\n",
    ")\n",
    "\n",
    "print(\"Estimated Dispersal Rate:\", dispersal_rate)"
   ]
  },
  {
   "cell_type": "code",
   "execution_count": 19,
   "id": "53d5a10e",
   "metadata": {},
   "outputs": [
    {
     "name": "stdout",
     "output_type": "stream",
     "text": [
      "[[0, 6, 9, 10], [1, 3, 6, 9, 10], [1, 4, 5, 7, 9, 10], [1, 4, 5, 8, 10], [2, 5, 7, 9, 10], [2, 5, 8, 10]]\n"
     ]
    }
   ],
   "source": [
    "print(paths)"
   ]
  },
  {
   "cell_type": "code",
   "execution_count": 20,
   "id": "115698b5",
   "metadata": {},
   "outputs": [
    {
     "name": "stdout",
     "output_type": "stream",
     "text": [
      "Estimated Dispersal Rate: [0.15106732]\n"
     ]
    }
   ],
   "source": [
    "del paths[2]\n",
    "\n",
    "times, locations, dispersal_rate, cov_mat = reconstruct_node_locations(\n",
    "    ts=ts,\n",
    "    paths=paths,\n",
    "    sample_locs=sample_locs\n",
    ")\n",
    "\n",
    "print(\"Estimated Dispersal Rate:\", dispersal_rate)"
   ]
  },
  {
   "cell_type": "markdown",
   "id": "5d0df871",
   "metadata": {},
   "source": [
    "# Example 2"
   ]
  },
  {
   "cell_type": "code",
   "execution_count": 21,
   "id": "e8b24785",
   "metadata": {},
   "outputs": [
    {
     "name": "stdout",
     "output_type": "stream",
     "text": [
      "4.00┊   7   ┊       ┊  \n",
      "    ┊  ┏┻━┓ ┊       ┊  \n",
      "3.00┊  ┃  6 ┊   6   ┊  \n",
      "    ┊  ┃  ┃ ┊  ┏┻━┓ ┊  \n",
      "2.00┊  4  ┃ ┊  5  ┃ ┊  \n",
      "    ┊  ┃  ┃ ┊  ┃  ┃ ┊  \n",
      "1.00┊  3  ┃ ┊  3  ┃ ┊  \n",
      "    ┊ ┏┻┓ ┃ ┊ ┏┻┓ ┃ ┊  \n",
      "0.00┊ 0 1 2 ┊ 0 1 2 ┊  \n",
      "    0      500    1000 \n",
      "\n"
     ]
    }
   ],
   "source": [
    "tables = tskit.TableCollection(sequence_length=1e3)\n",
    "\n",
    "node_table = tables.nodes\n",
    "node_table.add_row(flags=tskit.NODE_IS_SAMPLE)  # Node 0\n",
    "node_table.add_row(flags=tskit.NODE_IS_SAMPLE)  # Node 1\n",
    "node_table.add_row(flags=tskit.NODE_IS_SAMPLE)  # Node 2\n",
    "node_table.add_row(time=1)  # Node 3\n",
    "node_table.add_row(time=2, flags=msprime.NODE_IS_RE_EVENT)  # Node 4\n",
    "node_table.add_row(time=2, flags=msprime.NODE_IS_RE_EVENT)  # Node 5\n",
    "node_table.add_row(time=3)  # Node 6\n",
    "node_table.add_row(time=4)  # Node 7\n",
    "\n",
    "edge_table = tables.edges\n",
    "edge_table.add_row(left=0, right=1e3, parent=3, child=0)\n",
    "edge_table.add_row(left=0, right=1e3, parent=3, child=1)\n",
    "edge_table.add_row(left=0, right=1e3, parent=6, child=2)\n",
    "edge_table.add_row(left=0, right=500, parent=4, child=3)\n",
    "edge_table.add_row(left=500, right=1e3, parent=5, child=3)\n",
    "edge_table.add_row(left=500, right=1e3, parent=6, child=5)\n",
    "edge_table.add_row(left=0, right=500, parent=7, child=4)\n",
    "edge_table.add_row(left=0, right=500, parent=7, child=6)\n",
    "\n",
    "tables.sort()\n",
    "\n",
    "\n",
    "ts = tables.tree_sequence()\n",
    "\n",
    "print(ts.draw_text())"
   ]
  },
  {
   "cell_type": "code",
   "execution_count": 70,
   "id": "31f718e8",
   "metadata": {},
   "outputs": [
    {
     "name": "stdout",
     "output_type": "stream",
     "text": [
      "Number of Samples: 3\n",
      "Number of Trees: 2\n",
      "Number of Paths: 5\n",
      "[[3, 4, 7], [4, 7], [5, 6, 7], [6, 7], [0, 3, 4, 7], [0, 3, 5, 6, 7], [1, 3, 4, 7], [1, 3, 5, 6, 7], [2, 6, 7]]\n",
      "Estimated Dispersal Rate: [0.23214286]\n"
     ]
    }
   ],
   "source": [
    "print(\"Number of Samples:\", ts.num_samples)\n",
    "print(\"Number of Trees:\", ts.num_trees)\n",
    "\n",
    "paths = identify_unique_paths(ts=ts)\n",
    "print(\"Number of Paths:\", len(paths))\n",
    "\n",
    "sample_locs = np.linspace(0, 1, ts.num_samples) # evenly space the samples, ignore ordering of tree samples\n",
    "\n",
    "times, locations, dispersal_rate, cov_mat = reconstruct_node_locations(\n",
    "    ts=ts,\n",
    "    paths=paths,\n",
    "    sample_locs=sample_locs\n",
    ")\n",
    "\n",
    "print(\"Estimated Dispersal Rate:\", dispersal_rate)"
   ]
  },
  {
   "cell_type": "code",
   "execution_count": 71,
   "id": "0e5d9c04",
   "metadata": {},
   "outputs": [
    {
     "data": {
      "image/png": "[encoded data removed]",
      "text/plain": [
       "<Figure size 640x480 with 1 Axes>"
      ]
     },
     "metadata": {},
     "output_type": "display_data"
    }
   ],
   "source": [
    "for p in paths:\n",
    "    p_times = []\n",
    "    p_locs = []\n",
    "    for n in p:\n",
    "        p_times.append(times[n])\n",
    "        p_locs.append(locations[n])\n",
    "    plt.plot(p_locs, p_times)\n",
    "plt.show()"
   ]
  },
  {
   "cell_type": "code",
   "execution_count": 72,
   "id": "35236290",
   "metadata": {},
   "outputs": [
    {
     "data": {
      "text/plain": [
       "array([0.        , 0.5       , 1.        , 0.32142857, 0.46428571,\n",
       "       0.46428571, 0.57142857, 0.53571429])"
      ]
     },
     "execution_count": 72,
     "metadata": {},
     "output_type": "execute_result"
    }
   ],
   "source": [
    "locations"
   ]
  },
  {
   "cell_type": "code",
   "execution_count": 73,
   "id": "2165b026",
   "metadata": {},
   "outputs": [
    {
     "name": "stdout",
     "output_type": "stream",
     "text": [
      "[[3, 4, 7], [4, 7], [5, 6, 7], [6, 7], [0, 3, 4, 7], [1, 3, 5, 6, 7], [2, 6, 7]]\n",
      "Estimated Dispersal Rate: [0.125]\n"
     ]
    }
   ],
   "source": [
    "paths = identify_unique_paths(ts=ts)\n",
    "del paths[1]\n",
    "del paths[1]\n",
    "\n",
    "times, locations, dispersal_rate, cov_mat = reconstruct_node_locations(\n",
    "    ts=ts,\n",
    "    paths=paths,\n",
    "    sample_locs=sample_locs\n",
    ")\n",
    "\n",
    "print(\"Estimated Dispersal Rate:\", dispersal_rate)"
   ]
  },
  {
   "cell_type": "code",
   "execution_count": 74,
   "id": "e88423c7",
   "metadata": {},
   "outputs": [
    {
     "data": {
      "image/png": "[encoded data removed]",
      "text/plain": [
       "<Figure size 640x480 with 1 Axes>"
      ]
     },
     "metadata": {},
     "output_type": "display_data"
    }
   ],
   "source": [
    "for p in paths:\n",
    "    p_times = []\n",
    "    p_locs = []\n",
    "    for n in p:\n",
    "        p_times.append(times[n])\n",
    "        p_locs.append(locations[n])\n",
    "    plt.plot(p_locs, p_times)\n",
    "plt.show()"
   ]
  },
  {
   "cell_type": "code",
   "execution_count": 75,
   "id": "0083104a",
   "metadata": {},
   "outputs": [
    {
     "data": {
      "text/plain": [
       "array([[4., 1., 0.],\n",
       "       [1., 4., 1.],\n",
       "       [0., 1., 4.]])"
      ]
     },
     "execution_count": 75,
     "metadata": {},
     "output_type": "execute_result"
    }
   ],
   "source": [
    "cov_mat"
   ]
  },
  {
   "cell_type": "code",
   "execution_count": 76,
   "id": "db8a8c16",
   "metadata": {},
   "outputs": [
    {
     "data": {
      "text/plain": [
       "array([0.   , 0.5  , 1.   , 0.125, 0.25 , 0.625, 0.625, 0.5  ])"
      ]
     },
     "execution_count": 76,
     "metadata": {},
     "output_type": "execute_result"
    }
   ],
   "source": [
    "locations"
   ]
  },
  {
   "cell_type": "code",
   "execution_count": null,
   "id": "3b27af3b",
   "metadata": {},
   "outputs": [],
   "source": []
  }
 ],
 "metadata": {
  "kernelspec": {
   "display_name": "Python 3 (ipykernel)",
   "language": "python",
   "name": "python3"
  },
  "language_info": {
   "codemirror_mode": {
    "name": "ipython",
    "version": 3
   },
   "file_extension": ".py",
   "mimetype": "text/x-python",
   "name": "python",
   "nbconvert_exporter": "python",
   "pygments_lexer": "ipython3",
   "version": "3.10.12"
  }
 },
 "nbformat": 4,
 "nbformat_minor": 5
}
