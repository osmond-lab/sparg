{
 "cells": [
  {
   "cell_type": "code",
   "execution_count": 1,
   "id": "66033755-9048-4a45-8bd9-388cd22a30b0",
   "metadata": {
    "tags": []
   },
   "outputs": [],
   "source": [
    "import msprime\n",
    "import tskit \n",
    "import top_down\n",
    "import numpy as np \n",
    "import pyslim\n",
    "import matplotlib.pyplot as plt"
   ]
  }
 ],
 "metadata": {
  "kernelspec": {
   "display_name": "Python 3 (ipykernel)",
   "language": "python",
   "name": "python3"
  },
  "language_info": {
   "codemirror_mode": {
    "name": "ipython",
    "version": 3
   },
   "file_extension": ".py",
   "mimetype": "text/x-python",
   "name": "python",
   "nbconvert_exporter": "python",
   "pygments_lexer": "ipython3",
   "version": "3.9.12"
  }
 },
 "nbformat": 4,
 "nbformat_minor": 5
}
