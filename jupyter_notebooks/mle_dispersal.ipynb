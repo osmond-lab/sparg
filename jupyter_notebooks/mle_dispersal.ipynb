{
 "cells": [
  {
   "cell_type": "code",
   "execution_count": 3,
   "id": "95fe3e40-b416-4125-b309-a692db192b12",
   "metadata": {},
   "outputs": [],
   "source": [
    "import numpy as np"
   ]
  },
  {
   "cell_type": "code",
   "execution_count": 4,
   "id": "a7b66b60-fafd-47c2-a821-a289e8413290",
   "metadata": {},
   "outputs": [],
   "source": [
    "def mle_dispersal(C, x):\n",
    "    '''\n",
    "    MLE dispersal estimate\n",
    "    \n",
    "    parameters\n",
    "    ----------\n",
    "    C: covariance matrix among sample locations\n",
    "    x: sample locations\n",
    "    '''\n",
    "    \n",
    "    k = len(C) #number of samples\n",
    "    Cinv = np.linalg.pinv(C) #inverse of covariance matrix among sample locations\n",
    "    \n",
    "    # find MLE MRCA location (eqn 5.6 Harmon book)\n",
    "    a1 = np.matmul(np.matmul(np.ones(k), Cinv), np.ones(k).reshape(-1,1))\n",
    "    a2 = np.matmul(np.matmul(np.ones(k), Cinv), x)\n",
    "    ahat = a2/a1\n",
    "    \n",
    "    # find MLE dispersal rate (eqn 5.7 Harmon book)\n",
    "    xT = x.reshape(-1,1) #make locations a column vector\n",
    "    R1 = xT - ahat * np.ones(k).reshape(-1,1)\n",
    "    Rhat = np.matmul(np.matmul(np.transpose(R1), Cinv), R1) / (k-1)\n",
    "    \n",
    "    return Rhat[0]"
   ]
  },
  {
   "cell_type": "code",
   "execution_count": 5,
   "id": "a9411a22-d01a-48c7-a67d-93590f60651d",
   "metadata": {},
   "outputs": [],
   "source": [
    "x = np.array([0,1])\n",
    "t0=1\n",
    "t1=2\n",
    "t2=2\n",
    "t3=1\n",
    "t4=1"
   ]
  },
  {
   "cell_type": "markdown",
   "id": "ada62485-980f-417d-98cd-0a61aa725e0e",
   "metadata": {},
   "source": [
    "edges"
   ]
  },
  {
   "cell_type": "code",
   "execution_count": 10,
   "id": "33e8a7e3-2eba-4254-90d9-b1707093ad0b",
   "metadata": {},
   "outputs": [
    {
     "data": {
      "text/plain": [
       "array([0.26666667])"
      ]
     },
     "execution_count": 10,
     "metadata": {},
     "output_type": "execute_result"
    }
   ],
   "source": [
    "C = np.array([[t0+t2/2, t4/2],[t4/2, t1+t4*(t2+t3)/(2*t2)]])\n",
    "mle_dispersal(C,x)"
   ]
  },
  {
   "cell_type": "markdown",
   "id": "e50660db-25cf-40b4-97dd-f9c8227341ad",
   "metadata": {},
   "source": [
    "nodes"
   ]
  },
  {
   "cell_type": "code",
   "execution_count": 11,
   "id": "77ba9915-9506-4a4c-a10e-99d30f579832",
   "metadata": {},
   "outputs": [
    {
     "data": {
      "text/plain": [
       "array([0.26666667])"
      ]
     },
     "execution_count": 11,
     "metadata": {},
     "output_type": "execute_result"
    }
   ],
   "source": [
    "C = np.array([[t0+t2/2, t4/2],[t4/2, t1+t4*(t2+t3)/(2*t2)]])\n",
    "mle_dispersal(C,x)"
   ]
  },
  {
   "cell_type": "markdown",
   "id": "3c092c48-94e1-478f-b88b-0de910bcd624",
   "metadata": {},
   "source": [
    "paths"
   ]
  },
  {
   "cell_type": "code",
   "execution_count": 12,
   "id": "4c797bd1-f8bd-42c7-a1fd-9838cf7a7151",
   "metadata": {},
   "outputs": [
    {
     "data": {
      "text/plain": [
       "array([0.13333333])"
      ]
     },
     "execution_count": 12,
     "metadata": {},
     "output_type": "execute_result"
    }
   ],
   "source": [
    "C = np.array([[t0+t2, t0, 0],[t0, t0+t3+t4, t4],[0, t4, t1+t4]])\n",
    "xp = np.array([0,0,1])\n",
    "mle_dispersal(C,xp)"
   ]
  },
  {
   "cell_type": "markdown",
   "id": "ee6f1375-5ce8-4e65-9e56-6148ddbb843c",
   "metadata": {},
   "source": [
    "the two trees"
   ]
  },
  {
   "cell_type": "code",
   "execution_count": 13,
   "id": "5f82472c-cceb-4f6e-8cff-0ba07b2d4bc8",
   "metadata": {},
   "outputs": [
    {
     "data": {
      "text/plain": [
       "array([0.16666667])"
      ]
     },
     "execution_count": 13,
     "metadata": {},
     "output_type": "execute_result"
    }
   ],
   "source": [
    "C = np.array([[t0+t2, 0],[0, t1+t4]])\n",
    "mle_dispersal(C,x)"
   ]
  },
  {
   "cell_type": "code",
   "execution_count": 14,
   "id": "00c23f2d-b386-4adf-9de3-41ffe04e999e",
   "metadata": {},
   "outputs": [
    {
     "data": {
      "text/plain": [
       "array([0.25])"
      ]
     },
     "execution_count": 14,
     "metadata": {},
     "output_type": "execute_result"
    }
   ],
   "source": [
    "C = np.array([[t0+t3, 0],[0, t1]])\n",
    "mle_dispersal(C,x)"
   ]
  },
  {
   "cell_type": "markdown",
   "id": "90cacf44-dbd1-47cb-9edf-c40ea5e4575b",
   "metadata": {},
   "source": [
    "something wrong with the paths approach? once again it is 1/2!"
   ]
  },
  {
   "cell_type": "markdown",
   "id": "31136b82-2603-45ba-99c2-843d604b09bf",
   "metadata": {},
   "source": [
    "interesting that edges and nodes give dispersal rate larger than largest estimate across trees?"
   ]
  },
  {
   "cell_type": "code",
   "execution_count": null,
   "id": "f0813cbd-d8b2-41ef-b313-6697c99d5cb8",
   "metadata": {},
   "outputs": [],
   "source": []
  }
 ],
 "metadata": {
  "kernelspec": {
   "display_name": "allsparg",
   "language": "python",
   "name": "allsparg"
  },
  "language_info": {
   "codemirror_mode": {
    "name": "ipython",
    "version": 3
   },
   "file_extension": ".py",
   "mimetype": "text/x-python",
   "name": "python",
   "nbconvert_exporter": "python",
   "pygments_lexer": "ipython3",
   "version": "3.9.13"
  }
 },
 "nbformat": 4,
 "nbformat_minor": 5
}
