{
 "cells": [
  {
   "cell_type": "code",
   "execution_count": 9,
   "id": "d715eb3a",
   "metadata": {},
   "outputs": [],
   "source": [
    "from algos import top_down, paths_modified\n",
    "import random\n",
    "import msprime\n",
    "import numpy as np\n",
    "import matplotlib.pyplot as plt"
   ]
  },
  {
   "cell_type": "code",
   "execution_count": 35,
   "id": "2f3872d1",
   "metadata": {},
   "outputs": [
    {
     "name": "stdout",
     "output_type": "stream",
     "text": [
      "14854.19┊     6   ┊  \n",
      "        ┊   ┏━┻━┓ ┊  \n",
      "6433.76 ┊   5   ┃ ┊  \n",
      "        ┊  ┏┻━┓ ┃ ┊  \n",
      "2655.83 ┊  4  ┃ ┃ ┊  \n",
      "        ┊ ┏┻┓ ┃ ┃ ┊  \n",
      "0.00    ┊ 0 3 2 1 ┊  \n",
      "        0       2000 \n",
      "\n",
      "[6.4294907e-05]\n"
     ]
    }
   ],
   "source": [
    "rs = random.randint(1,10000)\n",
    "ts = msprime.sim_ancestry(\n",
    "    samples=100,\n",
    "    recombination_rate=1e-8,\n",
    "    sequence_length=2000,\n",
    "    population_size=10_000,\n",
    "    record_full_arg=True,\n",
    "    random_seed=rs#6334 #7483,8131\n",
    ")\n",
    "\n",
    "#print(ts.draw_text())\n",
    "\n",
    "sample_locs = np.linspace(0, 1, ts.num_samples)\n",
    "\n",
    "td_paths, td_times, td_locations, td_dispersal_rate = top_down.reconstruct_node_locations(ts=ts, sample_locs=sample_locs)\n",
    "pm_paths, pm_times, pm_locations, pm_dispersal_rate = paths_modified.reconstruct_node_locations(ts=ts, sample_locs=sample_locs)"
   ]
  },
  {
   "cell_type": "code",
   "execution_count": 36,
   "id": "124c9318",
   "metadata": {},
   "outputs": [
    {
     "data": {
      "image/png": "[encoded data removed]",
      "text/plain": [
       "<Figure size 432x288 with 1 Axes>"
      ]
     },
     "metadata": {
      "needs_background": "light"
     },
     "output_type": "display_data"
    }
   ],
   "source": [
    "for p in pm_paths:\n",
    "    p_times = []\n",
    "    p_locs = []\n",
    "    for n in p:\n",
    "        p_times.append(pm_times[n])\n",
    "        p_locs.append(pm_locations[n])\n",
    "    plt.plot(p_locs, p_times, color=\"grey\")\n",
    "for p in td_paths:\n",
    "    p_times = []\n",
    "    p_locs = []\n",
    "    for n in p:\n",
    "        p_times.append(td_times[n])\n",
    "        p_locs.append(td_locations[n])\n",
    "    plt.plot(p_locs, p_times)"
   ]
  },
  {
   "cell_type": "code",
   "execution_count": null,
   "id": "f46f0256",
   "metadata": {},
   "outputs": [],
   "source": []
  }
 ],
 "metadata": {
  "kernelspec": {
   "display_name": "Python 3 (ipykernel)",
   "language": "python",
   "name": "python3"
  },
  "language_info": {
   "codemirror_mode": {
    "name": "ipython",
    "version": 3
   },
   "file_extension": ".py",
   "mimetype": "text/x-python",
   "name": "python",
   "nbconvert_exporter": "python",
   "pygments_lexer": "ipython3",
   "version": "3.8.13"
  }
 },
 "nbformat": 4,
 "nbformat_minor": 5
}
