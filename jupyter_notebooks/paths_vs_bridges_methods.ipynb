{
 "cells": [
  {
   "cell_type": "markdown",
   "id": "e5416805",
   "metadata": {},
   "source": [
    "*Scroll past code to see text content...*\n",
    "\n",
    "# Code For Notebook"
   ]
  },
  {
   "cell_type": "code",
   "execution_count": 56,
   "id": "1ed98999",
   "metadata": {},
   "outputs": [],
   "source": [
    "import msprime\n",
    "import tskit\n",
    "import numpy as np\n",
    "import math\n",
    "import random\n",
    "from collections import defaultdict\n",
    "from itertools import chain\n",
    "import networkx as nx\n",
    "import matplotlib.pyplot as plt    \n",
    "import time\n",
    "\n",
    "\n",
    "def identify_unique_paths(ts):\n",
    "    \"\"\"\n",
    "    Finds all of the paths within the incomplete ARG, stored as a tskit tree sequence\n",
    "    \n",
    "    Input:\n",
    "    - ts: tskit tree sequence\n",
    "    \n",
    "    Output:\n",
    "    - all_paths: list, unique paths within the ARG\n",
    "    \"\"\"\n",
    "    # make the (incomplete) ARG\n",
    "    topology = defaultdict(list)\n",
    "    for tree in ts.trees():\n",
    "        for k, v in chain(tree.parent_dict.items()):\n",
    "            if v not in topology[k]:\n",
    "                topology[k].append(v)\n",
    "    G = nx.DiGraph(dict(topology))\n",
    "\n",
    "    #unique paths up the ARG\n",
    "    gmrca = ts.node(ts.num_nodes-1).id\n",
    "    all_paths = []\n",
    "    for sample in ts.samples():\n",
    "        paths = nx.all_simple_paths(G, source=sample, target=gmrca)\n",
    "        all_paths.extend(paths)\n",
    "    return all_paths\n",
    "\n",
    "def create_sample_locations_array(paths, sample_locs):\n",
    "    \"\"\"\n",
    "    Expands sample locations to pair with the unique paths. Accounts for samples having multiple\n",
    "    paths.\n",
    "    \n",
    "    Inputs:\n",
    "    - paths: list, unique paths within the ARG. Output of identify_unique_paths(). If not\n",
    "        provided, this will be calculated\n",
    "    - sample_locs: numpy array, sample locations\n",
    "    \n",
    "    Output:\n",
    "    - path_locs: numpy array, sample locations expanded to match number of paths\n",
    "    \"\"\"\n",
    "    sample_locs_array = []\n",
    "    for path in paths:\n",
    "        sample_locs_array.append([sample_locs[path[0]]])\n",
    "    path_locs = np.array(sample_locs_array)\n",
    "    return path_locs\n",
    "\n",
    "def link_node_with_path(ts, paths):\n",
    "    \"\"\"\n",
    "    Adds paths from internal nodes to the root to the paths list used for calculating the\n",
    "    covariance matrix. Could potentially only do one of the two recombination nodes, but keeping\n",
    "    it simple for now\n",
    "\n",
    "    Inputs:\n",
    "    - ts: tskit tree sequence\n",
    "    - paths: list, unique paths within the ARG. Output of identify_unique_paths().\n",
    "\n",
    "    Output:\n",
    "    - path_list: list, updated paths list\n",
    "    \"\"\"\n",
    "    path_list = []\n",
    "    for node in ts.nodes():\n",
    "        if node.flags == tskit.NODE_IS_SAMPLE or node.time == ts.max_root_time:\n",
    "            continue\n",
    "        for i in range(len(paths)):\n",
    "            if node.id in paths[i]:\n",
    "                path_list.append(paths[i][paths[i].index(node.id):])\n",
    "                break\n",
    "    return path_list\n",
    "\n",
    "def calc_covariance_matrix(paths, ts):\n",
    "    \"\"\"\n",
    "    Calculates the covariance matrix between paths in a full ARG, stored as a tskit tree sequence.\n",
    "    \n",
    "    Inputs:\n",
    "    - paths: list, unique paths within the ARG. Output of identify_unique_paths()\n",
    "    - ts: tskit tree sequence. Needed for node times\n",
    "    \n",
    "    Output:\n",
    "    - times: numpy array, shared times between the paths within the ARG\n",
    "    \"\"\"\n",
    "    edges = ts.tables.edges\n",
    "    parent_list = list(edges.parent)\n",
    "    child_list = list(edges.child)\n",
    "    gmrca = ts.node(ts.num_nodes-1).id\n",
    "    tgmrca = ts.node(gmrca).time\n",
    "    times = np.empty((len(paths),len(paths)))\n",
    "    tree = ts.first()\n",
    "    for i, p in enumerate(paths):\n",
    "        for j in range(i+1):\n",
    "            intersect = list(set(p).intersection(paths[j]))\n",
    "            if i == j:\n",
    "                times[i,j] = tgmrca\n",
    "            elif intersect == [gmrca]:\n",
    "                times[i,j] = 0\n",
    "            else:\n",
    "                edges = []\n",
    "                for child in intersect:\n",
    "                    if child != gmrca:\n",
    "                        edges.append(ts.node(parent_list[child_list.index(child)]).time - ts.node(child).time)\n",
    "                times[i,j] = np.sum(edges) # Do I need np.unique()? Ask Matt, because it was previously in his\n",
    "            times[j,i] = times[i,j]\n",
    "    return times\n",
    "    \n",
    "def locate_mle_gmrca(inv_sigma_22, sample_locs):\n",
    "    \"\"\"\n",
    "    Locates the maximum likelihood estimate of the grand most recent common ancestor based on the covariance\n",
    "    matrix between paths and sample locations (Equation 5.6 from \n",
    "    https://lukejharmon.github.io/pcm/pdf/phylogeneticComparativeMethods.pdf). Currently, requires simga_22\n",
    "    to be pre-inverted (may be worth adding both options in future).\n",
    "    \n",
    "    Inputs:\n",
    "    - inv_sigma_22: numpy array, inverted covariance matrix between paths at sample time\n",
    "    - sample_locs: numpy array, sample locations expanded to match number of paths. Output of\n",
    "        create_sample_locations_array().\n",
    "    \n",
    "    Output:\n",
    "    - u1: float, maximum likelihood estimate of the grand most recent common ancestor (GMRCA). Output of \n",
    "        locate_mle_gmrca().\n",
    "    \"\"\"\n",
    "    k = len(inv_sigma_22)\n",
    "    a1 = np.matmul(np.matmul(np.ones(k), inv_sigma_22), np.ones(k).reshape(-1,1))\n",
    "    a2 = np.matmul(np.matmul(np.ones(k), inv_sigma_22), sample_locs)\n",
    "    u1 = a2/a1\n",
    "    return u1\n",
    "\n",
    "def estimate_mle_dispersal(Tinv, locs):\n",
    "    '''\n",
    "    MLE dispersal estimate\n",
    "    \n",
    "    parameters\n",
    "    ----------\n",
    "    Tinv: inverse covariance matrix among sample locations\n",
    "    locs: sample locations\n",
    "    '''\n",
    "    \n",
    "    k = len(locs) #number of paths\n",
    "    # find MLE MRCA location (eqn 5.6 Harmon book)\n",
    "    a1 = np.matmul(np.matmul(np.ones(k), Tinv), np.ones(k).reshape(-1,1))\n",
    "    a2 = np.matmul(np.matmul(np.ones(k), Tinv), locs)\n",
    "    ahat = a2/a1\n",
    "    # find MLE dispersal rate (eqn 5.7 Harmon book)\n",
    "    x = locs.reshape(-1,1) #make locations a column vector\n",
    "    R1 = x - ahat * np.ones(k).reshape(-1,1)\n",
    "    Rhat = np.matmul(np.matmul(np.transpose(R1), Tinv), R1) / (k-1)\n",
    "    return Rhat[0]\n",
    "\n",
    "def reconstruct_node_locations(ts, paths, sample_locs):\n",
    "    \"\"\"\n",
    "    Calculates the location of ancestral nodes using conditional multivariate normal distribution.\n",
    "\n",
    "    Inputs:\n",
    "    - ts: tskit tree sequence. Needed for node times\n",
    "    - paths: list, unique paths within the ARG. Output of identify_unique_paths()\n",
    "    - sample_locs: list of sample locations, one location per sample\n",
    "\n",
    "    Outputs:\n",
    "    - node_times: list, time of nodes from present\n",
    "    - node_locs: list, location of nodes\n",
    "    \"\"\"\n",
    "    sample_locs_array = create_sample_locations_array(paths=paths, sample_locs=sample_locs) # expands locs\n",
    "    node_paths = link_node_with_path(ts=ts, paths=paths)\n",
    "    all_paths = node_paths + paths\n",
    "    sigma = calc_covariance_matrix(paths=all_paths, ts=ts)\n",
    "    sigma_11 = sigma[0:sigma.shape[0]-len(paths),0:sigma.shape[1]-len(paths)]\n",
    "    sigma_12 = sigma[0:sigma.shape[0]-len(paths),sigma.shape[1]-len(paths):sigma.shape[1]]\n",
    "    sigma_21 = sigma[sigma.shape[0]-len(paths):sigma.shape[0],0:sigma.shape[1]-len(paths)]\n",
    "    sigma_22 = sigma[sigma.shape[0]-len(paths):sigma.shape[0],sigma.shape[1]-len(paths):sigma.shape[1]]\n",
    "    inv_sigma_22 = np.linalg.pinv(sigma_22)\n",
    "    dispersal_rate = estimate_mle_dispersal(inv_sigma_22, sample_locs_array)\n",
    "    u1 = locate_mle_gmrca(inv_sigma_22=inv_sigma_22, sample_locs=sample_locs_array)\n",
    "    cmvn_u = u1 + np.dot(np.dot(sigma_12, inv_sigma_22),sample_locs_array - u1)\n",
    "    cmvn_sigma = sigma_11 - np.dot(np.dot(sigma_12, inv_sigma_22), sigma_21)\n",
    "    node_times = ts.tables.nodes.time\n",
    "    node_locs = np.concatenate((sample_locs, np.transpose(cmvn_u)[0], u1))\n",
    "    return node_times, node_locs, dispersal_rate"
   ]
  },
  {
   "cell_type": "markdown",
   "id": "60216cc9",
   "metadata": {},
   "source": [
    "# Two Sample Comparisons Between Paths And Bridges Methods\n",
    "\n",
    "This notebook compares the outputs of two potential methods for calculating the covariance matrix of an ancestral recombination graph (ARG). The *Paths Method* computes the covariance between the paths through the ARG; the *Bridges Mathod* computes the covariance between the samples in the ARG. Here are different with two samples that highlight the two methods:"
   ]
  },
  {
   "cell_type": "markdown",
   "id": "3d78d424",
   "metadata": {},
   "source": [
    "## One Loop"
   ]
  },
  {
   "attachments": {
    "one_loop_unshared.png": {
     "image/png": "[encoded data removed]"
    }
   },
   "cell_type": "markdown",
   "id": "fa76bde9",
   "metadata": {},
   "source": [
    "### Unshared (Single Bubble)\n",
    "\n",
    "![one_loop_unshared.png](attachment:one_loop_unshared.png)"
   ]
  },
  {
   "cell_type": "code",
   "execution_count": 57,
   "id": "7b17fbd6",
   "metadata": {},
   "outputs": [
    {
     "name": "stdout",
     "output_type": "stream",
     "text": [
      "5.00┊  5  ┊  5  ┊  \n",
      "    ┊ ┏┻┓ ┊ ┏┻┓ ┊  \n",
      "3.00┊ 4 ┃ ┊ 4 ┃ ┊  \n",
      "    ┊ ┃ ┃ ┊ ┃ ┃ ┊  \n",
      "2.00┊ 2 ┃ ┊ 3 ┃ ┊  \n",
      "    ┊ ┃ ┃ ┊ ┃ ┃ ┊  \n",
      "0.00┊ 0 1 ┊ 0 1 ┊  \n",
      "    0    500  1000 \n",
      "\n"
     ]
    }
   ],
   "source": [
    "tables = tskit.TableCollection(sequence_length=1e3)\n",
    "\n",
    "node_table = tables.nodes\n",
    "node_table.add_row(flags=tskit.NODE_IS_SAMPLE)  # Node 0\n",
    "node_table.add_row(flags=tskit.NODE_IS_SAMPLE)  # Node 1\n",
    "node_table.add_row(time=2, flags=msprime.NODE_IS_RE_EVENT)  # Node 2\n",
    "node_table.add_row(time=2, flags=msprime.NODE_IS_RE_EVENT)  # Node 3\n",
    "node_table.add_row(time=3, flags=msprime.NODE_IS_CA_EVENT)  # Node 4\n",
    "node_table.add_row(time=5)  # Node 5\n",
    "\n",
    "edge_table = tables.edges\n",
    "edge_table.add_row(left=0, right=500, parent=2, child=0)\n",
    "edge_table.add_row(left=500, right=1e3, parent=3, child=0)\n",
    "edge_table.add_row(left=0, right=500, parent=4, child=2)\n",
    "edge_table.add_row(left=500, right=1e3, parent=4, child=3)\n",
    "edge_table.add_row(left=0, right=1e3, parent=5, child=1)\n",
    "edge_table.add_row(left=0, right=1e3, parent=5, child=4)\n",
    "\n",
    "ts = tables.tree_sequence()\n",
    "\n",
    "print(ts.draw_text())"
   ]
  },
  {
   "cell_type": "markdown",
   "id": "a75e1da5",
   "metadata": {},
   "source": [
    "#### Paths"
   ]
  },
  {
   "cell_type": "code",
   "execution_count": 58,
   "id": "41a72fec",
   "metadata": {},
   "outputs": [
    {
     "name": "stdout",
     "output_type": "stream",
     "text": [
      "Number of Samples: 2\n",
      "Number of Trees: 2\n",
      "Number of Paths: 3\n",
      "Estimated Dispersal Rate: [0.05263158]\n"
     ]
    }
   ],
   "source": [
    "print(\"Number of Samples:\", ts.num_samples)\n",
    "print(\"Number of Trees:\", ts.num_trees)\n",
    "\n",
    "paths = identify_unique_paths(ts=ts)\n",
    "print(\"Number of Paths:\", len(paths))\n",
    "\n",
    "sample_locs = np.linspace(0, 1, ts.num_samples) # evenly space the samples, ignore ordering of tree samples\n",
    "\n",
    "times, locations, dispersal_rate = reconstruct_node_locations(\n",
    "    ts=ts,\n",
    "    paths=paths,\n",
    "    sample_locs=sample_locs\n",
    ")\n",
    "\n",
    "print(\"Estimated Dispersal Rate:\", dispersal_rate)"
   ]
  },
  {
   "cell_type": "markdown",
   "id": "c0a68f6f",
   "metadata": {},
   "source": [
    "#### Bridges"
   ]
  },
  {
   "cell_type": "code",
   "execution_count": 59,
   "id": "1feb199d",
   "metadata": {},
   "outputs": [
    {
     "name": "stdout",
     "output_type": "stream",
     "text": [
      "Bridges Method is plotted in color and Paths Method is plotted in grey!\n"
     ]
    },
    {
     "data": {
      "image/png": "[encoded data removed]",
      "text/plain": [
       "<Figure size 432x288 with 1 Axes>"
      ]
     },
     "metadata": {
      "needs_background": "light"
     },
     "output_type": "display_data"
    },
    {
     "name": "stdout",
     "output_type": "stream",
     "text": [
      "Estimated Dispersal Rate: [0.10526316]\n"
     ]
    }
   ],
   "source": [
    "sample_locs_array = np.array([0,1])\n",
    "\n",
    "sigma = np.array([\n",
    "    [2.5,2.5,2,2.5,0],\n",
    "    [2.5,2.5,2,2.5,0],\n",
    "    [2,2,2,2,0],\n",
    "    [2.5,2.5,2,4.5,0],\n",
    "    [0,0,0,0,5]\n",
    "])\n",
    "\n",
    "sigma_11 = sigma[0:sigma.shape[0]-2,0:sigma.shape[1]-2]\n",
    "sigma_12 = sigma[0:sigma.shape[0]-2,sigma.shape[1]-2:sigma.shape[1]]\n",
    "sigma_21 = sigma[sigma.shape[0]-2:sigma.shape[0],0:sigma.shape[1]-2]\n",
    "sigma_22 = sigma[sigma.shape[0]-2:sigma.shape[0],sigma.shape[1]-2:sigma.shape[1]]\n",
    "inv_sigma_22 = np.linalg.pinv(sigma_22)\n",
    "dispersal_rate = estimate_mle_dispersal(inv_sigma_22, sample_locs_array)\n",
    "\n",
    "u1 = locate_mle_gmrca(inv_sigma_22=inv_sigma_22, sample_locs=sample_locs_array)\n",
    "cmvn_u = u1 + np.dot(np.dot(sigma_12, inv_sigma_22),sample_locs_array - u1)\n",
    "cmvn_sigma = sigma_11 - np.dot(np.dot(sigma_12, inv_sigma_22), sigma_21)\n",
    "node_times = ts.tables.nodes.time\n",
    "node_locs = np.concatenate((sample_locs, np.transpose(cmvn_u), u1))\n",
    "\n",
    "print(\"Bridges Method is plotted in color and Paths Method is plotted in grey!\")\n",
    "\n",
    "for p in paths:\n",
    "    p_times = []\n",
    "    p_locs = []\n",
    "    for n in p:\n",
    "        p_times.append(times[n])\n",
    "        p_locs.append(locations[n])\n",
    "    plt.plot(p_locs, p_times, color=\"grey\")\n",
    "\n",
    "for p in paths:\n",
    "    p_times = []\n",
    "    p_locs = []\n",
    "    for n in p:\n",
    "        p_times.append(node_times[n])\n",
    "        p_locs.append(node_locs[n])\n",
    "    plt.plot(p_locs, p_times)\n",
    "plt.show()\n",
    "\n",
    "print(\"Estimated Dispersal Rate:\", dispersal_rate)"
   ]
  },
  {
   "cell_type": "markdown",
   "id": "b875316c",
   "metadata": {},
   "source": [
    "Methods overlay perfectly. The differences between estimated dispersal rates can be attributed to the k-1 factor (2 vs 1) in the denominator of the MLE calculation."
   ]
  },
  {
   "attachments": {
    "one_loop_shared.png": {
     "image/png": "[encoded data removed]"
    }
   },
   "cell_type": "markdown",
   "id": "ceae0880",
   "metadata": {},
   "source": [
    "### Shared\n",
    "\n",
    "![one_loop_shared.png](attachment:one_loop_shared.png)"
   ]
  },
  {
   "cell_type": "code",
   "execution_count": 60,
   "id": "bf860e71",
   "metadata": {},
   "outputs": [
    {
     "name": "stdout",
     "output_type": "stream",
     "text": [
      "5.00┊  5  ┊     ┊  \n",
      "    ┊ ┏┻┓ ┊     ┊  \n",
      "3.00┊ ┃ 4 ┊  4  ┊  \n",
      "    ┊ ┃ ┃ ┊ ┏┻┓ ┊  \n",
      "2.00┊ 2 ┃ ┊ 3 ┃ ┊  \n",
      "    ┊ ┃ ┃ ┊ ┃ ┃ ┊  \n",
      "0.00┊ 0 1 ┊ 0 1 ┊  \n",
      "    0    500  1000 \n",
      "\n"
     ]
    }
   ],
   "source": [
    "tables = tskit.TableCollection(sequence_length=1e3)\n",
    "\n",
    "node_table = tables.nodes\n",
    "node_table.add_row(flags=tskit.NODE_IS_SAMPLE)  # Node 0\n",
    "node_table.add_row(flags=tskit.NODE_IS_SAMPLE)  # Node 1\n",
    "node_table.add_row(time=2, flags=msprime.NODE_IS_RE_EVENT)  # Node 2\n",
    "node_table.add_row(time=2, flags=msprime.NODE_IS_RE_EVENT)  # Node 3\n",
    "node_table.add_row(time=3)  # Node 4\n",
    "node_table.add_row(time=5)  # Node 5\n",
    "\n",
    "edge_table = tables.edges\n",
    "edge_table.add_row(left=0, right=500, parent=2, child=0)\n",
    "edge_table.add_row(left=500, right=1e3, parent=3, child=0)\n",
    "edge_table.add_row(left=0, right=1e3, parent=4, child=1)\n",
    "edge_table.add_row(left=500, right=1e3, parent=4, child=3)\n",
    "edge_table.add_row(left=0, right=500, parent=5, child=2)\n",
    "edge_table.add_row(left=0, right=500, parent=5, child=4)\n",
    "\n",
    "ts = tables.tree_sequence()\n",
    "\n",
    "print(ts.draw_text())"
   ]
  },
  {
   "cell_type": "markdown",
   "id": "bdfffee5",
   "metadata": {},
   "source": [
    "#### Paths"
   ]
  },
  {
   "cell_type": "code",
   "execution_count": 61,
   "id": "98e25bd8",
   "metadata": {},
   "outputs": [
    {
     "name": "stdout",
     "output_type": "stream",
     "text": [
      "Number of Samples: 2\n",
      "Number of Trees: 2\n",
      "Number of Paths: 3\n",
      "Estimated Dispersal Rate: [0.08571429]\n"
     ]
    }
   ],
   "source": [
    "print(\"Number of Samples:\", ts.num_samples)\n",
    "print(\"Number of Trees:\", ts.num_trees)\n",
    "\n",
    "paths = identify_unique_paths(ts=ts)\n",
    "print(\"Number of Paths:\", len(paths))\n",
    "\n",
    "sample_locs = np.linspace(0, 1, ts.num_samples) # evenly space the samples, ignore ordering of tree samples\n",
    "\n",
    "times, locations, dispersal_rate = reconstruct_node_locations(\n",
    "    ts=ts,\n",
    "    paths=paths,\n",
    "    sample_locs=sample_locs\n",
    ")\n",
    "\n",
    "print(\"Estimated Dispersal Rate:\", dispersal_rate)"
   ]
  },
  {
   "cell_type": "markdown",
   "id": "16180a62",
   "metadata": {},
   "source": [
    "#### Bridges"
   ]
  },
  {
   "cell_type": "code",
   "execution_count": 62,
   "id": "42965c97",
   "metadata": {},
   "outputs": [
    {
     "name": "stdout",
     "output_type": "stream",
     "text": [
      "Bridges Method is plotted in color and Paths Method is plotted in grey!\n"
     ]
    },
    {
     "data": {
      "image/png": "[encoded data removed]",
      "text/plain": [
       "<Figure size 432x288 with 1 Axes>"
      ]
     },
     "metadata": {
      "needs_background": "light"
     },
     "output_type": "display_data"
    },
    {
     "name": "stdout",
     "output_type": "stream",
     "text": [
      "Estimated Dispersal Rate: [0.17142857]\n"
     ]
    }
   ],
   "source": [
    "sample_locs_array = np.array([0,1])\n",
    "\n",
    "sigma = np.array([\n",
    "    [3/2, 3/2, 1, 3/2, 1],\n",
    "    [3/2, 3/2, 1, 3/2, 1],\n",
    "    [1, 1, 4/3, 1, 4/3],\n",
    "    [3/2, 3/2, 1, 2+3/2, 1],\n",
    "    [1, 1, 4/3, 1, 3+4/3]\n",
    "])\n",
    "\n",
    "sigma_11 = sigma[0:sigma.shape[0]-2,0:sigma.shape[1]-2]\n",
    "sigma_12 = sigma[0:sigma.shape[0]-2,sigma.shape[1]-2:sigma.shape[1]]\n",
    "sigma_21 = sigma[sigma.shape[0]-2:sigma.shape[0],0:sigma.shape[1]-2]\n",
    "sigma_22 = sigma[sigma.shape[0]-2:sigma.shape[0],sigma.shape[1]-2:sigma.shape[1]]\n",
    "inv_sigma_22 = np.linalg.pinv(sigma_22)\n",
    "dispersal_rate = estimate_mle_dispersal(inv_sigma_22, sample_locs_array)\n",
    "\n",
    "u1 = locate_mle_gmrca(inv_sigma_22=inv_sigma_22, sample_locs=sample_locs_array)\n",
    "cmvn_u = u1 + np.dot(np.dot(sigma_12, inv_sigma_22),sample_locs_array - u1)\n",
    "cmvn_sigma = sigma_11 - np.dot(np.dot(sigma_12, inv_sigma_22), sigma_21)\n",
    "node_times = ts.tables.nodes.time\n",
    "node_locs = np.concatenate((sample_locs, np.transpose(cmvn_u), u1))\n",
    "\n",
    "print(\"Bridges Method is plotted in color and Paths Method is plotted in grey!\")\n",
    "\n",
    "for p in paths:\n",
    "    p_times = []\n",
    "    p_locs = []\n",
    "    for n in p:\n",
    "        p_times.append(times[n])\n",
    "        p_locs.append(locations[n])\n",
    "    plt.plot(p_locs, p_times, color=\"grey\")\n",
    "\n",
    "for p in paths:\n",
    "    p_times = []\n",
    "    p_locs = []\n",
    "    for n in p:\n",
    "        p_times.append(node_times[n])\n",
    "        p_locs.append(node_locs[n])\n",
    "    plt.plot(p_locs, p_times)\n",
    "plt.show()\n",
    "\n",
    "print(\"Estimated Dispersal Rate:\", dispersal_rate)"
   ]
  },
  {
   "cell_type": "markdown",
   "id": "54fd7cf3",
   "metadata": {},
   "source": [
    "## Two Loops"
   ]
  },
  {
   "cell_type": "markdown",
   "id": "792036b2",
   "metadata": {},
   "source": [
    "### Non-Intersecting"
   ]
  },
  {
   "attachments": {
    "two_loops_nonintersecting_unshared.png": {
     "image/png": "[encoded data removed]"
    }
   },
   "cell_type": "markdown",
   "id": "078e9a9a",
   "metadata": {},
   "source": [
    "#### Two Unshared (Double Bubble)\n",
    "\n",
    "![two_loops_nonintersecting_unshared.png](attachment:two_loops_nonintersecting_unshared.png)"
   ]
  },
  {
   "cell_type": "code",
   "execution_count": 63,
   "id": "f71542ad",
   "metadata": {},
   "outputs": [
    {
     "name": "stdout",
     "output_type": "stream",
     "text": [
      "5.00┊  8  ┊  8  ┊  8  ┊  \n",
      "    ┊ ┏┻┓ ┊ ┏┻┓ ┊ ┏┻┓ ┊  \n",
      "4.00┊ 7 ┃ ┊ 7 ┃ ┊ 7 ┃ ┊  \n",
      "    ┊ ┃ ┃ ┊ ┃ ┃ ┊ ┃ ┃ ┊  \n",
      "3.00┊ 5 ┃ ┊ 5 ┃ ┊ 6 ┃ ┊  \n",
      "    ┊ ┃ ┃ ┊ ┃ ┃ ┊ ┃ ┃ ┊  \n",
      "2.00┊ 4 ┃ ┊ 4 ┃ ┊ 4 ┃ ┊  \n",
      "    ┊ ┃ ┃ ┊ ┃ ┃ ┊ ┃ ┃ ┊  \n",
      "1.00┊ 2 ┃ ┊ 3 ┃ ┊ 3 ┃ ┊  \n",
      "    ┊ ┃ ┃ ┊ ┃ ┃ ┊ ┃ ┃ ┊  \n",
      "0.00┊ 0 1 ┊ 0 1 ┊ 0 1 ┊  \n",
      "    0    500  1000  2000 \n",
      "\n"
     ]
    }
   ],
   "source": [
    "tables = tskit.TableCollection(sequence_length=2e3)\n",
    "\n",
    "node_table = tables.nodes\n",
    "node_table.add_row(flags=tskit.NODE_IS_SAMPLE)  # Node 0\n",
    "node_table.add_row(flags=tskit.NODE_IS_SAMPLE)  # Node 1\n",
    "node_table.add_row(time=1, flags=msprime.NODE_IS_RE_EVENT)  # Node 2\n",
    "node_table.add_row(time=1, flags=msprime.NODE_IS_RE_EVENT)  # Node 3\n",
    "node_table.add_row(time=2, flags=msprime.NODE_IS_CA_EVENT)  # Node 4\n",
    "node_table.add_row(time=3, flags=msprime.NODE_IS_RE_EVENT)  # Node 5\n",
    "node_table.add_row(time=3, flags=msprime.NODE_IS_RE_EVENT)  # Node 6\n",
    "node_table.add_row(time=4, flags=msprime.NODE_IS_CA_EVENT)  # Node 7\n",
    "node_table.add_row(time=5)  # Node 8\n",
    "\n",
    "edge_table = tables.edges\n",
    "edge_table.add_row(left=0, right=500, parent=2, child=0)\n",
    "edge_table.add_row(left=500, right=2e3, parent=3, child=0)\n",
    "edge_table.add_row(left=0, right=500, parent=4, child=2)\n",
    "edge_table.add_row(left=500, right=2e3, parent=4, child=3)\n",
    "edge_table.add_row(left=0, right=1e3, parent=5, child=4)\n",
    "edge_table.add_row(left=1e3, right=2e3, parent=6, child=4)\n",
    "edge_table.add_row(left=0, right=1e3, parent=7, child=5)\n",
    "edge_table.add_row(left=1e3, right=2e3, parent=7, child=6)\n",
    "edge_table.add_row(left=0, right=2e3, parent=8, child=1)\n",
    "edge_table.add_row(left=0, right=2e3, parent=8, child=7)\n",
    "\n",
    "ts = tables.tree_sequence()\n",
    "\n",
    "print(ts.draw_text())"
   ]
  },
  {
   "cell_type": "markdown",
   "id": "97c54f5b",
   "metadata": {},
   "source": [
    "##### Paths"
   ]
  },
  {
   "cell_type": "code",
   "execution_count": 64,
   "id": "39992be3",
   "metadata": {},
   "outputs": [
    {
     "name": "stdout",
     "output_type": "stream",
     "text": [
      "Number of Samples: 2\n",
      "Number of Trees: 3\n",
      "Number of Paths: 5\n",
      "Estimated Dispersal Rate: [0.02777778]\n"
     ]
    }
   ],
   "source": [
    "print(\"Number of Samples:\", ts.num_samples)\n",
    "print(\"Number of Trees:\", ts.num_trees)\n",
    "\n",
    "paths = identify_unique_paths(ts=ts)\n",
    "print(\"Number of Paths:\", len(paths))\n",
    "\n",
    "sample_locs = np.linspace(0, 1, ts.num_samples) # evenly space the samples, ignore ordering of tree samples\n",
    "\n",
    "times, locations, dispersal_rate = reconstruct_node_locations(\n",
    "    ts=ts,\n",
    "    paths=paths,\n",
    "    sample_locs=sample_locs\n",
    ")\n",
    "\n",
    "print(\"Estimated Dispersal Rate:\", dispersal_rate)"
   ]
  },
  {
   "cell_type": "markdown",
   "id": "02523140",
   "metadata": {},
   "source": [
    "##### Bridges"
   ]
  },
  {
   "cell_type": "code",
   "execution_count": 65,
   "id": "4b1da5b4",
   "metadata": {},
   "outputs": [
    {
     "name": "stdout",
     "output_type": "stream",
     "text": [
      "Bridges Method is plotted in color and Paths Method is plotted in grey!\n"
     ]
    },
    {
     "data": {
      "image/png": "[encoded data removed]",
      "text/plain": [
       "<Figure size 432x288 with 1 Axes>"
      ]
     },
     "metadata": {
      "needs_background": "light"
     },
     "output_type": "display_data"
    },
    {
     "name": "stdout",
     "output_type": "stream",
     "text": [
      "Estimated Dispersal Rate: [0.11111111]\n"
     ]
    }
   ],
   "source": [
    "sample_locs_array = np.array([0,1])\n",
    "\n",
    "sigma = np.array([\n",
    "    [3,3,2.5,1.5,1.5,1,3,0],\n",
    "    [3,3,2.5,1.5,1.5,1,3,0],\n",
    "    [2.5,2.5,2.5,1.5,1.5,1,2.5,0],\n",
    "    [1.5,1.5,1.5,1.5,1.5,1,1.5,0],\n",
    "    [1.5,1.5,1.5,1.5,1.5,1,1.5,0],\n",
    "    [1,1,1,1,1,1,1,0],\n",
    "    [3,3,2.5,1.5,1.5,1,4,0],\n",
    "    [0,0,0,0,0,0,0,5]\n",
    "])\n",
    "\n",
    "sigma_11 = sigma[0:sigma.shape[0]-2,0:sigma.shape[1]-2]\n",
    "sigma_12 = sigma[0:sigma.shape[0]-2,sigma.shape[1]-2:sigma.shape[1]]\n",
    "sigma_21 = sigma[sigma.shape[0]-2:sigma.shape[0],0:sigma.shape[1]-2]\n",
    "sigma_22 = sigma[sigma.shape[0]-2:sigma.shape[0],sigma.shape[1]-2:sigma.shape[1]]\n",
    "inv_sigma_22 = np.linalg.pinv(sigma_22)\n",
    "dispersal_rate = estimate_mle_dispersal(inv_sigma_22, sample_locs_array)\n",
    "\n",
    "u1 = locate_mle_gmrca(inv_sigma_22=inv_sigma_22, sample_locs=sample_locs_array)\n",
    "cmvn_u = u1 + np.dot(np.dot(sigma_12, inv_sigma_22),sample_locs_array - u1)\n",
    "cmvn_sigma = sigma_11 - np.dot(np.dot(sigma_12, inv_sigma_22), sigma_21)\n",
    "node_times = ts.tables.nodes.time\n",
    "node_locs = np.concatenate((sample_locs, np.transpose(cmvn_u), u1))\n",
    "\n",
    "print(\"Bridges Method is plotted in color and Paths Method is plotted in grey!\")\n",
    "\n",
    "for p in paths:\n",
    "    p_times = []\n",
    "    p_locs = []\n",
    "    for n in p:\n",
    "        p_times.append(times[n])\n",
    "        p_locs.append(locations[n])\n",
    "    plt.plot(p_locs, p_times, color=\"grey\")\n",
    "\n",
    "for p in paths:\n",
    "    p_times = []\n",
    "    p_locs = []\n",
    "    for n in p:\n",
    "        p_times.append(node_times[n])\n",
    "        p_locs.append(node_locs[n])\n",
    "    plt.plot(p_locs, p_times)\n",
    "plt.show()\n",
    "\n",
    "print(\"Estimated Dispersal Rate:\", dispersal_rate)"
   ]
  },
  {
   "cell_type": "markdown",
   "id": "e15cd6c8",
   "metadata": {},
   "source": [
    "Once again, methods overlay perfectly. The differences between estimated dispersal rates can be attributed to the k-1 factor (4 vs 1) in the denominator of the MLE calculation."
   ]
  },
  {
   "attachments": {
    "two_loops_nonintersecting_one_shared.png": {
     "image/png": "[encoded data removed]"
    }
   },
   "cell_type": "markdown",
   "id": "fb8005dc",
   "metadata": {},
   "source": [
    "#### One Shared, One Unshared\n",
    "\n",
    "![two_loops_nonintersecting_one_shared.png](attachment:two_loops_nonintersecting_one_shared.png)"
   ]
  },
  {
   "cell_type": "code",
   "execution_count": 66,
   "id": "0ae5a3ca",
   "metadata": {},
   "outputs": [
    {
     "name": "stdout",
     "output_type": "stream",
     "text": [
      "5.00┊  8  ┊  8  ┊     ┊  \n",
      "    ┊ ┏┻┓ ┊ ┏┻┓ ┊     ┊  \n",
      "4.00┊ ┃ 7 ┊ ┃ 7 ┊  7  ┊  \n",
      "    ┊ ┃ ┃ ┊ ┃ ┃ ┊ ┏┻┓ ┊  \n",
      "3.00┊ 5 ┃ ┊ 5 ┃ ┊ 6 ┃ ┊  \n",
      "    ┊ ┃ ┃ ┊ ┃ ┃ ┊ ┃ ┃ ┊  \n",
      "2.00┊ 4 ┃ ┊ 4 ┃ ┊ 4 ┃ ┊  \n",
      "    ┊ ┃ ┃ ┊ ┃ ┃ ┊ ┃ ┃ ┊  \n",
      "1.00┊ 2 ┃ ┊ 3 ┃ ┊ 3 ┃ ┊  \n",
      "    ┊ ┃ ┃ ┊ ┃ ┃ ┊ ┃ ┃ ┊  \n",
      "0.00┊ 0 1 ┊ 0 1 ┊ 0 1 ┊  \n",
      "    0    500  1000  2000 \n",
      "\n"
     ]
    }
   ],
   "source": [
    "tables = tskit.TableCollection(sequence_length=2e3)\n",
    "\n",
    "node_table = tables.nodes\n",
    "node_table.add_row(flags=tskit.NODE_IS_SAMPLE)  # Node 0\n",
    "node_table.add_row(flags=tskit.NODE_IS_SAMPLE)  # Node 1\n",
    "node_table.add_row(time=1, flags=msprime.NODE_IS_RE_EVENT)  # Node 2\n",
    "node_table.add_row(time=1, flags=msprime.NODE_IS_RE_EVENT)  # Node 3\n",
    "node_table.add_row(time=2, flags=msprime.NODE_IS_CA_EVENT)  # Node 4\n",
    "node_table.add_row(time=3, flags=msprime.NODE_IS_RE_EVENT)  # Node 5\n",
    "node_table.add_row(time=3, flags=msprime.NODE_IS_RE_EVENT)  # Node 6\n",
    "node_table.add_row(time=4, flags=msprime.NODE_IS_CA_EVENT)  # Node 7\n",
    "node_table.add_row(time=5)  # Node 8\n",
    "\n",
    "edge_table = tables.edges\n",
    "edge_table.add_row(left=0, right=500, parent=2, child=0)\n",
    "edge_table.add_row(left=500, right=2e3, parent=3, child=0)\n",
    "edge_table.add_row(left=0, right=500, parent=4, child=2)\n",
    "edge_table.add_row(left=500, right=2e3, parent=4, child=3)\n",
    "edge_table.add_row(left=0, right=1e3, parent=5, child=4)\n",
    "edge_table.add_row(left=1e3, right=2e3, parent=6, child=4)\n",
    "edge_table.add_row(left=0, right=2e3, parent=7, child=1)\n",
    "edge_table.add_row(left=1e3, right=2e3, parent=7, child=6)\n",
    "edge_table.add_row(left=0, right=1e3, parent=8, child=5)\n",
    "edge_table.add_row(left=0, right=1e3, parent=8, child=7)\n",
    "\n",
    "ts = tables.tree_sequence()\n",
    "\n",
    "print(ts.draw_text())"
   ]
  },
  {
   "cell_type": "markdown",
   "id": "f52bdcd5",
   "metadata": {},
   "source": [
    "##### Paths"
   ]
  },
  {
   "cell_type": "code",
   "execution_count": 67,
   "id": "ea5a9854",
   "metadata": {},
   "outputs": [
    {
     "name": "stdout",
     "output_type": "stream",
     "text": [
      "Number of Samples: 2\n",
      "Number of Trees: 3\n",
      "Number of Paths: 5\n",
      "Estimated Dispersal Rate: [0.03448276]\n"
     ]
    }
   ],
   "source": [
    "print(\"Number of Samples:\", ts.num_samples)\n",
    "print(\"Number of Trees:\", ts.num_trees)\n",
    "\n",
    "paths = identify_unique_paths(ts=ts)\n",
    "print(\"Number of Paths:\", len(paths))\n",
    "\n",
    "sample_locs = np.linspace(0, 1, ts.num_samples) # evenly space the samples, ignore ordering of tree samples\n",
    "\n",
    "times, locations, dispersal_rate = reconstruct_node_locations(\n",
    "    ts=ts,\n",
    "    paths=paths,\n",
    "    sample_locs=sample_locs\n",
    ")\n",
    "\n",
    "print(\"Estimated Dispersal Rate:\", dispersal_rate)"
   ]
  },
  {
   "cell_type": "markdown",
   "id": "e535699d",
   "metadata": {},
   "source": [
    "##### Bridges"
   ]
  },
  {
   "cell_type": "code",
   "execution_count": 68,
   "id": "6e45e99b",
   "metadata": {},
   "outputs": [
    {
     "name": "stdout",
     "output_type": "stream",
     "text": [
      "Bridges Method is plotted in color and Paths Method is plotted in grey!\n"
     ]
    },
    {
     "data": {
      "image/png": "[encoded data removed]",
      "text/plain": [
       "<Figure size 432x288 with 1 Axes>"
      ]
     },
     "metadata": {
      "needs_background": "light"
     },
     "output_type": "display_data"
    },
    {
     "name": "stdout",
     "output_type": "stream",
     "text": [
      "Estimated Dispersal Rate: [0.13793103]\n"
     ]
    }
   ],
   "source": [
    "sample_locs_array = np.array([0,1])\n",
    "\n",
    "sigma = np.array([\n",
    "    [2.5,2.5,2,1,1,0.5,2.5,0.5],\n",
    "    [2.5,2.5,2,1,1,0.5,2.5,0.5],\n",
    "    [2,2,2,1,1,0.5,2,0.5],\n",
    "    [1,1,1,1,1,0.5,1,0.5],\n",
    "    [1,1,1,1,1,0.5,1,0.5],\n",
    "    [0.5,0.5,0.5,0.5,0.5,0.75,0.5,0.75],\n",
    "    [2.5,2.5,2,1,1,0.5,3.5,0.5],\n",
    "    [0.5,0.5,0.5,0.5,0.5,0.75,0.5,4.75],\n",
    "])\n",
    "\n",
    "sigma_11 = sigma[0:sigma.shape[0]-2,0:sigma.shape[1]-2]\n",
    "sigma_12 = sigma[0:sigma.shape[0]-2,sigma.shape[1]-2:sigma.shape[1]]\n",
    "sigma_21 = sigma[sigma.shape[0]-2:sigma.shape[0],0:sigma.shape[1]-2]\n",
    "sigma_22 = sigma[sigma.shape[0]-2:sigma.shape[0],sigma.shape[1]-2:sigma.shape[1]]\n",
    "inv_sigma_22 = np.linalg.pinv(sigma_22)\n",
    "dispersal_rate = estimate_mle_dispersal(inv_sigma_22, sample_locs_array)\n",
    "\n",
    "u1 = locate_mle_gmrca(inv_sigma_22=inv_sigma_22, sample_locs=sample_locs_array)\n",
    "cmvn_u = u1 + np.dot(np.dot(sigma_12, inv_sigma_22),sample_locs_array - u1)\n",
    "cmvn_sigma = sigma_11 - np.dot(np.dot(sigma_12, inv_sigma_22), sigma_21)\n",
    "node_times = ts.tables.nodes.time\n",
    "node_locs = np.concatenate((sample_locs, np.transpose(cmvn_u), u1))\n",
    "\n",
    "print(\"Bridges Method is plotted in color and Paths Method is plotted in grey!\")\n",
    "\n",
    "for p in paths:\n",
    "    p_times = []\n",
    "    p_locs = []\n",
    "    for n in p:\n",
    "        p_times.append(times[n])\n",
    "        p_locs.append(locations[n])\n",
    "    plt.plot(p_locs, p_times, color=\"grey\")\n",
    "\n",
    "for p in paths:\n",
    "    p_times = []\n",
    "    p_locs = []\n",
    "    for n in p:\n",
    "        p_times.append(node_times[n])\n",
    "        p_locs.append(node_locs[n])\n",
    "    plt.plot(p_locs, p_times)\n",
    "plt.show()\n",
    "\n",
    "print(\"Estimated Dispersal Rate:\", dispersal_rate)"
   ]
  },
  {
   "cell_type": "markdown",
   "id": "4d96224b",
   "metadata": {},
   "source": [
    "### Intersecting"
   ]
  },
  {
   "attachments": {},
   "cell_type": "markdown",
   "id": "fc5cbefb",
   "metadata": {},
   "source": [
    "#### Nested Bubbles #1"
   ]
  },
  {
   "attachments": {
    "two_loops_intersecting_nested_bubbles.png": {
     "image/png": "[encoded data removed]"
    }
   },
   "cell_type": "markdown",
   "id": "a6253bef",
   "metadata": {},
   "source": [
    "![two_loops_intersecting_nested_bubbles.png](attachment:two_loops_intersecting_nested_bubbles.png)"
   ]
  },
  {
   "cell_type": "code",
   "execution_count": 82,
   "id": "0d794eaf",
   "metadata": {},
   "outputs": [
    {
     "name": "stdout",
     "output_type": "stream",
     "text": [
      "5.00┊  8  ┊  8  ┊  8  ┊  \n",
      "    ┊ ┏┻┓ ┊ ┏┻┓ ┊ ┏┻┓ ┊  \n",
      "4.00┊ 7 ┃ ┊ 7 ┃ ┊ 7 ┃ ┊  \n",
      "    ┊ ┃ ┃ ┊ ┃ ┃ ┊ ┃ ┃ ┊  \n",
      "3.00┊ 6 ┃ ┊ 6 ┃ ┊ ┃ ┃ ┊  \n",
      "    ┊ ┃ ┃ ┊ ┃ ┃ ┊ ┃ ┃ ┊  \n",
      "2.00┊ 4 ┃ ┊ 5 ┃ ┊ ┃ ┃ ┊  \n",
      "    ┊ ┃ ┃ ┊ ┃ ┃ ┊ ┃ ┃ ┊  \n",
      "1.00┊ 2 ┃ ┊ 2 ┃ ┊ 3 ┃ ┊  \n",
      "    ┊ ┃ ┃ ┊ ┃ ┃ ┊ ┃ ┃ ┊  \n",
      "0.00┊ 0 1 ┊ 0 1 ┊ 0 1 ┊  \n",
      "    0   1000  1500  2000 \n",
      "\n"
     ]
    }
   ],
   "source": [
    "tables = tskit.TableCollection(sequence_length=2e3)\n",
    "\n",
    "node_table = tables.nodes\n",
    "node_table.add_row(flags=tskit.NODE_IS_SAMPLE)  # Node 0\n",
    "node_table.add_row(flags=tskit.NODE_IS_SAMPLE)  # Node 1\n",
    "node_table.add_row(time=1, flags=msprime.NODE_IS_RE_EVENT)  # Node 2\n",
    "node_table.add_row(time=1, flags=msprime.NODE_IS_RE_EVENT)  # Node 3\n",
    "node_table.add_row(time=2, flags=msprime.NODE_IS_RE_EVENT)  # Node 4\n",
    "node_table.add_row(time=2, flags=msprime.NODE_IS_RE_EVENT)  # Node 5\n",
    "node_table.add_row(time=3, flags=msprime.NODE_IS_CA_EVENT)  # Node 6\n",
    "node_table.add_row(time=4, flags=msprime.NODE_IS_CA_EVENT)  # Node 7\n",
    "node_table.add_row(time=5)  # Node 8\n",
    "\n",
    "edge_table = tables.edges\n",
    "edge_table.add_row(left=0, right=1500, parent=2, child=0)\n",
    "edge_table.add_row(left=1500, right=2e3, parent=3, child=0)\n",
    "edge_table.add_row(left=0, right=1e3, parent=4, child=2)\n",
    "edge_table.add_row(left=1e3, right=1500, parent=5, child=2)\n",
    "edge_table.add_row(left=0, right=1e3, parent=6, child=4)\n",
    "edge_table.add_row(left=1e3, right=1500, parent=6, child=5)\n",
    "edge_table.add_row(left=1500, right=2e3, parent=7, child=3)\n",
    "edge_table.add_row(left=0, right=1500, parent=7, child=6)\n",
    "edge_table.add_row(left=0, right=2e3, parent=8, child=1)\n",
    "edge_table.add_row(left=0, right=2e3, parent=8, child=7)\n",
    "\n",
    "ts = tables.tree_sequence()\n",
    "\n",
    "print(ts.draw_text())"
   ]
  },
  {
   "cell_type": "markdown",
   "id": "8dcd5162",
   "metadata": {},
   "source": [
    "##### Paths"
   ]
  },
  {
   "cell_type": "code",
   "execution_count": 83,
   "id": "076157a1",
   "metadata": {},
   "outputs": [
    {
     "name": "stdout",
     "output_type": "stream",
     "text": [
      "Number of Samples: 2\n",
      "Number of Trees: 3\n",
      "Number of Paths: 4\n",
      "Estimated Dispersal Rate: [0.03985507]\n"
     ]
    }
   ],
   "source": [
    "print(\"Number of Samples:\", ts.num_samples)\n",
    "print(\"Number of Trees:\", ts.num_trees)\n",
    "\n",
    "paths = identify_unique_paths(ts=ts)\n",
    "print(\"Number of Paths:\", len(paths))\n",
    "\n",
    "sample_locs = np.linspace(0, 1, ts.num_samples) # evenly space the samples, ignore ordering of tree samples\n",
    "\n",
    "times, locations, dispersal_rate = reconstruct_node_locations(\n",
    "    ts=ts,\n",
    "    paths=paths,\n",
    "    sample_locs=sample_locs\n",
    ")\n",
    "\n",
    "print(\"Estimated Dispersal Rate:\", dispersal_rate)"
   ]
  },
  {
   "cell_type": "markdown",
   "id": "0244a397",
   "metadata": {},
   "source": [
    "##### Bridges\n",
    "\n",
    "This is the simplest intersecting loops ARG that I could think of. What's nice is that we know that the loops that open and close before interacting with other paths (I've been referring to these as \"bubbles\") provide only half the variance of a single path of equivalent length. Using the standard Bridges Method, we can calculate a Brownian bridge through 7-6-4/5-2/3-7, and halve the distance between 6 and 4/5 to account for the smaller bubble in that region. This gives the variances and covariances for every node in the ARG."
   ]
  },
  {
   "cell_type": "code",
   "execution_count": 84,
   "id": "bf19fd34",
   "metadata": {},
   "outputs": [
    {
     "name": "stdout",
     "output_type": "stream",
     "text": [
      "Bridges Method is plotted in color and Paths Method is plotted in grey!\n"
     ]
    },
    {
     "data": {
      "image/png": "[encoded data removed]",
      "text/plain": [
       "<Figure size 432x288 with 1 Axes>"
      ]
     },
     "metadata": {
      "needs_background": "light"
     },
     "output_type": "display_data"
    },
    {
     "name": "stdout",
     "output_type": "stream",
     "text": [
      "Estimated Dispersal Rate: [0.11956522]\n"
     ]
    }
   ],
   "source": [
    "sample_locs_array = np.array([0,1])\n",
    "\n",
    "sigma = np.array([\n",
    "    [1+7.5/5.5,1+7.5/5.5,1+4.5/5.5,1+4.5/5.5,1+3/5.5,1,1+7.5/5.5,0],\n",
    "    [1+7.5/5.5,1+7.5/5.5,1+4.5/5.5,1+4.5/5.5,1+3/5.5,1,1+7.5/5.5,0],\n",
    "    [1+4.5/5.5,1+4.5/5.5,1+6/5.5,1+6/5.5,1+4/5.5,1,1+4.5/5.5,0],\n",
    "    [1+4.5/5.5,1+4.5/5.5,1+6/5.5,1+6/5.5,1+4/5.5,1,1+4.5/5.5,0],\n",
    "    [1+3/5.5,1+3/5.5,1+4/5.5,1+4/5.5,1+4.5/5.5,1,1+3/5.5,0],\n",
    "    [1,1,1,1,1,1,1,0],\n",
    "    [1+7.5/5.5,1+7.5/5.5,1+4.5/5.5,1+4.5/5.5,1+3/5.5,1,2+7.5/5.5,0],\n",
    "    [0,0,0,0,0,0,0,5]\n",
    "])\n",
    "\n",
    "sigma_11 = sigma[0:sigma.shape[0]-2,0:sigma.shape[1]-2]\n",
    "sigma_12 = sigma[0:sigma.shape[0]-2,sigma.shape[1]-2:sigma.shape[1]]\n",
    "sigma_21 = sigma[sigma.shape[0]-2:sigma.shape[0],0:sigma.shape[1]-2]\n",
    "sigma_22 = sigma[sigma.shape[0]-2:sigma.shape[0],sigma.shape[1]-2:sigma.shape[1]]\n",
    "inv_sigma_22 = np.linalg.pinv(sigma_22)\n",
    "dispersal_rate = estimate_mle_dispersal(inv_sigma_22, sample_locs_array)\n",
    "\n",
    "u1 = locate_mle_gmrca(inv_sigma_22=inv_sigma_22, sample_locs=sample_locs_array)\n",
    "cmvn_u = u1 + np.dot(np.dot(sigma_12, inv_sigma_22),sample_locs_array - u1)\n",
    "cmvn_sigma = sigma_11 - np.dot(np.dot(sigma_12, inv_sigma_22), sigma_21)\n",
    "node_times = ts.tables.nodes.time\n",
    "node_locs = np.concatenate((sample_locs, np.transpose(cmvn_u), u1))\n",
    "\n",
    "print(\"Bridges Method is plotted in color and Paths Method is plotted in grey!\")\n",
    "\n",
    "for p in paths:\n",
    "    p_times = []\n",
    "    p_locs = []\n",
    "    for n in p:\n",
    "        p_times.append(times[n])\n",
    "        p_locs.append(locations[n])\n",
    "    plt.plot(p_locs, p_times, color=\"grey\")\n",
    "\n",
    "for p in paths:\n",
    "    p_times = []\n",
    "    p_locs = []\n",
    "    for n in p:\n",
    "        p_times.append(node_times[n])\n",
    "        p_locs.append(node_locs[n])\n",
    "    plt.plot(p_locs, p_times)\n",
    "plt.show()\n",
    "\n",
    "print(\"Estimated Dispersal Rate:\", dispersal_rate)"
   ]
  },
  {
   "attachments": {
    "two_loops_intersecting_nested_bubbles.png": {
     "image/png": "[encoded data removed]"
    }
   },
   "cell_type": "markdown",
   "id": "bd45e43e",
   "metadata": {},
   "source": [
    "#### Nested Bubbles #2\n",
    "\n",
    "![two_loops_intersecting_nested_bubbles.png](attachment:two_loops_intersecting_nested_bubbles.png)"
   ]
  },
  {
   "cell_type": "code",
   "execution_count": 72,
   "id": "8a3e454e",
   "metadata": {},
   "outputs": [
    {
     "name": "stdout",
     "output_type": "stream",
     "text": [
      "6.00┊  8  ┊  8  ┊  8  ┊  \n",
      "    ┊ ┏┻┓ ┊ ┏┻┓ ┊ ┏┻┓ ┊  \n",
      "5.00┊ 7 ┃ ┊ 7 ┃ ┊ 7 ┃ ┊  \n",
      "    ┊ ┃ ┃ ┊ ┃ ┃ ┊ ┃ ┃ ┊  \n",
      "3.00┊ 6 ┃ ┊ 6 ┃ ┊ ┃ ┃ ┊  \n",
      "    ┊ ┃ ┃ ┊ ┃ ┃ ┊ ┃ ┃ ┊  \n",
      "2.00┊ 4 ┃ ┊ 5 ┃ ┊ ┃ ┃ ┊  \n",
      "    ┊ ┃ ┃ ┊ ┃ ┃ ┊ ┃ ┃ ┊  \n",
      "1.00┊ 2 ┃ ┊ 2 ┃ ┊ 3 ┃ ┊  \n",
      "    ┊ ┃ ┃ ┊ ┃ ┃ ┊ ┃ ┃ ┊  \n",
      "0.00┊ 0 1 ┊ 0 1 ┊ 0 1 ┊  \n",
      "    0   1000  1500  2000 \n",
      "\n"
     ]
    }
   ],
   "source": [
    "tables = tskit.TableCollection(sequence_length=2e3)\n",
    "\n",
    "node_table = tables.nodes\n",
    "node_table.add_row(flags=tskit.NODE_IS_SAMPLE)  # Node 0\n",
    "node_table.add_row(flags=tskit.NODE_IS_SAMPLE)  # Node 1\n",
    "node_table.add_row(time=1, flags=msprime.NODE_IS_RE_EVENT)  # Node 2\n",
    "node_table.add_row(time=1, flags=msprime.NODE_IS_RE_EVENT)  # Node 3\n",
    "node_table.add_row(time=2, flags=msprime.NODE_IS_RE_EVENT)  # Node 4\n",
    "node_table.add_row(time=2, flags=msprime.NODE_IS_RE_EVENT)  # Node 5\n",
    "node_table.add_row(time=3, flags=msprime.NODE_IS_CA_EVENT)  # Node 6\n",
    "node_table.add_row(time=5, flags=msprime.NODE_IS_CA_EVENT)  # Node 7\n",
    "node_table.add_row(time=6)  # Node 8\n",
    "\n",
    "edge_table = tables.edges\n",
    "edge_table.add_row(left=0, right=1500, parent=2, child=0)\n",
    "edge_table.add_row(left=1500, right=2e3, parent=3, child=0)\n",
    "edge_table.add_row(left=0, right=1e3, parent=4, child=2)\n",
    "edge_table.add_row(left=1e3, right=1500, parent=5, child=2)\n",
    "edge_table.add_row(left=0, right=1e3, parent=6, child=4)\n",
    "edge_table.add_row(left=1e3, right=1500, parent=6, child=5)\n",
    "edge_table.add_row(left=1500, right=2e3, parent=7, child=3)\n",
    "edge_table.add_row(left=0, right=1500, parent=7, child=6)\n",
    "edge_table.add_row(left=0, right=2e3, parent=8, child=1)\n",
    "edge_table.add_row(left=0, right=2e3, parent=8, child=7)\n",
    "\n",
    "ts = tables.tree_sequence()\n",
    "\n",
    "print(ts.draw_text())"
   ]
  },
  {
   "cell_type": "markdown",
   "id": "84b606ca",
   "metadata": {},
   "source": [
    "##### Paths"
   ]
  },
  {
   "cell_type": "code",
   "execution_count": 73,
   "id": "e059f75e",
   "metadata": {},
   "outputs": [
    {
     "name": "stdout",
     "output_type": "stream",
     "text": [
      "Number of Samples: 2\n",
      "Number of Trees: 3\n",
      "Number of Paths: 4\n",
      "Estimated Dispersal Rate: [0.03378378]\n"
     ]
    }
   ],
   "source": [
    "print(\"Number of Samples:\", ts.num_samples)\n",
    "print(\"Number of Trees:\", ts.num_trees)\n",
    "\n",
    "paths = identify_unique_paths(ts=ts)\n",
    "print(\"Number of Paths:\", len(paths))\n",
    "\n",
    "sample_locs = np.linspace(0, 1, ts.num_samples) # evenly space the samples, ignore ordering of tree samples\n",
    "\n",
    "times, locations, dispersal_rate = reconstruct_node_locations(\n",
    "    ts=ts,\n",
    "    paths=paths,\n",
    "    sample_locs=sample_locs\n",
    ")\n",
    "\n",
    "print(\"Estimated Dispersal Rate:\", dispersal_rate)"
   ]
  },
  {
   "cell_type": "markdown",
   "id": "2068a0bc",
   "metadata": {},
   "source": [
    "##### Bridges\n",
    "\n",
    "**THIS COVARIANCE MATRIX HAS MANY WRONG ENTRIES. NEED TO FIX**"
   ]
  },
  {
   "cell_type": "code",
   "execution_count": 74,
   "id": "6fcc2d87",
   "metadata": {},
   "outputs": [
    {
     "name": "stdout",
     "output_type": "stream",
     "text": [
      "Bridges Method is plotted in color and Paths Method is plotted in grey!\n"
     ]
    },
    {
     "data": {
      "image/png": "[encoded data removed]",
      "text/plain": [
       "<Figure size 432x288 with 1 Axes>"
      ]
     },
     "metadata": {
      "needs_background": "light"
     },
     "output_type": "display_data"
    },
    {
     "name": "stdout",
     "output_type": "stream",
     "text": [
      "Estimated Dispersal Rate: [0.10135135]\n"
     ]
    }
   ],
   "source": [
    "sample_locs_array = np.array([0,1])\n",
    "\n",
    "sigma = np.array([\n",
    "    [1+14/7.5,1+14/7.5,1+12.5/7.5,1+12.5/7.5,1+11/7.5,1,1+14/7.5,0],\n",
    "    [1+14/7.5,1+14/7.5,1+12.5/7.5,1+12.5/7.5,1+11/7.5,1,1+14/7.5,0],\n",
    "    [1+12.5/7.5,1+12.5/7.5,1+12.5/7.5,1+12.5/7.5,1+11/7.5,1,1+(12.5-2.5)/7.5,0],\n",
    "    [1+12.5/7.5,1+12.5/7.5,1+12.5/7.5,1+12.5/7.5,1+11/7.5,1,1+(12.5-2.5)/7.5,0],\n",
    "    [1+11/7.5,1+11/7.5,1+11/7.5,1+11/7.5,1+11/7.5,1,1+(11-3)/7.5,0],\n",
    "    [1,1,1,1,1,1,1,0],\n",
    "    [1+14/7.5,1+14/7.5,1+(12.5-2.5)/7.5,1+(12.5-2.5)/7.5,1+(11-3)/7.5,1,2+14/7.5,0],\n",
    "    [0,0,0,0,0,0,0,6]\n",
    "])\n",
    "\n",
    "sigma_11 = sigma[0:sigma.shape[0]-2,0:sigma.shape[1]-2]\n",
    "sigma_12 = sigma[0:sigma.shape[0]-2,sigma.shape[1]-2:sigma.shape[1]]\n",
    "sigma_21 = sigma[sigma.shape[0]-2:sigma.shape[0],0:sigma.shape[1]-2]\n",
    "sigma_22 = sigma[sigma.shape[0]-2:sigma.shape[0],sigma.shape[1]-2:sigma.shape[1]]\n",
    "inv_sigma_22 = np.linalg.pinv(sigma_22)\n",
    "dispersal_rate = estimate_mle_dispersal(inv_sigma_22, sample_locs_array)\n",
    "\n",
    "u1 = locate_mle_gmrca(inv_sigma_22=inv_sigma_22, sample_locs=sample_locs_array)\n",
    "cmvn_u = u1 + np.dot(np.dot(sigma_12, inv_sigma_22),sample_locs_array - u1)\n",
    "cmvn_sigma = sigma_11 - np.dot(np.dot(sigma_12, inv_sigma_22), sigma_21)\n",
    "node_times = ts.tables.nodes.time\n",
    "node_locs = np.concatenate((sample_locs, np.transpose(cmvn_u), u1))\n",
    "\n",
    "print(\"Bridges Method is plotted in color and Paths Method is plotted in grey!\")\n",
    "\n",
    "for p in paths:\n",
    "    p_times = []\n",
    "    p_locs = []\n",
    "    for n in p:\n",
    "        p_times.append(times[n])\n",
    "        p_locs.append(locations[n])\n",
    "    plt.plot(p_locs, p_times, color=\"grey\")\n",
    "\n",
    "for p in paths:\n",
    "    p_times = []\n",
    "    p_locs = []\n",
    "    for n in p:\n",
    "        p_times.append(node_times[n])\n",
    "        p_locs.append(node_locs[n])\n",
    "    plt.plot(p_locs, p_times)\n",
    "plt.show()\n",
    "\n",
    "print(\"Estimated Dispersal Rate:\", dispersal_rate)"
   ]
  },
  {
   "cell_type": "markdown",
   "id": "fb266ccf",
   "metadata": {},
   "source": [
    "#### Nested Loops #3"
   ]
  },
  {
   "cell_type": "code",
   "execution_count": 78,
   "id": "4e5b34ff",
   "metadata": {},
   "outputs": [
    {
     "name": "stdout",
     "output_type": "stream",
     "text": [
      "6.00┊  8  ┊  8  ┊  8  ┊  \n",
      "    ┊ ┏┻┓ ┊ ┏┻┓ ┊ ┏┻┓ ┊  \n",
      "5.00┊ 7 ┃ ┊ 7 ┃ ┊ 7 ┃ ┊  \n",
      "    ┊ ┃ ┃ ┊ ┃ ┃ ┊ ┃ ┃ ┊  \n",
      "4.00┊ 6 ┃ ┊ 6 ┃ ┊ ┃ ┃ ┊  \n",
      "    ┊ ┃ ┃ ┊ ┃ ┃ ┊ ┃ ┃ ┊  \n",
      "3.00┊ 4 ┃ ┊ 5 ┃ ┊ ┃ ┃ ┊  \n",
      "    ┊ ┃ ┃ ┊ ┃ ┃ ┊ ┃ ┃ ┊  \n",
      "1.00┊ 2 ┃ ┊ 2 ┃ ┊ 3 ┃ ┊  \n",
      "    ┊ ┃ ┃ ┊ ┃ ┃ ┊ ┃ ┃ ┊  \n",
      "0.00┊ 0 1 ┊ 0 1 ┊ 0 1 ┊  \n",
      "    0   1000  1500  2000 \n",
      "\n"
     ]
    }
   ],
   "source": [
    "tables = tskit.TableCollection(sequence_length=2e3)\n",
    "\n",
    "node_table = tables.nodes\n",
    "node_table.add_row(flags=tskit.NODE_IS_SAMPLE)  # Node 0\n",
    "node_table.add_row(flags=tskit.NODE_IS_SAMPLE)  # Node 1\n",
    "node_table.add_row(time=1, flags=msprime.NODE_IS_RE_EVENT)  # Node 2\n",
    "node_table.add_row(time=1, flags=msprime.NODE_IS_RE_EVENT)  # Node 3\n",
    "node_table.add_row(time=3, flags=msprime.NODE_IS_RE_EVENT)  # Node 4\n",
    "node_table.add_row(time=3, flags=msprime.NODE_IS_RE_EVENT)  # Node 5\n",
    "node_table.add_row(time=4, flags=msprime.NODE_IS_CA_EVENT)  # Node 6\n",
    "node_table.add_row(time=5, flags=msprime.NODE_IS_CA_EVENT)  # Node 7\n",
    "node_table.add_row(time=6)  # Node 8\n",
    "\n",
    "edge_table = tables.edges\n",
    "edge_table.add_row(left=0, right=1500, parent=2, child=0)\n",
    "edge_table.add_row(left=1500, right=2e3, parent=3, child=0)\n",
    "edge_table.add_row(left=0, right=1e3, parent=4, child=2)\n",
    "edge_table.add_row(left=1e3, right=1500, parent=5, child=2)\n",
    "edge_table.add_row(left=0, right=1e3, parent=6, child=4)\n",
    "edge_table.add_row(left=1e3, right=1500, parent=6, child=5)\n",
    "edge_table.add_row(left=1500, right=2e3, parent=7, child=3)\n",
    "edge_table.add_row(left=0, right=1500, parent=7, child=6)\n",
    "edge_table.add_row(left=0, right=2e3, parent=8, child=1)\n",
    "edge_table.add_row(left=0, right=2e3, parent=8, child=7)\n",
    "\n",
    "ts = tables.tree_sequence()\n",
    "\n",
    "print(ts.draw_text())"
   ]
  },
  {
   "cell_type": "markdown",
   "id": "b8675c43",
   "metadata": {},
   "source": [
    "##### Paths"
   ]
  },
  {
   "cell_type": "code",
   "execution_count": 79,
   "id": "2926ce07",
   "metadata": {},
   "outputs": [
    {
     "name": "stdout",
     "output_type": "stream",
     "text": [
      "Number of Samples: 2\n",
      "Number of Trees: 3\n",
      "Number of Paths: 4\n",
      "Estimated Dispersal Rate: [0.03378378]\n"
     ]
    }
   ],
   "source": [
    "print(\"Number of Samples:\", ts.num_samples)\n",
    "print(\"Number of Trees:\", ts.num_trees)\n",
    "\n",
    "paths = identify_unique_paths(ts=ts)\n",
    "print(\"Number of Paths:\", len(paths))\n",
    "\n",
    "sample_locs = np.linspace(0, 1, ts.num_samples) # evenly space the samples, ignore ordering of tree samples\n",
    "\n",
    "times, locations, dispersal_rate = reconstruct_node_locations(\n",
    "    ts=ts,\n",
    "    paths=paths,\n",
    "    sample_locs=sample_locs\n",
    ")\n",
    "\n",
    "print(\"Estimated Dispersal Rate:\", dispersal_rate)"
   ]
  },
  {
   "cell_type": "markdown",
   "id": "9ca7bb77",
   "metadata": {},
   "source": [
    "##### Bridges"
   ]
  },
  {
   "cell_type": "code",
   "execution_count": 81,
   "id": "a8a967b9",
   "metadata": {},
   "outputs": [
    {
     "name": "stdout",
     "output_type": "stream",
     "text": [
      "Bridges Method is plotted in color and Paths Method is plotted in grey!\n"
     ]
    },
    {
     "data": {
      "image/png": "[encoded data removed]",
      "text/plain": [
       "<Figure size 432x288 with 1 Axes>"
      ]
     },
     "metadata": {
      "needs_background": "light"
     },
     "output_type": "display_data"
    },
    {
     "name": "stdout",
     "output_type": "stream",
     "text": [
      "Estimated Dispersal Rate: [0.10135135]\n"
     ]
    }
   ],
   "source": [
    "sample_locs_array = np.array([0,1])\n",
    "\n",
    "sigma = np.array([\n",
    "    [1+14/7.5,1+14/7.5,1+6/7.5,1+6/7.5,1+4/7.5,1,1+14/7.5,0],\n",
    "    [1+14/7.5,1+14/7.5,1+6/7.5,1+6/7.5,1+4/7.5,1,1+14/7.5,0],\n",
    "    [1+6/7.5,1+6/7.5,1+9/7.5,1+9/7.5,1+6/7.5,1,1+6/7.5,0],\n",
    "    [1+6/7.5,1+6/7.5,1+9/7.5,1+9/7.5,1+6/7.5,1,1+6/7.5,0],\n",
    "    [1+4/7.5,1+4/7.5,1+6/7.5,1+6/7.5,1+6.5/7.5,1,1+4/7.5,0],\n",
    "    [1,1,1,1,1,1,1,0],\n",
    "    [1+14/7.5,1+14/7.5,1+6/7.5,1+6/7.5,1+4/7.5,1,2+14/7.5,0],\n",
    "    [0,0,0,0,0,0,0,6]\n",
    "])\n",
    "\n",
    "sigma_11 = sigma[0:sigma.shape[0]-2,0:sigma.shape[1]-2]\n",
    "sigma_12 = sigma[0:sigma.shape[0]-2,sigma.shape[1]-2:sigma.shape[1]]\n",
    "sigma_21 = sigma[sigma.shape[0]-2:sigma.shape[0],0:sigma.shape[1]-2]\n",
    "sigma_22 = sigma[sigma.shape[0]-2:sigma.shape[0],sigma.shape[1]-2:sigma.shape[1]]\n",
    "inv_sigma_22 = np.linalg.pinv(sigma_22)\n",
    "dispersal_rate = estimate_mle_dispersal(inv_sigma_22, sample_locs_array)\n",
    "\n",
    "u1 = locate_mle_gmrca(inv_sigma_22=inv_sigma_22, sample_locs=sample_locs_array)\n",
    "cmvn_u = u1 + np.dot(np.dot(sigma_12, inv_sigma_22),sample_locs_array - u1)\n",
    "cmvn_sigma = sigma_11 - np.dot(np.dot(sigma_12, inv_sigma_22), sigma_21)\n",
    "node_times = ts.tables.nodes.time\n",
    "node_locs = np.concatenate((sample_locs, np.transpose(cmvn_u), u1))\n",
    "\n",
    "print(\"Bridges Method is plotted in color and Paths Method is plotted in grey!\")\n",
    "\n",
    "for p in paths:\n",
    "    p_times = []\n",
    "    p_locs = []\n",
    "    for n in p:\n",
    "        p_times.append(times[n])\n",
    "        p_locs.append(locations[n])\n",
    "    plt.plot(p_locs, p_times, color=\"grey\")\n",
    "\n",
    "for p in paths:\n",
    "    p_times = []\n",
    "    p_locs = []\n",
    "    for n in p:\n",
    "        p_times.append(node_times[n])\n",
    "        p_locs.append(node_locs[n])\n",
    "    plt.plot(p_locs, p_times)\n",
    "plt.show()\n",
    "\n",
    "print(\"Estimated Dispersal Rate:\", dispersal_rate)"
   ]
  },
  {
   "attachments": {
    "two_loops_intersecting_split_bubble.png": {
     "image/png": "[encoded data removed]"
    }
   },
   "cell_type": "markdown",
   "id": "b6f13f86",
   "metadata": {},
   "source": [
    "#### Split Bubble\n",
    "\n",
    "![two_loops_intersecting_split_bubble.png](attachment:two_loops_intersecting_split_bubble.png)"
   ]
  },
  {
   "cell_type": "code",
   "execution_count": 86,
   "id": "fdd5d3cf",
   "metadata": {},
   "outputs": [
    {
     "name": "stdout",
     "output_type": "stream",
     "text": [
      "5.00┊  8  ┊  8  ┊  8  ┊  \n",
      "    ┊ ┏┻┓ ┊ ┏┻┓ ┊ ┏┻┓ ┊  \n",
      "4.00┊ 7 ┃ ┊ 7 ┃ ┊ 7 ┃ ┊  \n",
      "    ┊ ┃ ┃ ┊ ┃ ┃ ┊ ┃ ┃ ┊  \n",
      "3.00┊ ┃ ┃ ┊ 6 ┃ ┊ 6 ┃ ┊  \n",
      "    ┊ ┃ ┃ ┊ ┃ ┃ ┊ ┃ ┃ ┊  \n",
      "2.00┊ 4 ┃ ┊ 5 ┃ ┊ ┃ ┃ ┊  \n",
      "    ┊ ┃ ┃ ┊ ┃ ┃ ┊ ┃ ┃ ┊  \n",
      "1.00┊ 2 ┃ ┊ 2 ┃ ┊ 3 ┃ ┊  \n",
      "    ┊ ┃ ┃ ┊ ┃ ┃ ┊ ┃ ┃ ┊  \n",
      "0.00┊ 0 1 ┊ 0 1 ┊ 0 1 ┊  \n",
      "    0    500  1000  2000 \n",
      "\n"
     ]
    }
   ],
   "source": [
    "tables = tskit.TableCollection(sequence_length=2e3)\n",
    "\n",
    "node_table = tables.nodes\n",
    "node_table.add_row(flags=tskit.NODE_IS_SAMPLE)  # Node 0\n",
    "node_table.add_row(flags=tskit.NODE_IS_SAMPLE)  # Node 1\n",
    "node_table.add_row(time=1, flags=msprime.NODE_IS_RE_EVENT)  # Node 2\n",
    "node_table.add_row(time=1, flags=msprime.NODE_IS_RE_EVENT)  # Node 3\n",
    "node_table.add_row(time=2, flags=msprime.NODE_IS_RE_EVENT)  # Node 4\n",
    "node_table.add_row(time=2, flags=msprime.NODE_IS_RE_EVENT)  # Node 5\n",
    "node_table.add_row(time=3, flags=msprime.NODE_IS_CA_EVENT)  # Node 6\n",
    "node_table.add_row(time=4, flags=msprime.NODE_IS_CA_EVENT)  # Node 7\n",
    "node_table.add_row(time=5)  # Node 8\n",
    "\n",
    "edge_table = tables.edges\n",
    "edge_table.add_row(left=0, right=1e3, parent=2, child=0)\n",
    "edge_table.add_row(left=1e3, right=2e3, parent=3, child=0)\n",
    "edge_table.add_row(left=0, right=500, parent=4, child=2)\n",
    "edge_table.add_row(left=500, right=1e3, parent=5, child=2)\n",
    "edge_table.add_row(left=1e3, right=2e3, parent=6, child=3)\n",
    "edge_table.add_row(left=500, right=1e3, parent=6, child=5)\n",
    "edge_table.add_row(left=0, right=500, parent=7, child=4)\n",
    "edge_table.add_row(left=500, right=2e3, parent=7, child=6)\n",
    "edge_table.add_row(left=0, right=2e3, parent=8, child=1)\n",
    "edge_table.add_row(left=0, right=2e3, parent=8, child=7)\n",
    "\n",
    "ts = tables.tree_sequence()\n",
    "\n",
    "print(ts.draw_text())"
   ]
  },
  {
   "cell_type": "markdown",
   "id": "8049b09f",
   "metadata": {},
   "source": [
    "##### Paths"
   ]
  },
  {
   "cell_type": "code",
   "execution_count": 94,
   "id": "d1d9934e",
   "metadata": {},
   "outputs": [
    {
     "name": "stdout",
     "output_type": "stream",
     "text": [
      "Number of Samples: 2\n",
      "Number of Trees: 3\n",
      "Number of Paths: 4\n",
      "Estimated Dispersal Rate: [0.03968254]\n",
      "[0.11904762]\n"
     ]
    }
   ],
   "source": [
    "print(\"Number of Samples:\", ts.num_samples)\n",
    "print(\"Number of Trees:\", ts.num_trees)\n",
    "\n",
    "paths = identify_unique_paths(ts=ts)\n",
    "print(\"Number of Paths:\", len(paths))\n",
    "\n",
    "sample_locs = np.linspace(0, 1, ts.num_samples) # evenly space the samples, ignore ordering of tree samples\n",
    "\n",
    "times, locations, dispersal_rate = reconstruct_node_locations(\n",
    "    ts=ts,\n",
    "    paths=paths,\n",
    "    sample_locs=sample_locs\n",
    ")\n",
    "\n",
    "print(\"Estimated Dispersal Rate:\", dispersal_rate)\n",
    "\n",
    "print(dispersal_rate*3)"
   ]
  },
  {
   "cell_type": "markdown",
   "id": "abc5eb03",
   "metadata": {},
   "source": [
    "##### Bridges"
   ]
  },
  {
   "cell_type": "code",
   "execution_count": 115,
   "id": "c192271c",
   "metadata": {},
   "outputs": [
    {
     "name": "stdout",
     "output_type": "stream",
     "text": [
      "Estimated Dispersal Rate: [0.11904762]\n"
     ]
    }
   ],
   "source": [
    "sample_locs_array = np.array([0,1])\n",
    "sigma_22 = np.array([[2+7/5,0],[0,5]])\n",
    "inv_sigma_22 = np.linalg.pinv(sigma_22)\n",
    "print(\"Estimated Dispersal Rate:\", estimate_mle_dispersal(inv_sigma_22, sample_locs_array))"
   ]
  },
  {
   "cell_type": "markdown",
   "id": "0de53d6d",
   "metadata": {},
   "source": [
    "**I did not find this covariance matrix rigorously with the Bridges Method, a lot of guess and check against Paths Method so isn't a good comparison. Do not put much weight in it at this point, but since it appears to match the Paths Method, I want to understand what might be going on!**\n",
    "\n",
    "Based on this, I know that:\n",
    "\n",
    "- var(l<sub>0</sub>) = 2+7/5\n",
    "- var(l<sub>1</sub>) = 5\n",
    "- var(l<sub>2,3</sub>) = 1+7/5\n",
    "- var(l<sub>7</sub>) = 1"
   ]
  },
  {
   "cell_type": "code",
   "execution_count": null,
   "id": "890f4009",
   "metadata": {},
   "outputs": [],
   "source": []
  }
 ],
 "metadata": {
  "kernelspec": {
   "display_name": "Python 3 (ipykernel)",
   "language": "python",
   "name": "python3"
  },
  "language_info": {
   "codemirror_mode": {
    "name": "ipython",
    "version": 3
   },
   "file_extension": ".py",
   "mimetype": "text/x-python",
   "name": "python",
   "nbconvert_exporter": "python",
   "pygments_lexer": "ipython3",
   "version": "3.8.2"
  }
 },
 "nbformat": 4,
 "nbformat_minor": 5
}
