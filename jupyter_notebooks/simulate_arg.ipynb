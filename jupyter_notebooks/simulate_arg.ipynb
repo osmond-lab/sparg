{
 "cells": [
  {
   "cell_type": "code",
   "execution_count": 6,
   "id": "c5c5e26c-d8ca-4f8f-9557-a56b19dfcbf5",
   "metadata": {},
   "outputs": [],
   "source": [
    "import pyslim\n",
    "import tskit\n",
    "import numpy as np\n",
    "import argutils\n",
    "import matplotlib.pyplot as plt"
   ]
  },
  {
   "cell_type": "markdown",
   "id": "e8d6993c-2315-4659-b8f5-3c4cdc0f1ef3",
   "metadata": {},
   "source": [
    "Load our tree sequence from SLiM"
   ]
  },
  {
   "cell_type": "code",
   "execution_count": 2,
   "id": "c0e48f51-23a0-47c7-beb3-39756cf38e9d",
   "metadata": {},
   "outputs": [
    {
     "data": {
      "text/html": [
       "\n",
       "            <div>\n",
       "              <style>\n",
       "                .tskit-table thead tr th {text-align: left;padding: 0.5em 0.5em;}\n",
       "                .tskit-table tbody tr td {padding: 0.5em 0.5em;}\n",
       "                .tskit-table tbody tr td:first-of-type {text-align: left;}\n",
       "                .tskit-details-label {vertical-align: top; padding-right:5px;}\n",
       "                .tskit-table-set {display: inline-flex;flex-wrap: wrap;margin: -12px 0 0 -12px;width: calc(100% + 12px);}\n",
       "                .tskit-table-set-table {margin: 12px 0 0 12px;}\n",
       "                details {display: inline-block;}\n",
       "                summary {cursor: pointer; outline: 0; display: list-item;}\n",
       "              </style>\n",
       "              <div class=\"tskit-table-set\">\n",
       "                <div class=\"tskit-table-set-table\">\n",
       "                  <table class=\"tskit-table\">\n",
       "                    <thead>\n",
       "                      <tr>\n",
       "                        <th style=\"padding:0;line-height:21px;\">\n",
       "                          <img style=\"height: 32px;display: inline-block;padding: 3px 5px 3px 0;\" src=\"https://raw.githubusercontent.com/tskit-dev/administrative/main/tskit_logo.svg\"/>\n",
       "                          <a target=\"_blank\" href=\"https://tskit.dev/tskit/docs/latest/python-api.html#the-treesequence-class\"> Tree Sequence </a>\n",
       "                        </th>\n",
       "                      </tr>\n",
       "                    </thead>\n",
       "                    <tbody>\n",
       "                      <tr><td>Trees</td><td>131</td></tr>\n",
       "                      <tr><td>Sequence Length</td><td>1000000.0</td></tr>\n",
       "                      <tr><td>Time Units</td><td>ticks</td></tr>\n",
       "                      <tr><td>Sample Nodes</td><td>262</td></tr>\n",
       "                      <tr><td>Total Size</td><td>2.4 MiB</td></tr>\n",
       "                      <tr>\n",
       "                        <td>Metadata</td><td style=\"text-align: left;\">\n",
       "                <div>\n",
       "                  <span class=\"tskit-details-label\"></span>\n",
       "                  <details open>\n",
       "                    <summary>dict</summary>\n",
       "                    \n",
       "                <div>\n",
       "                  <span class=\"tskit-details-label\">SLiM:</span>\n",
       "                  <details >\n",
       "                    <summary>dict</summary>\n",
       "                    cycle: 10000<br/>file_version: 0.8<br/>model_type: nonWF<br/>name: sim<br/>nucleotide_based: False<br/>separate_sexes: False<br/>spatial_dimensionality: xy<br/>spatial_periodicity: <br/>stage: late<br/>tick: 10000<br/>\n",
       "                  </details>\n",
       "                </div>\n",
       "                <br/>\n",
       "                  </details>\n",
       "                </div>\n",
       "                </td></tr>\n",
       "                    </tbody>\n",
       "                  </table>\n",
       "                </div>\n",
       "                <div class=\"tskit-table-set-table\">\n",
       "                  <table class=\"tskit-table\">\n",
       "                    <thead>\n",
       "                      <tr>\n",
       "                        <th style=\"line-height:21px;\">Table</th>\n",
       "                        <th>Rows</th>\n",
       "                        <th>Size</th>\n",
       "                        <th>Has Metadata</th>\n",
       "                      </tr>\n",
       "                    </thead>\n",
       "                    <tbody>\n",
       "                    \n",
       "                  <tr>\n",
       "                    <td>Edges</td>\n",
       "                      <td>36116</td>\n",
       "                      <td>1.1 MiB</td>\n",
       "                      <td style=\"text-align: center;\">\n",
       "                        \n",
       "                      </td>\n",
       "                    </tr>\n",
       "                \n",
       "                  <tr>\n",
       "                    <td>Individuals</td>\n",
       "                      <td>131</td>\n",
       "                      <td>14.6 KiB</td>\n",
       "                      <td style=\"text-align: center;\">\n",
       "                        ✅\n",
       "                      </td>\n",
       "                    </tr>\n",
       "                \n",
       "                  <tr>\n",
       "                    <td>Migrations</td>\n",
       "                      <td>0</td>\n",
       "                      <td>8 Bytes</td>\n",
       "                      <td style=\"text-align: center;\">\n",
       "                        \n",
       "                      </td>\n",
       "                    </tr>\n",
       "                \n",
       "                  <tr>\n",
       "                    <td>Mutations</td>\n",
       "                      <td>0</td>\n",
       "                      <td>1.2 KiB</td>\n",
       "                      <td style=\"text-align: center;\">\n",
       "                        \n",
       "                      </td>\n",
       "                    </tr>\n",
       "                \n",
       "                  <tr>\n",
       "                    <td>Nodes</td>\n",
       "                      <td>28833</td>\n",
       "                      <td>1.0 MiB</td>\n",
       "                      <td style=\"text-align: center;\">\n",
       "                        ✅\n",
       "                      </td>\n",
       "                    </tr>\n",
       "                \n",
       "                  <tr>\n",
       "                    <td>Populations</td>\n",
       "                      <td>2</td>\n",
       "                      <td>2.4 KiB</td>\n",
       "                      <td style=\"text-align: center;\">\n",
       "                        ✅\n",
       "                      </td>\n",
       "                    </tr>\n",
       "                \n",
       "                  <tr>\n",
       "                    <td>Provenances</td>\n",
       "                      <td>1</td>\n",
       "                      <td>5.5 KiB</td>\n",
       "                      <td style=\"text-align: center;\">\n",
       "                        \n",
       "                      </td>\n",
       "                    </tr>\n",
       "                \n",
       "                  <tr>\n",
       "                    <td>Sites</td>\n",
       "                      <td>0</td>\n",
       "                      <td>16 Bytes</td>\n",
       "                      <td style=\"text-align: center;\">\n",
       "                        \n",
       "                      </td>\n",
       "                    </tr>\n",
       "                \n",
       "                    </tbody>\n",
       "                  </table>\n",
       "                </div>\n",
       "              </div>\n",
       "            </div>\n",
       "            "
      ],
      "text/plain": [
       "<tskit.trees.TreeSequence at 0x10f3d19d0>"
      ]
     },
     "execution_count": 2,
     "metadata": {},
     "output_type": "execute_result"
    }
   ],
   "source": [
    "ts = tskit.load('../slim/output/simple_space.trees')\n",
    "ts"
   ]
  },
  {
   "cell_type": "markdown",
   "id": "2f55487e-bdf3-474c-b4d7-04fbd2f42099",
   "metadata": {},
   "source": [
    "Simplify down to a few individuals"
   ]
  },
  {
   "cell_type": "code",
   "execution_count": 62,
   "id": "072c90de-0ecf-434f-9e76-c7c6cb147b9e",
   "metadata": {},
   "outputs": [
    {
     "data": {
      "text/html": [
       "\n",
       "            <div>\n",
       "              <style>\n",
       "                .tskit-table thead tr th {text-align: left;padding: 0.5em 0.5em;}\n",
       "                .tskit-table tbody tr td {padding: 0.5em 0.5em;}\n",
       "                .tskit-table tbody tr td:first-of-type {text-align: left;}\n",
       "                .tskit-details-label {vertical-align: top; padding-right:5px;}\n",
       "                .tskit-table-set {display: inline-flex;flex-wrap: wrap;margin: -12px 0 0 -12px;width: calc(100% + 12px);}\n",
       "                .tskit-table-set-table {margin: 12px 0 0 12px;}\n",
       "                details {display: inline-block;}\n",
       "                summary {cursor: pointer; outline: 0; display: list-item;}\n",
       "              </style>\n",
       "              <div class=\"tskit-table-set\">\n",
       "                <div class=\"tskit-table-set-table\">\n",
       "                  <table class=\"tskit-table\">\n",
       "                    <thead>\n",
       "                      <tr>\n",
       "                        <th style=\"padding:0;line-height:21px;\">\n",
       "                          <img style=\"height: 32px;display: inline-block;padding: 3px 5px 3px 0;\" src=\"https://raw.githubusercontent.com/tskit-dev/administrative/main/tskit_logo.svg\"/>\n",
       "                          <a target=\"_blank\" href=\"https://tskit.dev/tskit/docs/latest/python-api.html#the-treesequence-class\"> Tree Sequence </a>\n",
       "                        </th>\n",
       "                      </tr>\n",
       "                    </thead>\n",
       "                    <tbody>\n",
       "                      <tr><td>Trees</td><td>117</td></tr>\n",
       "                      <tr><td>Sequence Length</td><td>1000000.0</td></tr>\n",
       "                      <tr><td>Time Units</td><td>ticks</td></tr>\n",
       "                      <tr><td>Sample Nodes</td><td>10</td></tr>\n",
       "                      <tr><td>Total Size</td><td>2.3 MiB</td></tr>\n",
       "                      <tr>\n",
       "                        <td>Metadata</td><td style=\"text-align: left;\">\n",
       "                <div>\n",
       "                  <span class=\"tskit-details-label\"></span>\n",
       "                  <details open>\n",
       "                    <summary>dict</summary>\n",
       "                    \n",
       "                <div>\n",
       "                  <span class=\"tskit-details-label\">SLiM:</span>\n",
       "                  <details >\n",
       "                    <summary>dict</summary>\n",
       "                    cycle: 10000<br/>file_version: 0.8<br/>model_type: nonWF<br/>name: sim<br/>nucleotide_based: False<br/>separate_sexes: False<br/>spatial_dimensionality: xy<br/>spatial_periodicity: <br/>stage: late<br/>tick: 10000<br/>\n",
       "                  </details>\n",
       "                </div>\n",
       "                <br/>\n",
       "                  </details>\n",
       "                </div>\n",
       "                </td></tr>\n",
       "                    </tbody>\n",
       "                  </table>\n",
       "                </div>\n",
       "                <div class=\"tskit-table-set-table\">\n",
       "                  <table class=\"tskit-table\">\n",
       "                    <thead>\n",
       "                      <tr>\n",
       "                        <th style=\"line-height:21px;\">Table</th>\n",
       "                        <th>Rows</th>\n",
       "                        <th>Size</th>\n",
       "                        <th>Has Metadata</th>\n",
       "                      </tr>\n",
       "                    </thead>\n",
       "                    <tbody>\n",
       "                    \n",
       "                  <tr>\n",
       "                    <td>Edges</td>\n",
       "                      <td>34301</td>\n",
       "                      <td>1.0 MiB</td>\n",
       "                      <td style=\"text-align: center;\">\n",
       "                        \n",
       "                      </td>\n",
       "                    </tr>\n",
       "                \n",
       "                  <tr>\n",
       "                    <td>Individuals</td>\n",
       "                      <td>10</td>\n",
       "                      <td>2.8 KiB</td>\n",
       "                      <td style=\"text-align: center;\">\n",
       "                        ✅\n",
       "                      </td>\n",
       "                    </tr>\n",
       "                \n",
       "                  <tr>\n",
       "                    <td>Migrations</td>\n",
       "                      <td>0</td>\n",
       "                      <td>8 Bytes</td>\n",
       "                      <td style=\"text-align: center;\">\n",
       "                        \n",
       "                      </td>\n",
       "                    </tr>\n",
       "                \n",
       "                  <tr>\n",
       "                    <td>Mutations</td>\n",
       "                      <td>0</td>\n",
       "                      <td>1.2 KiB</td>\n",
       "                      <td style=\"text-align: center;\">\n",
       "                        \n",
       "                      </td>\n",
       "                    </tr>\n",
       "                \n",
       "                  <tr>\n",
       "                    <td>Nodes</td>\n",
       "                      <td>27105</td>\n",
       "                      <td>1006.5 KiB</td>\n",
       "                      <td style=\"text-align: center;\">\n",
       "                        ✅\n",
       "                      </td>\n",
       "                    </tr>\n",
       "                \n",
       "                  <tr>\n",
       "                    <td>Populations</td>\n",
       "                      <td>1</td>\n",
       "                      <td>2.4 KiB</td>\n",
       "                      <td style=\"text-align: center;\">\n",
       "                        ✅\n",
       "                      </td>\n",
       "                    </tr>\n",
       "                \n",
       "                  <tr>\n",
       "                    <td>Provenances</td>\n",
       "                      <td>2</td>\n",
       "                      <td>6.1 KiB</td>\n",
       "                      <td style=\"text-align: center;\">\n",
       "                        \n",
       "                      </td>\n",
       "                    </tr>\n",
       "                \n",
       "                  <tr>\n",
       "                    <td>Sites</td>\n",
       "                      <td>0</td>\n",
       "                      <td>16 Bytes</td>\n",
       "                      <td style=\"text-align: center;\">\n",
       "                        \n",
       "                      </td>\n",
       "                    </tr>\n",
       "                \n",
       "                    </tbody>\n",
       "                  </table>\n",
       "                </div>\n",
       "              </div>\n",
       "            </div>\n",
       "            "
      ],
      "text/plain": [
       "<tskit.trees.TreeSequence at 0x1368a5b50>"
      ]
     },
     "execution_count": 62,
     "metadata": {},
     "output_type": "execute_result"
    }
   ],
   "source": [
    "# sample diploid individuals\n",
    "# alive_inds = pyslim.individuals_alive_at(ts, 0)\n",
    "# rng = np.random.default_rng(seed=3)\n",
    "# keep_indivs = rng.choice(alive_inds, 5, replace=False)\n",
    "# keep_nodes = []\n",
    "# for i in keep_indivs:\n",
    "#     keep_nodes.extend(ts.individual(i).nodes)\n",
    "# sample genomes\n",
    "keep_nodes = np.random.choice(ts.samples(), 10, replace=False)\n",
    "sts = ts.simplify(samples=keep_nodes, keep_input_roots=True, keep_unary=True, )\n",
    "sts"
   ]
  },
  {
   "cell_type": "markdown",
   "id": "907905c9-c342-4fc9-ae18-27c3d683e027",
   "metadata": {},
   "source": [
    "Simplify down to a smaller genomic region (so we have fewer trees)"
   ]
  },
  {
   "cell_type": "code",
   "execution_count": 63,
   "id": "55c636e1-8a9b-4afc-b48e-0f2e238feef3",
   "metadata": {},
   "outputs": [
    {
     "data": {
      "text/html": [
       "\n",
       "            <div>\n",
       "              <style>\n",
       "                .tskit-table thead tr th {text-align: left;padding: 0.5em 0.5em;}\n",
       "                .tskit-table tbody tr td {padding: 0.5em 0.5em;}\n",
       "                .tskit-table tbody tr td:first-of-type {text-align: left;}\n",
       "                .tskit-details-label {vertical-align: top; padding-right:5px;}\n",
       "                .tskit-table-set {display: inline-flex;flex-wrap: wrap;margin: -12px 0 0 -12px;width: calc(100% + 12px);}\n",
       "                .tskit-table-set-table {margin: 12px 0 0 12px;}\n",
       "                details {display: inline-block;}\n",
       "                summary {cursor: pointer; outline: 0; display: list-item;}\n",
       "              </style>\n",
       "              <div class=\"tskit-table-set\">\n",
       "                <div class=\"tskit-table-set-table\">\n",
       "                  <table class=\"tskit-table\">\n",
       "                    <thead>\n",
       "                      <tr>\n",
       "                        <th style=\"padding:0;line-height:21px;\">\n",
       "                          <img style=\"height: 32px;display: inline-block;padding: 3px 5px 3px 0;\" src=\"https://raw.githubusercontent.com/tskit-dev/administrative/main/tskit_logo.svg\"/>\n",
       "                          <a target=\"_blank\" href=\"https://tskit.dev/tskit/docs/latest/python-api.html#the-treesequence-class\"> Tree Sequence </a>\n",
       "                        </th>\n",
       "                      </tr>\n",
       "                    </thead>\n",
       "                    <tbody>\n",
       "                      <tr><td>Trees</td><td>4</td></tr>\n",
       "                      <tr><td>Sequence Length</td><td>1000000.0</td></tr>\n",
       "                      <tr><td>Time Units</td><td>ticks</td></tr>\n",
       "                      <tr><td>Sample Nodes</td><td>10</td></tr>\n",
       "                      <tr><td>Total Size</td><td>17.4 KiB</td></tr>\n",
       "                      <tr>\n",
       "                        <td>Metadata</td><td style=\"text-align: left;\">\n",
       "                <div>\n",
       "                  <span class=\"tskit-details-label\"></span>\n",
       "                  <details open>\n",
       "                    <summary>dict</summary>\n",
       "                    \n",
       "                <div>\n",
       "                  <span class=\"tskit-details-label\">SLiM:</span>\n",
       "                  <details >\n",
       "                    <summary>dict</summary>\n",
       "                    cycle: 10000<br/>file_version: 0.8<br/>model_type: nonWF<br/>name: sim<br/>nucleotide_based: False<br/>separate_sexes: False<br/>spatial_dimensionality: xy<br/>spatial_periodicity: <br/>stage: late<br/>tick: 10000<br/>\n",
       "                  </details>\n",
       "                </div>\n",
       "                <br/>\n",
       "                  </details>\n",
       "                </div>\n",
       "                </td></tr>\n",
       "                    </tbody>\n",
       "                  </table>\n",
       "                </div>\n",
       "                <div class=\"tskit-table-set-table\">\n",
       "                  <table class=\"tskit-table\">\n",
       "                    <thead>\n",
       "                      <tr>\n",
       "                        <th style=\"line-height:21px;\">Table</th>\n",
       "                        <th>Rows</th>\n",
       "                        <th>Size</th>\n",
       "                        <th>Has Metadata</th>\n",
       "                      </tr>\n",
       "                    </thead>\n",
       "                    <tbody>\n",
       "                    \n",
       "                  <tr>\n",
       "                    <td>Edges</td>\n",
       "                      <td>25</td>\n",
       "                      <td>808 Bytes</td>\n",
       "                      <td style=\"text-align: center;\">\n",
       "                        \n",
       "                      </td>\n",
       "                    </tr>\n",
       "                \n",
       "                  <tr>\n",
       "                    <td>Individuals</td>\n",
       "                      <td>10</td>\n",
       "                      <td>2.8 KiB</td>\n",
       "                      <td style=\"text-align: center;\">\n",
       "                        ✅\n",
       "                      </td>\n",
       "                    </tr>\n",
       "                \n",
       "                  <tr>\n",
       "                    <td>Migrations</td>\n",
       "                      <td>0</td>\n",
       "                      <td>8 Bytes</td>\n",
       "                      <td style=\"text-align: center;\">\n",
       "                        \n",
       "                      </td>\n",
       "                    </tr>\n",
       "                \n",
       "                  <tr>\n",
       "                    <td>Mutations</td>\n",
       "                      <td>0</td>\n",
       "                      <td>1.2 KiB</td>\n",
       "                      <td style=\"text-align: center;\">\n",
       "                        \n",
       "                      </td>\n",
       "                    </tr>\n",
       "                \n",
       "                  <tr>\n",
       "                    <td>Nodes</td>\n",
       "                      <td>21</td>\n",
       "                      <td>1.5 KiB</td>\n",
       "                      <td style=\"text-align: center;\">\n",
       "                        ✅\n",
       "                      </td>\n",
       "                    </tr>\n",
       "                \n",
       "                  <tr>\n",
       "                    <td>Populations</td>\n",
       "                      <td>1</td>\n",
       "                      <td>2.4 KiB</td>\n",
       "                      <td style=\"text-align: center;\">\n",
       "                        ✅\n",
       "                      </td>\n",
       "                    </tr>\n",
       "                \n",
       "                  <tr>\n",
       "                    <td>Provenances</td>\n",
       "                      <td>3</td>\n",
       "                      <td>6.6 KiB</td>\n",
       "                      <td style=\"text-align: center;\">\n",
       "                        \n",
       "                      </td>\n",
       "                    </tr>\n",
       "                \n",
       "                  <tr>\n",
       "                    <td>Sites</td>\n",
       "                      <td>0</td>\n",
       "                      <td>16 Bytes</td>\n",
       "                      <td style=\"text-align: center;\">\n",
       "                        \n",
       "                      </td>\n",
       "                    </tr>\n",
       "                \n",
       "                    </tbody>\n",
       "                  </table>\n",
       "                </div>\n",
       "              </div>\n",
       "            </div>\n",
       "            "
      ],
      "text/plain": [
       "<tskit.trees.TreeSequence at 0x1368a14c0>"
      ]
     },
     "execution_count": 63,
     "metadata": {},
     "output_type": "execute_result"
    }
   ],
   "source": [
    "ssts = sts.keep_intervals(np.array([[0,1e5]]))\n",
    "ssts"
   ]
  },
  {
   "cell_type": "code",
   "execution_count": 64,
   "id": "9f165e45-cd4c-4b03-93d3-b6ffdb551bc6",
   "metadata": {},
   "outputs": [
    {
     "data": {
      "image/svg+xml": [
       "<svg baseProfile=\"full\" height=\"200\" version=\"1.1\" width=\"600\" xmlns=\"http://www.w3.org/2000/svg\" xmlns:ev=\"http://www.w3.org/2001/xml-events\" xmlns:xlink=\"http://www.w3.org/1999/xlink\"><defs><style type=\"text/css\"><![CDATA[.background path {fill: #808080; fill-opacity: 0}.background path:nth-child(odd) {fill-opacity: .1}.axes {font-size: 14px}.x-axis .tick .lab {font-weight: bold; dominant-baseline: hanging}.axes, .tree {font-size: 14px; text-anchor: middle}.axes line, .edge {stroke: black; fill: none}.y-axis .grid {stroke: #FAFAFA}.node > .sym {fill: black; stroke: none}.site > .sym {stroke: black}.mut text {fill: red; font-style: italic}.mut.extra text {fill: hotpink}.mut line {fill: none; stroke: none}.mut .sym {fill: none; stroke: red}.mut.extra .sym {stroke: hotpink}.node .mut .sym {stroke-width: 1.5px}.tree text, .tree-sequence text {dominant-baseline: central}.plotbox .lab.lft {text-anchor: end}.plotbox .lab.rgt {text-anchor: start}]]></style></defs><g class=\"tree-sequence\"><g class=\"background\"><path d=\"M20,0 l186.667,0 l0,138.2 l-100.141,25 l0,5 l-86.5256,0 l0,-5 l0,-25 l0,-138.2z\" /><path d=\"M206.667,0 l186.667,0 l0,138.2 l-262.756,25 l0,5 l-24.052,0 l0,-5 l100.141,-25 l0,-138.2z\" /><path d=\"M393.333,0 l186.667,0 l0,138.2 l0,25 l0,5 l-449.422,0 l0,-5 l262.756,-25 l0,-138.2z\" /></g><g class=\"axes\"><g class=\"x-axis\"><g transform=\"translate(300 200)\"><text class=\"lab\" text-anchor=\"middle\" transform=\"translate(0 -11)\">Genome position</text></g><line x1=\"20\" x2=\"580\" y1=\"163.2\" y2=\"163.2\" /><g class=\"ticks\"><g class=\"tick\" transform=\"translate(20 163.2)\"><line x1=\"0\" x2=\"0\" y1=\"0\" y2=\"5\" /><g transform=\"translate(0 6)\"><text class=\"lab\">0</text></g></g><g class=\"tick\" transform=\"translate(106.526 163.2)\"><line x1=\"0\" x2=\"0\" y1=\"0\" y2=\"5\" /><g transform=\"translate(0 6)\"><text class=\"lab\">15451</text></g></g><g class=\"tick\" transform=\"translate(130.578 163.2)\"><line x1=\"0\" x2=\"0\" y1=\"0\" y2=\"5\" /><g transform=\"translate(0 6)\"><text class=\"lab\">19746</text></g></g><g class=\"tick\" transform=\"translate(580 163.2)\"><line x1=\"0\" x2=\"0\" y1=\"0\" y2=\"5\" /><g transform=\"translate(0 6)\"><text class=\"lab\">100000</text></g></g></g></g></g><g class=\"plotbox trees\"><g class=\"tree t-1\" transform=\"translate(20 0)\"><g class=\"plotbox\"><g class=\"c2 node n20 p0 root\" transform=\"translate(119 26.8)\"><g class=\"a20 i5 leaf node n2 p0 sample\" transform=\"translate(40.3333 94.6)\"><path class=\"edge\" d=\"M 0 0 V -94.6 H -40.3333\" /><rect class=\"sym\" height=\"6\" width=\"6\" x=\"-3\" y=\"-3\" /><text class=\"lab\" transform=\"translate(0 11)\">2</text></g><g class=\"a20 c2 node n17 p0\" transform=\"translate(-40.3333 52.5187)\"><g class=\"a17 c2 node n12 p0\" transform=\"translate(-34.8333 40.4245)\"><g class=\"a12 i9 leaf node n0 p0 sample\" transform=\"translate(-16.5 1.65674)\"><path class=\"edge\" d=\"M 0 0 V -1.65674 H 16.5\" /><rect class=\"sym\" height=\"6\" width=\"6\" x=\"-3\" y=\"-3\" /><text class=\"lab\" transform=\"translate(0 11)\">0</text></g><g class=\"a12 c2 node n11 p0\" transform=\"translate(16.5 0.497023)\"><g class=\"a11 i0 leaf node n6 p0 sample\" transform=\"translate(11 1.15972)\"><path class=\"edge\" d=\"M 0 0 V -1.15972 H -11\" /><rect class=\"sym\" height=\"6\" width=\"6\" x=\"-3\" y=\"-3\" /><text class=\"lab\" transform=\"translate(0 11)\">6</text></g><g class=\"a11 c2 node n10 p0\" transform=\"translate(-11 0.331349)\"><g class=\"a10 i7 leaf node n1 p0 sample\" transform=\"translate(-7.33333 0.828371)\"><path class=\"edge\" d=\"M 0 0 V -0.828371 H 7.33333\" /><rect class=\"sym\" height=\"6\" width=\"6\" x=\"-3\" y=\"-3\" /><text class=\"lab\" transform=\"translate(0 11)\">1</text></g><g class=\"a10 i1 leaf node n7 p0 sample\" transform=\"translate(7.33333 0.828371)\"><path class=\"edge\" d=\"M 0 0 V -0.828371 H -7.33333\" /><rect class=\"sym\" height=\"6\" width=\"6\" x=\"-3\" y=\"-3\" /><text class=\"lab\" transform=\"translate(0 11)\">7</text></g><path class=\"edge\" d=\"M 0 0 V -0.331349 H 11\" /><circle class=\"sym\" cx=\"0\" cy=\"0\" r=\"3\" /><text class=\"lab lft\" transform=\"translate(-3 -7.0)\">10</text></g><path class=\"edge\" d=\"M 0 0 V -0.497023 H -16.5\" /><circle class=\"sym\" cx=\"0\" cy=\"0\" r=\"3\" /><text class=\"lab rgt\" transform=\"translate(3 -7.0)\">11</text></g><path class=\"edge\" d=\"M 0 0 V -40.4245 H 34.8333\" /><circle class=\"sym\" cx=\"0\" cy=\"0\" r=\"3\" /><text class=\"lab lft\" transform=\"translate(-3 -7.0)\">12</text></g><g class=\"a17 c2 node n16 p0\" transform=\"translate(34.8333 18.8869)\"><g class=\"a16 c2 node n13 p0\" transform=\"translate(-20.1667 20.3779)\"><g class=\"a13 i8 leaf node n3 p0 sample\" transform=\"translate(-7.33333 2.81646)\"><path class=\"edge\" d=\"M 0 0 V -2.81646 H 7.33333\" /><rect class=\"sym\" height=\"6\" width=\"6\" x=\"-3\" y=\"-3\" /><text class=\"lab\" transform=\"translate(0 11)\">3</text></g><g class=\"a13 i3 leaf node n9 p0 sample\" transform=\"translate(7.33333 2.81646)\"><path class=\"edge\" d=\"M 0 0 V -2.81646 H -7.33333\" /><rect class=\"sym\" height=\"6\" width=\"6\" x=\"-3\" y=\"-3\" /><text class=\"lab\" transform=\"translate(0 11)\">9</text></g><path class=\"edge\" d=\"M 0 0 V -20.3779 H 20.1667\" /><circle class=\"sym\" cx=\"0\" cy=\"0\" r=\"3\" /><text class=\"lab lft\" transform=\"translate(-3 -7.0)\">13</text></g><g class=\"a16 c2 node n15 p0\" transform=\"translate(20.1667 11.2658)\"><g class=\"a15 i4 leaf node n5 p0 sample\" transform=\"translate(11 11.9285)\"><path class=\"edge\" d=\"M 0 0 V -11.9285 H -11\" /><rect class=\"sym\" height=\"6\" width=\"6\" x=\"-3\" y=\"-3\" /><text class=\"lab\" transform=\"translate(0 11)\">5</text></g><g class=\"a15 c2 node n14 p0\" transform=\"translate(-11 0.828371)\"><g class=\"a14 i2 leaf node n4 p0 sample\" transform=\"translate(-7.33333 11.1002)\"><path class=\"edge\" d=\"M 0 0 V -11.1002 H 7.33333\" /><rect class=\"sym\" height=\"6\" width=\"6\" x=\"-3\" y=\"-3\" /><text class=\"lab\" transform=\"translate(0 11)\">4</text></g><g class=\"a14 i6 leaf node n8 p0 sample\" transform=\"translate(7.33333 11.1002)\"><path class=\"edge\" d=\"M 0 0 V -11.1002 H -7.33333\" /><rect class=\"sym\" height=\"6\" width=\"6\" x=\"-3\" y=\"-3\" /><text class=\"lab\" transform=\"translate(0 11)\">8</text></g><path class=\"edge\" d=\"M 0 0 V -0.828371 H 11\" /><circle class=\"sym\" cx=\"0\" cy=\"0\" r=\"3\" /><text class=\"lab lft\" transform=\"translate(-3 -7.0)\">14</text></g><path class=\"edge\" d=\"M 0 0 V -11.2658 H -20.1667\" /><circle class=\"sym\" cx=\"0\" cy=\"0\" r=\"3\" /><text class=\"lab rgt\" transform=\"translate(3 -7.0)\">15</text></g><path class=\"edge\" d=\"M 0 0 V -18.8869 H -34.8333\" /><circle class=\"sym\" cx=\"0\" cy=\"0\" r=\"3\" /><text class=\"lab rgt\" transform=\"translate(3 -7.0)\">16</text></g><path class=\"edge\" d=\"M 0 0 V -52.5187 H 40.3333\" /><circle class=\"sym\" cx=\"0\" cy=\"0\" r=\"3\" /><text class=\"lab lft\" transform=\"translate(-3 -7.0)\">17</text></g><circle class=\"sym\" cx=\"0\" cy=\"0\" r=\"3\" /><text class=\"lab\" transform=\"translate(0 -11)\">20</text></g></g></g><g class=\"tree t0\" transform=\"translate(206.667 0)\"><g class=\"plotbox\"><g class=\"c2 node n20 p0 root\" transform=\"translate(119 26.8)\"><g class=\"a20 i5 leaf node n2 p0 sample\" transform=\"translate(40.3333 94.6)\"><path class=\"edge\" d=\"M 0 0 V -94.6 H -40.3333\" /><rect class=\"sym\" height=\"6\" width=\"6\" x=\"-3\" y=\"-3\" /><text class=\"lab\" transform=\"translate(0 11)\">2</text></g><g class=\"a20 c2 node n19 p0\" transform=\"translate(-40.3333 36.9454)\"><g class=\"a19 c2 node n12 p0\" transform=\"translate(-34.8333 55.9979)\"><g class=\"a12 i9 leaf node n0 p0 sample\" transform=\"translate(-16.5 1.65674)\"><path class=\"edge\" d=\"M 0 0 V -1.65674 H 16.5\" /><rect class=\"sym\" height=\"6\" width=\"6\" x=\"-3\" y=\"-3\" /><text class=\"lab\" transform=\"translate(0 11)\">0</text></g><g class=\"a12 c2 node n11 p0\" transform=\"translate(16.5 0.497023)\"><g class=\"a11 i0 leaf node n6 p0 sample\" transform=\"translate(11 1.15972)\"><path class=\"edge\" d=\"M 0 0 V -1.15972 H -11\" /><rect class=\"sym\" height=\"6\" width=\"6\" x=\"-3\" y=\"-3\" /><text class=\"lab\" transform=\"translate(0 11)\">6</text></g><g class=\"a11 c2 node n10 p0\" transform=\"translate(-11 0.331349)\"><g class=\"a10 i7 leaf node n1 p0 sample\" transform=\"translate(-7.33333 0.828371)\"><path class=\"edge\" d=\"M 0 0 V -0.828371 H 7.33333\" /><rect class=\"sym\" height=\"6\" width=\"6\" x=\"-3\" y=\"-3\" /><text class=\"lab\" transform=\"translate(0 11)\">1</text></g><g class=\"a10 i1 leaf node n7 p0 sample\" transform=\"translate(7.33333 0.828371)\"><path class=\"edge\" d=\"M 0 0 V -0.828371 H -7.33333\" /><rect class=\"sym\" height=\"6\" width=\"6\" x=\"-3\" y=\"-3\" /><text class=\"lab\" transform=\"translate(0 11)\">7</text></g><path class=\"edge\" d=\"M 0 0 V -0.331349 H 11\" /><circle class=\"sym\" cx=\"0\" cy=\"0\" r=\"3\" /><text class=\"lab lft\" transform=\"translate(-3 -7.0)\">10</text></g><path class=\"edge\" d=\"M 0 0 V -0.497023 H -16.5\" /><circle class=\"sym\" cx=\"0\" cy=\"0\" r=\"3\" /><text class=\"lab rgt\" transform=\"translate(3 -7.0)\">11</text></g><path class=\"edge\" d=\"M 0 0 V -55.9979 H 34.8333\" /><circle class=\"sym\" cx=\"0\" cy=\"0\" r=\"3\" /><text class=\"lab lft\" transform=\"translate(-3 -7.0)\">12</text></g><g class=\"a19 c2 node n16 p0\" transform=\"translate(34.8333 34.4602)\"><g class=\"a16 c2 node n13 p0\" transform=\"translate(-20.1667 20.3779)\"><g class=\"a13 i8 leaf node n3 p0 sample\" transform=\"translate(-7.33333 2.81646)\"><path class=\"edge\" d=\"M 0 0 V -2.81646 H 7.33333\" /><rect class=\"sym\" height=\"6\" width=\"6\" x=\"-3\" y=\"-3\" /><text class=\"lab\" transform=\"translate(0 11)\">3</text></g><g class=\"a13 i3 leaf node n9 p0 sample\" transform=\"translate(7.33333 2.81646)\"><path class=\"edge\" d=\"M 0 0 V -2.81646 H -7.33333\" /><rect class=\"sym\" height=\"6\" width=\"6\" x=\"-3\" y=\"-3\" /><text class=\"lab\" transform=\"translate(0 11)\">9</text></g><path class=\"edge\" d=\"M 0 0 V -20.3779 H 20.1667\" /><circle class=\"sym\" cx=\"0\" cy=\"0\" r=\"3\" /><text class=\"lab lft\" transform=\"translate(-3 -7.0)\">13</text></g><g class=\"a16 c2 node n15 p0\" transform=\"translate(20.1667 11.2658)\"><g class=\"a15 i4 leaf node n5 p0 sample\" transform=\"translate(11 11.9285)\"><path class=\"edge\" d=\"M 0 0 V -11.9285 H -11\" /><rect class=\"sym\" height=\"6\" width=\"6\" x=\"-3\" y=\"-3\" /><text class=\"lab\" transform=\"translate(0 11)\">5</text></g><g class=\"a15 c2 node n14 p0\" transform=\"translate(-11 0.828371)\"><g class=\"a14 i2 leaf node n4 p0 sample\" transform=\"translate(-7.33333 11.1002)\"><path class=\"edge\" d=\"M 0 0 V -11.1002 H 7.33333\" /><rect class=\"sym\" height=\"6\" width=\"6\" x=\"-3\" y=\"-3\" /><text class=\"lab\" transform=\"translate(0 11)\">4</text></g><g class=\"a14 i6 leaf node n8 p0 sample\" transform=\"translate(7.33333 11.1002)\"><path class=\"edge\" d=\"M 0 0 V -11.1002 H -7.33333\" /><rect class=\"sym\" height=\"6\" width=\"6\" x=\"-3\" y=\"-3\" /><text class=\"lab\" transform=\"translate(0 11)\">8</text></g><path class=\"edge\" d=\"M 0 0 V -0.828371 H 11\" /><circle class=\"sym\" cx=\"0\" cy=\"0\" r=\"3\" /><text class=\"lab lft\" transform=\"translate(-3 -7.0)\">14</text></g><path class=\"edge\" d=\"M 0 0 V -11.2658 H -20.1667\" /><circle class=\"sym\" cx=\"0\" cy=\"0\" r=\"3\" /><text class=\"lab rgt\" transform=\"translate(3 -7.0)\">15</text></g><path class=\"edge\" d=\"M 0 0 V -34.4602 H -34.8333\" /><circle class=\"sym\" cx=\"0\" cy=\"0\" r=\"3\" /><text class=\"lab rgt\" transform=\"translate(3 -7.0)\">16</text></g><path class=\"edge\" d=\"M 0 0 V -36.9454 H 40.3333\" /><circle class=\"sym\" cx=\"0\" cy=\"0\" r=\"3\" /><text class=\"lab lft\" transform=\"translate(-3 -7.0)\">19</text></g><circle class=\"sym\" cx=\"0\" cy=\"0\" r=\"3\" /><text class=\"lab\" transform=\"translate(0 -11)\">20</text></g></g></g><g class=\"tree t1\" transform=\"translate(393.333 0)\"><g class=\"plotbox\"><g class=\"c2 node n20 p0 root\" transform=\"translate(132.521 26.8)\"><g class=\"a20 i5 leaf node n2 p0 sample\" transform=\"translate(26.8125 94.6)\"><path class=\"edge\" d=\"M 0 0 V -94.6 H -26.8125\" /><rect class=\"sym\" height=\"6\" width=\"6\" x=\"-3\" y=\"-3\" /><text class=\"lab\" transform=\"translate(0 11)\">2</text></g><g class=\"a20 c2 node n19 p0\" transform=\"translate(-26.8125 36.9454)\"><g class=\"a19 c2 node n13 p0\" transform=\"translate(31.625 54.8382)\"><g class=\"a13 i8 leaf node n3 p0 sample\" transform=\"translate(-7.33333 2.81646)\"><path class=\"edge\" d=\"M 0 0 V -2.81646 H 7.33333\" /><rect class=\"sym\" height=\"6\" width=\"6\" x=\"-3\" y=\"-3\" /><text class=\"lab\" transform=\"translate(0 11)\">3</text></g><g class=\"a13 i3 leaf node n9 p0 sample\" transform=\"translate(7.33333 2.81646)\"><path class=\"edge\" d=\"M 0 0 V -2.81646 H -7.33333\" /><rect class=\"sym\" height=\"6\" width=\"6\" x=\"-3\" y=\"-3\" /><text class=\"lab\" transform=\"translate(0 11)\">9</text></g><path class=\"edge\" d=\"M 0 0 V -54.8382 H -31.625\" /><circle class=\"sym\" cx=\"0\" cy=\"0\" r=\"3\" /><text class=\"lab rgt\" transform=\"translate(3 -7.0)\">13</text></g><g class=\"a19 c2 node n18 p0\" transform=\"translate(-31.625 11.1002)\"><g class=\"a18 c2 node n12 p0\" transform=\"translate(-30.25 44.8977)\"><g class=\"a12 i9 leaf node n0 p0 sample\" transform=\"translate(-16.5 1.65674)\"><path class=\"edge\" d=\"M 0 0 V -1.65674 H 16.5\" /><rect class=\"sym\" height=\"6\" width=\"6\" x=\"-3\" y=\"-3\" /><text class=\"lab\" transform=\"translate(0 11)\">0</text></g><g class=\"a12 c2 node n11 p0\" transform=\"translate(16.5 0.497023)\"><g class=\"a11 i0 leaf node n6 p0 sample\" transform=\"translate(11 1.15972)\"><path class=\"edge\" d=\"M 0 0 V -1.15972 H -11\" /><rect class=\"sym\" height=\"6\" width=\"6\" x=\"-3\" y=\"-3\" /><text class=\"lab\" transform=\"translate(0 11)\">6</text></g><g class=\"a11 c2 node n10 p0\" transform=\"translate(-11 0.331349)\"><g class=\"a10 i7 leaf node n1 p0 sample\" transform=\"translate(-7.33333 0.828371)\"><path class=\"edge\" d=\"M 0 0 V -0.828371 H 7.33333\" /><rect class=\"sym\" height=\"6\" width=\"6\" x=\"-3\" y=\"-3\" /><text class=\"lab\" transform=\"translate(0 11)\">1</text></g><g class=\"a10 i1 leaf node n7 p0 sample\" transform=\"translate(7.33333 0.828371)\"><path class=\"edge\" d=\"M 0 0 V -0.828371 H -7.33333\" /><rect class=\"sym\" height=\"6\" width=\"6\" x=\"-3\" y=\"-3\" /><text class=\"lab\" transform=\"translate(0 11)\">7</text></g><path class=\"edge\" d=\"M 0 0 V -0.331349 H 11\" /><circle class=\"sym\" cx=\"0\" cy=\"0\" r=\"3\" /><text class=\"lab lft\" transform=\"translate(-3 -7.0)\">10</text></g><path class=\"edge\" d=\"M 0 0 V -0.497023 H -16.5\" /><circle class=\"sym\" cx=\"0\" cy=\"0\" r=\"3\" /><text class=\"lab rgt\" transform=\"translate(3 -7.0)\">11</text></g><path class=\"edge\" d=\"M 0 0 V -44.8977 H 30.25\" /><circle class=\"sym\" cx=\"0\" cy=\"0\" r=\"3\" /><text class=\"lab lft\" transform=\"translate(-3 -7.0)\">12</text></g><g class=\"a18 c2 node n15 p0\" transform=\"translate(30.25 34.6259)\"><g class=\"a15 i4 leaf node n5 p0 sample\" transform=\"translate(11 11.9285)\"><path class=\"edge\" d=\"M 0 0 V -11.9285 H -11\" /><rect class=\"sym\" height=\"6\" width=\"6\" x=\"-3\" y=\"-3\" /><text class=\"lab\" transform=\"translate(0 11)\">5</text></g><g class=\"a15 c2 node n14 p0\" transform=\"translate(-11 0.828371)\"><g class=\"a14 i2 leaf node n4 p0 sample\" transform=\"translate(-7.33333 11.1002)\"><path class=\"edge\" d=\"M 0 0 V -11.1002 H 7.33333\" /><rect class=\"sym\" height=\"6\" width=\"6\" x=\"-3\" y=\"-3\" /><text class=\"lab\" transform=\"translate(0 11)\">4</text></g><g class=\"a14 i6 leaf node n8 p0 sample\" transform=\"translate(7.33333 11.1002)\"><path class=\"edge\" d=\"M 0 0 V -11.1002 H -7.33333\" /><rect class=\"sym\" height=\"6\" width=\"6\" x=\"-3\" y=\"-3\" /><text class=\"lab\" transform=\"translate(0 11)\">8</text></g><path class=\"edge\" d=\"M 0 0 V -0.828371 H 11\" /><circle class=\"sym\" cx=\"0\" cy=\"0\" r=\"3\" /><text class=\"lab lft\" transform=\"translate(-3 -7.0)\">14</text></g><path class=\"edge\" d=\"M 0 0 V -34.6259 H -30.25\" /><circle class=\"sym\" cx=\"0\" cy=\"0\" r=\"3\" /><text class=\"lab rgt\" transform=\"translate(3 -7.0)\">15</text></g><path class=\"edge\" d=\"M 0 0 V -11.1002 H 31.625\" /><circle class=\"sym\" cx=\"0\" cy=\"0\" r=\"3\" /><text class=\"lab lft\" transform=\"translate(-3 -7.0)\">18</text></g><path class=\"edge\" d=\"M 0 0 V -36.9454 H 26.8125\" /><circle class=\"sym\" cx=\"0\" cy=\"0\" r=\"3\" /><text class=\"lab lft\" transform=\"translate(-3 -7.0)\">19</text></g><circle class=\"sym\" cx=\"0\" cy=\"0\" r=\"3\" /><text class=\"lab\" transform=\"translate(0 -11)\">20</text></g></g></g></g></g></svg>"
      ],
      "text/plain": [
       "'<svg baseProfile=\"full\" height=\"200\" version=\"1.1\" width=\"600\" xmlns=\"http://www.w3.org/2000/svg\" xmlns:ev=\"http://www.w3.org/2001/xml-events\" xmlns:xlink=\"http://www.w3.org/1999/xlink\"><defs><style type=\"text/css\"><![CDATA[.background path {fill: #808080; fill-opacity: 0}.background path:nth-child(odd) {fill-opacity: .1}.axes {font-size: 14px}.x-axis .tick .lab {font-weight: bold; dominant-baseline: hanging}.axes, .tree {font-size: 14px; text-anchor: middle}.axes line, .edge {stroke: black; fill: none}.y-axis .grid {stroke: #FAFAFA}.node > .sym {fill: black; stroke: none}.site > .sym {stroke: black}.mut text {fill: red; font-style: italic}.mut.extra text {fill: hotpink}.mut line {fill: none; stroke: none}.mut .sym {fill: none; stroke: red}.mut.extra .sym {stroke: hotpink}.node .mut .sym {stroke-width: 1.5px}.tree text, .tree-sequence text {dominant-baseline: central}.plotbox .lab.lft {text-anchor: end}.plotbox .lab.rgt {text-anchor: start}]]></style></defs><g class=\"tree-sequence\"><g class=\"background\"><path d=\"M20,0 l186.667,0 l0,138.2 l-100.141,25 l0,5 l-86.5256,0 l0,-5 l0,-25 l0,-138.2z\" /><path d=\"M206.667,0 l186.667,0 l0,138.2 l-262.756,25 l0,5 l-24.052,0 l0,-5 l100.141,-25 l0,-138.2z\" /><path d=\"M393.333,0 l186.667,0 l0,138.2 l0,25 l0,5 l-449.422,0 l0,-5 l262.756,-25 l0,-138.2z\" /></g><g class=\"axes\"><g class=\"x-axis\"><g transform=\"translate(300 200)\"><text class=\"lab\" text-anchor=\"middle\" transform=\"translate(0 -11)\">Genome position</text></g><line x1=\"20\" x2=\"580\" y1=\"163.2\" y2=\"163.2\" /><g class=\"ticks\"><g class=\"tick\" transform=\"translate(20 163.2)\"><line x1=\"0\" x2=\"0\" y1=\"0\" y2=\"5\" /><g transform=\"translate(0 6)\"><text class=\"lab\">0</text></g></g><g class=\"tick\" transform=\"translate(106.526 163.2)\"><line x1=\"0\" x2=\"0\" y1=\"0\" y2=\"5\" /><g transform=\"translate(0 6)\"><text class=\"lab\">15451</text></g></g><g class=\"tick\" transform=\"translate(130.578 163.2)\"><line x1=\"0\" x2=\"0\" y1=\"0\" y2=\"5\" /><g transform=\"translate(0 6)\"><text class=\"lab\">19746</text></g></g><g class=\"tick\" transform=\"translate(580 163.2)\"><line x1=\"0\" x2=\"0\" y1=\"0\" y2=\"5\" /><g transform=\"translate(0 6)\"><text class=\"lab\">100000</text></g></g></g></g></g><g class=\"plotbox trees\"><g class=\"tree t-1\" transform=\"translate(20 0)\"><g class=\"plotbox\"><g class=\"c2 node n20 p0 root\" transform=\"translate(119 26.8)\"><g class=\"a20 i5 leaf node n2 p0 sample\" transform=\"translate(40.3333 94.6)\"><path class=\"edge\" d=\"M 0 0 V -94.6 H -40.3333\" /><rect class=\"sym\" height=\"6\" width=\"6\" x=\"-3\" y=\"-3\" /><text class=\"lab\" transform=\"translate(0 11)\">2</text></g><g class=\"a20 c2 node n17 p0\" transform=\"translate(-40.3333 52.5187)\"><g class=\"a17 c2 node n12 p0\" transform=\"translate(-34.8333 40.4245)\"><g class=\"a12 i9 leaf node n0 p0 sample\" transform=\"translate(-16.5 1.65674)\"><path class=\"edge\" d=\"M 0 0 V -1.65674 H 16.5\" /><rect class=\"sym\" height=\"6\" width=\"6\" x=\"-3\" y=\"-3\" /><text class=\"lab\" transform=\"translate(0 11)\">0</text></g><g class=\"a12 c2 node n11 p0\" transform=\"translate(16.5 0.497023)\"><g class=\"a11 i0 leaf node n6 p0 sample\" transform=\"translate(11 1.15972)\"><path class=\"edge\" d=\"M 0 0 V -1.15972 H -11\" /><rect class=\"sym\" height=\"6\" width=\"6\" x=\"-3\" y=\"-3\" /><text class=\"lab\" transform=\"translate(0 11)\">6</text></g><g class=\"a11 c2 node n10 p0\" transform=\"translate(-11 0.331349)\"><g class=\"a10 i7 leaf node n1 p0 sample\" transform=\"translate(-7.33333 0.828371)\"><path class=\"edge\" d=\"M 0 0 V -0.828371 H 7.33333\" /><rect class=\"sym\" height=\"6\" width=\"6\" x=\"-3\" y=\"-3\" /><text class=\"lab\" transform=\"translate(0 11)\">1</text></g><g class=\"a10 i1 leaf node n7 p0 sample\" transform=\"translate(7.33333 0.828371)\"><path class=\"edge\" d=\"M 0 0 V -0.828371 H -7.33333\" /><rect class=\"sym\" height=\"6\" width=\"6\" x=\"-3\" y=\"-3\" /><text class=\"lab\" transform=\"translate(0 11)\">7</text></g><path class=\"edge\" d=\"M 0 0 V -0.331349 H 11\" /><circle class=\"sym\" cx=\"0\" cy=\"0\" r=\"3\" /><text class=\"lab lft\" transform=\"translate(-3 -7.0)\">10</text></g><path class=\"edge\" d=\"M 0 0 V -0.497023 H -16.5\" /><circle class=\"sym\" cx=\"0\" cy=\"0\" r=\"3\" /><text class=\"lab rgt\" transform=\"translate(3 -7.0)\">11</text></g><path class=\"edge\" d=\"M 0 0 V -40.4245 H 34.8333\" /><circle class=\"sym\" cx=\"0\" cy=\"0\" r=\"3\" /><text class=\"lab lft\" transform=\"translate(-3 -7.0)\">12</text></g><g class=\"a17 c2 node n16 p0\" transform=\"translate(34.8333 18.8869)\"><g class=\"a16 c2 node n13 p0\" transform=\"translate(-20.1667 20.3779)\"><g class=\"a13 i8 leaf node n3 p0 sample\" transform=\"translate(-7.33333 2.81646)\"><path class=\"edge\" d=\"M 0 0 V -2.81646 H 7.33333\" /><rect class=\"sym\" height=\"6\" width=\"6\" x=\"-3\" y=\"-3\" /><text class=\"lab\" transform=\"translate(0 11)\">3</text></g><g class=\"a13 i3 leaf node n9 p0 sample\" transform=\"translate(7.33333 2.81646)\"><path class=\"edge\" d=\"M 0 0 V -2.81646 H -7.33333\" /><rect class=\"sym\" height=\"6\" width=\"6\" x=\"-3\" y=\"-3\" /><text class=\"lab\" transform=\"translate(0 11)\">9</text></g><path class=\"edge\" d=\"M 0 0 V -20.3779 H 20.1667\" /><circle class=\"sym\" cx=\"0\" cy=\"0\" r=\"3\" /><text class=\"lab lft\" transform=\"translate(-3 -7.0)\">13</text></g><g class=\"a16 c2 node n15 p0\" transform=\"translate(20.1667 11.2658)\"><g class=\"a15 i4 leaf node n5 p0 sample\" transform=\"translate(11 11.9285)\"><path class=\"edge\" d=\"M 0 0 V -11.9285 H -11\" /><rect class=\"sym\" height=\"6\" width=\"6\" x=\"-3\" y=\"-3\" /><text class=\"lab\" transform=\"translate(0 11)\">5</text></g><g class=\"a15 c2 node n14 p0\" transform=\"translate(-11 0.828371)\"><g class=\"a14 i2 leaf node n4 p0 sample\" transform=\"translate(-7.33333 11.1002)\"><path class=\"edge\" d=\"M 0 0 V -11.1002 H 7.33333\" /><rect class=\"sym\" height=\"6\" width=\"6\" x=\"-3\" y=\"-3\" /><text class=\"lab\" transform=\"translate(0 11)\">4</text></g><g class=\"a14 i6 leaf node n8 p0 sample\" transform=\"translate(7.33333 11.1002)\"><path class=\"edge\" d=\"M 0 0 V -11.1002 H -7.33333\" /><rect class=\"sym\" height=\"6\" width=\"6\" x=\"-3\" y=\"-3\" /><text class=\"lab\" transform=\"translate(0 11)\">8</text></g><path class=\"edge\" d=\"M 0 0 V -0.828371 H 11\" /><circle class=\"sym\" cx=\"0\" cy=\"0\" r=\"3\" /><text class=\"lab lft\" transform=\"translate(-3 -7.0)\">14</text></g><path class=\"edge\" d=\"M 0 0 V -11.2658 H -20.1667\" /><circle class=\"sym\" cx=\"0\" cy=\"0\" r=\"3\" /><text class=\"lab rgt\" transform=\"translate(3 -7.0)\">15</text></g><path class=\"edge\" d=\"M 0 0 V -18.8869 H -34.8333\" /><circle class=\"sym\" cx=\"0\" cy=\"0\" r=\"3\" /><text class=\"lab rgt\" transform=\"translate(3 -7.0)\">16</text></g><path class=\"edge\" d=\"M 0 0 V -52.5187 H 40.3333\" /><circle class=\"sym\" cx=\"0\" cy=\"0\" r=\"3\" /><text class=\"lab lft\" transform=\"translate(-3 -7.0)\">17</text></g><circle class=\"sym\" cx=\"0\" cy=\"0\" r=\"3\" /><text class=\"lab\" transform=\"translate(0 -11)\">20</text></g></g></g><g class=\"tree t0\" transform=\"translate(206.667 0)\"><g class=\"plotbox\"><g class=\"c2 node n20 p0 root\" transform=\"translate(119 26.8)\"><g class=\"a20 i5 leaf node n2 p0 sample\" transform=\"translate(40.3333 94.6)\"><path class=\"edge\" d=\"M 0 0 V -94.6 H -40.3333\" /><rect class=\"sym\" height=\"6\" width=\"6\" x=\"-3\" y=\"-3\" /><text class=\"lab\" transform=\"translate(0 11)\">2</text></g><g class=\"a20 c2 node n19 p0\" transform=\"translate(-40.3333 36.9454)\"><g class=\"a19 c2 node n12 p0\" transform=\"translate(-34.8333 55.9979)\"><g class=\"a12 i9 leaf node n0 p0 sample\" transform=\"translate(-16.5 1.65674)\"><path class=\"edge\" d=\"M 0 0 V -1.65674 H 16.5\" /><rect class=\"sym\" height=\"6\" width=\"6\" x=\"-3\" y=\"-3\" /><text class=\"lab\" transform=\"translate(0 11)\">0</text></g><g class=\"a12 c2 node n11 p0\" transform=\"translate(16.5 0.497023)\"><g class=\"a11 i0 leaf node n6 p0 sample\" transform=\"translate(11 1.15972)\"><path class=\"edge\" d=\"M 0 0 V -1.15972 H -11\" /><rect class=\"sym\" height=\"6\" width=\"6\" x=\"-3\" y=\"-3\" /><text class=\"lab\" transform=\"translate(0 11)\">6</text></g><g class=\"a11 c2 node n10 p0\" transform=\"translate(-11 0.331349)\"><g class=\"a10 i7 leaf node n1 p0 sample\" transform=\"translate(-7.33333 0.828371)\"><path class=\"edge\" d=\"M 0 0 V -0.828371 H 7.33333\" /><rect class=\"sym\" height=\"6\" width=\"6\" x=\"-3\" y=\"-3\" /><text class=\"lab\" transform=\"translate(0 11)\">1</text></g><g class=\"a10 i1 leaf node n7 p0 sample\" transform=\"translate(7.33333 0.828371)\"><path class=\"edge\" d=\"M 0 0 V -0.828371 H -7.33333\" /><rect class=\"sym\" height=\"6\" width=\"6\" x=\"-3\" y=\"-3\" /><text class=\"lab\" transform=\"translate(0 11)\">7</text></g><path class=\"edge\" d=\"M 0 0 V -0.331349 H 11\" /><circle class=\"sym\" cx=\"0\" cy=\"0\" r=\"3\" /><text class=\"lab lft\" transform=\"translate(-3 -7.0)\">10</text></g><path class=\"edge\" d=\"M 0 0 V -0.497023 H -16.5\" /><circle class=\"sym\" cx=\"0\" cy=\"0\" r=\"3\" /><text class=\"lab rgt\" transform=\"translate(3 -7.0)\">11</text></g><path class=\"edge\" d=\"M 0 0 V -55.9979 H 34.8333\" /><circle class=\"sym\" cx=\"0\" cy=\"0\" r=\"3\" /><text class=\"lab lft\" transform=\"translate(-3 -7.0)\">12</text></g><g class=\"a19 c2 node n16 p0\" transform=\"translate(34.8333 34.4602)\"><g class=\"a16 c2 node n13 p0\" transform=\"translate(-20.1667 20.3779)\"><g class=\"a13 i8 leaf node n3 p0 sample\" transform=\"translate(-7.33333 2.81646)\"><path class=\"edge\" d=\"M 0 0 V -2.81646 H 7.33333\" /><rect class=\"sym\" height=\"6\" width=\"6\" x=\"-3\" y=\"-3\" /><text class=\"lab\" transform=\"translate(0 11)\">3</text></g><g class=\"a13 i3 leaf node n9 p0 sample\" transform=\"translate(7.33333 2.81646)\"><path class=\"edge\" d=\"M 0 0 V -2.81646 H -7.33333\" /><rect class=\"sym\" height=\"6\" width=\"6\" x=\"-3\" y=\"-3\" /><text class=\"lab\" transform=\"translate(0 11)\">9</text></g><path class=\"edge\" d=\"M 0 0 V -20.3779 H 20.1667\" /><circle class=\"sym\" cx=\"0\" cy=\"0\" r=\"3\" /><text class=\"lab lft\" transform=\"translate(-3 -7.0)\">13</text></g><g class=\"a16 c2 node n15 p0\" transform=\"translate(20.1667 11.2658)\"><g class=\"a15 i4 leaf node n5 p0 sample\" transform=\"translate(11 11.9285)\"><path class=\"edge\" d=\"M 0 0 V -11.9285 H -11\" /><rect class=\"sym\" height=\"6\" width=\"6\" x=\"-3\" y=\"-3\" /><text class=\"lab\" transform=\"translate(0 11)\">5</text></g><g class=\"a15 c2 node n14 p0\" transform=\"translate(-11 0.828371)\"><g class=\"a14 i2 leaf node n4 p0 sample\" transform=\"translate(-7.33333 11.1002)\"><path class=\"edge\" d=\"M 0 0 V -11.1002 H 7.33333\" /><rect class=\"sym\" height=\"6\" width=\"6\" x=\"-3\" y=\"-3\" /><text class=\"lab\" transform=\"translate(0 11)\">4</text></g><g class=\"a14 i6 leaf node n8 p0 sample\" transform=\"translate(7.33333 11.1002)\"><path class=\"edge\" d=\"M 0 0 V -11.1002 H -7.33333\" /><rect class=\"sym\" height=\"6\" width=\"6\" x=\"-3\" y=\"-3\" /><text class=\"lab\" transform=\"translate(0 11)\">8</text></g><path class=\"edge\" d=\"M 0 0 V -0.828371 H 11\" /><circle class=\"sym\" cx=\"0\" cy=\"0\" r=\"3\" /><text class=\"lab lft\" transform=\"translate(-3 -7.0)\">14</text></g><path class=\"edge\" d=\"M 0 0 V -11.2658 H -20.1667\" /><circle class=\"sym\" cx=\"0\" cy=\"0\" r=\"3\" /><text class=\"lab rgt\" transform=\"translate(3 -7.0)\">15</text></g><path class=\"edge\" d=\"M 0 0 V -34.4602 H -34.8333\" /><circle class=\"sym\" cx=\"0\" cy=\"0\" r=\"3\" /><text class=\"lab rgt\" transform=\"translate(3 -7.0)\">16</text></g><path class=\"edge\" d=\"M 0 0 V -36.9454 H 40.3333\" /><circle class=\"sym\" cx=\"0\" cy=\"0\" r=\"3\" /><text class=\"lab lft\" transform=\"translate(-3 -7.0)\">19</text></g><circle class=\"sym\" cx=\"0\" cy=\"0\" r=\"3\" /><text class=\"lab\" transform=\"translate(0 -11)\">20</text></g></g></g><g class=\"tree t1\" transform=\"translate(393.333 0)\"><g class=\"plotbox\"><g class=\"c2 node n20 p0 root\" transform=\"translate(132.521 26.8)\"><g class=\"a20 i5 leaf node n2 p0 sample\" transform=\"translate(26.8125 94.6)\"><path class=\"edge\" d=\"M 0 0 V -94.6 H -26.8125\" /><rect class=\"sym\" height=\"6\" width=\"6\" x=\"-3\" y=\"-3\" /><text class=\"lab\" transform=\"translate(0 11)\">2</text></g><g class=\"a20 c2 node n19 p0\" transform=\"translate(-26.8125 36.9454)\"><g class=\"a19 c2 node n13 p0\" transform=\"translate(31.625 54.8382)\"><g class=\"a13 i8 leaf node n3 p0 sample\" transform=\"translate(-7.33333 2.81646)\"><path class=\"edge\" d=\"M 0 0 V -2.81646 H 7.33333\" /><rect class=\"sym\" height=\"6\" width=\"6\" x=\"-3\" y=\"-3\" /><text class=\"lab\" transform=\"translate(0 11)\">3</text></g><g class=\"a13 i3 leaf node n9 p0 sample\" transform=\"translate(7.33333 2.81646)\"><path class=\"edge\" d=\"M 0 0 V -2.81646 H -7.33333\" /><rect class=\"sym\" height=\"6\" width=\"6\" x=\"-3\" y=\"-3\" /><text class=\"lab\" transform=\"translate(0 11)\">9</text></g><path class=\"edge\" d=\"M 0 0 V -54.8382 H -31.625\" /><circle class=\"sym\" cx=\"0\" cy=\"0\" r=\"3\" /><text class=\"lab rgt\" transform=\"translate(3 -7.0)\">13</text></g><g class=\"a19 c2 node n18 p0\" transform=\"translate(-31.625 11.1002)\"><g class=\"a18 c2 node n12 p0\" transform=\"translate(-30.25 44.8977)\"><g class=\"a12 i9 leaf node n0 p0 sample\" transform=\"translate(-16.5 1.65674)\"><path class=\"edge\" d=\"M 0 0 V -1.65674 H 16.5\" /><rect class=\"sym\" height=\"6\" width=\"6\" x=\"-3\" y=\"-3\" /><text class=\"lab\" transform=\"translate(0 11)\">0</text></g><g class=\"a12 c2 node n11 p0\" transform=\"translate(16.5 0.497023)\"><g class=\"a11 i0 leaf node n6 p0 sample\" transform=\"translate(11 1.15972)\"><path class=\"edge\" d=\"M 0 0 V -1.15972 H -11\" /><rect class=\"sym\" height=\"6\" width=\"6\" x=\"-3\" y=\"-3\" /><text class=\"lab\" transform=\"translate(0 11)\">6</text></g><g class=\"a11 c2 node n10 p0\" transform=\"translate(-11 0.331349)\"><g class=\"a10 i7 leaf node n1 p0 sample\" transform=\"translate(-7.33333 0.828371)\"><path class=\"edge\" d=\"M 0 0 V -0.828371 H 7.33333\" /><rect class=\"sym\" height=\"6\" width=\"6\" x=\"-3\" y=\"-3\" /><text class=\"lab\" transform=\"translate(0 11)\">1</text></g><g class=\"a10 i1 leaf node n7 p0 sample\" transform=\"translate(7.33333 0.828371)\"><path class=\"edge\" d=\"M 0 0 V -0.828371 H -7.33333\" /><rect class=\"sym\" height=\"6\" width=\"6\" x=\"-3\" y=\"-3\" /><text class=\"lab\" transform=\"translate(0 11)\">7</text></g><path class=\"edge\" d=\"M 0 0 V -0.331349 H 11\" /><circle class=\"sym\" cx=\"0\" cy=\"0\" r=\"3\" /><text class=\"lab lft\" transform=\"translate(-3 -7.0)\">10</text></g><path class=\"edge\" d=\"M 0 0 V -0.497023 H -16.5\" /><circle class=\"sym\" cx=\"0\" cy=\"0\" r=\"3\" /><text class=\"lab rgt\" transform=\"translate(3 -7.0)\">11</text></g><path class=\"edge\" d=\"M 0 0 V -44.8977 H 30.25\" /><circle class=\"sym\" cx=\"0\" cy=\"0\" r=\"3\" /><text class=\"lab lft\" transform=\"translate(-3 -7.0)\">12</text></g><g class=\"a18 c2 node n15 p0\" transform=\"translate(30.25 34.6259)\"><g class=\"a15 i4 leaf node n5 p0 sample\" transform=\"translate(11 11.9285)\"><path class=\"edge\" d=\"M 0 0 V -11.9285 H -11\" /><rect class=\"sym\" height=\"6\" width=\"6\" x=\"-3\" y=\"-3\" /><text class=\"lab\" transform=\"translate(0 11)\">5</text></g><g class=\"a15 c2 node n14 p0\" transform=\"translate(-11 0.828371)\"><g class=\"a14 i2 leaf node n4 p0 sample\" transform=\"translate(-7.33333 11.1002)\"><path class=\"edge\" d=\"M 0 0 V -11.1002 H 7.33333\" /><rect class=\"sym\" height=\"6\" width=\"6\" x=\"-3\" y=\"-3\" /><text class=\"lab\" transform=\"translate(0 11)\">4</text></g><g class=\"a14 i6 leaf node n8 p0 sample\" transform=\"translate(7.33333 11.1002)\"><path class=\"edge\" d=\"M 0 0 V -11.1002 H -7.33333\" /><rect class=\"sym\" height=\"6\" width=\"6\" x=\"-3\" y=\"-3\" /><text class=\"lab\" transform=\"translate(0 11)\">8</text></g><path class=\"edge\" d=\"M 0 0 V -0.828371 H 11\" /><circle class=\"sym\" cx=\"0\" cy=\"0\" r=\"3\" /><text class=\"lab lft\" transform=\"translate(-3 -7.0)\">14</text></g><path class=\"edge\" d=\"M 0 0 V -34.6259 H -30.25\" /><circle class=\"sym\" cx=\"0\" cy=\"0\" r=\"3\" /><text class=\"lab rgt\" transform=\"translate(3 -7.0)\">15</text></g><path class=\"edge\" d=\"M 0 0 V -11.1002 H 31.625\" /><circle class=\"sym\" cx=\"0\" cy=\"0\" r=\"3\" /><text class=\"lab lft\" transform=\"translate(-3 -7.0)\">18</text></g><path class=\"edge\" d=\"M 0 0 V -36.9454 H 26.8125\" /><circle class=\"sym\" cx=\"0\" cy=\"0\" r=\"3\" /><text class=\"lab lft\" transform=\"translate(-3 -7.0)\">19</text></g><circle class=\"sym\" cx=\"0\" cy=\"0\" r=\"3\" /><text class=\"lab\" transform=\"translate(0 -11)\">20</text></g></g></g></g></g></svg>'"
      ]
     },
     "execution_count": 64,
     "metadata": {},
     "output_type": "execute_result"
    }
   ],
   "source": [
    "ssts.draw_svg()"
   ]
  },
  {
   "cell_type": "markdown",
   "id": "246d6c8a-8d5e-4633-9042-ec2f99dbd6ab",
   "metadata": {},
   "source": [
    "Use functions from https://github.com/tskit-dev/what-is-an-arg-paper to draw the ARG from this simplified treesequence (like their fig 4)"
   ]
  },
  {
   "cell_type": "code",
   "execution_count": 65,
   "id": "48f6ee93-d32f-40f8-a89d-f242631aaa71",
   "metadata": {},
   "outputs": [
    {
     "data": {
      "image/png": "[encoded data removed]",
      "text/plain": [
       "<Figure size 500x500 with 1 Axes>"
      ]
     },
     "metadata": {},
     "output_type": "display_data"
    }
   ],
   "source": [
    "fig, (ax1) = plt.subplots(1, 1, figsize=(5, 5))\n",
    "pos, G = argutils.viz.draw(\n",
    "    ssts,\n",
    "    ax1,\n",
    "    draw_edge_widths=True,\n",
    "    use_ranked_times=False,\n",
    "    node_arity_colors=True,\n",
    ")"
   ]
  },
  {
   "cell_type": "markdown",
   "id": "73cc5ef5-2477-453f-9571-a15f0e1a4a93",
   "metadata": {},
   "source": [
    "This is very nice -- it shows that the SLiM treesequence does indeed contain all the info we need (i.e., it can record the ARG)."
   ]
  },
  {
   "cell_type": "markdown",
   "id": "639af1bc-fd5d-4d04-8902-72008eb4680d",
   "metadata": {},
   "source": [
    "Get locations of the sample nodes"
   ]
  },
  {
   "cell_type": "code",
   "execution_count": 66,
   "id": "caae04bb-87b3-4b65-a096-8a4d89f9374f",
   "metadata": {},
   "outputs": [
    {
     "data": {
      "image/png": "[encoded data removed]",
      "text/plain": [
       "<Figure size 640x480 with 1 Axes>"
      ]
     },
     "metadata": {},
     "output_type": "display_data"
    }
   ],
   "source": [
    "sample_locs = np.array([pyslim.individual_locations(ssts)[ssts.node(i).individual] for i in ssts.samples()])\n",
    "\n",
    "plt.scatter(sample_locs[:,0], sample_locs[:,1])\n",
    "for i,(x,y) in enumerate(zip(sample_locs[:,0], sample_locs[:,1])):\n",
    "    plt.text(x, y, str(i), color=\"red\", fontsize=12)\n",
    "plt.show()"
   ]
  },
  {
   "cell_type": "markdown",
   "id": "1007b7b5-406c-4a45-9a37-ccac115416cf",
   "metadata": {},
   "source": [
    "Now, how do we work with this ARG? ie, to build the covariance matrix?"
   ]
  },
  {
   "cell_type": "markdown",
   "id": "a6de2d66-48ff-404f-99b3-fc6ee97aacb0",
   "metadata": {},
   "source": [
    "Do we work with the networkx graph?"
   ]
  },
  {
   "cell_type": "code",
   "execution_count": 39,
   "id": "0319f41b-1e9f-4486-9320-edf678590daf",
   "metadata": {},
   "outputs": [
    {
     "data": {
      "text/plain": [
       "<networkx.classes.digraph.DiGraph at 0x1378b3d30>"
      ]
     },
     "execution_count": 39,
     "metadata": {},
     "output_type": "execute_result"
    }
   ],
   "source": [
    "G"
   ]
  },
  {
   "cell_type": "markdown",
   "id": "2d2684a4-1233-4bd1-aa14-b957e42d7ab8",
   "metadata": {},
   "source": [
    "Or with the tskit treesequence?"
   ]
  },
  {
   "cell_type": "markdown",
   "id": "ed760a96-b4f2-43bb-9f31-1781597d1cf5",
   "metadata": {},
   "source": [
    "Note, as described in the what-is-an-arg paper, the info about recombination is within the edges, not nodes."
   ]
  },
  {
   "cell_type": "code",
   "execution_count": 26,
   "id": "cc85bdcd-ddf9-4cfb-a0f8-e7c4bb6c87f5",
   "metadata": {},
   "outputs": [
    {
     "data": {
      "text/plain": [
       "[Edge(left=0.0, right=100000.0, parent=10, child=4, metadata=b'', id=0),\n",
       " Edge(left=0.0, right=100000.0, parent=10, child=9, metadata=b'', id=1),\n",
       " Edge(left=0.0, right=100000.0, parent=11, child=2, metadata=b'', id=2),\n",
       " Edge(left=0.0, right=100000.0, parent=11, child=3, metadata=b'', id=3),\n",
       " Edge(left=0.0, right=100000.0, parent=12, child=7, metadata=b'', id=4),\n",
       " Edge(left=0.0, right=100000.0, parent=12, child=10, metadata=b'', id=5),\n",
       " Edge(left=0.0, right=100000.0, parent=13, child=5, metadata=b'', id=6),\n",
       " Edge(left=0.0, right=100000.0, parent=13, child=8, metadata=b'', id=7),\n",
       " Edge(left=0.0, right=100000.0, parent=14, child=0, metadata=b'', id=8),\n",
       " Edge(left=0.0, right=100000.0, parent=14, child=6, metadata=b'', id=9),\n",
       " Edge(left=0.0, right=100000.0, parent=15, child=12, metadata=b'', id=10),\n",
       " Edge(left=0.0, right=100000.0, parent=15, child=13, metadata=b'', id=11),\n",
       " Edge(left=0.0, right=100000.0, parent=16, child=1, metadata=b'', id=12),\n",
       " Edge(left=0.0, right=100000.0, parent=16, child=15, metadata=b'', id=13),\n",
       " Edge(left=0.0, right=19746.0, parent=17, child=14, metadata=b'', id=14),\n",
       " Edge(left=0.0, right=19746.0, parent=17, child=16, metadata=b'', id=15),\n",
       " Edge(left=0.0, right=15451.0, parent=18, child=11, metadata=b'', id=16),\n",
       " Edge(left=0.0, right=15451.0, parent=18, child=17, metadata=b'', id=17),\n",
       " Edge(left=19746.0, right=100000.0, parent=19, child=11, metadata=b'', id=18),\n",
       " Edge(left=19746.0, right=100000.0, parent=19, child=16, metadata=b'', id=19),\n",
       " Edge(left=15451.0, right=19746.0, parent=20, child=11, metadata=b'', id=20),\n",
       " Edge(left=19746.0, right=100000.0, parent=20, child=14, metadata=b'', id=21),\n",
       " Edge(left=15451.0, right=19746.0, parent=20, child=17, metadata=b'', id=22),\n",
       " Edge(left=19746.0, right=100000.0, parent=20, child=19, metadata=b'', id=23)]"
      ]
     },
     "execution_count": 26,
     "metadata": {},
     "output_type": "execute_result"
    }
   ],
   "source": [
    "[i for i in ssts.edges()]"
   ]
  },
  {
   "cell_type": "code",
   "execution_count": 30,
   "id": "6dc43e50-a426-4bd1-a56a-edb152b7c3eb",
   "metadata": {},
   "outputs": [
    {
     "data": {
      "text/plain": [
       "[Node(id=0, flags=1, time=0.0, population=0, individual=1, metadata={'slim_id': 2549704, 'is_null': False, 'genome_type': 0}),\n",
       " Node(id=1, flags=1, time=0.0, population=0, individual=1, metadata={'slim_id': 2549705, 'is_null': False, 'genome_type': 0}),\n",
       " Node(id=2, flags=1, time=0.0, population=0, individual=3, metadata={'slim_id': 2549864, 'is_null': False, 'genome_type': 0}),\n",
       " Node(id=3, flags=1, time=0.0, population=0, individual=3, metadata={'slim_id': 2549865, 'is_null': False, 'genome_type': 0}),\n",
       " Node(id=4, flags=1, time=0.0, population=0, individual=0, metadata={'slim_id': 2549678, 'is_null': False, 'genome_type': 0}),\n",
       " Node(id=5, flags=1, time=0.0, population=0, individual=0, metadata={'slim_id': 2549679, 'is_null': False, 'genome_type': 0}),\n",
       " Node(id=6, flags=1, time=0.0, population=0, individual=2, metadata={'slim_id': 2549718, 'is_null': False, 'genome_type': 0}),\n",
       " Node(id=7, flags=1, time=0.0, population=0, individual=2, metadata={'slim_id': 2549719, 'is_null': False, 'genome_type': 0}),\n",
       " Node(id=8, flags=1, time=0.0, population=0, individual=4, metadata={'slim_id': 2549918, 'is_null': False, 'genome_type': 0}),\n",
       " Node(id=9, flags=1, time=0.0, population=0, individual=4, metadata={'slim_id': 2549919, 'is_null': False, 'genome_type': 0}),\n",
       " Node(id=10, flags=0, time=6.0, population=0, individual=-1, metadata={'slim_id': 2548174, 'is_null': False, 'genome_type': 0}),\n",
       " Node(id=11, flags=0, time=9.0, population=0, individual=-1, metadata={'slim_id': 2547374, 'is_null': False, 'genome_type': 0}),\n",
       " Node(id=12, flags=0, time=19.0, population=0, individual=-1, metadata={'slim_id': 2545201, 'is_null': False, 'genome_type': 0}),\n",
       " Node(id=13, flags=0, time=49.0, population=0, individual=-1, metadata={'slim_id': 2537372, 'is_null': False, 'genome_type': 0}),\n",
       " Node(id=14, flags=0, time=61.0, population=0, individual=-1, metadata={'slim_id': 2534387, 'is_null': False, 'genome_type': 0}),\n",
       " Node(id=15, flags=0, time=67.0, population=0, individual=-1, metadata={'slim_id': 2532861, 'is_null': False, 'genome_type': 0}),\n",
       " Node(id=16, flags=0, time=72.0, population=0, individual=-1, metadata={'slim_id': 2531537, 'is_null': False, 'genome_type': 0}),\n",
       " Node(id=17, flags=0, time=140.0, population=0, individual=-1, metadata={'slim_id': 2514216, 'is_null': False, 'genome_type': 0}),\n",
       " Node(id=18, flags=0, time=254.0, population=0, individual=-1, metadata={'slim_id': 2484300, 'is_null': False, 'genome_type': 0}),\n",
       " Node(id=19, flags=0, time=281.0, population=0, individual=-1, metadata={'slim_id': 2477333, 'is_null': False, 'genome_type': 0}),\n",
       " Node(id=20, flags=0, time=348.0, population=0, individual=-1, metadata={'slim_id': 2459855, 'is_null': False, 'genome_type': 0})]"
      ]
     },
     "execution_count": 30,
     "metadata": {},
     "output_type": "execute_result"
    }
   ],
   "source": [
    "[i for i in ssts.nodes()]"
   ]
  },
  {
   "cell_type": "markdown",
   "id": "7b43fe93-93a1-4272-88fc-ed19164212ee",
   "metadata": {},
   "source": [
    "I'm more familiar with tskit so I'd try to work with the treesequence. "
   ]
  },
  {
   "cell_type": "markdown",
   "id": "b8425616-c98e-4c5c-8440-05b826a1eb24",
   "metadata": {},
   "source": [
    "Or if you want to work with ARGs from a non-spatial model, for ease/speed, you can do this with msprime"
   ]
  },
  {
   "cell_type": "code",
   "execution_count": 1,
   "id": "74b0fd75-6841-45bf-a596-c7157d5ce3cd",
   "metadata": {},
   "outputs": [],
   "source": [
    "import msprime"
   ]
  },
  {
   "cell_type": "code",
   "execution_count": 15,
   "id": "f1401228-12bd-4acf-b3ac-a2fc5d9ddd0c",
   "metadata": {},
   "outputs": [
    {
     "data": {
      "text/html": [
       "\n",
       "            <div>\n",
       "              <style>\n",
       "                .tskit-table thead tr th {text-align: left;padding: 0.5em 0.5em;}\n",
       "                .tskit-table tbody tr td {padding: 0.5em 0.5em;}\n",
       "                .tskit-table tbody tr td:first-of-type {text-align: left;}\n",
       "                .tskit-details-label {vertical-align: top; padding-right:5px;}\n",
       "                .tskit-table-set {display: inline-flex;flex-wrap: wrap;margin: -12px 0 0 -12px;width: calc(100% + 12px);}\n",
       "                .tskit-table-set-table {margin: 12px 0 0 12px;}\n",
       "                details {display: inline-block;}\n",
       "                summary {cursor: pointer; outline: 0; display: list-item;}\n",
       "              </style>\n",
       "              <div class=\"tskit-table-set\">\n",
       "                <div class=\"tskit-table-set-table\">\n",
       "                  <table class=\"tskit-table\">\n",
       "                    <thead>\n",
       "                      <tr>\n",
       "                        <th style=\"padding:0;line-height:21px;\">\n",
       "                          <img style=\"height: 32px;display: inline-block;padding: 3px 5px 3px 0;\" src=\"https://raw.githubusercontent.com/tskit-dev/administrative/main/tskit_logo.svg\"/>\n",
       "                          <a target=\"_blank\" href=\"https://tskit.dev/tskit/docs/latest/python-api.html#the-treesequence-class\"> Tree Sequence </a>\n",
       "                        </th>\n",
       "                      </tr>\n",
       "                    </thead>\n",
       "                    <tbody>\n",
       "                      <tr><td>Trees</td><td>2</td></tr>\n",
       "                      <tr><td>Sequence Length</td><td>1000.0</td></tr>\n",
       "                      <tr><td>Time Units</td><td>generations</td></tr>\n",
       "                      <tr><td>Sample Nodes</td><td>4</td></tr>\n",
       "                      <tr><td>Total Size</td><td>2.0 KiB</td></tr>\n",
       "                      <tr>\n",
       "                        <td>Metadata</td><td style=\"text-align: left;\">No Metadata</td></tr>\n",
       "                    </tbody>\n",
       "                  </table>\n",
       "                </div>\n",
       "                <div class=\"tskit-table-set-table\">\n",
       "                  <table class=\"tskit-table\">\n",
       "                    <thead>\n",
       "                      <tr>\n",
       "                        <th style=\"line-height:21px;\">Table</th>\n",
       "                        <th>Rows</th>\n",
       "                        <th>Size</th>\n",
       "                        <th>Has Metadata</th>\n",
       "                      </tr>\n",
       "                    </thead>\n",
       "                    <tbody>\n",
       "                    \n",
       "                  <tr>\n",
       "                    <td>Edges</td>\n",
       "                      <td>10</td>\n",
       "                      <td>328 Bytes</td>\n",
       "                      <td style=\"text-align: center;\">\n",
       "                        \n",
       "                      </td>\n",
       "                    </tr>\n",
       "                \n",
       "                  <tr>\n",
       "                    <td>Individuals</td>\n",
       "                      <td>2</td>\n",
       "                      <td>80 Bytes</td>\n",
       "                      <td style=\"text-align: center;\">\n",
       "                        \n",
       "                      </td>\n",
       "                    </tr>\n",
       "                \n",
       "                  <tr>\n",
       "                    <td>Migrations</td>\n",
       "                      <td>0</td>\n",
       "                      <td>8 Bytes</td>\n",
       "                      <td style=\"text-align: center;\">\n",
       "                        \n",
       "                      </td>\n",
       "                    </tr>\n",
       "                \n",
       "                  <tr>\n",
       "                    <td>Mutations</td>\n",
       "                      <td>0</td>\n",
       "                      <td>16 Bytes</td>\n",
       "                      <td style=\"text-align: center;\">\n",
       "                        \n",
       "                      </td>\n",
       "                    </tr>\n",
       "                \n",
       "                  <tr>\n",
       "                    <td>Nodes</td>\n",
       "                      <td>10</td>\n",
       "                      <td>288 Bytes</td>\n",
       "                      <td style=\"text-align: center;\">\n",
       "                        \n",
       "                      </td>\n",
       "                    </tr>\n",
       "                \n",
       "                  <tr>\n",
       "                    <td>Populations</td>\n",
       "                      <td>1</td>\n",
       "                      <td>224 Bytes</td>\n",
       "                      <td style=\"text-align: center;\">\n",
       "                        ✅\n",
       "                      </td>\n",
       "                    </tr>\n",
       "                \n",
       "                  <tr>\n",
       "                    <td>Provenances</td>\n",
       "                      <td>1</td>\n",
       "                      <td>943 Bytes</td>\n",
       "                      <td style=\"text-align: center;\">\n",
       "                        \n",
       "                      </td>\n",
       "                    </tr>\n",
       "                \n",
       "                  <tr>\n",
       "                    <td>Sites</td>\n",
       "                      <td>0</td>\n",
       "                      <td>16 Bytes</td>\n",
       "                      <td style=\"text-align: center;\">\n",
       "                        \n",
       "                      </td>\n",
       "                    </tr>\n",
       "                \n",
       "                    </tbody>\n",
       "                  </table>\n",
       "                </div>\n",
       "              </div>\n",
       "            </div>\n",
       "            "
      ],
      "text/plain": [
       "<tskit.trees.TreeSequence at 0x7fae3c0d4580>"
      ]
     },
     "execution_count": 15,
     "metadata": {},
     "output_type": "execute_result"
    }
   ],
   "source": [
    "ts = msprime.sim_ancestry(samples=2, population_size=1e4, sequence_length=1e3, recombination_rate=1e-8, record_full_arg=True ,random_seed=1)\n",
    "ts"
   ]
  },
  {
   "cell_type": "code",
   "execution_count": 16,
   "id": "dd070e87-3787-41a1-bd0e-da9abde55936",
   "metadata": {},
   "outputs": [
    {
     "data": {
      "image/svg+xml": [
       "<svg baseProfile=\"full\" height=\"200\" version=\"1.1\" width=\"400\" xmlns=\"http://www.w3.org/2000/svg\" xmlns:ev=\"http://www.w3.org/2001/xml-events\" xmlns:xlink=\"http://www.w3.org/1999/xlink\"><defs><style type=\"text/css\"><![CDATA[.background path {fill: #808080; fill-opacity: 0}.background path:nth-child(odd) {fill-opacity: .1}.axes {font-size: 14px}.x-axis .tick .lab {font-weight: bold; dominant-baseline: hanging}.axes, .tree {font-size: 14px; text-anchor: middle}.axes line, .edge {stroke: black; fill: none}.y-axis .grid {stroke: #FAFAFA}.node > .sym {fill: black; stroke: none}.site > .sym {stroke: black}.mut text {fill: red; font-style: italic}.mut.extra text {fill: hotpink}.mut line {fill: none; stroke: none}.mut .sym {fill: none; stroke: red}.mut.extra .sym {stroke: hotpink}.node .mut .sym {stroke-width: 1.5px}.tree text, .tree-sequence text {dominant-baseline: central}.plotbox .lab.lft {text-anchor: end}.plotbox .lab.rgt {text-anchor: start}]]></style></defs><g class=\"tree-sequence\"><g class=\"background\"><path d=\"M20,0 l180,0 l0,138.2 l137.16,25 l0,5 l-317.16,0 l0,-5 l0,-25 l0,-138.2z\" /><path d=\"M200,0 l180,0 l0,138.2 l0,25 l0,5 l-42.84,0 l0,-5 l-137.16,-25 l0,-138.2z\" /></g><g class=\"axes\"><g class=\"x-axis\"><g transform=\"translate(200 200)\"><text class=\"lab\" text-anchor=\"middle\" transform=\"translate(0 -11)\">Genome position</text></g><line x1=\"20\" x2=\"380\" y1=\"163.2\" y2=\"163.2\" /><g class=\"ticks\"><g class=\"tick\" transform=\"translate(20 163.2)\"><line x1=\"0\" x2=\"0\" y1=\"0\" y2=\"5\" /><g transform=\"translate(0 6)\"><text class=\"lab\">0</text></g></g><g class=\"tick\" transform=\"translate(337.16 163.2)\"><line x1=\"0\" x2=\"0\" y1=\"0\" y2=\"5\" /><g transform=\"translate(0 6)\"><text class=\"lab\">881</text></g></g><g class=\"tick\" transform=\"translate(380 163.2)\"><line x1=\"0\" x2=\"0\" y1=\"0\" y2=\"5\" /><g transform=\"translate(0 6)\"><text class=\"lab\">1000</text></g></g></g></g></g><g class=\"plotbox trees\"><g class=\"tree t0\" transform=\"translate(20 0)\"><g class=\"plotbox\"><g class=\"c2 node n9 p0 root\" transform=\"translate(68.125 26.8)\"><g class=\"a9 i0 leaf node n0 p0 sample\" transform=\"translate(-30.625 94.6)\"><path class=\"edge\" d=\"M 0 0 V -94.6 H 30.625\" /><rect class=\"sym\" height=\"6\" width=\"6\" x=\"-3\" y=\"-3\" /><text class=\"lab\" transform=\"translate(0 11)\">0</text></g><g class=\"a9 c2 node n8 p0\" transform=\"translate(30.625 37.479)\"><g class=\"a8 c1 node n4 p0\" transform=\"translate(-26.25 7.05664)\"><g class=\"a4 i0 leaf node n1 p0 sample\" transform=\"translate(0.0 50.0644)\"><path class=\"edge\" d=\"M 0 0 V -50.0644 H 0.0\" /><rect class=\"sym\" height=\"6\" width=\"6\" x=\"-3\" y=\"-3\" /><text class=\"lab\" transform=\"translate(0 11)\">1</text></g><path class=\"edge\" d=\"M 0 0 V -7.05664 H 26.25\" /><circle class=\"sym\" cx=\"0\" cy=\"0\" r=\"3\" /><text class=\"lab lft\" transform=\"translate(-3 -7.0)\">4</text></g><g class=\"a8 c2 node n7 p0\" transform=\"translate(26.25 5.09442)\"><g class=\"a7 i1 leaf node n3 p0 sample\" transform=\"translate(17.5 52.0266)\"><path class=\"edge\" d=\"M 0 0 V -52.0266 H -17.5\" /><rect class=\"sym\" height=\"6\" width=\"6\" x=\"-3\" y=\"-3\" /><text class=\"lab\" transform=\"translate(0 11)\">3</text></g><g class=\"a7 c1 node n6 p0\" transform=\"translate(-17.5 1.96137)\"><g class=\"a6 i1 leaf node n2 p0 sample\" transform=\"translate(0.0 50.0652)\"><path class=\"edge\" d=\"M 0 0 V -50.0652 H 0.0\" /><rect class=\"sym\" height=\"6\" width=\"6\" x=\"-3\" y=\"-3\" /><text class=\"lab\" transform=\"translate(0 11)\">2</text></g><path class=\"edge\" d=\"M 0 0 V -1.96137 H 17.5\" /><circle class=\"sym\" cx=\"0\" cy=\"0\" r=\"3\" /><text class=\"lab lft\" transform=\"translate(-3 -7.0)\">6</text></g><path class=\"edge\" d=\"M 0 0 V -5.09442 H -26.25\" /><circle class=\"sym\" cx=\"0\" cy=\"0\" r=\"3\" /><text class=\"lab rgt\" transform=\"translate(3 -7.0)\">7</text></g><path class=\"edge\" d=\"M 0 0 V -37.479 H -30.625\" /><circle class=\"sym\" cx=\"0\" cy=\"0\" r=\"3\" /><text class=\"lab rgt\" transform=\"translate(3 -7.0)\">8</text></g><circle class=\"sym\" cx=\"0\" cy=\"0\" r=\"3\" /><text class=\"lab\" transform=\"translate(0 -11)\">9</text></g></g></g><g class=\"tree t1\" transform=\"translate(200 0)\"><g class=\"plotbox\"><g class=\"c2 node n9 p0 root\" transform=\"translate(76.875 26.8)\"><g class=\"a9 i0 leaf node n0 p0 sample\" transform=\"translate(-39.375 94.6)\"><path class=\"edge\" d=\"M 0 0 V -94.6 H 39.375\" /><rect class=\"sym\" height=\"6\" width=\"6\" x=\"-3\" y=\"-3\" /><text class=\"lab\" transform=\"translate(0 11)\">0</text></g><g class=\"a9 c1 node n8 p0\" transform=\"translate(39.375 37.479)\"><g class=\"a8 c2 node n7 p0\" transform=\"translate(0.0 5.09442)\"><g class=\"a7 i1 leaf node n3 p0 sample\" transform=\"translate(26.25 52.0266)\"><path class=\"edge\" d=\"M 0 0 V -52.0266 H -26.25\" /><rect class=\"sym\" height=\"6\" width=\"6\" x=\"-3\" y=\"-3\" /><text class=\"lab\" transform=\"translate(0 11)\">3</text></g><g class=\"a7 c2 node n6 p0\" transform=\"translate(-26.25 1.96137)\"><g class=\"a6 i1 leaf node n2 p0 sample\" transform=\"translate(17.5 50.0652)\"><path class=\"edge\" d=\"M 0 0 V -50.0652 H -17.5\" /><rect class=\"sym\" height=\"6\" width=\"6\" x=\"-3\" y=\"-3\" /><text class=\"lab\" transform=\"translate(0 11)\">2</text></g><g class=\"a6 c1 node n5 p0\" transform=\"translate(-17.5 0.000848177)\"><g class=\"a5 i0 leaf node n1 p0 sample\" transform=\"translate(0.0 50.0644)\"><path class=\"edge\" d=\"M 0 0 V -50.0644 H 0.0\" /><rect class=\"sym\" height=\"6\" width=\"6\" x=\"-3\" y=\"-3\" /><text class=\"lab\" transform=\"translate(0 11)\">1</text></g><path class=\"edge\" d=\"M 0 0 V -0.000848177 H 17.5\" /><circle class=\"sym\" cx=\"0\" cy=\"0\" r=\"3\" /><text class=\"lab lft\" transform=\"translate(-3 -7.0)\">5</text></g><path class=\"edge\" d=\"M 0 0 V -1.96137 H 26.25\" /><circle class=\"sym\" cx=\"0\" cy=\"0\" r=\"3\" /><text class=\"lab lft\" transform=\"translate(-3 -7.0)\">6</text></g><path class=\"edge\" d=\"M 0 0 V -5.09442 H 0.0\" /><circle class=\"sym\" cx=\"0\" cy=\"0\" r=\"3\" /><text class=\"lab lft\" transform=\"translate(-3 -7.0)\">7</text></g><path class=\"edge\" d=\"M 0 0 V -37.479 H -39.375\" /><circle class=\"sym\" cx=\"0\" cy=\"0\" r=\"3\" /><text class=\"lab rgt\" transform=\"translate(3 -7.0)\">8</text></g><circle class=\"sym\" cx=\"0\" cy=\"0\" r=\"3\" /><text class=\"lab\" transform=\"translate(0 -11)\">9</text></g></g></g></g></g></svg>"
      ],
      "text/plain": [
       "'<svg baseProfile=\"full\" height=\"200\" version=\"1.1\" width=\"400\" xmlns=\"http://www.w3.org/2000/svg\" xmlns:ev=\"http://www.w3.org/2001/xml-events\" xmlns:xlink=\"http://www.w3.org/1999/xlink\"><defs><style type=\"text/css\"><![CDATA[.background path {fill: #808080; fill-opacity: 0}.background path:nth-child(odd) {fill-opacity: .1}.axes {font-size: 14px}.x-axis .tick .lab {font-weight: bold; dominant-baseline: hanging}.axes, .tree {font-size: 14px; text-anchor: middle}.axes line, .edge {stroke: black; fill: none}.y-axis .grid {stroke: #FAFAFA}.node > .sym {fill: black; stroke: none}.site > .sym {stroke: black}.mut text {fill: red; font-style: italic}.mut.extra text {fill: hotpink}.mut line {fill: none; stroke: none}.mut .sym {fill: none; stroke: red}.mut.extra .sym {stroke: hotpink}.node .mut .sym {stroke-width: 1.5px}.tree text, .tree-sequence text {dominant-baseline: central}.plotbox .lab.lft {text-anchor: end}.plotbox .lab.rgt {text-anchor: start}]]></style></defs><g class=\"tree-sequence\"><g class=\"background\"><path d=\"M20,0 l180,0 l0,138.2 l137.16,25 l0,5 l-317.16,0 l0,-5 l0,-25 l0,-138.2z\" /><path d=\"M200,0 l180,0 l0,138.2 l0,25 l0,5 l-42.84,0 l0,-5 l-137.16,-25 l0,-138.2z\" /></g><g class=\"axes\"><g class=\"x-axis\"><g transform=\"translate(200 200)\"><text class=\"lab\" text-anchor=\"middle\" transform=\"translate(0 -11)\">Genome position</text></g><line x1=\"20\" x2=\"380\" y1=\"163.2\" y2=\"163.2\" /><g class=\"ticks\"><g class=\"tick\" transform=\"translate(20 163.2)\"><line x1=\"0\" x2=\"0\" y1=\"0\" y2=\"5\" /><g transform=\"translate(0 6)\"><text class=\"lab\">0</text></g></g><g class=\"tick\" transform=\"translate(337.16 163.2)\"><line x1=\"0\" x2=\"0\" y1=\"0\" y2=\"5\" /><g transform=\"translate(0 6)\"><text class=\"lab\">881</text></g></g><g class=\"tick\" transform=\"translate(380 163.2)\"><line x1=\"0\" x2=\"0\" y1=\"0\" y2=\"5\" /><g transform=\"translate(0 6)\"><text class=\"lab\">1000</text></g></g></g></g></g><g class=\"plotbox trees\"><g class=\"tree t0\" transform=\"translate(20 0)\"><g class=\"plotbox\"><g class=\"c2 node n9 p0 root\" transform=\"translate(68.125 26.8)\"><g class=\"a9 i0 leaf node n0 p0 sample\" transform=\"translate(-30.625 94.6)\"><path class=\"edge\" d=\"M 0 0 V -94.6 H 30.625\" /><rect class=\"sym\" height=\"6\" width=\"6\" x=\"-3\" y=\"-3\" /><text class=\"lab\" transform=\"translate(0 11)\">0</text></g><g class=\"a9 c2 node n8 p0\" transform=\"translate(30.625 37.479)\"><g class=\"a8 c1 node n4 p0\" transform=\"translate(-26.25 7.05664)\"><g class=\"a4 i0 leaf node n1 p0 sample\" transform=\"translate(0.0 50.0644)\"><path class=\"edge\" d=\"M 0 0 V -50.0644 H 0.0\" /><rect class=\"sym\" height=\"6\" width=\"6\" x=\"-3\" y=\"-3\" /><text class=\"lab\" transform=\"translate(0 11)\">1</text></g><path class=\"edge\" d=\"M 0 0 V -7.05664 H 26.25\" /><circle class=\"sym\" cx=\"0\" cy=\"0\" r=\"3\" /><text class=\"lab lft\" transform=\"translate(-3 -7.0)\">4</text></g><g class=\"a8 c2 node n7 p0\" transform=\"translate(26.25 5.09442)\"><g class=\"a7 i1 leaf node n3 p0 sample\" transform=\"translate(17.5 52.0266)\"><path class=\"edge\" d=\"M 0 0 V -52.0266 H -17.5\" /><rect class=\"sym\" height=\"6\" width=\"6\" x=\"-3\" y=\"-3\" /><text class=\"lab\" transform=\"translate(0 11)\">3</text></g><g class=\"a7 c1 node n6 p0\" transform=\"translate(-17.5 1.96137)\"><g class=\"a6 i1 leaf node n2 p0 sample\" transform=\"translate(0.0 50.0652)\"><path class=\"edge\" d=\"M 0 0 V -50.0652 H 0.0\" /><rect class=\"sym\" height=\"6\" width=\"6\" x=\"-3\" y=\"-3\" /><text class=\"lab\" transform=\"translate(0 11)\">2</text></g><path class=\"edge\" d=\"M 0 0 V -1.96137 H 17.5\" /><circle class=\"sym\" cx=\"0\" cy=\"0\" r=\"3\" /><text class=\"lab lft\" transform=\"translate(-3 -7.0)\">6</text></g><path class=\"edge\" d=\"M 0 0 V -5.09442 H -26.25\" /><circle class=\"sym\" cx=\"0\" cy=\"0\" r=\"3\" /><text class=\"lab rgt\" transform=\"translate(3 -7.0)\">7</text></g><path class=\"edge\" d=\"M 0 0 V -37.479 H -30.625\" /><circle class=\"sym\" cx=\"0\" cy=\"0\" r=\"3\" /><text class=\"lab rgt\" transform=\"translate(3 -7.0)\">8</text></g><circle class=\"sym\" cx=\"0\" cy=\"0\" r=\"3\" /><text class=\"lab\" transform=\"translate(0 -11)\">9</text></g></g></g><g class=\"tree t1\" transform=\"translate(200 0)\"><g class=\"plotbox\"><g class=\"c2 node n9 p0 root\" transform=\"translate(76.875 26.8)\"><g class=\"a9 i0 leaf node n0 p0 sample\" transform=\"translate(-39.375 94.6)\"><path class=\"edge\" d=\"M 0 0 V -94.6 H 39.375\" /><rect class=\"sym\" height=\"6\" width=\"6\" x=\"-3\" y=\"-3\" /><text class=\"lab\" transform=\"translate(0 11)\">0</text></g><g class=\"a9 c1 node n8 p0\" transform=\"translate(39.375 37.479)\"><g class=\"a8 c2 node n7 p0\" transform=\"translate(0.0 5.09442)\"><g class=\"a7 i1 leaf node n3 p0 sample\" transform=\"translate(26.25 52.0266)\"><path class=\"edge\" d=\"M 0 0 V -52.0266 H -26.25\" /><rect class=\"sym\" height=\"6\" width=\"6\" x=\"-3\" y=\"-3\" /><text class=\"lab\" transform=\"translate(0 11)\">3</text></g><g class=\"a7 c2 node n6 p0\" transform=\"translate(-26.25 1.96137)\"><g class=\"a6 i1 leaf node n2 p0 sample\" transform=\"translate(17.5 50.0652)\"><path class=\"edge\" d=\"M 0 0 V -50.0652 H -17.5\" /><rect class=\"sym\" height=\"6\" width=\"6\" x=\"-3\" y=\"-3\" /><text class=\"lab\" transform=\"translate(0 11)\">2</text></g><g class=\"a6 c1 node n5 p0\" transform=\"translate(-17.5 0.000848177)\"><g class=\"a5 i0 leaf node n1 p0 sample\" transform=\"translate(0.0 50.0644)\"><path class=\"edge\" d=\"M 0 0 V -50.0644 H 0.0\" /><rect class=\"sym\" height=\"6\" width=\"6\" x=\"-3\" y=\"-3\" /><text class=\"lab\" transform=\"translate(0 11)\">1</text></g><path class=\"edge\" d=\"M 0 0 V -0.000848177 H 17.5\" /><circle class=\"sym\" cx=\"0\" cy=\"0\" r=\"3\" /><text class=\"lab lft\" transform=\"translate(-3 -7.0)\">5</text></g><path class=\"edge\" d=\"M 0 0 V -1.96137 H 26.25\" /><circle class=\"sym\" cx=\"0\" cy=\"0\" r=\"3\" /><text class=\"lab lft\" transform=\"translate(-3 -7.0)\">6</text></g><path class=\"edge\" d=\"M 0 0 V -5.09442 H 0.0\" /><circle class=\"sym\" cx=\"0\" cy=\"0\" r=\"3\" /><text class=\"lab lft\" transform=\"translate(-3 -7.0)\">7</text></g><path class=\"edge\" d=\"M 0 0 V -37.479 H -39.375\" /><circle class=\"sym\" cx=\"0\" cy=\"0\" r=\"3\" /><text class=\"lab rgt\" transform=\"translate(3 -7.0)\">8</text></g><circle class=\"sym\" cx=\"0\" cy=\"0\" r=\"3\" /><text class=\"lab\" transform=\"translate(0 -11)\">9</text></g></g></g></g></g></svg>'"
      ]
     },
     "execution_count": 16,
     "metadata": {},
     "output_type": "execute_result"
    }
   ],
   "source": [
    "ts.draw_svg()"
   ]
  }
 ],
 "metadata": {
  "kernelspec": {
   "display_name": "sparg-arg",
   "language": "python",
   "name": "sparg-arg"
  },
  "language_info": {
   "codemirror_mode": {
    "name": "ipython",
    "version": 3
   },
   "file_extension": ".py",
   "mimetype": "text/x-python",
   "name": "python",
   "nbconvert_exporter": "python",
   "pygments_lexer": "ipython3",
   "version": "3.10.6"
  }
 },
 "nbformat": 4,
 "nbformat_minor": 5
}
