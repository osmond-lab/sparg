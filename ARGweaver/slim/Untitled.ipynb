{
 "cells": [
  {
   "cell_type": "code",
   "execution_count": 5,
   "id": "a268d881",
   "metadata": {},
   "outputs": [],
   "source": [
    "import msprime\n",
    "import tskit\n",
    "import numpy as np\n",
    "import networkx as nx\n",
    "from collections import defaultdict\n",
    "from itertools import chain\n",
    "import pandas as pd\n",
    "import matplotlib.pyplot as plt\n",
    "\n",
    "\n",
    "def ts_to_nx(ts, connect_recombination_nodes=False, recomb_nodes=[]):\n",
    "    \"\"\"\n",
    "    Converts tskit tree sequence to networkx graph.\n",
    "    \"\"\"\n",
    "    topology = defaultdict(list)\n",
    "    for tree in ts.trees():\n",
    "        for k, v in chain(tree.parent_dict.items()):\n",
    "            if connect_recombination_nodes:\n",
    "                if recomb_nodes == []:\n",
    "                    recomb_nodes = list(np.where(ts.tables.nodes.flags == 131072)[0])\n",
    "                if v in recomb_nodes and recomb_nodes.index(v)%2 == 1:\n",
    "                    v -= 1\n",
    "                if k in recomb_nodes and recomb_nodes.index(k)%2 == 1:\n",
    "                    k -= 1\n",
    "                if v not in topology[k]:\n",
    "                    topology[k].append(v)\n",
    "            else:\n",
    "                if v not in topology[k]:\n",
    "                    topology[k].append(v)\n",
    "    nx_graph = nx.MultiDiGraph(topology)\n",
    "    return nx_graph\n",
    "\n",
    "def ts_to_nx_updated(ts):\n",
    "    topology = defaultdict(list)\n",
    "    for edge in ts.tables.edges:\n",
    "        topology[edge.parent].append(edge.child)\n",
    "    nx_graph = nx.MultiDiGraph(topology)\n",
    "    return nx_graph\n",
    "\n",
    "def simplify_graph(G, root=-1):\n",
    "    ''' Loop over the graph until all nodes of degree 2 have been removed and their incident edges fused \n",
    "    Adapted from https://stackoverflow.com/questions/53353335/networkx-remove-node-and-reconnect-edges\n",
    "    '''\n",
    "\n",
    "    g = G.copy()\n",
    "    while any(degree==2 for _, degree in g.degree):\n",
    "        g0 = g.copy() #<- simply changing g itself would cause error `dictionary changed size during iteration` \n",
    "        for node, degree in g.degree():\n",
    "            if degree==2 and node!=root:\n",
    "                if g.is_directed(): #<-for directed graphs\n",
    "                    a0,b0 = list(g0.in_edges(node))[0]\n",
    "                    a1,b1 = list(g0.out_edges(node))[0]\n",
    "                else:\n",
    "                    edges = g0.edges(node)\n",
    "                    edges = list(edges.__iter__())\n",
    "                    a0,b0 = edges[0]\n",
    "                    a1,b1 = edges[1]\n",
    "                e0 = a0 if a0!=node else b0\n",
    "                e1 = a1 if a1!=node else b1\n",
    "                g0.remove_node(node)\n",
    "                g0.add_edge(e0, e1)\n",
    "        g = g0\n",
    "    return g\n",
    "\n",
    "\n",
    "\n",
    "\n",
    "\n",
    "ts = tskit.load(\"run1/slim_0.25rep3sigma.trees\")\n",
    "np.random.seed(1)\n",
    "keep_nodes = list(np.random.choice(ts.samples(), 20, replace=False))\n",
    "subset_ts = ts.simplify(samples=keep_nodes, keep_input_roots=True, keep_unary=True)\n",
    "nx_arg = ts_to_nx_updated(ts=subset_ts)\n",
    "simple_arg = simplify_graph(G=nx_arg, root=subset_ts.node(subset_ts.num_nodes-1).id)"
   ]
  },
  {
   "cell_type": "code",
   "execution_count": 9,
   "id": "d8009f12",
   "metadata": {},
   "outputs": [
    {
     "name": "stdout",
     "output_type": "stream",
     "text": [
      "2228\n"
     ]
    }
   ],
   "source": [
    "print(len(simple_arg.nodes))"
   ]
  },
  {
   "cell_type": "code",
   "execution_count": 8,
   "id": "f4f0cbf3",
   "metadata": {},
   "outputs": [
    {
     "name": "stdout",
     "output_type": "stream",
     "text": [
      "4465\n"
     ]
    }
   ],
   "source": [
    "print(len(simple_arg.edges))"
   ]
  },
  {
   "cell_type": "code",
   "execution_count": 11,
   "id": "1006e9ad",
   "metadata": {},
   "outputs": [],
   "source": [
    "recomb_nodes = []\n",
    "for i in simple_arg.nodes:\n",
    "    is_parent = subset_ts.tables.edges[np.where(subset_ts.tables.edges.parent==i)[0]]\n",
    "    is_child = subset_ts.tables.edges[np.where(subset_ts.tables.edges.child==i)[0]]\n",
    "    if (len(set(is_parent.child)) == 1) & (len(set(is_child.parent)) > 1) & ((len(is_parent) + len(is_child)) % 2 != 0):\n",
    "        recomb_nodes.append(i)"
   ]
  },
  {
   "cell_type": "code",
   "execution_count": 12,
   "id": "cbfd65f2",
   "metadata": {},
   "outputs": [
    {
     "name": "stdout",
     "output_type": "stream",
     "text": [
      "[173, 226, 267, 281, 307, 321, 382, 479, 593, 623, 692, 774, 886, 909, 1180, 1928, 1980, 2008, 2040, 2068, 2383, 2405, 2476, 2595, 2803, 2871, 2904, 3155, 3194, 3278, 3693, 3893, 4027, 4272, 4512, 4650, 4691, 4867, 5206, 5408, 5419, 5740, 6088, 6482, 6509, 7152, 7440, 7539, 7947, 8375, 8580, 8669, 8857, 9298, 9361, 9392, 9821, 9937, 9942, 10076, 10517, 10639, 10950, 11106, 11344, 11854, 11937, 11981, 12032, 12308, 12724, 12760, 12981, 13036, 13087, 13124, 13904, 14020, 14096, 14481, 14485, 14603, 14866, 14948, 15465, 15800, 16120, 16644, 16762, 16810, 16840, 17211, 17269, 17475, 17765, 17766, 17833, 18463, 18506, 18757, 18906, 19072, 19094, 19111, 19343, 19410, 19437, 19588, 19956]\n"
     ]
    }
   ],
   "source": [
    "print(recomb_nodes)"
   ]
  },
  {
   "cell_type": "code",
   "execution_count": 13,
   "id": "bacf5bf9",
   "metadata": {},
   "outputs": [
    {
     "name": "stdout",
     "output_type": "stream",
     "text": [
      "[36, 47, 78, 82, 130, 211, 272, 303, 339, 352, 397, 407, 412, 444, 472, 562, 660, 709, 726, 734, 772, 821, 932, 982, 1097, 1109, 1267, 1311, 1328, 1806, 1965, 2115, 2363, 2539, 2636, 2662, 2689, 3174, 3314, 3325, 3921, 4077, 4167, 4351, 4555, 4675, 4838, 4874, 5219, 5975, 5981, 6172, 6512, 6580, 7181, 7396, 7631, 8576, 8593, 8872, 9263, 9303, 9415, 9819, 9876, 10029, 10282, 10658, 10993, 11113, 11123, 11811, 11905, 11988, 12335, 12947, 13016, 13065, 13079, 13104, 13377, 13911, 14025, 14407, 14555, 14871, 14881, 14973, 15812, 16582, 16649, 16793, 17290, 17345, 17628, 17791, 17855, 17886, 18390, 18547, 18718, 18927, 19169, 19295, 19356, 19433, 19857, 19955, 19985, 19988]\n"
     ]
    }
   ],
   "source": [
    "recomb_nodes = []\n",
    "for i in simple_arg.nodes:\n",
    "    is_parent = subset_ts.tables.edges[np.where(subset_ts.tables.edges.parent==i)[0]]\n",
    "    is_child = subset_ts.tables.edges[np.where(subset_ts.tables.edges.child==i)[0]]\n",
    "    if (len(is_parent) > len(is_child)):\n",
    "        recomb_nodes.append(i)\n",
    "print(recomb_nodes)"
   ]
  },
  {
   "cell_type": "code",
   "execution_count": null,
   "id": "d89d7308",
   "metadata": {},
   "outputs": [],
   "source": []
  }
 ],
 "metadata": {
  "kernelspec": {
   "display_name": "Python 3 (ipykernel)",
   "language": "python",
   "name": "python3"
  },
  "language_info": {
   "codemirror_mode": {
    "name": "ipython",
    "version": 3
   },
   "file_extension": ".py",
   "mimetype": "text/x-python",
   "name": "python",
   "nbconvert_exporter": "python",
   "pygments_lexer": "ipython3",
   "version": "3.8.13"
  }
 },
 "nbformat": 4,
 "nbformat_minor": 5
}
