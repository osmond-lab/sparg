{
 "cells": [
  {
   "cell_type": "code",
   "execution_count": 1,
   "id": "70e1ec49",
   "metadata": {},
   "outputs": [],
   "source": [
    "import sys\n",
    "sys.path.append(\"/Users/jameskitchens/Documents/GitHub/sparg2.0\")\n",
    "\n",
    "import sparg\n",
    "import tskit\n",
    "import msprime\n",
    "import numpy as np\n",
    "import tskit_arg_visualizer as viz\n",
    "import warnings\n",
    "import matplotlib.pyplot as plt\n",
    "warnings.simplefilter(\"always\")"
   ]
  },
  {
   "cell_type": "code",
   "execution_count": 18,
   "id": "524b4c9c",
   "metadata": {},
   "outputs": [],
   "source": [
    "ts = tskit.load(\"simple_space_uniform_start_rep1.trees\")\n",
    "\n",
    "np.random.seed(1)\n",
    "keep_nodes = list(np.random.choice(ts.samples(), 50, replace=False))\n",
    "ts_sim, maps_sim = ts.simplify(samples=keep_nodes, keep_input_roots=False, keep_unary=True, map_nodes=True)\n",
    "ts_flagged = sparg.add_recomb_node_flags_to_ts(ts=ts_sim)\n",
    "ts_filtered, maps_filtered = sparg.remove_uninformative_nodes(ts=ts_flagged)#, keep_young_nodes={\"below\": 1000, \"step\": 10})"
   ]
  },
  {
   "cell_type": "code",
   "execution_count": 19,
   "id": "47944a8a",
   "metadata": {},
   "outputs": [],
   "source": [
    "ts_chopped_40k = ts_filtered.decapitate(40000)\n",
    "ts_attached_40k, maps_attached_40k = sparg.remove_unattached_nodes(ts=ts_chopped_40k)\n",
    "ts_merged_40k = sparg.merge_unnecessary_roots(ts=ts_attached_40k)"
   ]
  },
  {
   "cell_type": "code",
   "execution_count": 20,
   "id": "fa185bb6",
   "metadata": {},
   "outputs": [
    {
     "ename": "RuntimeError",
     "evalue": "Nodes has more than 2 parents",
     "output_type": "error",
     "traceback": [
      "\u001b[0;31m---------------------------------------------------------------------------\u001b[0m",
      "\u001b[0;31mRuntimeError\u001b[0m                              Traceback (most recent call last)",
      "Cell \u001b[0;32mIn[20], line 1\u001b[0m\n\u001b[0;32m----> 1\u001b[0m dispersal_rate, cov_mat, paths \u001b[38;5;241m=\u001b[39m \u001b[43msparg\u001b[49m\u001b[38;5;241;43m.\u001b[39;49m\u001b[43mestimate_minimal_spatial_parameters\u001b[49m\u001b[43m(\u001b[49m\u001b[43mts\u001b[49m\u001b[38;5;241;43m=\u001b[39;49m\u001b[43mts_attached_40k\u001b[49m\u001b[43m)\u001b[49m\n",
      "File \u001b[0;32m~/Documents/GitHub/sparg2.0/sparg/main.py:566\u001b[0m, in \u001b[0;36mestimate_minimal_spatial_parameters\u001b[0;34m(ts, verbose, record_to, locations_of_individuals, return_ancestral_node_positions, n_r, dimensions)\u001b[0m\n\u001b[1;32m    564\u001b[0m     cov_mat, paths, node_shared_times, node_paths \u001b[38;5;241m=\u001b[39m calc_minimal_covariance_matrix(ts\u001b[38;5;241m=\u001b[39mts, internal_nodes\u001b[38;5;241m=\u001b[39mreturn_ancestral_node_positions, verbose\u001b[38;5;241m=\u001b[39mverbose)\n\u001b[1;32m    565\u001b[0m \u001b[38;5;28;01melse\u001b[39;00m:\n\u001b[0;32m--> 566\u001b[0m     cov_mat, paths \u001b[38;5;241m=\u001b[39m \u001b[43mcalc_minimal_covariance_matrix\u001b[49m\u001b[43m(\u001b[49m\u001b[43mts\u001b[49m\u001b[38;5;241;43m=\u001b[39;49m\u001b[43mts\u001b[49m\u001b[43m,\u001b[49m\u001b[43m \u001b[49m\u001b[43mverbose\u001b[49m\u001b[38;5;241;43m=\u001b[39;49m\u001b[43mverbose\u001b[49m\u001b[43m)\u001b[49m\n\u001b[1;32m    567\u001b[0m \u001b[38;5;28;01mif\u001b[39;00m verbose:\n\u001b[1;32m    568\u001b[0m     \u001b[38;5;28mprint\u001b[39m(\u001b[38;5;124mf\u001b[39m\u001b[38;5;124m\"\u001b[39m\u001b[38;5;124mCalculated covariance matrix - Section Elapsed Time: \u001b[39m\u001b[38;5;132;01m{\u001b[39;00mtime\u001b[38;5;241m.\u001b[39mtime()\u001b[38;5;241m-\u001b[39msection_start_time\u001b[38;5;132;01m}\u001b[39;00m\u001b[38;5;124m - Total Elapsed Time: \u001b[39m\u001b[38;5;132;01m{\u001b[39;00mtime\u001b[38;5;241m.\u001b[39mtime()\u001b[38;5;241m-\u001b[39mtotal_start_time\u001b[38;5;132;01m}\u001b[39;00m\u001b[38;5;124m\"\u001b[39m)\n",
      "File \u001b[0;32m~/Documents/GitHub/sparg2.0/sparg/main.py:294\u001b[0m, in \u001b[0;36mcalc_minimal_covariance_matrix\u001b[0;34m(ts, internal_nodes, verbose)\u001b[0m\n\u001b[1;32m    292\u001b[0m             shared_time[ np\u001b[38;5;241m.\u001b[39mix_( int_nodes_update, parent1_ind \u001b[38;5;241m+\u001b[39m parent2_ind) ] \u001b[38;5;241m+\u001b[39m\u001b[38;5;241m=\u001b[39m edge_len \n\u001b[1;32m    293\u001b[0m     \u001b[38;5;28;01melse\u001b[39;00m : \n\u001b[0;32m--> 294\u001b[0m         \u001b[38;5;28;01mraise\u001b[39;00m \u001b[38;5;167;01mRuntimeError\u001b[39;00m(\u001b[38;5;124m\"\u001b[39m\u001b[38;5;124mNodes has more than 2 parents\u001b[39m\u001b[38;5;124m\"\u001b[39m)\n\u001b[1;32m    296\u001b[0m \u001b[38;5;28;01mif\u001b[39;00m \u001b[38;5;28mlen\u001b[39m(internal_nodes) \u001b[38;5;241m!=\u001b[39m \u001b[38;5;241m0\u001b[39m:\n\u001b[1;32m    297\u001b[0m     \u001b[38;5;28;01mreturn\u001b[39;00m cov_mat, paths, shared_time, internal_paths\n",
      "\u001b[0;31mRuntimeError\u001b[0m: Nodes has more than 2 parents"
     ]
    }
   ],
   "source": [
    "dispersal_rate, cov_mat, paths = sparg.estimate_minimal_spatial_parameters(ts=ts_attached_40k)"
   ]
  },
  {
   "cell_type": "code",
   "execution_count": 9,
   "id": "8929caa9",
   "metadata": {},
   "outputs": [
    {
     "data": {
      "text/plain": [
       "array([[0.41554249, 0.01100043],\n",
       "       [0.01100044, 0.28785709]])"
      ]
     },
     "execution_count": 9,
     "metadata": {},
     "output_type": "execute_result"
    }
   ],
   "source": [
    "dispersal_rate"
   ]
  },
  {
   "cell_type": "code",
   "execution_count": null,
   "id": "761d7f64",
   "metadata": {},
   "outputs": [],
   "source": []
  }
 ],
 "metadata": {
  "kernelspec": {
   "display_name": "Python 3 (ipykernel)",
   "language": "python",
   "name": "python3"
  },
  "language_info": {
   "codemirror_mode": {
    "name": "ipython",
    "version": 3
   },
   "file_extension": ".py",
   "mimetype": "text/x-python",
   "name": "python",
   "nbconvert_exporter": "python",
   "pygments_lexer": "ipython3",
   "version": "3.10.12"
  }
 },
 "nbformat": 4,
 "nbformat_minor": 5
}
