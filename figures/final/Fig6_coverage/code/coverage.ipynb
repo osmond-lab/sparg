{
 "cells": [
  {
   "cell_type": "code",
   "execution_count": 7,
   "id": "a16f45e3",
   "metadata": {},
   "outputs": [],
   "source": [
    "import sys\n",
    "sys.path.append(\"/Users/jameskitchens/Documents/GitHub/sparg2.0\")\n",
    "sys.path.append(\"/Users/jameskitchens/Documents/GitHub/tskit_arg_visualizer\")\n",
    "\n",
    "import sparg\n",
    "import tskit_arg_visualizer as viz\n",
    "import importlib\n",
    "importlib.reload(sparg)\n",
    "import tskit\n",
    "import msprime\n",
    "import math\n",
    "import numpy as np\n",
    "import pandas as pd\n",
    "import random\n",
    "import warnings\n",
    "import matplotlib.pyplot as plt"
   ]
  },
  {
   "cell_type": "code",
   "execution_count": 2,
   "id": "a55ab324",
   "metadata": {},
   "outputs": [],
   "source": [
    "ts = tskit.load(\"args/orig_args/rep1.trees\")"
   ]
  },
  {
   "cell_type": "markdown",
   "id": "5ca0f576",
   "metadata": {},
   "source": [
    "## Preparing the ARG for analysis\n",
    "\n",
    "We select a subset of samples and simplify the ARG using a custom function to avoid loosing recombination nodes. We then chop the ARG at 10,000 generations in the past as we are not interested in deeper times."
   ]
  },
  {
   "cell_type": "code",
   "execution_count": 4,
   "id": "35ec88d1",
   "metadata": {},
   "outputs": [],
   "source": [
    "np.random.seed(1)\n",
    "\n",
    "cutoff = 10000\n",
    "samples = list(np.random.choice(ts.samples(), 10, replace=False))\n",
    "ts_sim, map_sim = ts.simplify(samples=samples, map_nodes=True, keep_input_roots=False, keep_unary=True, update_sample_flags=False)\n",
    "\n",
    "random_ancestors = sparg.generate_random_ancestors_dataframe(ts=ts_sim, number_of_ancestors=10, cutoff=2000, include_locations=True, seed=1)\n",
    "\n",
    "ts_final, maps_final = sparg.simplify_with_recombination(ts=ts_sim, flag_recomb=True)\n",
    "ts_chopped = sparg.chop_arg(ts=ts_final, time=cutoff)"
   ]
  },
  {
   "cell_type": "markdown",
   "id": "750a7971",
   "metadata": {},
   "source": [
    "## Calculating spatial estimates\n",
    "\n",
    "WARNING: Initializing the sparg.SpatialARG can take some time depending on the size of your ARG. This calculates a number of spatial parameters for your ARG given the locations of your sample nodes. These are stored as attributes of the sparg.SpatialARG and include:\n",
    "\n",
    "- ts\n",
    "- locations_of_individuals\n",
    "- paths_shared_time_matrix\n",
    "- paths\n",
    "- node_paths_shared_times\n",
    "- node_paths\n",
    "- inverted_paths_shared_time_matrix\n",
    "- root_locations\n",
    "- path_dispersal_distances\n",
    "- dispersal_rate_matrix\n",
    "- fishers_information_1\n",
    "- fishers_information_2"
   ]
  },
  {
   "cell_type": "code",
   "execution_count": 5,
   "id": "25fe51f4",
   "metadata": {},
   "outputs": [
    {
     "name": "stdout",
     "output_type": "stream",
     "text": [
      "Prepared input parameters - Section Elapsed Time: 0.0 - Total Elapsed Time: 0.0\n"
     ]
    },
    {
     "name": "stderr",
     "output_type": "stream",
     "text": [
      "100%|███████████████████████████████████████████████████████████████████████████████████████████████████████████████████████████████████████████████████████████████████████████████████████████████████| 3329/3329 [00:07<00:00, 419.31it/s]\n"
     ]
    },
    {
     "name": "stdout",
     "output_type": "stream",
     "text": [
      "Calculated covariance matrix - Section Elapsed Time: 8.05 - Total Elapsed Time: 8.05\n",
      "Inverted covariance matrix - Section Elapsed Time: 0.37 - Total Elapsed Time: 8.43\n",
      "Created root locations vector - Section Elapsed Time: 1.59 - Total Elapsed Time: 10.02\n",
      "Estimated dispersal rate - Section Elapsed Time: 0.0 - Total Elapsed Time: 10.02\n",
      "Calculated Fisher's information matrices - Section Elapsed Time: 0.0 - Total Elapsed Time: 10.02\n",
      "Completed building SpatialARG object - Total Elapsed Time: 10.02\n"
     ]
    }
   ],
   "source": [
    "spatial_arg = sparg.SpatialARG(ts=ts_chopped, verbose=True)"
   ]
  },
  {
   "cell_type": "markdown",
   "id": "99133d31",
   "metadata": {},
   "source": [
    "## Estimating the locations of ancestors using different methods\n",
    "\n",
    "We can estimate the locations of ancestors using the full ARG, the local tree, or using a midpoint method (similar to Wohns et al. 2022)."
   ]
  },
  {
   "cell_type": "code",
   "execution_count": 8,
   "id": "d7e6f41c",
   "metadata": {},
   "outputs": [],
   "source": [
    "random_ancestors = sparg.estimate_locations_of_ancestors_in_dataframe_using_arg(df=random_ancestors, spatial_arg=spatial_arg)\n",
    "random_ancestors = sparg.estimate_locations_of_ancestors_in_dataframe_using_tree(df=random_ancestors, spatial_arg=spatial_arg)\n",
    "random_ancestors = sparg.estimate_locations_of_ancestors_in_dataframe_using_midpoint(df=random_ancestors, spatial_arg=spatial_arg, simplify=True)"
   ]
  },
  {
   "cell_type": "code",
   "execution_count": null,
   "id": "78edd375",
   "metadata": {},
   "outputs": [],
   "source": []
  }
 ],
 "metadata": {
  "kernelspec": {
   "display_name": "Python 3 (ipykernel)",
   "language": "python",
   "name": "python3"
  },
  "language_info": {
   "codemirror_mode": {
    "name": "ipython",
    "version": 3
   },
   "file_extension": ".py",
   "mimetype": "text/x-python",
   "name": "python",
   "nbconvert_exporter": "python",
   "pygments_lexer": "ipython3",
   "version": "3.10.12"
  }
 },
 "nbformat": 4,
 "nbformat_minor": 5
}
