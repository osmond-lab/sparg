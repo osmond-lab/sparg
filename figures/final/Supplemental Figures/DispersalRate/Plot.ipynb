{
 "cells": [
  {
   "cell_type": "code",
   "execution_count": 2,
   "id": "80d2b8c4",
   "metadata": {},
   "outputs": [],
   "source": [
    "import numpy as np\n",
    "import matplotlib.pyplot as plt"
   ]
  },
  {
   "cell_type": "code",
   "execution_count": 3,
   "id": "2ae991ac",
   "metadata": {},
   "outputs": [
    {
     "name": "stderr",
     "output_type": "stream",
     "text": [
      "libGL error: MESA-LOADER: failed to open iris: /usr/lib/dri/iris_dri.so: cannot open shared object file: No such file or directory (search paths /usr/lib/x86_64-linux-gnu/dri:\\$${ORIGIN}/dri:/usr/lib/dri, suffix _dri)\n",
      "libGL error: failed to load driver: iris\n",
      "libGL error: MESA-LOADER: failed to open iris: /usr/lib/dri/iris_dri.so: cannot open shared object file: No such file or directory (search paths /usr/lib/x86_64-linux-gnu/dri:\\$${ORIGIN}/dri:/usr/lib/dri, suffix _dri)\n",
      "libGL error: failed to load driver: iris\n",
      "libGL error: MESA-LOADER: failed to open swrast: /usr/lib/dri/swrast_dri.so: cannot open shared object file: No such file or directory (search paths /usr/lib/x86_64-linux-gnu/dri:\\$${ORIGIN}/dri:/usr/lib/dri, suffix _dri)\n",
      "libGL error: failed to load driver: swrast\n"
     ]
    }
   ],
   "source": [
    "%matplotlib qt\n",
    "\n",
    "#the file for dispersal_1 is generated for Fig2 code which is in the Fig2 Folder. \n",
    "dispersal_1 = np.loadtxt(\"short_slim_0.25rep1sigma_dispersalrateestimates_seqlen_100_chopped_10000_rep_0.txt\") \n",
    "#the file for dispersal_1_inf is generated using inf_cluster.py code in the same folder as this code.\n",
    "dispersal_1_inf = np.loadtxt(\"slim_0.25rep1sigma_inf_dispersalrateestimates_seqlen_100_chopped_10000_rep_0.txt\")\n",
    "\n",
    "plt.plot(dispersal_1_inf[:,0],dispersal_1_inf[:,2], label = 'ARG Likelihood (d = $\\infty$ )')\n",
    "\n",
    "plt.plot(dispersal_1[:,0], dispersal_1[:,2], color='black', label = \"ARG Likelihood\")\n",
    "#plt.plot(dispersal_1[:,0], dispersal_1[:,9], color = 'red', linestyle = \"dashdot\", label = \"Average w/ Full ARG\")\n",
    "plt.plot(dispersal_1[:,0], dispersal_1[:,5], color = 'blue', linestyle = \"--\", label = \"Comp Likelihood\")\n",
    "plt.plot(dispersal_1[:,0], dispersal_1[:,11], color = 'green', linestyle = \"dotted\", label = \"Average (ARG)\")\n",
    "plt.plot(dispersal_1[21:len(dispersal_1[:,0]),0], dispersal_1[21:len(dispersal_1[:,0]),13], color = 'red', linestyle = \"dotted\", label = \"W 20\")\n",
    "\n",
    "plt.axhline(y=0.25**2,label = \"True Value\", linestyle = '--', color = 'grey')\n",
    "plt.axhline(y=0.25**2+0.5,label = \"Effective Value\", color = 'grey')\n",
    "\n",
    "plt.legend()\n",
    "plt.xlabel(\"Number of Trees\", fontsize = 15)\n",
    "plt.ylabel(\"Dispersal Estimate\", fontsize = 15)\n",
    "plt.show()\n",
    "\n"
   ]
  },
  {
   "cell_type": "code",
   "execution_count": null,
   "id": "a1485d9b",
   "metadata": {},
   "outputs": [],
   "source": []
  }
 ],
 "metadata": {
  "kernelspec": {
   "display_name": "Python 3 (ipykernel)",
   "language": "python",
   "name": "python3"
  },
  "language_info": {
   "codemirror_mode": {
    "name": "ipython",
    "version": 3
   },
   "file_extension": ".py",
   "mimetype": "text/x-python",
   "name": "python",
   "nbconvert_exporter": "python",
   "pygments_lexer": "ipython3",
   "version": "3.9.12"
  }
 },
 "nbformat": 4,
 "nbformat_minor": 5
}
