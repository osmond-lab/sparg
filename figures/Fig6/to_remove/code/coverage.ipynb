{
 "cells": [
  {
   "cell_type": "code",
   "execution_count": 12,
   "id": "48a3bd6c",
   "metadata": {},
   "outputs": [],
   "source": [
    "import sys\n",
    "sys.path.append(\"/Users/jameskitchens/Documents/GitHub/sparg\")\n",
    "sys.path.append(\"/Users/jameskitchens/Documents/GitHub/tskit_arg_visualizer\")\n",
    "\n",
    "import sparg\n",
    "import tskit_arg_visualizer as viz\n",
    "import importlib\n",
    "importlib.reload(sparg)\n",
    "import tskit\n",
    "import msprime\n",
    "import math\n",
    "import numpy as np\n",
    "import pandas as pd\n",
    "import random\n",
    "import warnings\n",
    "import matplotlib.pyplot as plt"
   ]
  },
  {
   "cell_type": "code",
   "execution_count": 14,
   "id": "5e31b537",
   "metadata": {},
   "outputs": [],
   "source": [
    "ts = tskit.load(\"/Users/jameskitchens/Documents/GitHub/sparg/figures/Fig6_coverage/code/args/simplified_args/rep2.trees\")"
   ]
  },
  {
   "cell_type": "markdown",
   "id": "6e26e9a4",
   "metadata": {},
   "source": [
    "## Preparing the ARG for analysis\n",
    "\n",
    "We select a subset of samples and simplify the ARG using a custom function to avoid loosing recombination nodes. We then chop the ARG at 10,000 generations in the past as we are not interested in deeper times."
   ]
  },
  {
   "cell_type": "code",
   "execution_count": 16,
   "id": "4095181d",
   "metadata": {
    "scrolled": false
   },
   "outputs": [],
   "source": [
    "np.random.seed(10)\n",
    "\n",
    "cutoff = 2000\n",
    "samples = list(np.random.choice(ts.samples(), 50, replace=False))\n",
    "ts_sim, map_sim = ts.simplify(samples=samples, map_nodes=True, keep_input_roots=False, keep_unary=True, update_sample_flags=False)\n",
    "ts_final, maps_final = sparg.simplify_with_recombination(ts=ts_sim, flag_recomb=True)\n",
    "ts_chopped = sparg.chop_arg(ts=ts_final, time=cutoff)"
   ]
  },
  {
   "cell_type": "markdown",
   "id": "73c6f140",
   "metadata": {},
   "source": [
    "## Calculating spatial estimates\n",
    "\n",
    "WARNING: Initializing the sparg.SpatialARG can take some time depending on the size of your ARG. This calculates a number of spatial parameters for your ARG given the locations of your sample nodes. These are stored as attributes of the sparg.SpatialARG and include:\n",
    "\n",
    "- ts\n",
    "- locations_of_individuals\n",
    "- paths_shared_time_matrix\n",
    "- paths\n",
    "- node_paths_shared_times\n",
    "- node_paths\n",
    "- inverted_paths_shared_time_matrix\n",
    "- root_locations\n",
    "- path_dispersal_distances\n",
    "- dispersal_rate_matrix\n",
    "- fishers_information_1\n",
    "- fishers_information_2"
   ]
  },
  {
   "cell_type": "code",
   "execution_count": 17,
   "id": "20f28be6",
   "metadata": {},
   "outputs": [
    {
     "name": "stdout",
     "output_type": "stream",
     "text": [
      "Prepared input parameters - Section Elapsed Time: 0.0 - Total Elapsed Time: 0.0\n"
     ]
    },
    {
     "name": "stderr",
     "output_type": "stream",
     "text": [
      "100%|████████████████████████████████████████████| 2040/2040 [00:02<00:00, 933.16it/s]\n"
     ]
    },
    {
     "name": "stdout",
     "output_type": "stream",
     "text": [
      "Calculated covariance matrix - Section Elapsed Time: 2.24 - Total Elapsed Time: 2.25\n",
      "Inverted covariance matrix - Section Elapsed Time: 0.1 - Total Elapsed Time: 2.35\n",
      "Created root locations vector - Section Elapsed Time: 4.7 - Total Elapsed Time: 7.05\n",
      "Estimated dispersal rate - Section Elapsed Time: 0.0 - Total Elapsed Time: 7.05\n",
      "Calculated Fisher's information matrices - Section Elapsed Time: 0.0 - Total Elapsed Time: 7.05\n",
      "Completed building SpatialARG object - Total Elapsed Time: 7.05\n"
     ]
    }
   ],
   "source": [
    "spatial_arg = sparg.SpatialARG(ts=ts_chopped, verbose=True)"
   ]
  },
  {
   "cell_type": "markdown",
   "id": "b4b0f8a2",
   "metadata": {},
   "source": [
    "## Estimating the locations of ancestors using different methods\n",
    "\n",
    "We can estimate the locations of ancestors using the full ARG, ARGs trimmed to windows of different sizes, or a midpoint method (similar to Wohns et al. 2022)."
   ]
  },
  {
   "cell_type": "code",
   "execution_count": 18,
   "id": "8d4b60ba",
   "metadata": {},
   "outputs": [],
   "source": [
    "spatial_arg.dispersal_rate_matrix = np.array([[0.25*0.25+0.5,0],[0,0.25*0.25+0.5]])"
   ]
  },
  {
   "cell_type": "code",
   "execution_count": 19,
   "id": "3003fff7",
   "metadata": {},
   "outputs": [
    {
     "name": "stderr",
     "output_type": "stream",
     "text": [
      "/Users/jameskitchens/Documents/GitHub/sparg/sparg/__init__.py:43: UserWarning: Sample -1 does not have an ancestral node at time 988 in tree. Returning None.\n",
      "  warnings.warn(f\"Sample %s does not have an ancestral node at time %s in tree. Returning None.\" % (u, time))\n"
     ]
    },
    {
     "ename": "TypeError",
     "evalue": "Index must be of integer type, not 'NoneType'",
     "output_type": "error",
     "traceback": [
      "\u001b[0;31m---------------------------------------------------------------------------\u001b[0m",
      "\u001b[0;31mTypeError\u001b[0m                                 Traceback (most recent call last)",
      "Cell \u001b[0;32mIn[19], line 1\u001b[0m\n\u001b[0;32m----> 1\u001b[0m random_ancestors \u001b[38;5;241m=\u001b[39m \u001b[43msparg\u001b[49m\u001b[38;5;241;43m.\u001b[39;49m\u001b[43mgenerate_random_ancestors_dataframe\u001b[49m\u001b[43m(\u001b[49m\u001b[43mts\u001b[49m\u001b[38;5;241;43m=\u001b[39;49m\u001b[43mts_sim\u001b[49m\u001b[43m,\u001b[49m\u001b[43m \u001b[49m\u001b[43mnumber_of_ancestors\u001b[49m\u001b[38;5;241;43m=\u001b[39;49m\u001b[38;5;241;43m1000\u001b[39;49m\u001b[43m,\u001b[49m\u001b[43m \u001b[49m\u001b[43mcutoff\u001b[49m\u001b[38;5;241;43m=\u001b[39;49m\u001b[38;5;241;43m2000\u001b[39;49m\u001b[43m,\u001b[49m\u001b[43m \u001b[49m\u001b[43minclude_locations\u001b[49m\u001b[38;5;241;43m=\u001b[39;49m\u001b[38;5;28;43;01mTrue\u001b[39;49;00m\u001b[43m,\u001b[49m\u001b[43m \u001b[49m\u001b[43mseed\u001b[49m\u001b[38;5;241;43m=\u001b[39;49m\u001b[38;5;241;43m10\u001b[39;49m\u001b[43m)\u001b[49m\n",
      "File \u001b[0;32m~/Documents/GitHub/sparg/sparg/__init__.py:95\u001b[0m, in \u001b[0;36mgenerate_random_ancestors_dataframe\u001b[0;34m(ts, number_of_ancestors, include_locations, dimensions, cutoff, seed)\u001b[0m\n\u001b[1;32m     93\u001b[0m genome_positions\u001b[38;5;241m.\u001b[39mappend(genome_pos)\n\u001b[1;32m     94\u001b[0m times\u001b[38;5;241m.\u001b[39mappend(time)\n\u001b[0;32m---> 95\u001b[0m indiv \u001b[38;5;241m=\u001b[39m \u001b[43mts\u001b[49m\u001b[38;5;241;43m.\u001b[39;49m\u001b[43mnode\u001b[49m\u001b[43m(\u001b[49m\u001b[43mancestor\u001b[49m\u001b[43m)\u001b[49m\u001b[38;5;241m.\u001b[39mindividual\n\u001b[1;32m     96\u001b[0m \u001b[38;5;28;01mif\u001b[39;00m indiv \u001b[38;5;241m!=\u001b[39m \u001b[38;5;241m-\u001b[39m\u001b[38;5;241m1\u001b[39m:\n\u001b[1;32m     97\u001b[0m     location\u001b[38;5;241m.\u001b[39mappend(ts\u001b[38;5;241m.\u001b[39mindividual(indiv)\u001b[38;5;241m.\u001b[39mlocation[:dimensions])\n",
      "File \u001b[0;32m/opt/anaconda3/envs/sparg_dev/lib/python3.10/site-packages/tskit/trees.py:5924\u001b[0m, in \u001b[0;36mTreeSequence.node\u001b[0;34m(self, id_)\u001b[0m\n\u001b[1;32m   5916\u001b[0m \u001b[38;5;28;01mdef\u001b[39;00m \u001b[38;5;21mnode\u001b[39m(\u001b[38;5;28mself\u001b[39m, id_):\n\u001b[1;32m   5917\u001b[0m \u001b[38;5;250m    \u001b[39m\u001b[38;5;124;03m\"\"\"\u001b[39;00m\n\u001b[1;32m   5918\u001b[0m \u001b[38;5;124;03m    Returns the :ref:`node <sec_node_table_definition>` in this tree sequence\u001b[39;00m\n\u001b[1;32m   5919\u001b[0m \u001b[38;5;124;03m    with the specified ID. As with python lists, negative IDs can be used to\u001b[39;00m\n\u001b[0;32m   (...)\u001b[0m\n\u001b[1;32m   5922\u001b[0m \u001b[38;5;124;03m    :rtype: :class:`Node`\u001b[39;00m\n\u001b[1;32m   5923\u001b[0m \u001b[38;5;124;03m    \"\"\"\u001b[39;00m\n\u001b[0;32m-> 5924\u001b[0m     id_ \u001b[38;5;241m=\u001b[39m \u001b[38;5;28;43mself\u001b[39;49m\u001b[38;5;241;43m.\u001b[39;49m\u001b[43mcheck_index\u001b[49m\u001b[43m(\u001b[49m\u001b[43mid_\u001b[49m\u001b[43m,\u001b[49m\u001b[43m \u001b[49m\u001b[38;5;28;43mself\u001b[39;49m\u001b[38;5;241;43m.\u001b[39;49m\u001b[43mnum_nodes\u001b[49m\u001b[43m)\u001b[49m\n\u001b[1;32m   5925\u001b[0m     (\n\u001b[1;32m   5926\u001b[0m         flags,\n\u001b[1;32m   5927\u001b[0m         time,\n\u001b[0;32m   (...)\u001b[0m\n\u001b[1;32m   5930\u001b[0m         metadata,\n\u001b[1;32m   5931\u001b[0m     ) \u001b[38;5;241m=\u001b[39m \u001b[38;5;28mself\u001b[39m\u001b[38;5;241m.\u001b[39m_ll_tree_sequence\u001b[38;5;241m.\u001b[39mget_node(id_)\n\u001b[1;32m   5932\u001b[0m     \u001b[38;5;28;01mreturn\u001b[39;00m Node(\n\u001b[1;32m   5933\u001b[0m         \u001b[38;5;28mid\u001b[39m\u001b[38;5;241m=\u001b[39mid_,\n\u001b[1;32m   5934\u001b[0m         flags\u001b[38;5;241m=\u001b[39mflags,\n\u001b[0;32m   (...)\u001b[0m\n\u001b[1;32m   5939\u001b[0m         metadata_decoder\u001b[38;5;241m=\u001b[39m\u001b[38;5;28mself\u001b[39m\u001b[38;5;241m.\u001b[39mtable_metadata_schemas\u001b[38;5;241m.\u001b[39mnode\u001b[38;5;241m.\u001b[39mdecode_row,\n\u001b[1;32m   5940\u001b[0m     )\n",
      "File \u001b[0;32m/opt/anaconda3/envs/sparg_dev/lib/python3.10/site-packages/tskit/trees.py:5945\u001b[0m, in \u001b[0;36mTreeSequence.check_index\u001b[0;34m(index, length)\u001b[0m\n\u001b[1;32m   5942\u001b[0m \u001b[38;5;129m@staticmethod\u001b[39m\n\u001b[1;32m   5943\u001b[0m \u001b[38;5;28;01mdef\u001b[39;00m \u001b[38;5;21mcheck_index\u001b[39m(index, length):\n\u001b[1;32m   5944\u001b[0m     \u001b[38;5;28;01mif\u001b[39;00m \u001b[38;5;129;01mnot\u001b[39;00m \u001b[38;5;28misinstance\u001b[39m(index, numbers\u001b[38;5;241m.\u001b[39mIntegral):\n\u001b[0;32m-> 5945\u001b[0m         \u001b[38;5;28;01mraise\u001b[39;00m \u001b[38;5;167;01mTypeError\u001b[39;00m(\n\u001b[1;32m   5946\u001b[0m             \u001b[38;5;124mf\u001b[39m\u001b[38;5;124m\"\u001b[39m\u001b[38;5;124mIndex must be of integer type, not \u001b[39m\u001b[38;5;124m'\u001b[39m\u001b[38;5;132;01m{\u001b[39;00m\u001b[38;5;28mtype\u001b[39m(index)\u001b[38;5;241m.\u001b[39m\u001b[38;5;18m__name__\u001b[39m\u001b[38;5;132;01m}\u001b[39;00m\u001b[38;5;124m'\u001b[39m\u001b[38;5;124m\"\u001b[39m\n\u001b[1;32m   5947\u001b[0m         )\n\u001b[1;32m   5948\u001b[0m     \u001b[38;5;28;01mif\u001b[39;00m index \u001b[38;5;241m<\u001b[39m \u001b[38;5;241m0\u001b[39m:\n\u001b[1;32m   5949\u001b[0m         index \u001b[38;5;241m+\u001b[39m\u001b[38;5;241m=\u001b[39m length\n",
      "\u001b[0;31mTypeError\u001b[0m: Index must be of integer type, not 'NoneType'"
     ]
    }
   ],
   "source": [
    "random_ancestors = sparg.generate_random_ancestors_dataframe(ts=ts_sim, number_of_ancestors=1000, cutoff=2000, include_locations=True, seed=10)"
   ]
  },
  {
   "cell_type": "code",
   "execution_count": 20,
   "id": "b405ae20",
   "metadata": {},
   "outputs": [
    {
     "data": {
      "application/vnd.jupyter.widget-view+json": {
       "model_id": "cb85da59edd94c85bdb25677418745e9",
       "version_major": 2,
       "version_minor": 0
      },
      "text/plain": [
       "  0%|          | 0/1000 [00:00<?, ?it/s]"
      ]
     },
     "metadata": {},
     "output_type": "display_data"
    }
   ],
   "source": [
    "random_ancestors = sparg.estimate_locations_of_ancestors_in_dataframe_using_arg(df=random_ancestors, spatial_arg=spatial_arg)"
   ]
  },
  {
   "cell_type": "code",
   "execution_count": 23,
   "id": "2e3ba1dd",
   "metadata": {},
   "outputs": [
    {
     "data": {
      "application/vnd.jupyter.widget-view+json": {
       "model_id": "c43ba9a8684a41f5b5d01dd4c39ede36",
       "version_major": 2,
       "version_minor": 0
      },
      "text/plain": [
       "  0%|          | 0/1000 [00:00<?, ?it/s]"
      ]
     },
     "metadata": {},
     "output_type": "display_data"
    },
    {
     "data": {
      "application/vnd.jupyter.widget-view+json": {
       "model_id": "55c5e26620c54359aee9e28caf088dc7",
       "version_major": 2,
       "version_minor": 0
      },
      "text/plain": [
       "  0%|          | 0/599 [00:00<?, ?it/s]"
      ]
     },
     "metadata": {},
     "output_type": "display_data"
    },
    {
     "data": {
      "application/vnd.jupyter.widget-view+json": {
       "model_id": "b71d8685f5584b219443e2a8df807ed2",
       "version_major": 2,
       "version_minor": 0
      },
      "text/plain": [
       "  0%|          | 0/1000 [00:00<?, ?it/s]"
      ]
     },
     "metadata": {},
     "output_type": "display_data"
    }
   ],
   "source": [
    "random_ancestors = sparg.estimate_locations_of_ancestors_in_dataframe_using_window(df=random_ancestors, spatial_arg=spatial_arg, window_size=0, use_theoretical_dispersal=True)\n",
    "#random_ancestors = sparg.estimate_locations_of_ancestors_in_dataframe_using_window(df=random_ancestors, spatial_arg=spatial_arg, window_size=20, use_theoretical_dispersal=True)\n",
    "#random_ancestors = sparg.estimate_locations_of_ancestors_in_dataframe_using_window(df=random_ancestors, spatial_arg=spatial_arg, window_size=40, use_theoretical_dispersal=True)"
   ]
  },
  {
   "cell_type": "code",
   "execution_count": 25,
   "id": "5ed4c2e2",
   "metadata": {},
   "outputs": [
    {
     "data": {
      "application/vnd.jupyter.widget-view+json": {
       "model_id": "49d9149afb264fa28f1c7a6e1669af4b",
       "version_major": 2,
       "version_minor": 0
      },
      "text/plain": [
       "  0%|          | 0/1000 [00:00<?, ?it/s]"
      ]
     },
     "metadata": {},
     "output_type": "display_data"
    },
    {
     "name": "stderr",
     "output_type": "stream",
     "text": [
      "\n",
      "KeyboardInterrupt\n",
      "\n"
     ]
    }
   ],
   "source": [
    "sparg.estimate_locations_of_ancestors_in_dataframe_using_window_orig(df=random_ancestors, spatial_arg=spatial_arg, window_size=0, use_theoretical_dispersal=True)"
   ]
  },
  {
   "cell_type": "code",
   "execution_count": null,
   "id": "dfb8d9d4",
   "metadata": {},
   "outputs": [],
   "source": [
    "random_ancestors = sparg.estimate_locations_of_ancestors_in_dataframe_using_window(df=random_ancestors, spatial_arg=spatial_arg, window_size=100, use_theoretical_dispersal=True)\n",
    "random_ancestors = sparg.estimate_locations_of_ancestors_in_dataframe_using_midpoint(df=random_ancestors, spatial_arg=spatial_arg, simplify=True)"
   ]
  },
  {
   "cell_type": "code",
   "execution_count": null,
   "id": "7717b2c7",
   "metadata": {
    "scrolled": false
   },
   "outputs": [],
   "source": [
    "random_ancestors[\"arg_error_0\"] = random_ancestors[\"true_location_0\"] - random_ancestors[\"arg_estimated_location_0\"]\n",
    "random_ancestors[\"arg_abs_error_0\"] = abs(random_ancestors[\"arg_error_0\"])\n",
    "random_ancestors[\"window_0_error_0\"] = random_ancestors[\"true_location_0\"] - random_ancestors[\"window_0_estimated_location_0\"]\n",
    "random_ancestors[\"window_0_abs_error_0\"] = abs(random_ancestors[\"window_0_error_0\"])\n",
    "random_ancestors[\"window_20_error_0\"] = random_ancestors[\"true_location_0\"] - random_ancestors[\"window_20_estimated_location_0\"]\n",
    "random_ancestors[\"window_20_abs_error_0\"] = abs(random_ancestors[\"window_20_error_0\"])\n",
    "random_ancestors[\"window_40_error_0\"] = random_ancestors[\"true_location_0\"] - random_ancestors[\"window_40_estimated_location_0\"]\n",
    "random_ancestors[\"window_40_abs_error_0\"] = abs(random_ancestors[\"window_40_error_0\"])\n",
    "random_ancestors[\"window_100_error_0\"] = random_ancestors[\"true_location_0\"] - random_ancestors[\"window_100_estimated_location_0\"]\n",
    "random_ancestors[\"window_100_abs_error_0\"] = abs(random_ancestors[\"window_100_error_0\"])\n",
    "random_ancestors[\"midpoint_error_0\"] = random_ancestors[\"true_location_0\"] - random_ancestors[\"midpoint_estimated_location_0\"]\n",
    "random_ancestors[\"midpoint_abs_error_0\"] = abs(random_ancestors[\"midpoint_error_0\"])"
   ]
  },
  {
   "cell_type": "markdown",
   "id": "b96de8a7",
   "metadata": {},
   "source": [
    "### Error and variances of methods\n",
    "\n",
    "The midpoint method does not estimate variance; for all other methods we use the theoretical dispersal rate matrix rather than the estimated dispersal rate matrix to ensure consistency between the methods."
   ]
  },
  {
   "cell_type": "code",
   "execution_count": null,
   "id": "d9a71253",
   "metadata": {},
   "outputs": [],
   "source": [
    "plt.violinplot([random_ancestors[\"arg_abs_error_0\"], random_ancestors[\"window_0_abs_error_0\"], random_ancestors[\"window_20_abs_error_0\"], random_ancestors[\"window_40_abs_error_0\"], random_ancestors[\"window_100_abs_error_0\"], random_ancestors[\"midpoint_abs_error_0\"]], showmeans=True)\n",
    "plt.xticks([1,2,3,4,5,6], [\"ARG\", \"W_0\", \"W_20\", \"W_40\", \"W_100\", \"Midpoint\"])\n",
    "plt.ylabel(\"Absolute Error In Location Estimate\")\n",
    "plt.show()"
   ]
  },
  {
   "cell_type": "code",
   "execution_count": null,
   "id": "d26aa119",
   "metadata": {},
   "outputs": [],
   "source": [
    "plt.violinplot([random_ancestors[\"arg_variance_in_estimated_location_0\"], random_ancestors[\"window_0_variance_in_estimated_location_0\"], random_ancestors[\"window_20_variance_in_estimated_location_0\"], random_ancestors[\"window_40_variance_in_estimated_location_0\"], random_ancestors[\"window_100_variance_in_estimated_location_0\"]], showmeans=True)\n",
    "plt.xticks([1,2,3,4,5], [\"ARG\", \"W_0\", \"W_20\", \"W_40\", \"W_100\"])\n",
    "plt.ylabel(\"Variance In Location Estimate\")\n",
    "plt.show()"
   ]
  },
  {
   "cell_type": "markdown",
   "id": "0e1a56ca",
   "metadata": {},
   "source": [
    "### Why are we getting worse error when using the full ARG compared to just the local tree?\n",
    "\n",
    "This is very surprising as the full ARG shoud have more information than the local trees. The following plot shows that the ARG method is pulling ancestors too quickly into the center."
   ]
  },
  {
   "cell_type": "code",
   "execution_count": null,
   "id": "12e19972",
   "metadata": {},
   "outputs": [],
   "source": [
    "fig, ((ax0, ax1, ax2, ax3, ax4)) = plt.subplots(nrows=1, ncols=5, layout=\"constrained\")\n",
    "\n",
    "ax0.scatter(random_ancestors[\"true_location_0\"], random_ancestors[\"arg_error_0\"], c=random_ancestors[\"time\"], alpha=0.2, vmin=0, vmax=2000)\n",
    "ax0.set_xlim([0, 100])\n",
    "ax0.set_ylim([-100, 100])\n",
    "ax0.set_title(\"ARG\")\n",
    "ax0.set_ylabel(\"Error\")\n",
    "ax0.set_xlabel(\"True Location\")\n",
    "ax1.scatter(random_ancestors[\"true_location_0\"], random_ancestors[\"window_0_error_0\"], c=random_ancestors[\"time\"], alpha=0.2, vmin=0, vmax=2000)\n",
    "ax1.set_xlim([0, 100])\n",
    "ax1.set_ylim([-100, 100])\n",
    "ax1.set_title(\"W_0\")\n",
    "ax1.set_xlabel(\"True Location\")\n",
    "ax2.scatter(random_ancestors[\"true_location_0\"], random_ancestors[\"window_40_error_0\"], c=random_ancestors[\"time\"], alpha=0.2, vmin=0, vmax=2000)\n",
    "ax2.set_xlim([0, 100])\n",
    "ax2.set_ylim([-100, 100])\n",
    "ax2.set_title(\"W_40\")\n",
    "ax2.set_xlabel(\"True Location\")\n",
    "ax3.scatter(random_ancestors[\"true_location_0\"], random_ancestors[\"window_100_error_0\"], c=random_ancestors[\"time\"], alpha=0.2, vmin=0, vmax=2000)\n",
    "ax3.set_xlim([0, 100])\n",
    "ax3.set_ylim([-100, 100])\n",
    "ax3.set_title(\"W_100\")\n",
    "ax3.set_xlabel(\"True Location\")\n",
    "midpoint = ax4.scatter(random_ancestors[\"true_location_0\"], random_ancestors[\"midpoint_error_0\"], c=random_ancestors[\"time\"], alpha=0.2, vmin=0, vmax=2000)\n",
    "ax4.set_xlim([0, 100])\n",
    "ax4.set_ylim([-100, 100])\n",
    "ax4.set_title(\"Midpoint\")\n",
    "ax4.set_xlabel(\"True Location\")\n",
    "\n",
    "colorbar = fig.colorbar(midpoint, ax=ax4, label=\"Time (Generations Before Present)\")\n",
    "colorbar.solids.set(alpha=1)\n",
    "\n",
    "fig.set_figwidth(14)\n",
    "\n",
    "plt.show()"
   ]
  },
  {
   "cell_type": "markdown",
   "id": "1155b6d6",
   "metadata": {},
   "source": [
    "We do not see a bias in error when scanning across the genome."
   ]
  },
  {
   "cell_type": "code",
   "execution_count": null,
   "id": "16a75b8d",
   "metadata": {},
   "outputs": [],
   "source": [
    "fig, ((ax0, ax1, ax2, ax3, ax4)) = plt.subplots(nrows=1, ncols=5, layout=\"constrained\")\n",
    "\n",
    "ax0.scatter(random_ancestors[\"genome_position\"], random_ancestors[\"arg_error_0\"], c=random_ancestors[\"time\"], alpha=0.2, vmin=0, vmax=2000)\n",
    "ax0.set_ylim([-100, 100])\n",
    "ax0.set_title(\"ARG\")\n",
    "ax0.set_ylabel(\"Error\")\n",
    "ax0.set_xlabel(\"Genome Position\")\n",
    "ax1.scatter(random_ancestors[\"genome_position\"], random_ancestors[\"window_0_error_0\"], c=random_ancestors[\"time\"], alpha=0.2, vmin=0, vmax=2000)\n",
    "ax1.set_ylim([-100, 100])\n",
    "ax1.set_title(\"W_0\")\n",
    "ax1.set_xlabel(\"Genome Position\")\n",
    "ax2.scatter(random_ancestors[\"genome_position\"], random_ancestors[\"window_40_error_0\"], c=random_ancestors[\"time\"], alpha=0.2, vmin=0, vmax=2000)\n",
    "ax2.set_ylim([-100, 100])\n",
    "ax2.set_title(\"W_40\")\n",
    "ax2.set_xlabel(\"Genome Position\")\n",
    "ax3.scatter(random_ancestors[\"genome_position\"], random_ancestors[\"window_100_error_0\"], c=random_ancestors[\"time\"], alpha=0.2, vmin=0, vmax=2000)\n",
    "ax3.set_ylim([-100, 100])\n",
    "ax3.set_title(\"W_100\")\n",
    "ax3.set_xlabel(\"Genome Position\")\n",
    "midpoint = ax4.scatter(random_ancestors[\"genome_position\"], random_ancestors[\"midpoint_error_0\"], c=random_ancestors[\"time\"], alpha=0.2, vmin=0, vmax=2000)\n",
    "ax4.set_ylim([-100, 100])\n",
    "ax4.set_title(\"Midpoint\")\n",
    "ax4.set_xlabel(\"Genome Position\")\n",
    "\n",
    "colorbar = fig.colorbar(midpoint, ax=ax4, label=\"Time (Generations Before Present)\")\n",
    "colorbar.solids.set(alpha=1)\n",
    "\n",
    "fig.set_figwidth(14)\n",
    "\n",
    "plt.show()"
   ]
  },
  {
   "cell_type": "markdown",
   "id": "11f8a7bb",
   "metadata": {},
   "source": [
    "### Coverage\n",
    "\n",
    "The following section looks at how well the confidence intervals capture the true locations of the ancestors. As we increase the number of standard deviations out from the estimated location, we should capture more of the true locations. If our dispersal rate is the correct size (which it should be because we are using the theoretical effective dispersal rate), the coverage should fall very close to the expectation line."
   ]
  },
  {
   "cell_type": "code",
   "execution_count": 147,
   "id": "b13fb076",
   "metadata": {
    "scrolled": true
   },
   "outputs": [
    {
     "name": "stderr",
     "output_type": "stream",
     "text": [
      "/opt/anaconda3/envs/sparg_dev/lib/python3.10/site-packages/pandas/core/arraylike.py:396: RuntimeWarning: invalid value encountered in sqrt\n",
      "  result = getattr(ufunc, method)(*inputs, **kwargs)\n"
     ]
    }
   ],
   "source": [
    "import scipy.stats as st\n",
    "\n",
    "std_arg = np.sqrt(random_ancestors[\"arg_variance_in_estimated_location_0\"])\n",
    "std_0 = np.sqrt(random_ancestors[\"window_0_variance_in_estimated_location_0\"])\n",
    "std_40 = np.sqrt(random_ancestors[\"window_40_variance_in_estimated_location_0\"])\n",
    "std_100 = np.sqrt(random_ancestors[\"window_100_variance_in_estimated_location_0\"])\n",
    "\n",
    "expected_zs = []\n",
    "expected_percent_within = []\n",
    "percent_within_arg = []\n",
    "percent_within_w0 = []\n",
    "percent_within_w40 = []\n",
    "percent_within_w100 = []\n",
    "for i in range(0,300):\n",
    "    value = st.norm.cdf(i/100)\n",
    "    expected_zs.append(i/100)\n",
    "    expected_percent_within.append(value - (1-value))\n",
    "    percent_within_arg.append(sum(random_ancestors[\"arg_abs_error_0\"] <= std_arg*(i/100))/len(random_ancestors))\n",
    "    percent_within_w0.append(sum(random_ancestors[\"window_0_abs_error_0\"] <= std_0*(i/100))/len(random_ancestors))\n",
    "    percent_within_w40.append(sum(random_ancestors[\"window_40_abs_error_0\"] <= std_40*(i/100))/len(random_ancestors))\n",
    "    percent_within_w100.append(sum(random_ancestors[\"window_100_abs_error_0\"] <= std_100*(i/100))/len(random_ancestors))"
   ]
  },
  {
   "cell_type": "code",
   "execution_count": 151,
   "id": "583aa73f",
   "metadata": {},
   "outputs": [
    {
     "data": {
      "image/png": "[encoded data removed]",
      "text/plain": [
       "<Figure size 640x480 with 1 Axes>"
      ]
     },
     "metadata": {},
     "output_type": "display_data"
    }
   ],
   "source": [
    "plt.plot(expected_percent_within, expected_percent_within, color=\"gray\", linestyle='dashed')\n",
    "plt.plot(expected_percent_within, percent_within_arg, label=\"ARG\")\n",
    "plt.plot(expected_percent_within, percent_within_w0, label=\"W_0\")\n",
    "plt.plot(expected_percent_within, percent_within_w40, label=\"W_40\")\n",
    "plt.plot(expected_percent_within, percent_within_w100, label=\"W_100\")\n",
    "plt.xlabel(\"Expected\")\n",
    "plt.ylabel(\"Observed\")\n",
    "plt.legend()\n",
    "plt.show()"
   ]
  },
  {
   "cell_type": "code",
   "execution_count": 152,
   "id": "146d90b3",
   "metadata": {},
   "outputs": [
    {
     "data": {
      "image/png": "[encoded data removed]",
      "text/plain": [
       "<Figure size 640x480 with 1 Axes>"
      ]
     },
     "metadata": {},
     "output_type": "display_data"
    }
   ],
   "source": [
    "def store_window_bounds(row, spatial_arg, window_size, use_theoretical_dispersal=False):\n",
    "    left, right = get_window_bounds(genome_pos=row[\"interval_left\"], spatial_arg=spatial_arg, window_size=window_size)\n",
    "    return pd.Series({\"left\":left, \"right\": right})\n",
    "\n",
    "window_sizes = random_ancestors.apply(store_window_bounds, spatial_arg=spatial_arg, window_size=100, axis=1)\n",
    "window_sizes[\"width\"] = window_sizes[\"right\"] - window_sizes[\"left\"]\n",
    "\n",
    "plt.hist(window_sizes[\"width\"])\n",
    "plt.xlabel(\"Width (bp)\")\n",
    "plt.ylabel(\"Count\")\n",
    "plt.show()\n"
   ]
  },
  {
   "cell_type": "markdown",
   "id": "ff1522dc",
   "metadata": {},
   "source": [
    "## Checking sample coalescence\n",
    "\n",
    "How many samples don't coalescence with any of the samples before the cutoff? We would not have any spatial information for these samples so it would be concerning if there were many."
   ]
  },
  {
   "cell_type": "code",
   "execution_count": 163,
   "id": "b5b2d255",
   "metadata": {
    "scrolled": true
   },
   "outputs": [],
   "source": [
    "def determine_if_isolated(tree, u, ts):\n",
    "    u = tree.parent(u)\n",
    "    while u != -1:\n",
    "        if ts.node(u).flags == 0:\n",
    "            return False\n",
    "        u = tree.parent(u)\n",
    "    return True\n",
    "\n",
    "for tree in spatial_arg.ts.trees():\n",
    "    for sample in tree.samples():\n",
    "        if determine_if_isolated(tree, sample, spatial_arg.ts):\n",
    "            print(sample)"
   ]
  },
  {
   "cell_type": "markdown",
   "id": "24640226",
   "metadata": {},
   "source": [
    "Checking this in each tree individually, we don't find any samples that lack a coalescence event before the cutoff, so we do not need to worry about this."
   ]
  },
  {
   "cell_type": "code",
   "execution_count": 164,
   "id": "764506f7",
   "metadata": {},
   "outputs": [],
   "source": [
    "random_ancestors.to_csv(\"random_ancestors.csv\")"
   ]
  },
  {
   "cell_type": "code",
   "execution_count": null,
   "id": "bcb9f14a",
   "metadata": {},
   "outputs": [],
   "source": []
  }
 ],
 "metadata": {
  "kernelspec": {
   "display_name": "Python 3 (ipykernel)",
   "language": "python",
   "name": "python3"
  },
  "language_info": {
   "codemirror_mode": {
    "name": "ipython",
    "version": 3
   },
   "file_extension": ".py",
   "mimetype": "text/x-python",
   "name": "python",
   "nbconvert_exporter": "python",
   "pygments_lexer": "ipython3",
   "version": "3.10.12"
  }
 },
 "nbformat": 4,
 "nbformat_minor": 5
}
