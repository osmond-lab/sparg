{
 "cells": [
  {
   "cell_type": "code",
   "execution_count": null,
   "id": "c20acf37",
   "metadata": {},
   "outputs": [],
   "source": [
    "import random\n",
    "import msprime\n",
    "import time\n",
    "import numpy as np\n",
    "import algos.paths\n",
    "import algos.bottom_up\n",
    "import algos.minimal\n",
    "from itertools import permutations\n",
    "import matplotlib.pyplot as plt"
   ]
  },
  {
   "cell_type": "markdown",
   "id": "e7a7db88",
   "metadata": {},
   "source": [
    "# Code to generate the data file for Fig 2 "
   ]
  },
  {
   "cell_type": "code",
   "execution_count": null,
   "id": "49f62c69",
   "metadata": {},
   "outputs": [],
   "source": [
    "benchmark_file = open(\"benchmarking_final.csv\", \"w\")\n",
    "benchmark_file.write(\"num_samples,sequence_length,seed,num_trees,nodes,paths,algo_order,paths_time,bottom_up_time,minimal_time,minimal_paths\\n\")\n",
    "\n",
    "perms = list(permutations([0, 1, 2]))\n",
    "\n",
    "for samples in range(10,110,10):\n",
    "    print(samples)\n",
    "    for seq_len in range(1000, 6000, 1000):\n",
    "        for repeat in range(3):\n",
    "            benchmark_file.write(str(samples) + \",\")\n",
    "            benchmark_file.write(str(seq_len) + \",\")\n",
    "\n",
    "            rs = random.randint(0,10000)\n",
    "            benchmark_file.write(str(rs) + \",\")\n",
    "\n",
    "            ts = msprime.sim_ancestry(\n",
    "                samples=samples,\n",
    "                recombination_rate=1e-8,\n",
    "                sequence_length=seq_len,\n",
    "                population_size=10_000,\n",
    "                record_full_arg=True,\n",
    "                random_seed=rs\n",
    "            )\n",
    "\n",
    "            #print(ts.draw_text())\n",
    "\n",
    "            benchmark_file.write(str(ts.num_trees) + \",\")\n",
    "            benchmark_file.write(str(len(ts.nodes())) + \",\")\n",
    "            benchmark_file.write(str(len(algos.paths.identify_unique_paths(ts=ts))) + \",\")\n",
    "\n",
    "            specific_perm = perms[random.randint(0, len(perms)-1)]\n",
    "            string_perm = str(specific_perm).replace(\" \", \"\").replace(\",\", \"\").replace(\")\", \"\").replace(\"(\", \"\")\n",
    "            benchmark_file.write(string_perm + \",\")\n",
    "            for value in specific_perm:\n",
    "                if value == 0:\n",
    "                    paths_bench = algos.paths.benchmark(ts=ts)\n",
    "                elif value == 1:\n",
    "                    bottom_up_bench = algos.bottom_up.benchmark(ts=ts)\n",
    "                else:\n",
    "                    minimal_bench = algos.minimal.benchmark(ts=ts)\n",
    "            benchmark_file.write(str(paths_bench[0]) + \",\" + str(bottom_up_bench[0]) + \",\" + str(minimal_bench[0]) + \",\" + str(minimal_bench[2]) + \"\\n\")\n",
    "    \n",
    "benchmark_file.close()"
   ]
  },
  {
   "cell_type": "markdown",
   "id": "d00747c3",
   "metadata": {},
   "source": [
    "# Code to generate the plot for Fig 2 "
   ]
  },
  {
   "cell_type": "code",
   "execution_count": null,
   "id": "422664be",
   "metadata": {},
   "outputs": [],
   "source": [
    "import numpy as np\n",
    "\n",
    "bench = np.loadtxt(\"benchmarking.csv\", delimiter=\",\")\n",
    "\n",
    "plt.scatter(bench[5], bench[7], label=\"paths\")\n",
    "plt.scatter(bench[5], bench[8], label=\"bottom up\")\n",
    "plt.scatter(bench[5], bench[9], label=\"minimal\")\n",
    "\n",
    "plt.xlim(0,1000)\n",
    "plt.legend()\n",
    "plt.show()"
   ]
  }
 ],
 "metadata": {
  "kernelspec": {
   "display_name": "Python 3 (ipykernel)",
   "language": "python",
   "name": "python3"
  },
  "language_info": {
   "codemirror_mode": {
    "name": "ipython",
    "version": 3
   },
   "file_extension": ".py",
   "mimetype": "text/x-python",
   "name": "python",
   "nbconvert_exporter": "python",
   "pygments_lexer": "ipython3",
   "version": "3.9.19"
  }
 },
 "nbformat": 4,
 "nbformat_minor": 5
}
