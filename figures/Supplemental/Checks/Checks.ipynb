{
 "cells": [
  {
   "cell_type": "code",
   "execution_count": 1,
   "id": "13116de8",
   "metadata": {},
   "outputs": [
    {
     "data": {
      "application/javascript": [
       "require.config({ \n",
       "    paths: { \n",
       "    d3: 'https://d3js.org/d3.v7.min'\n",
       "}});\n",
       "\n",
       "require([\"d3\"], function(d3) {\n",
       "    window.d3 = d3;\n",
       "});\n"
      ],
      "text/plain": [
       "<IPython.core.display.Javascript object>"
      ]
     },
     "metadata": {},
     "output_type": "display_data"
    }
   ],
   "source": [
    "%%javascript\n",
    "require.config({ \n",
    "    paths: { \n",
    "    d3: 'https://d3js.org/d3.v7.min'\n",
    "}});\n",
    "\n",
    "require([\"d3\"], function(d3) {\n",
    "    window.d3 = d3;\n",
    "});"
   ]
  },
  {
   "cell_type": "code",
   "execution_count": 2,
   "id": "80d2b8c4",
   "metadata": {},
   "outputs": [],
   "source": [
    "%reset -f\n",
    "#import sparg_with_inf as sparg\n",
    "import sys\n",
    "sys.path.append(\"/home/puneeth/UofT/Projects/SpARG Project/sparg_github/sparg/\")\n",
    "import sparg as sparg\n",
    "import tskit\n",
    "import msprime\n",
    "import numpy as np\n",
    "import warnings\n",
    "import matplotlib.pyplot as plt\n",
    "import matplotlib\n",
    "matplotlib.use('Qt5Agg')\n",
    "import tskit_arg_visualizer\n",
    "\n",
    "def locate_nodes(nodes, SpARG):\n",
    "    \"\"\"Calculate the location of the list of nodes\n",
    "\n",
    "    Parameters\n",
    "    ----------\n",
    "    nodes : list\n",
    "        List of nodes for which the locations will be calculated\n",
    "    SpARG : SpatialARG\n",
    "    \tAn instance of the SpatialARG class defined below. \n",
    "\n",
    "    Returns\n",
    "    -------\n",
    "    node_locations : dict\n",
    "        The keys are the nodes. The values are the geographic location of the nodes in n dimensions\n",
    "    variance_in_node_locations : dict\n",
    "        The keys are the nodes. The values are the variance in the geographic location of the nodes in n dimensions\n",
    "    \"\"\"\n",
    "\n",
    "    sigma = SpARG.dispersal_rate_matrix\n",
    "    paths = SpARG.paths\n",
    "    inverted_cov_mat = SpARG.inverted_paths_shared_time_matrix\n",
    "    sample_locs_to_root_locs = SpARG.path_dispersal_distances\n",
    "    root_locations = SpARG.root_locations\n",
    "    node_shared_times = SpARG.node_paths_shared_times\n",
    "    node_paths = SpARG.node_paths\n",
    "    ts = SpARG.ts\n",
    "    \n",
    "    location_of_nodes = {} \n",
    "    variance_in_node_locations = {} \n",
    "    \n",
    "    for i,node in enumerate(nodes): \n",
    "        node_specific_sharing = node_shared_times[node,:].copy()\n",
    "        matmul_prod = np.matmul(node_specific_sharing, inverted_cov_mat)\n",
    "        root_location = root_locations[node_paths[node][-1]]\n",
    "        node_location = root_location + np.matmul(matmul_prod, sample_locs_to_root_locs)\n",
    "        location_of_nodes[node] = node_location\n",
    "        \n",
    "        base_variance = np.matmul(matmul_prod, np.transpose(node_specific_sharing))\n",
    "        ones = np.ones(inverted_cov_mat.shape[0])\n",
    "        correction_denominator = np.matmul(np.matmul(np.transpose(ones),inverted_cov_mat),ones)\n",
    "        correction_numerator = (1-np.matmul(np.matmul(np.transpose(node_specific_sharing),inverted_cov_mat),ones))**2\n",
    "        corrected_variance_scaling_factor = (ts.max_root_time-ts.node(node).time)-base_variance+(correction_numerator/correction_denominator)\n",
    "        total_variance_node = sigma*corrected_variance_scaling_factor\n",
    "        variance_in_node_locations[node] = total_variance_node\n",
    "    return location_of_nodes, variance_in_node_locations\n",
    "\n",
    "\n",
    "\n",
    "def average_dispersal_treewise(ts, locations_of_nodes):\n",
    "    branch_lengths = ts.tables.nodes.time[ts.tables.edges.parent] - ts.tables.nodes.time[ts.tables.edges.child]\n",
    "    child_locations = np.array(list( map(locations_of_nodes.get, ts.tables.edges.child) ))\n",
    "    parent_locations = np.array(list( map(locations_of_nodes.get, ts.tables.edges.parent) ))\n",
    "    branch_distances = parent_locations - child_locations \n",
    "    ts_trees = ts.aslist()\n",
    "    dispersal_rate = []\n",
    "    average_dispersal_rate = []\n",
    "    for ts_tree in ts_trees:     \n",
    "        edge_ind = ts_tree.edge_array[ts_tree.edge_array>-1]\n",
    "        tree_branch_lengths = branch_lengths[edge_ind]\n",
    "        tree_branch_distances = branch_distances[edge_ind]\n",
    "        tree_dispersal_rate = [ np.matmul( np.transpose([tree_branch_distances[i]]),[tree_branch_distances[i]] )/tree_branch_lengths[i] for i in range(len(tree_branch_distances)) ]\n",
    "        tree_dispersal_rate = np.sum(np.array(tree_dispersal_rate), axis=0)/ts.num_samples   \n",
    "        dispersal_rate += [tree_dispersal_rate]\n",
    "        average_dispersal_rate += [ np.average(np.array(dispersal_rate), axis=0) ]\n",
    "    return dispersal_rate, average_dispersal_rate "
   ]
  },
  {
   "cell_type": "code",
   "execution_count": 12,
   "id": "fbaa4385",
   "metadata": {
    "scrolled": false
   },
   "outputs": [
    {
     "name": "stdout",
     "output_type": "stream",
     "text": [
      "0\n",
      "[[0.32601482 0.04177908]\n",
      " [0.04177908 0.25340725]]\n",
      "1\n",
      "[[0.42643017 0.00950578]\n",
      " [0.00950578 0.32527845]]\n",
      "2\n",
      "[[ 0.31159019 -0.03323202]\n",
      " [-0.03323202  0.14186608]]\n",
      "3\n"
     ]
    },
    {
     "ename": "KeyboardInterrupt",
     "evalue": "",
     "output_type": "error",
     "traceback": [
      "\u001b[0;31m---------------------------------------------------------------------------\u001b[0m",
      "\u001b[0;31mKeyboardInterrupt\u001b[0m                         Traceback (most recent call last)",
      "Cell \u001b[0;32mIn[12], line 30\u001b[0m\n\u001b[1;32m     27\u001b[0m \u001b[38;5;28;01mfor\u001b[39;00m sample \u001b[38;5;129;01min\u001b[39;00m \u001b[38;5;28mrange\u001b[39m(nsamples): \n\u001b[1;32m     28\u001b[0m     location_of_individuals[ ts_chopped\u001b[38;5;241m.\u001b[39mtables\u001b[38;5;241m.\u001b[39mnodes\u001b[38;5;241m.\u001b[39mindividual[sample] ] \u001b[38;5;241m=\u001b[39m np\u001b[38;5;241m.\u001b[39marray([simulated[\u001b[38;5;241m2\u001b[39m\u001b[38;5;241m*\u001b[39msample],simulated[\u001b[38;5;241m2\u001b[39m\u001b[38;5;241m*\u001b[39msample\u001b[38;5;241m+\u001b[39m\u001b[38;5;241m1\u001b[39m]])\n\u001b[0;32m---> 30\u001b[0m FullARG_Brownian \u001b[38;5;241m=\u001b[39m \u001b[43msparg\u001b[49m\u001b[38;5;241;43m.\u001b[39;49m\u001b[43mSpatialARG\u001b[49m\u001b[43m(\u001b[49m\u001b[43mts\u001b[49m\u001b[38;5;241;43m=\u001b[39;49m\u001b[43mts_chopped\u001b[49m\u001b[43m,\u001b[49m\u001b[43mlocations_of_individuals\u001b[49m\u001b[38;5;241;43m=\u001b[39;49m\u001b[43mlocation_of_individuals\u001b[49m\u001b[43m,\u001b[49m\u001b[43m \u001b[49m\u001b[43mdimensions\u001b[49m\u001b[38;5;241;43m=\u001b[39;49m\u001b[38;5;241;43m2\u001b[39;49m\u001b[43m,\u001b[49m\u001b[43m \u001b[49m\u001b[43mverbose\u001b[49m\u001b[38;5;241;43m=\u001b[39;49m\u001b[38;5;28;43;01mFalse\u001b[39;49;00m\u001b[43m)\u001b[49m\n\u001b[1;32m     31\u001b[0m disp_mat \u001b[38;5;241m=\u001b[39m FullARG_Brownian\u001b[38;5;241m.\u001b[39mdispersal_rate_matrix\n\u001b[1;32m     32\u001b[0m \u001b[38;5;28mprint\u001b[39m(disp_mat)\n",
      "File \u001b[0;32m~/anaconda3/lib/python3.9/site-packages/sparg/__init__.py:274\u001b[0m, in \u001b[0;36mSpatialARG.__init__\u001b[0;34m(self, ts, locations_of_individuals, dimensions, verbose)\u001b[0m\n\u001b[1;32m    271\u001b[0m     \u001b[38;5;28mprint\u001b[39m(\u001b[38;5;124mf\u001b[39m\u001b[38;5;124m\"\u001b[39m\u001b[38;5;124mPrepared input parameters - Section Elapsed Time: \u001b[39m\u001b[38;5;132;01m{\u001b[39;00m\u001b[38;5;28mround\u001b[39m(time\u001b[38;5;241m.\u001b[39mtime()\u001b[38;5;241m-\u001b[39msection_start_time,\u001b[38;5;241m2\u001b[39m)\u001b[38;5;132;01m}\u001b[39;00m\u001b[38;5;124m - Total Elapsed Time: \u001b[39m\u001b[38;5;132;01m{\u001b[39;00m\u001b[38;5;28mround\u001b[39m(time\u001b[38;5;241m.\u001b[39mtime()\u001b[38;5;241m-\u001b[39mtotal_start_time,\u001b[38;5;250m \u001b[39m\u001b[38;5;241m2\u001b[39m)\u001b[38;5;132;01m}\u001b[39;00m\u001b[38;5;124m\"\u001b[39m)\n\u001b[1;32m    273\u001b[0m section_start_time \u001b[38;5;241m=\u001b[39m time\u001b[38;5;241m.\u001b[39mtime()\n\u001b[0;32m--> 274\u001b[0m \u001b[38;5;28mself\u001b[39m\u001b[38;5;241m.\u001b[39mpaths_shared_time_matrix, \u001b[38;5;28mself\u001b[39m\u001b[38;5;241m.\u001b[39mpaths, \u001b[38;5;28mself\u001b[39m\u001b[38;5;241m.\u001b[39mnode_paths_shared_times, \u001b[38;5;28mself\u001b[39m\u001b[38;5;241m.\u001b[39mnode_paths \u001b[38;5;241m=\u001b[39m \u001b[38;5;28;43mself\u001b[39;49m\u001b[38;5;241;43m.\u001b[39;49m\u001b[43mcalc_minimal_covariance_matrix\u001b[49m\u001b[43m(\u001b[49m\u001b[43mverbose\u001b[49m\u001b[38;5;241;43m=\u001b[39;49m\u001b[43mverbose\u001b[49m\u001b[43m)\u001b[49m\n\u001b[1;32m    275\u001b[0m \u001b[38;5;28;01mif\u001b[39;00m verbose:\n\u001b[1;32m    276\u001b[0m     \u001b[38;5;28mprint\u001b[39m(\u001b[38;5;124mf\u001b[39m\u001b[38;5;124m\"\u001b[39m\u001b[38;5;124mCalculated covariance matrix - Section Elapsed Time: \u001b[39m\u001b[38;5;132;01m{\u001b[39;00m\u001b[38;5;28mround\u001b[39m(time\u001b[38;5;241m.\u001b[39mtime()\u001b[38;5;241m-\u001b[39msection_start_time,\u001b[38;5;241m2\u001b[39m)\u001b[38;5;132;01m}\u001b[39;00m\u001b[38;5;124m - Total Elapsed Time: \u001b[39m\u001b[38;5;132;01m{\u001b[39;00m\u001b[38;5;28mround\u001b[39m(time\u001b[38;5;241m.\u001b[39mtime()\u001b[38;5;241m-\u001b[39mtotal_start_time,\u001b[38;5;250m \u001b[39m\u001b[38;5;241m2\u001b[39m)\u001b[38;5;132;01m}\u001b[39;00m\u001b[38;5;124m\"\u001b[39m)\n",
      "File \u001b[0;32m~/anaconda3/lib/python3.9/site-packages/sparg/__init__.py:439\u001b[0m, in \u001b[0;36mSpatialARG.calc_minimal_covariance_matrix\u001b[0;34m(self, verbose)\u001b[0m\n\u001b[1;32m    437\u001b[0m     cov_mat \u001b[38;5;241m=\u001b[39m np\u001b[38;5;241m.\u001b[39mvstack(  (cov_mat, cov_mat[path,:]\u001b[38;5;241m.\u001b[39mreshape(\u001b[38;5;241m1\u001b[39m,cov_mat\u001b[38;5;241m.\u001b[39mshape[\u001b[38;5;241m1\u001b[39m]) )) \u001b[38;5;66;03m#Duplicate the row\u001b[39;00m\n\u001b[1;32m    438\u001b[0m     \u001b[38;5;28;01mif\u001b[39;00m \u001b[38;5;28mlen\u001b[39m(internal_nodes) \u001b[38;5;241m!=\u001b[39m \u001b[38;5;241m0\u001b[39m:\n\u001b[0;32m--> 439\u001b[0m         shared_time \u001b[38;5;241m=\u001b[39m \u001b[43mnp\u001b[49m\u001b[38;5;241;43m.\u001b[39;49m\u001b[43mhstack\u001b[49m\u001b[43m(\u001b[49m\u001b[43m  \u001b[49m\u001b[43m(\u001b[49m\u001b[43mshared_time\u001b[49m\u001b[43m,\u001b[49m\u001b[43m \u001b[49m\u001b[43mshared_time\u001b[49m\u001b[43m[\u001b[49m\u001b[43m:\u001b[49m\u001b[43m,\u001b[49m\u001b[43mpath\u001b[49m\u001b[43m]\u001b[49m\u001b[38;5;241;43m.\u001b[39;49m\u001b[43mreshape\u001b[49m\u001b[43m(\u001b[49m\u001b[43mshared_time\u001b[49m\u001b[38;5;241;43m.\u001b[39;49m\u001b[43mshape\u001b[49m\u001b[43m[\u001b[49m\u001b[38;5;241;43m0\u001b[39;49m\u001b[43m]\u001b[49m\u001b[43m,\u001b[49m\u001b[38;5;241;43m1\u001b[39;49m\u001b[43m)\u001b[49m\u001b[43m \u001b[49m\u001b[43m)\u001b[49m\u001b[43m)\u001b[49m \u001b[38;5;66;03m#Duplicate the column\u001b[39;00m\n\u001b[1;32m    440\u001b[0m \u001b[38;5;28;01melif\u001b[39;00m i\u001b[38;5;241m%\u001b[39m\u001b[38;5;241m2\u001b[39m \u001b[38;5;241m==\u001b[39m \u001b[38;5;241m0\u001b[39m: \n\u001b[1;32m    441\u001b[0m     paths[path]\u001b[38;5;241m.\u001b[39mappend(parent1)\n",
      "File \u001b[0;32m<__array_function__ internals>:5\u001b[0m, in \u001b[0;36mhstack\u001b[0;34m(*args, **kwargs)\u001b[0m\n",
      "File \u001b[0;32m~/anaconda3/lib/python3.9/site-packages/numpy/core/shape_base.py:345\u001b[0m, in \u001b[0;36mhstack\u001b[0;34m(tup)\u001b[0m\n\u001b[1;32m    343\u001b[0m     \u001b[38;5;28;01mreturn\u001b[39;00m _nx\u001b[38;5;241m.\u001b[39mconcatenate(arrs, \u001b[38;5;241m0\u001b[39m)\n\u001b[1;32m    344\u001b[0m \u001b[38;5;28;01melse\u001b[39;00m:\n\u001b[0;32m--> 345\u001b[0m     \u001b[38;5;28;01mreturn\u001b[39;00m \u001b[43m_nx\u001b[49m\u001b[38;5;241;43m.\u001b[39;49m\u001b[43mconcatenate\u001b[49m\u001b[43m(\u001b[49m\u001b[43marrs\u001b[49m\u001b[43m,\u001b[49m\u001b[43m \u001b[49m\u001b[38;5;241;43m1\u001b[39;49m\u001b[43m)\u001b[49m\n",
      "File \u001b[0;32m<__array_function__ internals>:5\u001b[0m, in \u001b[0;36mconcatenate\u001b[0;34m(*args, **kwargs)\u001b[0m\n",
      "\u001b[0;31mKeyboardInterrupt\u001b[0m: "
     ]
    }
   ],
   "source": [
    "ts = tskit.load(\"slim_0.25rep1sigma.trees\")\n",
    "nsamples = 10\n",
    "keep_nodes = list(np.random.choice(ts.samples(),nsamples, replace=False))\n",
    "    \n",
    "ts_sim, sim_map = ts.simplify(samples=keep_nodes, keep_input_roots=False, keep_unary=True, map_nodes=True)\n",
    "ts_filtered, filtered_maps = sparg.simplify_with_recombination(ts=ts_sim)\n",
    "ts_chopped = sparg.chop_arg(ts_filtered,10000)\n",
    "FullARG = sparg.SpatialARG(ts=ts_chopped, dimensions=2, verbose=False)\n",
    "#print(ts_chopped.draw_text())\n",
    "path_matrix = FullARG.paths_shared_time_matrix\n",
    "P = np.zeros((len(path_matrix), nsamples))\n",
    "for path_id, path in enumerate(FullARG.paths) : \n",
    "    P[path_id][path[0]] = 1 \n",
    "inverted_paths_matrix = FullARG.inverted_paths_shared_time_matrix\n",
    "inverse_sample_covariance_matrix = np.matmul(np.matmul(np.transpose(P),inverted_paths_matrix),P)\n",
    "sigma_squared = np.array([[0.25,0.0],[0.0,0.25]])\n",
    "sample_covariance_matrix = np.kron(np.linalg.inv(inverse_sample_covariance_matrix),sigma_squared)\n",
    "\n",
    "replicates = 100 \n",
    "dispersal_rates_x = []\n",
    "dispersal_rates_y = []\n",
    "\n",
    "for rep in range(replicates) : \n",
    "    print(rep)\n",
    "    simulated = np.random.multivariate_normal(mean = np.array([0 for x in range(2*nsamples) ]), cov =sample_covariance_matrix )\n",
    "    location_of_individuals = {} \n",
    "    for sample in range(nsamples): \n",
    "        location_of_individuals[ ts_chopped.tables.nodes.individual[sample] ] = np.array([simulated[2*sample],simulated[2*sample+1]])\n",
    "\n",
    "    FullARG_Brownian = sparg.SpatialARG(ts=ts_chopped,locations_of_individuals=location_of_individuals, dimensions=2, verbose=False)\n",
    "    disp_mat = FullARG_Brownian.dispersal_rate_matrix\n",
    "    print(disp_mat)\n",
    "    dispersal_rates_x += [disp_mat[0][0]]\n",
    "    dispersal_rates_y += [disp_mat[1][1]]\n",
    "    \n",
    "plt.hist(dispersal_rates_x)\n",
    "plt.axvline(x = sigma_squared[0][0], color = 'black', linestyle = 'dashed' )\n",
    "plt.show() \n",
    "\n",
    "plt.hist(dispersal_rates_y)\n",
    "plt.axvline(x = sigma_squared[1][1], color = 'black', linestyle = 'dashed' )\n",
    "plt.show() \n",
    "\n",
    "\n",
    "\"\"\"\n",
    "locations_of_path_starts, locations_of_samples = FullARG.expand_locations() \n",
    "print(sum(np.matmul(P, np.array(list(locations_of_samples.values()))) - locations_of_path_starts))\n",
    "print(FullARG.root_locations)\n",
    "\n",
    "d3arg = tskit_arg_visualizer.D3ARG(ts=ts_chopped)\n",
    "d3arg.draw(\n",
    "    width=750,\n",
    "    height=750,\n",
    "    edge_type=\"ortho\"\n",
    ")\n",
    "\n",
    "\"\"\"\n"
   ]
  },
  {
   "cell_type": "code",
   "execution_count": 13,
   "id": "073d03d0",
   "metadata": {},
   "outputs": [
    {
     "data": {
      "image/png": "[encoded data removed]",
      "text/plain": [
       "<Figure size 640x480 with 1 Axes>"
      ]
     },
     "metadata": {},
     "output_type": "display_data"
    },
    {
     "data": {
      "image/png": "[encoded data removed]",
      "text/plain": [
       "<Figure size 640x480 with 1 Axes>"
      ]
     },
     "metadata": {},
     "output_type": "display_data"
    }
   ],
   "source": [
    "plt.hist(np.array(dispersal_rates_x+dispersal_rates_y),bins = 10)\n",
    "plt.axvline(x = sigma_squared[0][0], color = 'black', linestyle = 'dashed', label = 'True Value' )\n",
    "plt.axvline(x = np.average(dispersal_rates_x+dispersal_rates_y), color = 'grey', linestyle = 'dashed', label = 'Average' )\n",
    "plt.legend()\n",
    "plt.show() \n",
    "\n",
    "plt.hist(dispersal_rates_y,bins=10)\n",
    "plt.axvline(x = sigma_squared[1][1]*0.9, color = 'black', linestyle = 'dashed' )\n",
    "plt.show() \n"
   ]
  },
  {
   "cell_type": "code",
   "execution_count": 37,
   "id": "c08b5ff9",
   "metadata": {},
   "outputs": [
    {
     "name": "stdout",
     "output_type": "stream",
     "text": [
      "[0.33732554 0.32235422 0.        ]\n",
      "0.14064304450511894\n"
     ]
    }
   ],
   "source": [
    "ts = tskit.load(\"slim_0.25rep1sigma.trees\")\n",
    "sd = 4\n",
    "np.random.seed(sd)\n",
    "keep_nodes = list(np.random.choice(ts.samples(), 100, replace=False))\n",
    "ts_sim, sim_map = ts.simplify(samples=keep_nodes, keep_input_roots=False, keep_unary=True, map_nodes=True)\n",
    "ts_filtered, filtered_maps = sparg.simplify_with_recombination(ts=ts_sim)\n",
    "ts_chopped = sparg.chop_arg(ts_filtered,10000)\n",
    "\n",
    "d = 0 \n",
    "d_sqrt = 0\n",
    "n = 0\n",
    "\n",
    "edges_done = []\n",
    "for edge in ts_chopped.tables.edges:\n",
    "    if edgeid%100 == 0 :\n",
    "        print(edgeid)\n",
    "    parent_individual = ts_chopped.tables.nodes[edge.parent].individual\n",
    "    child_individual = ts_chopped.tables.nodes[edge.child].individual\n",
    "    if (child_individual,parent_individual) not in edges_done: \n",
    "        parent_time = ts_chopped.tables.nodes[edge.parent].time\n",
    "        child_time = ts_chopped.tables.nodes[edge.child].time\n",
    "        \n",
    "        edges_done += [ (child_individual,parent_individual) ]\n",
    "        \n",
    "        parent_location = ts_chopped.tables.individuals[parent_individual].location\n",
    "        child_location = ts_chopped.tables.individuals[child_individual].location\n",
    "        \n",
    "        d += np.array(parent_location - child_location)**2/(parent_time-child_time)\n",
    "        d_sqrt += np.sqrt(sum(np.array(parent_location - child_location)**2))/(parent_time-child_time)\n",
    "        n += 1\n",
    "print(d/float(n))\n",
    "print(d_sqrt/float(n))\n"
   ]
  }
 ],
 "metadata": {
  "kernelspec": {
   "display_name": "Python 3 (ipykernel)",
   "language": "python",
   "name": "python3"
  },
  "language_info": {
   "codemirror_mode": {
    "name": "ipython",
    "version": 3
   },
   "file_extension": ".py",
   "mimetype": "text/x-python",
   "name": "python",
   "nbconvert_exporter": "python",
   "pygments_lexer": "ipython3",
   "version": "3.9.19"
  }
 },
 "nbformat": 4,
 "nbformat_minor": 5
}
