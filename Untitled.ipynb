{
 "cells": [
  {
   "cell_type": "code",
   "execution_count": 1,
   "id": "dcfd61c6",
   "metadata": {},
   "outputs": [
    {
     "data": {
      "application/javascript": [
       "require.config({ \n",
       "    paths: { \n",
       "    d3: 'https://d3js.org/d3.v7.min'\n",
       "}});\n",
       "\n",
       "require([\"d3\"], function(d3) {\n",
       "    window.d3 = d3;\n",
       "});\n"
      ],
      "text/plain": [
       "<IPython.core.display.Javascript object>"
      ]
     },
     "metadata": {},
     "output_type": "display_data"
    }
   ],
   "source": [
    "%%javascript\n",
    "require.config({ \n",
    "    paths: { \n",
    "    d3: 'https://d3js.org/d3.v7.min'\n",
    "}});\n",
    "\n",
    "require([\"d3\"], function(d3) {\n",
    "    window.d3 = d3;\n",
    "});"
   ]
  },
  {
   "cell_type": "code",
   "execution_count": 2,
   "id": "1235e671",
   "metadata": {},
   "outputs": [],
   "source": [
    "import sparg\n",
    "import tskit\n",
    "import numpy as np\n",
    "import matplotlib.pyplot as plt\n",
    "import math\n",
    "import tskit_arg_visualizer as viz"
   ]
  },
  {
   "cell_type": "code",
   "execution_count": null,
   "id": "305ea327",
   "metadata": {},
   "outputs": [],
   "source": []
  }
 ],
 "metadata": {
  "kernelspec": {
   "display_name": "Python 3 (ipykernel)",
   "language": "python",
   "name": "python3"
  },
  "language_info": {
   "codemirror_mode": {
    "name": "ipython",
    "version": 3
   },
   "file_extension": ".py",
   "mimetype": "text/x-python",
   "name": "python",
   "nbconvert_exporter": "python",
   "pygments_lexer": "ipython3",
   "version": "3.10.12"
  }
 },
 "nbformat": 4,
 "nbformat_minor": 5
}
