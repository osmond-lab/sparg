{
 "cells": [
  {
   "cell_type": "markdown",
   "id": "7ae326e9",
   "metadata": {},
   "source": [
    "# Overview of COVID Dataset\n",
    "\n",
    "This dataset was downloaded from GISAID on April 10, 2023 and includes European samples from a period of three weeks between March 20 and April 10. The initial download was filtered for Complete, High coverage, and Collection date complete samples. Europe was a somewhat arbitrary choice, but I wanted to avoid major barriers to dispersal (oceans, major mountain ranges)."
   ]
  },
  {
   "cell_type": "code",
   "execution_count": 4,
   "id": "4e8ed026",
   "metadata": {},
   "outputs": [],
   "source": [
    "import pandas as pd\n",
    "import requests\n",
    "import json\n",
    "import time\n",
    "import plotly.express as px\n",
    "from Bio import Seq, SeqIO, AlignIO"
   ]
  },
  {
   "cell_type": "markdown",
   "id": "55ef4abe",
   "metadata": {},
   "source": [
    "## Add Geographic Coordinates\n",
    "\n",
    "The GISAID dataset provides Continent/Country/Region information for many of their samples; occasionally, City is provided. For the analysis, I needed to convert this location information into longitude and latitude. I did this using Nominatim, an API from OpenStreetMap, and stored the first coordinates from their results. This may not be in the center of the region or country, but as the location is already abstracted in the way it is presented, I felt that this was the simplest strategy. The results from the API are printed below."
   ]
  },
  {
   "cell_type": "code",
   "execution_count": 9,
   "id": "964bbcc4",
   "metadata": {},
   "outputs": [
    {
     "name": "stdout",
     "output_type": "stream",
     "text": [
      "Belgium+Limburg {'place_id': 298536463, 'licence': 'Data © OpenStreetMap contributors, ODbL 1.0. https://osm.org/copyright', 'osm_type': 'relation', 'osm_id': 53142, 'boundingbox': ['50.6954339', '51.3001647', '4.9800804', '5.9111095'], 'lat': '50.9977937', 'lon': '5.445357520264672', 'display_name': 'Limburg, Vlaanderen, België / Belgique / Belgien', 'place_rank': 8, 'category': 'boundary', 'type': 'administrative', 'importance': 0.6644012435370624, 'icon': 'https://nominatim.openstreetmap.org/ui/mapicons/poi_boundary_administrative.p.20.png'}\n",
      "Italy+Umbria {'place_id': 297915519, 'licence': 'Data © OpenStreetMap contributors, ODbL 1.0. https://osm.org/copyright', 'osm_type': 'relation', 'osm_id': 42004, 'boundingbox': ['42.3647769', '43.6173443', '11.8920337', '13.2641895'], 'lat': '42.965916', 'lon': '12.490236', 'display_name': 'Umbria, Italia', 'place_rank': 8, 'category': 'boundary', 'type': 'administrative', 'importance': 0.7573426638616688, 'icon': 'https://nominatim.openstreetmap.org/ui/mapicons/poi_boundary_administrative.p.20.png'}\n",
      "Germany+Lower Saxony {'place_id': 298329673, 'licence': 'Data © OpenStreetMap contributors, ODbL 1.0. https://osm.org/copyright', 'osm_type': 'relation', 'osm_id': 62771, 'boundingbox': ['51.2950693', '54.1387271', '6.3459138', '11.598118'], 'lat': '52.8398531', 'lon': '9.075962', 'display_name': 'Niedersachsen, Deutschland', 'place_rank': 8, 'category': 'boundary', 'type': 'administrative', 'importance': 0.6843750911139902, 'icon': 'https://nominatim.openstreetmap.org/ui/mapicons/poi_boundary_administrative.p.20.png'}\n",
      "Poland+Lodzkie+Lodz {'place_id': 298437975, 'licence': 'Data © OpenStreetMap contributors, ODbL 1.0. https://osm.org/copyright', 'osm_type': 'relation', 'osm_id': 2413295, 'boundingbox': ['51.6861438', '51.8598252', '19.3208636', '19.6399456'], 'lat': '51.7687323', 'lon': '19.4569911', 'display_name': 'Łódź, województwo łódzkie, Polska', 'place_rank': 12, 'category': 'boundary', 'type': 'administrative', 'importance': 0.6477103275795876, 'icon': 'https://nominatim.openstreetmap.org/ui/mapicons/poi_boundary_administrative.p.20.png'}\n",
      "Spain+Catalunya+Mataro {'place_id': 298105183, 'licence': 'Data © OpenStreetMap contributors, ODbL 1.0. https://osm.org/copyright', 'osm_type': 'relation', 'osm_id': 345587, 'boundingbox': ['41.5193404', '41.5805188', '2.4155398', '2.4873518'], 'lat': '41.5398348', 'lon': '2.4448926', 'display_name': 'Mataró, Maresme, Barcelona, Catalunya, España', 'place_rank': 16, 'category': 'boundary', 'type': 'administrative', 'importance': 0.6573403637944027, 'icon': 'https://nominatim.openstreetmap.org/ui/mapicons/poi_boundary_administrative.p.20.png'}\n",
      "Denmark+Syddanmark {'place_id': 298289909, 'licence': 'Data © OpenStreetMap contributors, ODbL 1.0. https://osm.org/copyright', 'osm_type': 'relation', 'osm_id': 1319978, 'boundingbox': ['54.721897', '55.9566078', '8.0743935', '10.955726'], 'lat': '55.378426250000004', 'lon': '9.13180637450161', 'display_name': 'Region Syddanmark, Danmark', 'place_rank': 8, 'category': 'boundary', 'type': 'administrative', 'importance': 0.6370997076516465, 'icon': 'https://nominatim.openstreetmap.org/ui/mapicons/poi_boundary_administrative.p.20.png'}\n",
      "Denmark+Sjaelland {'place_id': 345323874, 'licence': 'Data © OpenStreetMap contributors, ODbL 1.0. https://osm.org/copyright', 'osm_type': 'relation', 'osm_id': 5175856, 'boundingbox': ['54.9621406', '56.1292198', '10.8683846', '12.6398481'], 'lat': '55.545597900000004', 'lon': '11.697374095992934', 'display_name': 'Sjælland, Danmark', 'place_rank': 17, 'category': 'place', 'type': 'island', 'importance': 0.5540640767665066}\n",
      "Denmark+Midtjylland {'place_id': 298292356, 'licence': 'Data © OpenStreetMap contributors, ODbL 1.0. https://osm.org/copyright', 'osm_type': 'relation', 'osm_id': 1319935, 'boundingbox': ['55.6688686', '56.8465928', '8.0982042', '11.6629623'], 'lat': '56.23564835', 'lon': '9.234625027778005', 'display_name': 'Region Midtjylland, Danmark', 'place_rank': 8, 'category': 'boundary', 'type': 'administrative', 'importance': 0.6202765065708973, 'icon': 'https://nominatim.openstreetmap.org/ui/mapicons/poi_boundary_administrative.p.20.png'}\n",
      "Denmark+Hovedstaden {'place_id': 346452676, 'licence': 'Data © OpenStreetMap contributors, ODbL 1.0. https://osm.org/copyright', 'osm_type': 'relation', 'osm_id': 1320608, 'boundingbox': ['54.9872394', '56.2031171', '11.6820446', '15.1573525'], 'lat': '55.86178115', 'lon': '12.313735099767246', 'display_name': 'Region Hovedstaden, Danmark', 'place_rank': 8, 'category': 'boundary', 'type': 'administrative', 'importance': 0.619715601123428, 'icon': 'https://nominatim.openstreetmap.org/ui/mapicons/poi_boundary_administrative.p.20.png'}\n",
      "Austria+Tyrol {'place_id': 297939128, 'licence': 'Data © OpenStreetMap contributors, ODbL 1.0. https://osm.org/copyright', 'osm_type': 'relation', 'osm_id': 52343, 'boundingbox': ['46.6513618', '47.7430345', '10.0978312', '12.9660031'], 'lat': '47.223193', 'lon': '11.5261028', 'display_name': 'Tirol, Österreich', 'place_rank': 8, 'category': 'boundary', 'type': 'administrative', 'importance': 0.6081735244692354, 'icon': 'https://nominatim.openstreetmap.org/ui/mapicons/poi_boundary_administrative.p.20.png'}\n",
      "Ireland+Dublin {'place_id': 298494725, 'licence': 'Data © OpenStreetMap contributors, ODbL 1.0. https://osm.org/copyright', 'osm_type': 'relation', 'osm_id': 1109531, 'boundingbox': ['53.2987342', '53.4105416', '-6.3870259', '-6.1148829'], 'lat': '53.3498006', 'lon': '-6.2602964', 'display_name': 'Dublin, Dublin 1, Leinster, Éire / Ireland', 'place_rank': 13, 'category': 'boundary', 'type': 'administrative', 'importance': 0.911589607173273, 'icon': 'https://nominatim.openstreetmap.org/ui/mapicons/poi_boundary_administrative.p.20.png'}\n",
      "Austria+Vienna {'place_id': 352507219, 'licence': 'Data © OpenStreetMap contributors, ODbL 1.0. https://osm.org/copyright', 'osm_type': 'relation', 'osm_id': 109166, 'boundingbox': ['48.1179069', '48.3226679', '16.181831', '16.5775132'], 'lat': '48.2083537', 'lon': '16.3725042', 'display_name': 'Wien, Österreich', 'place_rank': 7, 'category': 'boundary', 'type': 'administrative', 'importance': 0.769412325825045, 'icon': 'https://nominatim.openstreetmap.org/ui/mapicons/poi_boundary_administrative.p.20.png'}\n",
      "Spain+Andalusia+Sevilla {'place_id': 298095320, 'licence': 'Data © OpenStreetMap contributors, ODbL 1.0. https://osm.org/copyright', 'osm_type': 'relation', 'osm_id': 342563, 'boundingbox': ['37.3002036', '37.4529579', '-6.0329183', '-5.8191571'], 'lat': '37.3886303', 'lon': '-5.9953403', 'display_name': 'Sevilla, Andalucía, España', 'place_rank': 16, 'category': 'boundary', 'type': 'administrative', 'importance': 0.7780028776021347, 'icon': 'https://nominatim.openstreetmap.org/ui/mapicons/poi_boundary_administrative.p.20.png'}\n",
      "Belgium+Luxembourg {'place_id': 358617683, 'licence': 'Data © OpenStreetMap contributors, ODbL 1.0. https://osm.org/copyright', 'osm_type': 'relation', 'osm_id': 1412581, 'boundingbox': ['49.4969821', '50.4306128', '4.9685529', '6.0343884'], 'lat': '49.96379985', 'lon': '5.439803941614714', 'display_name': 'Luxembourg, Wallonie, België / Belgique / Belgien', 'place_rank': 8, 'category': 'boundary', 'type': 'administrative', 'importance': 0.6613704940264826, 'icon': 'https://nominatim.openstreetmap.org/ui/mapicons/poi_boundary_administrative.p.20.png'}\n",
      "Denmark+Nordjylland {'place_id': 298407026, 'licence': 'Data © OpenStreetMap contributors, ODbL 1.0. https://osm.org/copyright', 'osm_type': 'relation', 'osm_id': 1319936, 'boundingbox': ['56.5504355', '57.7522386', '8.2208505', '11.2001753'], 'lat': '56.8152793', 'lon': '9.727330772696376', 'display_name': 'Region Nordjylland, Danmark', 'place_rank': 8, 'category': 'boundary', 'type': 'administrative', 'importance': 0.6037744470663657, 'icon': 'https://nominatim.openstreetmap.org/ui/mapicons/poi_boundary_administrative.p.20.png'}\n",
      "Germany+North Rhine-Westphalia {'place_id': 297944544, 'licence': 'Data © OpenStreetMap contributors, ODbL 1.0. https://osm.org/copyright', 'osm_type': 'relation', 'osm_id': 62761, 'boundingbox': ['50.3226897', '52.5314923', '5.8663153', '9.4617417'], 'lat': '51.4789205', 'lon': '7.5543751', 'display_name': 'Nordrhein-Westfalen, Deutschland', 'place_rank': 8, 'category': 'boundary', 'type': 'administrative', 'importance': 0.6862658317989702, 'icon': 'https://nominatim.openstreetmap.org/ui/mapicons/poi_boundary_administrative.p.20.png'}\n"
     ]
    },
    {
     "name": "stdout",
     "output_type": "stream",
     "text": [
      "Germany+Saxony {'place_id': 297922329, 'licence': 'Data © OpenStreetMap contributors, ODbL 1.0. https://osm.org/copyright', 'osm_type': 'relation', 'osm_id': 62467, 'boundingbox': ['50.1713271', '51.6851316', '11.872254', '15.0419309'], 'lat': '50.9295798', 'lon': '13.4585052', 'display_name': 'Sachsen, Deutschland', 'place_rank': 8, 'category': 'boundary', 'type': 'administrative', 'importance': 0.6695110203247417, 'icon': 'https://nominatim.openstreetmap.org/ui/mapicons/poi_boundary_administrative.p.20.png'}\n",
      "Germany+Baden-Wurttemberg {'place_id': 297930133, 'licence': 'Data © OpenStreetMap contributors, ODbL 1.0. https://osm.org/copyright', 'osm_type': 'relation', 'osm_id': 62611, 'boundingbox': ['47.5324787', '49.7912941', '7.5117461', '10.4955731'], 'lat': '48.53775', 'lon': '9.041169', 'display_name': 'Baden-Württemberg, Deutschland', 'place_rank': 8, 'category': 'boundary', 'type': 'administrative', 'importance': 0.7889406218540862, 'icon': 'https://nominatim.openstreetmap.org/ui/mapicons/poi_boundary_administrative.p.20.png'}\n",
      "Italy {'place_id': 298112887, 'licence': 'Data © OpenStreetMap contributors, ODbL 1.0. https://osm.org/copyright', 'osm_type': 'relation', 'osm_id': 365331, 'boundingbox': ['35.2889616', '47.0921462', '6.6272658', '18.7844746'], 'lat': '42.6384261', 'lon': '12.674297', 'display_name': 'Italia', 'place_rank': 4, 'category': 'boundary', 'type': 'administrative', 'importance': 0.8831019031440555, 'icon': 'https://nominatim.openstreetmap.org/ui/mapicons/poi_boundary_administrative.p.20.png'}\n",
      "Belgium+Namur {'place_id': 298273054, 'licence': 'Data © OpenStreetMap contributors, ODbL 1.0. https://osm.org/copyright', 'osm_type': 'relation', 'osm_id': 1405439, 'boundingbox': ['50.3872825', '50.5311017', '4.723053', '4.9841776'], 'lat': '50.4665284', 'lon': '4.8661892', 'display_name': 'Namur, Wallonie, België / Belgique / Belgien', 'place_rank': 14, 'category': 'boundary', 'type': 'administrative', 'importance': 0.676642490422788, 'icon': 'https://nominatim.openstreetmap.org/ui/mapicons/poi_boundary_administrative.p.20.png'}\n",
      "Iceland {'place_id': 298079332, 'licence': 'Data © OpenStreetMap contributors, ODbL 1.0. https://osm.org/copyright', 'osm_type': 'relation', 'osm_id': 299133, 'boundingbox': ['63.0859177', '67.353', '-25.0135069', '-12.8046162'], 'lat': '64.9841821', 'lon': '-18.1059013', 'display_name': 'Ísland', 'place_rank': 4, 'category': 'boundary', 'type': 'administrative', 'importance': 0.7356875782503985, 'icon': 'https://nominatim.openstreetmap.org/ui/mapicons/poi_boundary_administrative.p.20.png'}\n",
      "Sweden+Uppsala {'place_id': 299892561, 'licence': 'Data © OpenStreetMap contributors, ODbL 1.0. https://osm.org/copyright', 'osm_type': 'node', 'osm_id': 25735371, 'boundingbox': ['59.6986126', '60.0186126', '17.4787436', '17.7987436'], 'lat': '59.8586126', 'lon': '17.6387436', 'display_name': 'Uppsala, Uppsala kommun, Uppsala län, 753 20, Sverige', 'place_rank': 16, 'category': 'place', 'type': 'city', 'importance': 0.7316613880336037, 'icon': 'https://nominatim.openstreetmap.org/ui/mapicons/poi_place_city.p.20.png'}\n",
      "Austria+Carinthia {'place_id': 298327979, 'licence': 'Data © OpenStreetMap contributors, ODbL 1.0. https://osm.org/copyright', 'osm_type': 'relation', 'osm_id': 52345, 'boundingbox': ['46.3722987', '47.1312975', '12.6568293', '15.0651507'], 'lat': '46.7500001', 'lon': '13.8333333', 'display_name': 'Kärnten, Österreich', 'place_rank': 8, 'category': 'boundary', 'type': 'administrative', 'importance': 0.601544198148239, 'icon': 'https://nominatim.openstreetmap.org/ui/mapicons/poi_boundary_administrative.p.20.png'}\n",
      "Poland+Wielkopolskie+Poznanski {'place_id': 298436725, 'licence': 'Data © OpenStreetMap contributors, ODbL 1.0. https://osm.org/copyright', 'osm_type': 'relation', 'osm_id': 2406440, 'boundingbox': ['52.1516027', '52.6804564', '16.4528185', '17.3977305'], 'lat': '52.4160308', 'lon': '17.21503055779803', 'display_name': 'powiat poznański, województwo wielkopolskie, Polska', 'place_rank': 12, 'category': 'boundary', 'type': 'administrative', 'importance': 0.6017969561171782, 'icon': 'https://nominatim.openstreetmap.org/ui/mapicons/poi_boundary_administrative.p.20.png'}\n",
      "Italy+Lombardy {'place_id': 297925695, 'licence': 'Data © OpenStreetMap contributors, ODbL 1.0. https://osm.org/copyright', 'osm_type': 'relation', 'osm_id': 44879, 'boundingbox': ['44.6799091', '46.6353523', '8.4978518', '11.4276477'], 'lat': '45.5703694', 'lon': '9.7732524', 'display_name': 'Lombardia, Italia', 'place_rank': 8, 'category': 'boundary', 'type': 'administrative', 'importance': 0.7057635580731121, 'icon': 'https://nominatim.openstreetmap.org/ui/mapicons/poi_boundary_administrative.p.20.png'}\n",
      "United Kingdom+England {'place_id': 297942133, 'licence': 'Data © OpenStreetMap contributors, ODbL 1.0. https://osm.org/copyright', 'osm_type': 'relation', 'osm_id': 58447, 'boundingbox': ['49.674', '55.917', '-6.7047494', '2.0919117'], 'lat': '52.5310214', 'lon': '-1.2649062', 'display_name': 'England, United Kingdom', 'place_rank': 8, 'category': 'boundary', 'type': 'administrative', 'importance': 1.1487489070512558, 'icon': 'https://nominatim.openstreetmap.org/ui/mapicons/poi_boundary_administrative.p.20.png'}\n",
      "Germany+Saxony-Anhalt {'place_id': 298123646, 'licence': 'Data © OpenStreetMap contributors, ODbL 1.0. https://osm.org/copyright', 'osm_type': 'relation', 'osm_id': 62607, 'boundingbox': ['50.9378508', '53.0416917', '10.5607381', '13.1868819'], 'lat': '52.0089065', 'lon': '11.7003344', 'display_name': 'Sachsen-Anhalt, Deutschland', 'place_rank': 8, 'category': 'boundary', 'type': 'administrative', 'importance': 0.7493938564616391, 'icon': 'https://nominatim.openstreetmap.org/ui/mapicons/poi_boundary_administrative.p.20.png'}\n",
      "France+Centre-Val de Loire+Orleans {'place_id': 298015179, 'licence': 'Data © OpenStreetMap contributors, ODbL 1.0. https://osm.org/copyright', 'osm_type': 'relation', 'osm_id': 147559, 'boundingbox': ['47.8132802', '47.9335581', '1.8757578', '1.9487114'], 'lat': '47.9027336', 'lon': '1.9086066', 'display_name': 'Orléans, Loiret, Centre-Val de Loire, France métropolitaine, France', 'place_rank': 16, 'category': 'boundary', 'type': 'administrative', 'importance': 1.1306550485086864, 'icon': 'https://nominatim.openstreetmap.org/ui/mapicons/poi_boundary_administrative.p.20.png'}\n",
      "France+Ile-de-France+Boulogne-Billancourt {'place_id': 297949465, 'licence': 'Data © OpenStreetMap contributors, ODbL 1.0. https://osm.org/copyright', 'osm_type': 'relation', 'osm_id': 72020, 'boundingbox': ['48.8214969', '48.853442', '2.222799', '2.2627757'], 'lat': '48.8356649', 'lon': '2.240206', 'display_name': 'Boulogne-Billancourt, Hauts-de-Seine, Île-de-France, France métropolitaine, 92100, France', 'place_rank': 16, 'category': 'boundary', 'type': 'administrative', 'importance': 1.0842079289312179, 'icon': 'https://nominatim.openstreetmap.org/ui/mapicons/poi_boundary_administrative.p.20.png'}\n",
      "France+Hauts-de-France+Ronchin {'place_id': 298132517, 'licence': 'Data © OpenStreetMap contributors, ODbL 1.0. https://osm.org/copyright', 'osm_type': 'relation', 'osm_id': 58207, 'boundingbox': ['50.5886129', '50.6179306', '3.0712739', '3.1147671'], 'lat': '50.6056749', 'lon': '3.0778827', 'display_name': 'Ronchin, Lille, Nord, Hauts-de-France, France métropolitaine, 59790, France', 'place_rank': 16, 'category': 'boundary', 'type': 'administrative', 'importance': 1.0826180434479573, 'icon': 'https://nominatim.openstreetmap.org/ui/mapicons/poi_boundary_administrative.p.20.png'}\n",
      "France+Hauts-de-France+Lille {'place_id': 297939921, 'licence': 'Data © OpenStreetMap contributors, ODbL 1.0. https://osm.org/copyright', 'osm_type': 'relation', 'osm_id': 58404, 'boundingbox': ['50.6008264', '50.6612596', '2.9679677', '3.125725'], 'lat': '50.6365654', 'lon': '3.0635282', 'display_name': 'Lille, Nord, Hauts-de-France, France métropolitaine, France', 'place_rank': 16, 'category': 'boundary', 'type': 'administrative', 'importance': 1.1832037863087654, 'icon': 'https://nominatim.openstreetmap.org/ui/mapicons/poi_boundary_administrative.p.20.png'}\n",
      "France+Ile-de-France+Lisses {'place_id': 298011123, 'licence': 'Data © OpenStreetMap contributors, ODbL 1.0. https://osm.org/copyright', 'osm_type': 'relation', 'osm_id': 149373, 'boundingbox': ['48.573194', '48.613909', '2.393564', '2.458244'], 'lat': '48.5960009', 'lon': '2.4237886', 'display_name': \"Lisses, Arrondissement d'Évry, Essonne, Île-de-France, France métropolitaine, 91090, France\", 'place_rank': 16, 'category': 'boundary', 'type': 'administrative', 'importance': 0.907289721429052, 'icon': 'https://nominatim.openstreetmap.org/ui/mapicons/poi_boundary_administrative.p.20.png'}\n"
     ]
    },
    {
     "name": "stdout",
     "output_type": "stream",
     "text": [
      "France+Hauts-de-France+Douai {'place_id': 297944210, 'licence': 'Data © OpenStreetMap contributors, ODbL 1.0. https://osm.org/copyright', 'osm_type': 'relation', 'osm_id': 56243, 'boundingbox': ['50.3491934', '50.4105745', '3.0514828', '3.149484'], 'lat': '50.3675677', 'lon': '3.0804641', 'display_name': 'Douai, Nord, Hauts-de-France, France métropolitaine, 59500, France', 'place_rank': 16, 'category': 'boundary', 'type': 'administrative', 'importance': 1.1145653862933091, 'icon': 'https://nominatim.openstreetmap.org/ui/mapicons/poi_boundary_administrative.p.20.png'}\n",
      "France+Bretagne+Melesse {'place_id': 298125186, 'licence': 'Data © OpenStreetMap contributors, ODbL 1.0. https://osm.org/copyright', 'osm_type': 'relation', 'osm_id': 398729, 'boundingbox': ['48.1810158', '48.2573885', '-1.7327721', '-1.6445114'], 'lat': '48.2175823', 'lon': '-1.6962403', 'display_name': 'Melesse, Rennes, Ille-et-Vilaine, Bretagne, France métropolitaine, 35520, France', 'place_rank': 16, 'category': 'boundary', 'type': 'administrative', 'importance': 0.8433024223044037, 'icon': 'https://nominatim.openstreetmap.org/ui/mapicons/poi_boundary_administrative.p.20.png'}\n",
      "France+Ile-de-France+L Isle-Adam {'place_id': 297956024, 'licence': 'Data © OpenStreetMap contributors, ODbL 1.0. https://osm.org/copyright', 'osm_type': 'relation', 'osm_id': 73067, 'boundingbox': ['49.0848594', '49.1303728', '2.2063867', '2.2638886'], 'lat': '49.1125294', 'lon': '2.2186324', 'display_name': \"L'Isle-Adam, Pontoise, Val-d'Oise, Île-de-France, France métropolitaine, 95290, France\", 'place_rank': 16, 'category': 'boundary', 'type': 'administrative', 'importance': 1.1042515469887666, 'icon': 'https://nominatim.openstreetmap.org/ui/mapicons/poi_boundary_administrative.p.20.png'}\n",
      "France+Hauts-de-France+Tourcoing {'place_id': 297942832, 'licence': 'Data © OpenStreetMap contributors, ODbL 1.0. https://osm.org/copyright', 'osm_type': 'relation', 'osm_id': 59551, 'boundingbox': ['50.6930654', '50.7490318', '3.1186236', '3.1967341'], 'lat': '50.7235038', 'lon': '3.1605714', 'display_name': 'Tourcoing, Lille, Nord, Hauts-de-France, France métropolitaine, 59200, France', 'place_rank': 16, 'category': 'boundary', 'type': 'administrative', 'importance': 1.1008031443473905, 'icon': 'https://nominatim.openstreetmap.org/ui/mapicons/poi_boundary_administrative.p.20.png'}\n",
      "France+Bourgogne-Franche-Comte+Cosne Sur Loire {'place_id': 82264653, 'licence': 'Data © OpenStreetMap contributors, ODbL 1.0. https://osm.org/copyright', 'osm_type': 'node', 'osm_id': 8309308998, 'boundingbox': ['47.4089645', '47.4189645', '2.9269441', '2.9369441'], 'lat': '47.4139645', 'lon': '2.9319441', 'display_name': 'Cosne-sur-Loire, Rue Frédéric Beaulieu, Cosne-Cours-sur-Loire, Nièvre, Bourgogne-Franche-Comté, France métropolitaine, 58200, France', 'place_rank': 30, 'category': 'railway', 'type': 'station', 'importance': 0.9080716579671534, 'icon': 'https://nominatim.openstreetmap.org/ui/mapicons/transport_train_station2.p.20.png'}\n",
      "France+Ile-de-France+Colombes {'place_id': 297962193, 'licence': 'Data © OpenStreetMap contributors, ODbL 1.0. https://osm.org/copyright', 'osm_type': 'relation', 'osm_id': 91738, 'boundingbox': ['48.9060291', '48.9376156', '2.2204263', '2.2733245'], 'lat': '48.922788', 'lon': '2.2543577', 'display_name': 'Colombes, Arrondissement de Nanterre, Hauts-de-Seine, Île-de-France, France métropolitaine, 92700, France', 'place_rank': 16, 'category': 'boundary', 'type': 'administrative', 'importance': 0.9682425662809837, 'icon': 'https://nominatim.openstreetmap.org/ui/mapicons/poi_boundary_administrative.p.20.png'}\n",
      "France+Bretagne+Lannion {'place_id': 298127946, 'licence': 'Data © OpenStreetMap contributors, ODbL 1.0. https://osm.org/copyright', 'osm_type': 'relation', 'osm_id': 409309, 'boundingbox': ['48.7043701', '48.7866771', '-3.5516884', '-3.3876646'], 'lat': '48.7322183', 'lon': '-3.4587994', 'display_name': \"Lannion, Côtes-d'Armor, Bretagne, France métropolitaine, 22300, France\", 'place_rank': 16, 'category': 'boundary', 'type': 'administrative', 'importance': 0.8689536032899579, 'icon': 'https://nominatim.openstreetmap.org/ui/mapicons/poi_boundary_administrative.p.20.png'}\n",
      "France+Pays de la Loire+Chateaubriant {'place_id': 297980215, 'licence': 'Data © OpenStreetMap contributors, ODbL 1.0. https://osm.org/copyright', 'osm_type': 'relation', 'osm_id': 112499, 'boundingbox': ['47.691592', '47.7481154', '-1.4496854', '-1.3326538'], 'lat': '47.7194057', 'lon': '-1.3757282', 'display_name': 'Châteaubriant, Châteaubriant-Ancenis, Loire-Atlantique, Pays de la Loire, France métropolitaine, 44110, France', 'place_rank': 16, 'category': 'boundary', 'type': 'administrative', 'importance': 1.01247502641235, 'icon': 'https://nominatim.openstreetmap.org/ui/mapicons/poi_boundary_administrative.p.20.png'}\n",
      "Netherlands+Noord-Brabant {'place_id': 298125988, 'licence': 'Data © OpenStreetMap contributors, ODbL 1.0. https://osm.org/copyright', 'osm_type': 'relation', 'osm_id': 47696, 'boundingbox': ['51.2209094', '51.830751', '4.1901242', '6.0481208'], 'lat': '51.6017723', 'lon': '5.4441391', 'display_name': 'Noord-Brabant, Nederland', 'place_rank': 8, 'category': 'boundary', 'type': 'administrative', 'importance': 0.7829613728348226, 'icon': 'https://nominatim.openstreetmap.org/ui/mapicons/poi_boundary_administrative.p.20.png'}\n",
      "Spain+Madrid {'place_id': 298773150, 'licence': 'Data © OpenStreetMap contributors, ODbL 1.0. https://osm.org/copyright', 'osm_type': 'relation', 'osm_id': 5326784, 'boundingbox': ['40.3119774', '40.6437293', '-3.8889539', '-3.5179163'], 'lat': '40.4167047', 'lon': '-3.7035825', 'display_name': 'Madrid, Área metropolitana de Madrid y Corredor del Henares, Comunidad de Madrid, España', 'place_rank': 16, 'category': 'boundary', 'type': 'administrative', 'importance': 0.8680703794097986, 'icon': 'https://nominatim.openstreetmap.org/ui/mapicons/poi_boundary_administrative.p.20.png'}\n",
      "Netherlands+Drenthe {'place_id': 298338819, 'licence': 'Data © OpenStreetMap contributors, ODbL 1.0. https://osm.org/copyright', 'osm_type': 'relation', 'osm_id': 47540, 'boundingbox': ['52.6121955', '53.2038323', '6.1198199', '7.0927397'], 'lat': '52.9067922', 'lon': '6.6368423', 'display_name': 'Drenthe, Nederland', 'place_rank': 8, 'category': 'boundary', 'type': 'administrative', 'importance': 0.663694142534713, 'icon': 'https://nominatim.openstreetmap.org/ui/mapicons/poi_boundary_administrative.p.20.png'}\n",
      "Netherlands+Zuid-Holland {'place_id': 353086637, 'licence': 'Data © OpenStreetMap contributors, ODbL 1.0. https://osm.org/copyright', 'osm_type': 'relation', 'osm_id': 47772, 'boundingbox': ['51.6437779', '52.3325109', '3.7736754', '5.0314151'], 'lat': '51.9966792', 'lon': '4.5597397', 'display_name': 'Zuid-Holland, Nederland', 'place_rank': 8, 'category': 'boundary', 'type': 'administrative', 'importance': 0.7833209141611477, 'icon': 'https://nominatim.openstreetmap.org/ui/mapicons/poi_boundary_administrative.p.20.png'}\n",
      "Austria+Vorarlberg {'place_id': 299407514, 'licence': 'Data © OpenStreetMap contributors, ODbL 1.0. https://osm.org/copyright', 'osm_type': 'relation', 'osm_id': 74942, 'boundingbox': ['46.8408621', '47.5961014', '9.5307487', '10.2371623'], 'lat': '47.25', 'lon': '9.9166667', 'display_name': 'Vorarlberg, Österreich', 'place_rank': 8, 'category': 'boundary', 'type': 'administrative', 'importance': 0.6898857673463482, 'icon': 'https://nominatim.openstreetmap.org/ui/mapicons/poi_boundary_administrative.p.20.png'}\n",
      "Austria+Burgenland {'place_id': 298047196, 'licence': 'Data © OpenStreetMap contributors, ODbL 1.0. https://osm.org/copyright', 'osm_type': 'relation', 'osm_id': 76909, 'boundingbox': ['46.830636', '48.1186813', '15.9962508', '17.1607728'], 'lat': '47.5000001', 'lon': '16.4166666', 'display_name': 'Burgenland, Österreich', 'place_rank': 8, 'category': 'boundary', 'type': 'administrative', 'importance': 0.6865472974647021, 'icon': 'https://nominatim.openstreetmap.org/ui/mapicons/poi_boundary_administrative.p.20.png'}\n",
      "Ireland+Cavan {'place_id': 298091348, 'licence': 'Data © OpenStreetMap contributors, ODbL 1.0. https://osm.org/copyright', 'osm_type': 'relation', 'osm_id': 283679, 'boundingbox': ['53.7655541', '54.3045429', '-8.0581838', '-6.7618696'], 'lat': '54.03497495', 'lon': '-7.2937022825583675', 'display_name': 'County Cavan, Ulster, Éire / Ireland', 'place_rank': 12, 'category': 'boundary', 'type': 'administrative', 'importance': 0.7054034410275369, 'icon': 'https://nominatim.openstreetmap.org/ui/mapicons/poi_boundary_administrative.p.20.png'}\n"
     ]
    },
    {
     "name": "stdout",
     "output_type": "stream",
     "text": [
      "Ireland+Cork {'place_id': 299556622, 'licence': 'Data © OpenStreetMap contributors, ODbL 1.0. https://osm.org/copyright', 'osm_type': 'relation', 'osm_id': 11797890, 'boundingbox': ['51.8273102', '51.9701415', '-8.6378543', '-8.3551315'], 'lat': '51.897077', 'lon': '-8.4654674', 'display_name': 'Cork, County Cork, Munster, Éire / Ireland', 'place_rank': 14, 'category': 'boundary', 'type': 'administrative', 'importance': 0.8024517456052389, 'icon': 'https://nominatim.openstreetmap.org/ui/mapicons/poi_boundary_administrative.p.20.png'}\n",
      "Ireland+Carlow {'place_id': 299471090, 'licence': 'Data © OpenStreetMap contributors, ODbL 1.0. https://osm.org/copyright', 'osm_type': 'relation', 'osm_id': 285977, 'boundingbox': ['52.4635897', '52.9180156', '-7.1079443', '-6.504941'], 'lat': '52.69078865', 'lon': '-6.825145150844913', 'display_name': 'County Carlow, Leinster, Éire / Ireland', 'place_rank': 12, 'category': 'boundary', 'type': 'administrative', 'importance': 0.6893972336827785, 'icon': 'https://nominatim.openstreetmap.org/ui/mapicons/poi_boundary_administrative.p.20.png'}\n",
      "Ireland+Wicklow {'place_id': 298070299, 'licence': 'Data © OpenStreetMap contributors, ODbL 1.0. https://osm.org/copyright', 'osm_type': 'relation', 'osm_id': 282760, 'boundingbox': ['52.6819824', '53.2343102', '-6.7922931', '-5.9975809'], 'lat': '52.95814675', 'lon': '-6.381970708677661', 'display_name': 'County Wicklow, Leinster, Éire / Ireland', 'place_rank': 12, 'category': 'boundary', 'type': 'administrative', 'importance': 0.7192983003306685, 'icon': 'https://nominatim.openstreetmap.org/ui/mapicons/poi_boundary_administrative.p.20.png'}\n",
      "Ireland+Westmeath {'place_id': 298093000, 'licence': 'Data © OpenStreetMap contributors, ODbL 1.0. https://osm.org/copyright', 'osm_type': 'relation', 'osm_id': 335446, 'boundingbox': ['53.3178562', '53.7990565', '-7.9728953', '-6.954844'], 'lat': '53.5577902', 'lon': '-7.3478558260097575', 'display_name': 'County Westmeath, Leinster, Éire / Ireland', 'place_rank': 12, 'category': 'boundary', 'type': 'administrative', 'importance': 0.6978898255646419, 'icon': 'https://nominatim.openstreetmap.org/ui/mapicons/poi_boundary_administrative.p.20.png'}\n",
      "Ireland+Meath {'place_id': 298073007, 'licence': 'Data © OpenStreetMap contributors, ODbL 1.0. https://osm.org/copyright', 'osm_type': 'relation', 'osm_id': 282818, 'boundingbox': ['53.3818667', '53.9175398', '-7.3436201', '-6.2129079'], 'lat': '53.649757699999995', 'lon': '-6.588530730754936', 'display_name': 'County Meath, Leinster, Éire / Ireland', 'place_rank': 12, 'category': 'boundary', 'type': 'administrative', 'importance': 0.7244400102920954, 'icon': 'https://nominatim.openstreetmap.org/ui/mapicons/poi_boundary_administrative.p.20.png'}\n",
      "Ireland+Tipperary {'place_id': 298091089, 'licence': 'Data © OpenStreetMap contributors, ODbL 1.0. https://osm.org/copyright', 'osm_type': 'relation', 'osm_id': 334372, 'boundingbox': ['52.2019994', '53.1676187', '-8.4802918', '-7.3719093'], 'lat': '52.68482145', 'lon': '-7.898127531345582', 'display_name': 'County Tipperary, Munster, Éire / Ireland', 'place_rank': 12, 'category': 'boundary', 'type': 'administrative', 'importance': 0.7329349030784409, 'icon': 'https://nominatim.openstreetmap.org/ui/mapicons/poi_boundary_administrative.p.20.png'}\n",
      "Ireland+Kilkenny {'place_id': 298776000, 'licence': 'Data © OpenStreetMap contributors, ODbL 1.0. https://osm.org/copyright', 'osm_type': 'relation', 'osm_id': 5361973, 'boundingbox': ['52.6276073', '52.6781918', '-7.2854494', '-7.2061579'], 'lat': '52.6510216', 'lon': '-7.2484948', 'display_name': 'Kilkenny, County Kilkenny, Leinster, Éire / Ireland', 'place_rank': 18, 'category': 'place', 'type': 'town', 'importance': 0.7138786145267217, 'icon': 'https://nominatim.openstreetmap.org/ui/mapicons/poi_place_town.p.20.png'}\n",
      "Ireland+Sligo {'place_id': 298378854, 'licence': 'Data © OpenStreetMap contributors, ODbL 1.0. https://osm.org/copyright', 'osm_type': 'relation', 'osm_id': 2049792, 'boundingbox': ['54.2522371', '54.2889433', '-8.5051062', '-8.4422635'], 'lat': '54.2720696', 'lon': '-8.4751357', 'display_name': 'Sligo, Sligo Municipal Borough District, County Sligo, Connacht, Éire / Ireland', 'place_rank': 18, 'category': 'place', 'type': 'town', 'importance': 0.7057898435178818, 'icon': 'https://nominatim.openstreetmap.org/ui/mapicons/poi_place_town.p.20.png'}\n",
      "Austria+Salzburg {'place_id': 297962771, 'licence': 'Data © OpenStreetMap contributors, ODbL 1.0. https://osm.org/copyright', 'osm_type': 'relation', 'osm_id': 86538, 'boundingbox': ['47.7512115', '47.8543925', '12.9856478', '13.1275256'], 'lat': '47.7981346', 'lon': '13.0464806', 'display_name': 'Salzburg, 5020, Österreich', 'place_rank': 12, 'category': 'boundary', 'type': 'administrative', 'importance': 0.6854709096560191, 'icon': 'https://nominatim.openstreetmap.org/ui/mapicons/poi_boundary_administrative.p.20.png'}\n",
      "Austria+Styria {'place_id': 297906435, 'licence': 'Data © OpenStreetMap contributors, ODbL 1.0. https://osm.org/copyright', 'osm_type': 'relation', 'osm_id': 35183, 'boundingbox': ['46.6119889', '47.82789', '13.563348', '16.1717759'], 'lat': '47.2500001', 'lon': '15.1666665', 'display_name': 'Steiermark, Österreich', 'place_rank': 8, 'category': 'boundary', 'type': 'administrative', 'importance': 0.6269687005573922, 'icon': 'https://nominatim.openstreetmap.org/ui/mapicons/poi_boundary_administrative.p.20.png'}\n",
      "Italy+P.A. Bolzano {'place_id': 35592606, 'licence': 'Data © OpenStreetMap contributors, ODbL 1.0. https://osm.org/copyright', 'osm_type': 'node', 'osm_id': 2934466997, 'boundingbox': ['46.4031916', '46.4032916', '11.3186872', '11.3187872'], 'lat': '46.4032416', 'lon': '11.3187372', 'display_name': 'Cassa di Risparmio Bronzolo - Sparkasse Branzoll, Via Nazionale - Reichsstraße, Bronzolo - Branzoll, Überetsch-Unterland - Oltradige-Bassa Atesina, Bolzano - Bozen, Trentino-Alto Adige/Südtirol, 39051, Italia', 'place_rank': 30, 'category': 'amenity', 'type': 'bank', 'importance': 0.30010000000000003, 'icon': 'https://nominatim.openstreetmap.org/ui/mapicons/money_bank2.p.20.png'}\n",
      "Germany+Brandenburg {'place_id': 297924732, 'licence': 'Data © OpenStreetMap contributors, ODbL 1.0. https://osm.org/copyright', 'osm_type': 'relation', 'osm_id': 62504, 'boundingbox': ['51.359064', '53.5590907', '11.2662278', '14.7658159'], 'lat': '52.8455492', 'lon': '13.2461296', 'display_name': 'Brandenburg, Deutschland', 'place_rank': 8, 'category': 'boundary', 'type': 'administrative', 'importance': 0.7660825312001477, 'icon': 'https://nominatim.openstreetmap.org/ui/mapicons/poi_boundary_administrative.p.20.png'}\n",
      "Germany+Hesse {'place_id': 297923637, 'licence': 'Data © OpenStreetMap contributors, ODbL 1.0. https://osm.org/copyright', 'osm_type': 'relation', 'osm_id': 62650, 'boundingbox': ['49.3952723', '51.6577889', '7.7724667', '10.2364142'], 'lat': '50.6080651', 'lon': '9.0284647', 'display_name': 'Hessen, Deutschland', 'place_rank': 8, 'category': 'boundary', 'type': 'administrative', 'importance': 0.7673228712714227, 'icon': 'https://nominatim.openstreetmap.org/ui/mapicons/poi_boundary_administrative.p.20.png'}\n",
      "Germany+Thuringia {'place_id': 297948620, 'licence': 'Data © OpenStreetMap contributors, ODbL 1.0. https://osm.org/copyright', 'osm_type': 'relation', 'osm_id': 62366, 'boundingbox': ['50.2043467', '51.6492842', '9.8769608', '12.6539178'], 'lat': '50.9014721', 'lon': '11.0377839', 'display_name': 'Thüringen, Deutschland', 'place_rank': 8, 'category': 'boundary', 'type': 'administrative', 'importance': 0.670913939252948, 'icon': 'https://nominatim.openstreetmap.org/ui/mapicons/poi_boundary_administrative.p.20.png'}\n",
      "Germany+Hamburg {'place_id': 297940034, 'licence': 'Data © OpenStreetMap contributors, ODbL 1.0. https://osm.org/copyright', 'osm_type': 'relation', 'osm_id': 62782, 'boundingbox': ['53.3951118', '54.02765', '8.1044993', '10.3252805'], 'lat': '53.550341', 'lon': '10.000654', 'display_name': 'Hamburg, Deutschland', 'place_rank': 8, 'category': 'boundary', 'type': 'administrative', 'importance': 0.8355256463088224, 'icon': 'https://nominatim.openstreetmap.org/ui/mapicons/poi_boundary_administrative.p.20.png'}\n",
      "France+Occitanie+Haute-Garonne {'place_id': 297909568, 'licence': 'Data © OpenStreetMap contributors, ODbL 1.0. https://osm.org/copyright', 'osm_type': 'relation', 'osm_id': 7413, 'boundingbox': ['42.689588', '43.9216357', '0.4419498', '2.0482851'], 'lat': '43.305454600000004', 'lon': '0.9716791701901577', 'display_name': 'Haute-Garonne, Occitanie, France métropolitaine, France', 'place_rank': 12, 'category': 'boundary', 'type': 'administrative', 'importance': 1.0461296033193823, 'icon': 'https://nominatim.openstreetmap.org/ui/mapicons/poi_boundary_administrative.p.20.png'}\n"
     ]
    },
    {
     "name": "stdout",
     "output_type": "stream",
     "text": [
      "Luxembourg {'place_id': 358617682, 'licence': 'Data © OpenStreetMap contributors, ODbL 1.0. https://osm.org/copyright', 'osm_type': 'relation', 'osm_id': 2171347, 'boundingbox': ['49.4478587', '50.1827726', '5.7357006', '6.5312481'], 'lat': '49.8158683', 'lon': '6.1296751', 'display_name': 'Lëtzebuerg', 'place_rank': 4, 'category': 'boundary', 'type': 'administrative', 'importance': 0.7282786757940397, 'icon': 'https://nominatim.openstreetmap.org/ui/mapicons/poi_boundary_administrative.p.20.png'}\n",
      "Ireland+Galway {'place_id': 298271376, 'licence': 'Data © OpenStreetMap contributors, ODbL 1.0. https://osm.org/copyright', 'osm_type': 'relation', 'osm_id': 1390623, 'boundingbox': ['53.248517', '53.3197423', '-9.1426901', '-8.9548381'], 'lat': '53.2744122', 'lon': '-9.0490601', 'display_name': 'Cathair na Gaillimhe, County Galway, Connacht, Éire / Ireland', 'place_rank': 14, 'category': 'boundary', 'type': 'administrative', 'importance': 0.7587954165289414, 'icon': 'https://nominatim.openstreetmap.org/ui/mapicons/poi_boundary_administrative.p.20.png'}\n",
      "Ireland+Kildare {'place_id': 298077457, 'licence': 'Data © OpenStreetMap contributors, ODbL 1.0. https://osm.org/copyright', 'osm_type': 'relation', 'osm_id': 285833, 'boundingbox': ['52.8575209', '53.4512373', '-7.1688618', '-6.4601259'], 'lat': '53.15436455', 'lon': '-6.8184175660976445', 'display_name': 'County Kildare, Leinster, Éire / Ireland', 'place_rank': 12, 'category': 'boundary', 'type': 'administrative', 'importance': 0.7233620112127364, 'icon': 'https://nominatim.openstreetmap.org/ui/mapicons/poi_boundary_administrative.p.20.png'}\n",
      "Ireland+Limerick {'place_id': 299901321, 'licence': 'Data © OpenStreetMap contributors, ODbL 1.0. https://osm.org/copyright', 'osm_type': 'relation', 'osm_id': 14043380, 'boundingbox': ['52.5721036', '52.757379', '-8.8070765', '-8.4425444'], 'lat': '52.661252', 'lon': '-8.6301239', 'display_name': 'Limerick, County Limerick, Munster, Éire / Ireland', 'place_rank': 14, 'category': 'boundary', 'type': 'administrative', 'importance': 0.7689375741271351, 'icon': 'https://nominatim.openstreetmap.org/ui/mapicons/poi_boundary_administrative.p.20.png'}\n",
      "Ireland+Laois {'place_id': 298070359, 'licence': 'Data © OpenStreetMap contributors, ODbL 1.0. https://osm.org/copyright', 'osm_type': 'relation', 'osm_id': 285915, 'boundingbox': ['52.7813004', '53.2156177', '-7.7344984', '-6.9318991'], 'lat': '52.9984575', 'lon': '-7.3980337750324185', 'display_name': 'County Laois, Leinster, Éire / Ireland', 'place_rank': 12, 'category': 'boundary', 'type': 'administrative', 'importance': 0.6976024051803564, 'icon': 'https://nominatim.openstreetmap.org/ui/mapicons/poi_boundary_administrative.p.20.png'}\n",
      "Ireland+Waterford {'place_id': 298307805, 'licence': 'Data © OpenStreetMap contributors, ODbL 1.0. https://osm.org/copyright', 'osm_type': 'relation', 'osm_id': 1645570, 'boundingbox': ['52.2102427', '52.2798229', '-7.1869522', '-7.0338797'], 'lat': '52.2609997', 'lon': '-7.1119081', 'display_name': 'Waterford, County Waterford, Munster, Éire / Ireland', 'place_rank': 14, 'category': 'boundary', 'type': 'administrative', 'importance': 0.735303741736675, 'icon': 'https://nominatim.openstreetmap.org/ui/mapicons/poi_boundary_administrative.p.20.png'}\n",
      "Ireland+Wexford {'place_id': 298376143, 'licence': 'Data © OpenStreetMap contributors, ODbL 1.0. https://osm.org/copyright', 'osm_type': 'relation', 'osm_id': 285981, 'boundingbox': ['52.1088505', '52.7974579', '-7.0178068', '-6.1406935'], 'lat': '52.46018745', 'lon': '-6.606515459159162', 'display_name': 'County Wexford, Leinster, Éire / Ireland', 'place_rank': 12, 'category': 'boundary', 'type': 'administrative', 'importance': 0.7120542427296395, 'icon': 'https://nominatim.openstreetmap.org/ui/mapicons/poi_boundary_administrative.p.20.png'}\n",
      "Italy+Sicily {'place_id': 297914389, 'licence': 'Data © OpenStreetMap contributors, ODbL 1.0. https://osm.org/copyright', 'osm_type': 'relation', 'osm_id': 39152, 'boundingbox': ['35.4929521', '38.8176638', '11.9258571', '15.6530796'], 'lat': '37.587794', 'lon': '14.155048', 'display_name': 'Sicilia, Italia', 'place_rank': 8, 'category': 'boundary', 'type': 'administrative', 'importance': 0.7064403209694491, 'icon': 'https://nominatim.openstreetmap.org/ui/mapicons/poi_boundary_administrative.p.20.png'}\n",
      "Romania+Iasi {'place_id': 298232991, 'licence': 'Data © OpenStreetMap contributors, ODbL 1.0. https://osm.org/copyright', 'osm_type': 'relation', 'osm_id': 1207838, 'boundingbox': ['47.0848238', '47.2279047', '27.4765246', '27.6920155'], 'lat': '47.1615416', 'lon': '27.5837224', 'display_name': 'Iași, Zona Metropolitană Iași, Iași, România', 'place_rank': 16, 'category': 'boundary', 'type': 'administrative', 'importance': 0.5948804252583375, 'icon': 'https://nominatim.openstreetmap.org/ui/mapicons/poi_boundary_administrative.p.20.png'}\n"
     ]
    }
   ],
   "source": [
    "metadata = pd.read_table(\"data/Europe_20230320-20230410/original/sequencing_technology_metadata.tsv\")\n",
    "metadata[[\"Continent\", \"Country\", \"Region\", \"City\"]] = metadata[\"Location\"].str.split(\" / \", expand=True)\n",
    "locations = metadata[[\"Continent\", \"Country\", \"Region\", \"City\"]].drop_duplicates()\n",
    "\n",
    "def get_lat_lon(country, region, city):\n",
    "    search_term = country\n",
    "    if region:\n",
    "        search_term += \"+\" + region\n",
    "    if city:\n",
    "        search_term += \"+\" + city\n",
    "    try:\n",
    "        location_data = json.loads(requests.get(\"https://nominatim.openstreetmap.org/search.php?q=\" + search_term + \"&format=jsonv2\").text)[0]\n",
    "        time.sleep(2)\n",
    "        print(search_term, location_data)\n",
    "        return float(location_data[\"lat\"]), float(location_data[\"lon\"])\n",
    "    except:\n",
    "        print(search_term, \"FAIL\")\n",
    "        return None, None\n",
    "\n",
    "locations[[\"Latitude\", \"Longitude\"]] = locations.apply(lambda x: get_lat_lon(x[\"Country\"],x[\"Region\"],x[\"City\"]), axis=1, result_type='expand')\n",
    "found_locations = locations[-locations[\"Latitude\"].isna()]\n",
    "metadata = metadata.merge(found_locations, on=[\"Continent\", \"Country\", \"Region\", \"City\"])\n",
    "#metadata.to_csv(\"data/Europe_20230320-20230410/original/sequencing_technology_metadata_with_latlon.tsv\", sep=\"\\t\", index=False)"
   ]
  },
  {
   "cell_type": "markdown",
   "id": "6b3850c2",
   "metadata": {},
   "source": [
    "Now that I have the coordinates of the samples, I wanted to only pull one sample from each location. This filters our samples down to 72, which should be within the range that ARGweaver can handle. The samples are plotted below. Note that I did not filter by sequence quality, and that should be done prior to all of this."
   ]
  },
  {
   "cell_type": "code",
   "execution_count": 10,
   "id": "d13655de",
   "metadata": {},
   "outputs": [
    {
     "name": "stdout",
     "output_type": "stream",
     "text": [
      "There are 72 unique locations.\n"
     ]
    },
    {
     "data": {
      "application/vnd.plotly.v1+json": {
       "config": {
        "plotlyServerURL": "https://plot.ly"
       },
       "data": [
        {
         "customdata": [
          [
           "Europe",
           "Belgium",
           "Limburg",
           null
          ],
          [
           "Europe",
           "Italy",
           "Umbria",
           null
          ],
          [
           "Europe",
           "Germany",
           "Lower Saxony",
           null
          ],
          [
           "Europe",
           "Poland",
           "Lodzkie",
           "Lodz"
          ],
          [
           "Europe",
           "Spain",
           "Catalunya",
           "Mataro"
          ],
          [
           "Europe",
           "Denmark",
           "Syddanmark",
           null
          ],
          [
           "Europe",
           "Denmark",
           "Sjaelland",
           null
          ],
          [
           "Europe",
           "Denmark",
           "Midtjylland",
           null
          ],
          [
           "Europe",
           "Denmark",
           "Hovedstaden",
           null
          ],
          [
           "Europe",
           "Austria",
           "Tyrol",
           null
          ],
          [
           "Europe",
           "Ireland",
           "Dublin",
           null
          ],
          [
           "Europe",
           "Austria",
           "Vienna",
           null
          ],
          [
           "Europe",
           "Spain",
           "Andalusia",
           "Sevilla"
          ],
          [
           "Europe",
           "Belgium",
           "Luxembourg",
           null
          ],
          [
           "Europe",
           "Denmark",
           "Nordjylland",
           null
          ],
          [
           "Europe",
           "Germany",
           "North Rhine-Westphalia",
           null
          ],
          [
           "Europe",
           "Germany",
           "Saxony",
           null
          ],
          [
           "Europe",
           "Germany",
           "Baden-Wurttemberg",
           null
          ],
          [
           "Europe",
           "Italy",
           null,
           null
          ],
          [
           "Europe",
           "Belgium",
           "Namur",
           null
          ],
          [
           "Europe",
           "Iceland",
           null,
           null
          ],
          [
           "Europe",
           "Sweden",
           "Uppsala",
           null
          ],
          [
           "Europe",
           "Austria",
           "Carinthia",
           null
          ],
          [
           "Europe",
           "Poland",
           "Wielkopolskie",
           "Poznanski"
          ],
          [
           "Europe",
           "Italy",
           "Lombardy",
           null
          ],
          [
           "Europe",
           "United Kingdom",
           "England",
           null
          ],
          [
           "Europe",
           "Germany",
           "Saxony-Anhalt",
           null
          ],
          [
           "Europe",
           "France",
           "Centre-Val de Loire",
           "Orleans"
          ],
          [
           "Europe",
           "France",
           "Ile-de-France",
           "Boulogne-Billancourt"
          ],
          [
           "Europe",
           "France",
           "Hauts-de-France",
           "Ronchin"
          ],
          [
           "Europe",
           "France",
           "Hauts-de-France",
           "Lille"
          ],
          [
           "Europe",
           "France",
           "Ile-de-France",
           "Lisses"
          ],
          [
           "Europe",
           "France",
           "Hauts-de-France",
           "Douai"
          ],
          [
           "Europe",
           "France",
           "Bretagne",
           "Melesse"
          ],
          [
           "Europe",
           "France",
           "Ile-de-France",
           "L Isle-Adam"
          ],
          [
           "Europe",
           "France",
           "Hauts-de-France",
           "Tourcoing"
          ],
          [
           "Europe",
           "France",
           "Bourgogne-Franche-Comte",
           "Cosne Sur Loire"
          ],
          [
           "Europe",
           "France",
           "Ile-de-France",
           "Colombes"
          ],
          [
           "Europe",
           "France",
           "Bretagne",
           "Lannion"
          ],
          [
           "Europe",
           "France",
           "Pays de la Loire",
           "Chateaubriant"
          ],
          [
           "Europe",
           "Netherlands",
           "Noord-Brabant",
           null
          ],
          [
           "Europe",
           "Spain",
           "Madrid",
           null
          ],
          [
           "Europe",
           "Netherlands",
           "Drenthe",
           null
          ],
          [
           "Europe",
           "Netherlands",
           "Zuid-Holland",
           null
          ],
          [
           "Europe",
           "Austria",
           "Vorarlberg",
           null
          ],
          [
           "Europe",
           "Austria",
           "Burgenland",
           null
          ],
          [
           "Europe",
           "Ireland",
           "Cavan",
           null
          ],
          [
           "Europe",
           "Ireland",
           "Cork",
           null
          ],
          [
           "Europe",
           "Ireland",
           "Carlow",
           null
          ],
          [
           "Europe",
           "Ireland",
           "Wicklow",
           null
          ],
          [
           "Europe",
           "Ireland",
           "Westmeath",
           null
          ],
          [
           "Europe",
           "Ireland",
           "Meath",
           null
          ],
          [
           "Europe",
           "Ireland",
           "Tipperary",
           null
          ],
          [
           "Europe",
           "Ireland",
           "Kilkenny",
           null
          ],
          [
           "Europe",
           "Ireland",
           "Sligo",
           null
          ],
          [
           "Europe",
           "Austria",
           "Salzburg",
           null
          ],
          [
           "Europe",
           "Austria",
           "Styria",
           null
          ],
          [
           "Europe",
           "Italy",
           "P.A. Bolzano",
           null
          ],
          [
           "Europe",
           "Germany",
           "Brandenburg",
           null
          ],
          [
           "Europe",
           "Germany",
           "Hesse",
           null
          ],
          [
           "Europe",
           "Germany",
           "Thuringia",
           null
          ],
          [
           "Europe",
           "Germany",
           "Hamburg",
           null
          ],
          [
           "Europe",
           "France",
           "Occitanie",
           "Haute-Garonne"
          ],
          [
           "Europe",
           "Luxembourg",
           null,
           null
          ],
          [
           "Europe",
           "Ireland",
           "Galway",
           null
          ],
          [
           "Europe",
           "Ireland",
           "Kildare",
           null
          ],
          [
           "Europe",
           "Ireland",
           "Limerick",
           null
          ],
          [
           "Europe",
           "Ireland",
           "Laois",
           null
          ],
          [
           "Europe",
           "Ireland",
           "Waterford",
           null
          ],
          [
           "Europe",
           "Ireland",
           "Wexford",
           null
          ],
          [
           "Europe",
           "Italy",
           "Sicily",
           null
          ],
          [
           "Europe",
           "Romania",
           "Iasi",
           null
          ]
         ],
         "hovertemplate": "<b>%{hovertext}</b><br><br>Latitude=%{lat}<br>Longitude=%{lon}<br>Continent=%{customdata[0]}<br>Country=%{customdata[1]}<br>Region=%{customdata[2]}<br>City=%{customdata[3]}<extra></extra>",
         "hovertext": [
          "hCoV-19/Belgium/Jessa_11-2312-000761LKO/2023",
          "hCoV-19/Italy/UMB-LAOP-112-2-29/2023",
          "hCoV-19/Germany/NI-RKI-I-1126074/2023",
          "hCoV-19/Poland/2303-311_wsselodz/2023",
          "hCoV-19/Spain/CT-HUGTiP-H2R131/2023",
          "hCoV-19/Denmark/DCGC-644195/2023",
          "hCoV-19/Denmark/DCGC-644431/2023",
          "hCoV-19/Denmark/DCGC-644441/2023",
          "hCoV-19/Denmark/DCGC-644561/2023",
          "hCoV-19/Austria/MUIV-1877/2023",
          "hCoV-19/Ireland/D-NVRL-SIRL00015604/2023",
          "hCoV-19/Austria/AGES-1128732/2023",
          "hCoV-19/Spain/AN-PMC-33866/2023",
          "hCoV-19/Belgium/ULG-29708/2023",
          "hCoV-19/Denmark/DCGC-644646/2023",
          "hCoV-19/Germany/NW-RKI-I-1126362/2023",
          "hCoV-19/Germany/SN-RKI-I-1126935/2023",
          "hCoV-19/Germany/BW-RKI-I-1127322/2023",
          "hCoV-19/Italy/un-UCBM-1911/2023",
          "hCoV-19/Belgium/CHUNamur14523206/2023",
          "hCoV-19/Iceland/L-3944/2023",
          "hCoV-19/Sweden/03_SE600_000200552907N2/2023",
          "hCoV-19/Austria/AGES-1129907/2023",
          "hCoV-19/Poland/2303-441_wsselodz/2023",
          "hCoV-19/Italy/LOM-03304316/2023",
          "hCoV-19/England/PHEC-YYEQ478/2023",
          "hCoV-19/Germany/ST-MD13010/2023",
          "hCoV-19/France/CVL-IPP07690/2023",
          "hCoV-19/France/IDF-IPP07671/2023",
          "hCoV-19/France/HDF-IPP07790/2023",
          "hCoV-19/France/HDF-IPP07652/2023",
          "hCoV-19/France/IDF-IPP07653/2023",
          "hCoV-19/France/HDF-IPP07693/2023",
          "hCoV-19/France/BRE-IPP08328/2023",
          "hCoV-19/France/IDF-IPP07983/2023",
          "hCoV-19/France/HDF-IPP08027/2023",
          "hCoV-19/France/BFC-IPP08038/2023",
          "hCoV-19/France/IDF-IPP08002/2023",
          "hCoV-19/France/BRE-IPP07814/2023",
          "hCoV-19/France/PDL-IPP07533/2023",
          "hCoV-19/Netherlands/NB-MVD-C2300499/2023",
          "hCoV-19/Spain/MD-HRYC-12698830/2023",
          "hCoV-19/Netherlands/DR-RIVM-128718/2023",
          "hCoV-19/Netherlands/ZH-RIVM-128702/2023",
          "hCoV-19/Austria/AGES-1131631/2023",
          "hCoV-19/Austria/AGES-1131439/2023",
          "hCoV-19/Ireland/CN-NVRL-SIRL00015816/2023",
          "hCoV-19/Ireland/CO-NVRL-SIRL00015720/2023",
          "hCoV-19/Ireland/CW-NVRL-SIRL00015708/2023",
          "hCoV-19/Ireland/WW-NVRL-SIRL00016126/2023",
          "hCoV-19/Ireland/WH-NVRL-SIRL00016077/2023",
          "hCoV-19/Ireland/MH-NVRL-SIRL00016151/2023",
          "hCoV-19/Ireland/TA-NVRL-SIRL00016162/2023",
          "hCoV-19/Ireland/KK-NVRL-SIRL00016129/2023",
          "hCoV-19/Ireland/SO-NVRL-SIRL00016643/2023",
          "hCoV-19/Austria/AGES-1131809/2023",
          "hCoV-19/Austria/AGES-1131969/2023",
          "hCoV-19/Italy/PAB_SABES_4880001546/2023",
          "hCoV-19/Germany/BB-RKI-I-1128244/2023",
          "hCoV-19/Germany/HE-RKI-I-1129406/2023",
          "hCoV-19/Germany/TH-RKI-I-1129651/2023",
          "hCoV-19/Germany/HH-RKI-I-1129724/2023",
          "hCoV-19/France/OCC-CHU-TLS-6003743587/2023",
          "hCoV-19/Luxembourg/LNS3733972/2023",
          "hCoV-19/Ireland/G-NVRL-SIRL00015685/2023",
          "hCoV-19/Ireland/KE-NVRL-SIRL00016451/2023",
          "hCoV-19/Ireland/LK-NVRL-SIRL00016506/2023",
          "hCoV-19/Ireland/LS-NVRL-SIRL00016621/2023",
          "hCoV-19/Ireland/WD-NVRL-SIRL00016628/2023",
          "hCoV-19/Ireland/WX-NVRL-SIRL00016738/2023",
          "hCoV-19/Italy/SIC-AOUP-UNIPA_105350/2023",
          "hCoV-19/Romania/IS-CNMMI-548819/2023"
         ],
         "lat": [
          50.9977937,
          42.965916,
          52.8398531,
          51.7687323,
          41.5398348,
          55.37842625,
          55.5455979,
          56.23564835,
          55.86178115,
          47.223193,
          53.3498006,
          48.2083537,
          37.3886303,
          49.96379985,
          56.8152793,
          51.4789205,
          50.9295798,
          48.53775,
          42.6384261,
          50.4665284,
          64.9841821,
          59.8586126,
          46.7500001,
          52.4160308,
          45.5703694,
          52.5310214,
          52.0089065,
          47.9027336,
          48.8356649,
          50.6056749,
          50.6365654,
          48.5960009,
          50.3675677,
          48.2175823,
          49.1125294,
          50.7235038,
          47.4139645,
          48.922788,
          48.7322183,
          47.7194057,
          51.6017723,
          40.4167047,
          52.9067922,
          51.9966792,
          47.25,
          47.5000001,
          54.03497495,
          51.897077,
          52.69078865,
          52.95814675,
          53.5577902,
          53.6497577,
          52.68482145,
          52.6510216,
          54.2720696,
          47.7981346,
          47.2500001,
          46.4032416,
          52.8455492,
          50.6080651,
          50.9014721,
          53.550341,
          43.3054546,
          49.8158683,
          53.2744122,
          53.15436455,
          52.661252,
          52.9984575,
          52.2609997,
          52.46018745,
          37.587794,
          47.1615416
         ],
         "legendgroup": "",
         "lon": [
          5.445357520264672,
          12.490236,
          9.075962,
          19.4569911,
          2.4448926,
          9.13180637450161,
          11.697374095992934,
          9.234625027778003,
          12.313735099767246,
          11.5261028,
          -6.2602964,
          16.3725042,
          -5.9953403,
          5.439803941614714,
          9.727330772696376,
          7.5543751,
          13.4585052,
          9.041169,
          12.674297,
          4.8661892,
          -18.1059013,
          17.6387436,
          13.8333333,
          17.21503055779803,
          9.7732524,
          -1.2649062,
          11.7003344,
          1.9086066,
          2.240206,
          3.0778827,
          3.0635282,
          2.4237886,
          3.0804641,
          -1.6962403,
          2.2186324,
          3.1605714,
          2.9319441,
          2.2543577,
          -3.4587994,
          -1.3757282,
          5.4441391,
          -3.7035825,
          6.6368423,
          4.5597397,
          9.9166667,
          16.4166666,
          -7.293702282558367,
          -8.4654674,
          -6.825145150844913,
          -6.381970708677661,
          -7.347855826009757,
          -6.588530730754936,
          -7.898127531345582,
          -7.2484948,
          -8.4751357,
          13.0464806,
          15.1666665,
          11.3187372,
          13.2461296,
          9.0284647,
          11.0377839,
          10.000654,
          0.9716791701901576,
          6.1296751,
          -9.0490601,
          -6.8184175660976445,
          -8.6301239,
          -7.398033775032418,
          -7.1119081,
          -6.606515459159162,
          14.155048,
          27.5837224
         ],
         "marker": {
          "color": "#636efa"
         },
         "mode": "markers",
         "name": "",
         "showlegend": false,
         "subplot": "mapbox",
         "type": "scattermapbox"
        }
       ],
       "layout": {
        "legend": {
         "tracegroupgap": 0
        },
        "mapbox": {
         "center": {
          "lat": 50.36312082500001,
          "lon": 4.154607569862823
         },
         "domain": {
          "x": [
           0,
           1
          ],
          "y": [
           0,
           1
          ]
         },
         "style": "open-street-map",
         "zoom": 8
        },
        "margin": {
         "b": 0,
         "l": 0,
         "r": 0,
         "t": 0
        },
        "template": {
         "data": {
          "bar": [
           {
            "error_x": {
             "color": "#2a3f5f"
            },
            "error_y": {
             "color": "#2a3f5f"
            },
            "marker": {
             "line": {
              "color": "#E5ECF6",
              "width": 0.5
             },
             "pattern": {
              "fillmode": "overlay",
              "size": 10,
              "solidity": 0.2
             }
            },
            "type": "bar"
           }
          ],
          "barpolar": [
           {
            "marker": {
             "line": {
              "color": "#E5ECF6",
              "width": 0.5
             },
             "pattern": {
              "fillmode": "overlay",
              "size": 10,
              "solidity": 0.2
             }
            },
            "type": "barpolar"
           }
          ],
          "carpet": [
           {
            "aaxis": {
             "endlinecolor": "#2a3f5f",
             "gridcolor": "white",
             "linecolor": "white",
             "minorgridcolor": "white",
             "startlinecolor": "#2a3f5f"
            },
            "baxis": {
             "endlinecolor": "#2a3f5f",
             "gridcolor": "white",
             "linecolor": "white",
             "minorgridcolor": "white",
             "startlinecolor": "#2a3f5f"
            },
            "type": "carpet"
           }
          ],
          "choropleth": [
           {
            "colorbar": {
             "outlinewidth": 0,
             "ticks": ""
            },
            "type": "choropleth"
           }
          ],
          "contour": [
           {
            "colorbar": {
             "outlinewidth": 0,
             "ticks": ""
            },
            "colorscale": [
             [
              0,
              "#0d0887"
             ],
             [
              0.1111111111111111,
              "#46039f"
             ],
             [
              0.2222222222222222,
              "#7201a8"
             ],
             [
              0.3333333333333333,
              "#9c179e"
             ],
             [
              0.4444444444444444,
              "#bd3786"
             ],
             [
              0.5555555555555556,
              "#d8576b"
             ],
             [
              0.6666666666666666,
              "#ed7953"
             ],
             [
              0.7777777777777778,
              "#fb9f3a"
             ],
             [
              0.8888888888888888,
              "#fdca26"
             ],
             [
              1,
              "#f0f921"
             ]
            ],
            "type": "contour"
           }
          ],
          "contourcarpet": [
           {
            "colorbar": {
             "outlinewidth": 0,
             "ticks": ""
            },
            "type": "contourcarpet"
           }
          ],
          "heatmap": [
           {
            "colorbar": {
             "outlinewidth": 0,
             "ticks": ""
            },
            "colorscale": [
             [
              0,
              "#0d0887"
             ],
             [
              0.1111111111111111,
              "#46039f"
             ],
             [
              0.2222222222222222,
              "#7201a8"
             ],
             [
              0.3333333333333333,
              "#9c179e"
             ],
             [
              0.4444444444444444,
              "#bd3786"
             ],
             [
              0.5555555555555556,
              "#d8576b"
             ],
             [
              0.6666666666666666,
              "#ed7953"
             ],
             [
              0.7777777777777778,
              "#fb9f3a"
             ],
             [
              0.8888888888888888,
              "#fdca26"
             ],
             [
              1,
              "#f0f921"
             ]
            ],
            "type": "heatmap"
           }
          ],
          "heatmapgl": [
           {
            "colorbar": {
             "outlinewidth": 0,
             "ticks": ""
            },
            "colorscale": [
             [
              0,
              "#0d0887"
             ],
             [
              0.1111111111111111,
              "#46039f"
             ],
             [
              0.2222222222222222,
              "#7201a8"
             ],
             [
              0.3333333333333333,
              "#9c179e"
             ],
             [
              0.4444444444444444,
              "#bd3786"
             ],
             [
              0.5555555555555556,
              "#d8576b"
             ],
             [
              0.6666666666666666,
              "#ed7953"
             ],
             [
              0.7777777777777778,
              "#fb9f3a"
             ],
             [
              0.8888888888888888,
              "#fdca26"
             ],
             [
              1,
              "#f0f921"
             ]
            ],
            "type": "heatmapgl"
           }
          ],
          "histogram": [
           {
            "marker": {
             "pattern": {
              "fillmode": "overlay",
              "size": 10,
              "solidity": 0.2
             }
            },
            "type": "histogram"
           }
          ],
          "histogram2d": [
           {
            "colorbar": {
             "outlinewidth": 0,
             "ticks": ""
            },
            "colorscale": [
             [
              0,
              "#0d0887"
             ],
             [
              0.1111111111111111,
              "#46039f"
             ],
             [
              0.2222222222222222,
              "#7201a8"
             ],
             [
              0.3333333333333333,
              "#9c179e"
             ],
             [
              0.4444444444444444,
              "#bd3786"
             ],
             [
              0.5555555555555556,
              "#d8576b"
             ],
             [
              0.6666666666666666,
              "#ed7953"
             ],
             [
              0.7777777777777778,
              "#fb9f3a"
             ],
             [
              0.8888888888888888,
              "#fdca26"
             ],
             [
              1,
              "#f0f921"
             ]
            ],
            "type": "histogram2d"
           }
          ],
          "histogram2dcontour": [
           {
            "colorbar": {
             "outlinewidth": 0,
             "ticks": ""
            },
            "colorscale": [
             [
              0,
              "#0d0887"
             ],
             [
              0.1111111111111111,
              "#46039f"
             ],
             [
              0.2222222222222222,
              "#7201a8"
             ],
             [
              0.3333333333333333,
              "#9c179e"
             ],
             [
              0.4444444444444444,
              "#bd3786"
             ],
             [
              0.5555555555555556,
              "#d8576b"
             ],
             [
              0.6666666666666666,
              "#ed7953"
             ],
             [
              0.7777777777777778,
              "#fb9f3a"
             ],
             [
              0.8888888888888888,
              "#fdca26"
             ],
             [
              1,
              "#f0f921"
             ]
            ],
            "type": "histogram2dcontour"
           }
          ],
          "mesh3d": [
           {
            "colorbar": {
             "outlinewidth": 0,
             "ticks": ""
            },
            "type": "mesh3d"
           }
          ],
          "parcoords": [
           {
            "line": {
             "colorbar": {
              "outlinewidth": 0,
              "ticks": ""
             }
            },
            "type": "parcoords"
           }
          ],
          "pie": [
           {
            "automargin": true,
            "type": "pie"
           }
          ],
          "scatter": [
           {
            "fillpattern": {
             "fillmode": "overlay",
             "size": 10,
             "solidity": 0.2
            },
            "type": "scatter"
           }
          ],
          "scatter3d": [
           {
            "line": {
             "colorbar": {
              "outlinewidth": 0,
              "ticks": ""
             }
            },
            "marker": {
             "colorbar": {
              "outlinewidth": 0,
              "ticks": ""
             }
            },
            "type": "scatter3d"
           }
          ],
          "scattercarpet": [
           {
            "marker": {
             "colorbar": {
              "outlinewidth": 0,
              "ticks": ""
             }
            },
            "type": "scattercarpet"
           }
          ],
          "scattergeo": [
           {
            "marker": {
             "colorbar": {
              "outlinewidth": 0,
              "ticks": ""
             }
            },
            "type": "scattergeo"
           }
          ],
          "scattergl": [
           {
            "marker": {
             "colorbar": {
              "outlinewidth": 0,
              "ticks": ""
             }
            },
            "type": "scattergl"
           }
          ],
          "scattermapbox": [
           {
            "marker": {
             "colorbar": {
              "outlinewidth": 0,
              "ticks": ""
             }
            },
            "type": "scattermapbox"
           }
          ],
          "scatterpolar": [
           {
            "marker": {
             "colorbar": {
              "outlinewidth": 0,
              "ticks": ""
             }
            },
            "type": "scatterpolar"
           }
          ],
          "scatterpolargl": [
           {
            "marker": {
             "colorbar": {
              "outlinewidth": 0,
              "ticks": ""
             }
            },
            "type": "scatterpolargl"
           }
          ],
          "scatterternary": [
           {
            "marker": {
             "colorbar": {
              "outlinewidth": 0,
              "ticks": ""
             }
            },
            "type": "scatterternary"
           }
          ],
          "surface": [
           {
            "colorbar": {
             "outlinewidth": 0,
             "ticks": ""
            },
            "colorscale": [
             [
              0,
              "#0d0887"
             ],
             [
              0.1111111111111111,
              "#46039f"
             ],
             [
              0.2222222222222222,
              "#7201a8"
             ],
             [
              0.3333333333333333,
              "#9c179e"
             ],
             [
              0.4444444444444444,
              "#bd3786"
             ],
             [
              0.5555555555555556,
              "#d8576b"
             ],
             [
              0.6666666666666666,
              "#ed7953"
             ],
             [
              0.7777777777777778,
              "#fb9f3a"
             ],
             [
              0.8888888888888888,
              "#fdca26"
             ],
             [
              1,
              "#f0f921"
             ]
            ],
            "type": "surface"
           }
          ],
          "table": [
           {
            "cells": {
             "fill": {
              "color": "#EBF0F8"
             },
             "line": {
              "color": "white"
             }
            },
            "header": {
             "fill": {
              "color": "#C8D4E3"
             },
             "line": {
              "color": "white"
             }
            },
            "type": "table"
           }
          ]
         },
         "layout": {
          "annotationdefaults": {
           "arrowcolor": "#2a3f5f",
           "arrowhead": 0,
           "arrowwidth": 1
          },
          "autotypenumbers": "strict",
          "coloraxis": {
           "colorbar": {
            "outlinewidth": 0,
            "ticks": ""
           }
          },
          "colorscale": {
           "diverging": [
            [
             0,
             "#8e0152"
            ],
            [
             0.1,
             "#c51b7d"
            ],
            [
             0.2,
             "#de77ae"
            ],
            [
             0.3,
             "#f1b6da"
            ],
            [
             0.4,
             "#fde0ef"
            ],
            [
             0.5,
             "#f7f7f7"
            ],
            [
             0.6,
             "#e6f5d0"
            ],
            [
             0.7,
             "#b8e186"
            ],
            [
             0.8,
             "#7fbc41"
            ],
            [
             0.9,
             "#4d9221"
            ],
            [
             1,
             "#276419"
            ]
           ],
           "sequential": [
            [
             0,
             "#0d0887"
            ],
            [
             0.1111111111111111,
             "#46039f"
            ],
            [
             0.2222222222222222,
             "#7201a8"
            ],
            [
             0.3333333333333333,
             "#9c179e"
            ],
            [
             0.4444444444444444,
             "#bd3786"
            ],
            [
             0.5555555555555556,
             "#d8576b"
            ],
            [
             0.6666666666666666,
             "#ed7953"
            ],
            [
             0.7777777777777778,
             "#fb9f3a"
            ],
            [
             0.8888888888888888,
             "#fdca26"
            ],
            [
             1,
             "#f0f921"
            ]
           ],
           "sequentialminus": [
            [
             0,
             "#0d0887"
            ],
            [
             0.1111111111111111,
             "#46039f"
            ],
            [
             0.2222222222222222,
             "#7201a8"
            ],
            [
             0.3333333333333333,
             "#9c179e"
            ],
            [
             0.4444444444444444,
             "#bd3786"
            ],
            [
             0.5555555555555556,
             "#d8576b"
            ],
            [
             0.6666666666666666,
             "#ed7953"
            ],
            [
             0.7777777777777778,
             "#fb9f3a"
            ],
            [
             0.8888888888888888,
             "#fdca26"
            ],
            [
             1,
             "#f0f921"
            ]
           ]
          },
          "colorway": [
           "#636efa",
           "#EF553B",
           "#00cc96",
           "#ab63fa",
           "#FFA15A",
           "#19d3f3",
           "#FF6692",
           "#B6E880",
           "#FF97FF",
           "#FECB52"
          ],
          "font": {
           "color": "#2a3f5f"
          },
          "geo": {
           "bgcolor": "white",
           "lakecolor": "white",
           "landcolor": "#E5ECF6",
           "showlakes": true,
           "showland": true,
           "subunitcolor": "white"
          },
          "hoverlabel": {
           "align": "left"
          },
          "hovermode": "closest",
          "mapbox": {
           "style": "light"
          },
          "paper_bgcolor": "white",
          "plot_bgcolor": "#E5ECF6",
          "polar": {
           "angularaxis": {
            "gridcolor": "white",
            "linecolor": "white",
            "ticks": ""
           },
           "bgcolor": "#E5ECF6",
           "radialaxis": {
            "gridcolor": "white",
            "linecolor": "white",
            "ticks": ""
           }
          },
          "scene": {
           "xaxis": {
            "backgroundcolor": "#E5ECF6",
            "gridcolor": "white",
            "gridwidth": 2,
            "linecolor": "white",
            "showbackground": true,
            "ticks": "",
            "zerolinecolor": "white"
           },
           "yaxis": {
            "backgroundcolor": "#E5ECF6",
            "gridcolor": "white",
            "gridwidth": 2,
            "linecolor": "white",
            "showbackground": true,
            "ticks": "",
            "zerolinecolor": "white"
           },
           "zaxis": {
            "backgroundcolor": "#E5ECF6",
            "gridcolor": "white",
            "gridwidth": 2,
            "linecolor": "white",
            "showbackground": true,
            "ticks": "",
            "zerolinecolor": "white"
           }
          },
          "shapedefaults": {
           "line": {
            "color": "#2a3f5f"
           }
          },
          "ternary": {
           "aaxis": {
            "gridcolor": "white",
            "linecolor": "white",
            "ticks": ""
           },
           "baxis": {
            "gridcolor": "white",
            "linecolor": "white",
            "ticks": ""
           },
           "bgcolor": "#E5ECF6",
           "caxis": {
            "gridcolor": "white",
            "linecolor": "white",
            "ticks": ""
           }
          },
          "title": {
           "x": 0.05
          },
          "xaxis": {
           "automargin": true,
           "gridcolor": "white",
           "linecolor": "white",
           "ticks": "",
           "title": {
            "standoff": 15
           },
           "zerolinecolor": "white",
           "zerolinewidth": 2
          },
          "yaxis": {
           "automargin": true,
           "gridcolor": "white",
           "linecolor": "white",
           "ticks": "",
           "title": {
            "standoff": 15
           },
           "zerolinecolor": "white",
           "zerolinewidth": 2
          }
         }
        }
       }
      },
      "text/html": [
       "<div>                            <div id=\"4ef4f2cc-c866-40f4-874d-91b95474f0fb\" class=\"plotly-graph-div\" style=\"height:525px; width:100%;\"></div>            <script type=\"text/javascript\">                require([\"plotly\"], function(Plotly) {                    window.PLOTLYENV=window.PLOTLYENV || {};                                    if (document.getElementById(\"4ef4f2cc-c866-40f4-874d-91b95474f0fb\")) {                    Plotly.newPlot(                        \"4ef4f2cc-c866-40f4-874d-91b95474f0fb\",                        [{\"customdata\":[[\"Europe\",\"Belgium\",\"Limburg\",null],[\"Europe\",\"Italy\",\"Umbria\",null],[\"Europe\",\"Germany\",\"Lower Saxony\",null],[\"Europe\",\"Poland\",\"Lodzkie\",\"Lodz\"],[\"Europe\",\"Spain\",\"Catalunya\",\"Mataro\"],[\"Europe\",\"Denmark\",\"Syddanmark\",null],[\"Europe\",\"Denmark\",\"Sjaelland\",null],[\"Europe\",\"Denmark\",\"Midtjylland\",null],[\"Europe\",\"Denmark\",\"Hovedstaden\",null],[\"Europe\",\"Austria\",\"Tyrol\",null],[\"Europe\",\"Ireland\",\"Dublin\",null],[\"Europe\",\"Austria\",\"Vienna\",null],[\"Europe\",\"Spain\",\"Andalusia\",\"Sevilla\"],[\"Europe\",\"Belgium\",\"Luxembourg\",null],[\"Europe\",\"Denmark\",\"Nordjylland\",null],[\"Europe\",\"Germany\",\"North Rhine-Westphalia\",null],[\"Europe\",\"Germany\",\"Saxony\",null],[\"Europe\",\"Germany\",\"Baden-Wurttemberg\",null],[\"Europe\",\"Italy\",null,null],[\"Europe\",\"Belgium\",\"Namur\",null],[\"Europe\",\"Iceland\",null,null],[\"Europe\",\"Sweden\",\"Uppsala\",null],[\"Europe\",\"Austria\",\"Carinthia\",null],[\"Europe\",\"Poland\",\"Wielkopolskie\",\"Poznanski\"],[\"Europe\",\"Italy\",\"Lombardy\",null],[\"Europe\",\"United Kingdom\",\"England\",null],[\"Europe\",\"Germany\",\"Saxony-Anhalt\",null],[\"Europe\",\"France\",\"Centre-Val de Loire\",\"Orleans\"],[\"Europe\",\"France\",\"Ile-de-France\",\"Boulogne-Billancourt\"],[\"Europe\",\"France\",\"Hauts-de-France\",\"Ronchin\"],[\"Europe\",\"France\",\"Hauts-de-France\",\"Lille\"],[\"Europe\",\"France\",\"Ile-de-France\",\"Lisses\"],[\"Europe\",\"France\",\"Hauts-de-France\",\"Douai\"],[\"Europe\",\"France\",\"Bretagne\",\"Melesse\"],[\"Europe\",\"France\",\"Ile-de-France\",\"L Isle-Adam\"],[\"Europe\",\"France\",\"Hauts-de-France\",\"Tourcoing\"],[\"Europe\",\"France\",\"Bourgogne-Franche-Comte\",\"Cosne Sur Loire\"],[\"Europe\",\"France\",\"Ile-de-France\",\"Colombes\"],[\"Europe\",\"France\",\"Bretagne\",\"Lannion\"],[\"Europe\",\"France\",\"Pays de la Loire\",\"Chateaubriant\"],[\"Europe\",\"Netherlands\",\"Noord-Brabant\",null],[\"Europe\",\"Spain\",\"Madrid\",null],[\"Europe\",\"Netherlands\",\"Drenthe\",null],[\"Europe\",\"Netherlands\",\"Zuid-Holland\",null],[\"Europe\",\"Austria\",\"Vorarlberg\",null],[\"Europe\",\"Austria\",\"Burgenland\",null],[\"Europe\",\"Ireland\",\"Cavan\",null],[\"Europe\",\"Ireland\",\"Cork\",null],[\"Europe\",\"Ireland\",\"Carlow\",null],[\"Europe\",\"Ireland\",\"Wicklow\",null],[\"Europe\",\"Ireland\",\"Westmeath\",null],[\"Europe\",\"Ireland\",\"Meath\",null],[\"Europe\",\"Ireland\",\"Tipperary\",null],[\"Europe\",\"Ireland\",\"Kilkenny\",null],[\"Europe\",\"Ireland\",\"Sligo\",null],[\"Europe\",\"Austria\",\"Salzburg\",null],[\"Europe\",\"Austria\",\"Styria\",null],[\"Europe\",\"Italy\",\"P.A. Bolzano\",null],[\"Europe\",\"Germany\",\"Brandenburg\",null],[\"Europe\",\"Germany\",\"Hesse\",null],[\"Europe\",\"Germany\",\"Thuringia\",null],[\"Europe\",\"Germany\",\"Hamburg\",null],[\"Europe\",\"France\",\"Occitanie\",\"Haute-Garonne\"],[\"Europe\",\"Luxembourg\",null,null],[\"Europe\",\"Ireland\",\"Galway\",null],[\"Europe\",\"Ireland\",\"Kildare\",null],[\"Europe\",\"Ireland\",\"Limerick\",null],[\"Europe\",\"Ireland\",\"Laois\",null],[\"Europe\",\"Ireland\",\"Waterford\",null],[\"Europe\",\"Ireland\",\"Wexford\",null],[\"Europe\",\"Italy\",\"Sicily\",null],[\"Europe\",\"Romania\",\"Iasi\",null]],\"hovertemplate\":\"<b>%{hovertext}</b><br><br>Latitude=%{lat}<br>Longitude=%{lon}<br>Continent=%{customdata[0]}<br>Country=%{customdata[1]}<br>Region=%{customdata[2]}<br>City=%{customdata[3]}<extra></extra>\",\"hovertext\":[\"hCoV-19/Belgium/Jessa_11-2312-000761LKO/2023\",\"hCoV-19/Italy/UMB-LAOP-112-2-29/2023\",\"hCoV-19/Germany/NI-RKI-I-1126074/2023\",\"hCoV-19/Poland/2303-311_wsselodz/2023\",\"hCoV-19/Spain/CT-HUGTiP-H2R131/2023\",\"hCoV-19/Denmark/DCGC-644195/2023\",\"hCoV-19/Denmark/DCGC-644431/2023\",\"hCoV-19/Denmark/DCGC-644441/2023\",\"hCoV-19/Denmark/DCGC-644561/2023\",\"hCoV-19/Austria/MUIV-1877/2023\",\"hCoV-19/Ireland/D-NVRL-SIRL00015604/2023\",\"hCoV-19/Austria/AGES-1128732/2023\",\"hCoV-19/Spain/AN-PMC-33866/2023\",\"hCoV-19/Belgium/ULG-29708/2023\",\"hCoV-19/Denmark/DCGC-644646/2023\",\"hCoV-19/Germany/NW-RKI-I-1126362/2023\",\"hCoV-19/Germany/SN-RKI-I-1126935/2023\",\"hCoV-19/Germany/BW-RKI-I-1127322/2023\",\"hCoV-19/Italy/un-UCBM-1911/2023\",\"hCoV-19/Belgium/CHUNamur14523206/2023\",\"hCoV-19/Iceland/L-3944/2023\",\"hCoV-19/Sweden/03_SE600_000200552907N2/2023\",\"hCoV-19/Austria/AGES-1129907/2023\",\"hCoV-19/Poland/2303-441_wsselodz/2023\",\"hCoV-19/Italy/LOM-03304316/2023\",\"hCoV-19/England/PHEC-YYEQ478/2023\",\"hCoV-19/Germany/ST-MD13010/2023\",\"hCoV-19/France/CVL-IPP07690/2023\",\"hCoV-19/France/IDF-IPP07671/2023\",\"hCoV-19/France/HDF-IPP07790/2023\",\"hCoV-19/France/HDF-IPP07652/2023\",\"hCoV-19/France/IDF-IPP07653/2023\",\"hCoV-19/France/HDF-IPP07693/2023\",\"hCoV-19/France/BRE-IPP08328/2023\",\"hCoV-19/France/IDF-IPP07983/2023\",\"hCoV-19/France/HDF-IPP08027/2023\",\"hCoV-19/France/BFC-IPP08038/2023\",\"hCoV-19/France/IDF-IPP08002/2023\",\"hCoV-19/France/BRE-IPP07814/2023\",\"hCoV-19/France/PDL-IPP07533/2023\",\"hCoV-19/Netherlands/NB-MVD-C2300499/2023\",\"hCoV-19/Spain/MD-HRYC-12698830/2023\",\"hCoV-19/Netherlands/DR-RIVM-128718/2023\",\"hCoV-19/Netherlands/ZH-RIVM-128702/2023\",\"hCoV-19/Austria/AGES-1131631/2023\",\"hCoV-19/Austria/AGES-1131439/2023\",\"hCoV-19/Ireland/CN-NVRL-SIRL00015816/2023\",\"hCoV-19/Ireland/CO-NVRL-SIRL00015720/2023\",\"hCoV-19/Ireland/CW-NVRL-SIRL00015708/2023\",\"hCoV-19/Ireland/WW-NVRL-SIRL00016126/2023\",\"hCoV-19/Ireland/WH-NVRL-SIRL00016077/2023\",\"hCoV-19/Ireland/MH-NVRL-SIRL00016151/2023\",\"hCoV-19/Ireland/TA-NVRL-SIRL00016162/2023\",\"hCoV-19/Ireland/KK-NVRL-SIRL00016129/2023\",\"hCoV-19/Ireland/SO-NVRL-SIRL00016643/2023\",\"hCoV-19/Austria/AGES-1131809/2023\",\"hCoV-19/Austria/AGES-1131969/2023\",\"hCoV-19/Italy/PAB_SABES_4880001546/2023\",\"hCoV-19/Germany/BB-RKI-I-1128244/2023\",\"hCoV-19/Germany/HE-RKI-I-1129406/2023\",\"hCoV-19/Germany/TH-RKI-I-1129651/2023\",\"hCoV-19/Germany/HH-RKI-I-1129724/2023\",\"hCoV-19/France/OCC-CHU-TLS-6003743587/2023\",\"hCoV-19/Luxembourg/LNS3733972/2023\",\"hCoV-19/Ireland/G-NVRL-SIRL00015685/2023\",\"hCoV-19/Ireland/KE-NVRL-SIRL00016451/2023\",\"hCoV-19/Ireland/LK-NVRL-SIRL00016506/2023\",\"hCoV-19/Ireland/LS-NVRL-SIRL00016621/2023\",\"hCoV-19/Ireland/WD-NVRL-SIRL00016628/2023\",\"hCoV-19/Ireland/WX-NVRL-SIRL00016738/2023\",\"hCoV-19/Italy/SIC-AOUP-UNIPA_105350/2023\",\"hCoV-19/Romania/IS-CNMMI-548819/2023\"],\"lat\":[50.9977937,42.965916,52.8398531,51.7687323,41.5398348,55.37842625,55.5455979,56.23564835,55.86178115,47.223193,53.3498006,48.2083537,37.3886303,49.96379985,56.8152793,51.4789205,50.9295798,48.53775,42.6384261,50.4665284,64.9841821,59.8586126,46.7500001,52.4160308,45.5703694,52.5310214,52.0089065,47.9027336,48.8356649,50.6056749,50.6365654,48.5960009,50.3675677,48.2175823,49.1125294,50.7235038,47.4139645,48.922788,48.7322183,47.7194057,51.6017723,40.4167047,52.9067922,51.9966792,47.25,47.5000001,54.03497495,51.897077,52.69078865,52.95814675,53.5577902,53.6497577,52.68482145,52.6510216,54.2720696,47.7981346,47.2500001,46.4032416,52.8455492,50.6080651,50.9014721,53.550341,43.3054546,49.8158683,53.2744122,53.15436455,52.661252,52.9984575,52.2609997,52.46018745,37.587794,47.1615416],\"legendgroup\":\"\",\"lon\":[5.445357520264672,12.490236,9.075962,19.4569911,2.4448926,9.13180637450161,11.697374095992934,9.234625027778003,12.313735099767246,11.5261028,-6.2602964,16.3725042,-5.9953403,5.439803941614714,9.727330772696376,7.5543751,13.4585052,9.041169,12.674297,4.8661892,-18.1059013,17.6387436,13.8333333,17.21503055779803,9.7732524,-1.2649062,11.7003344,1.9086066,2.240206,3.0778827,3.0635282,2.4237886,3.0804641,-1.6962403,2.2186324,3.1605714,2.9319441,2.2543577,-3.4587994,-1.3757282,5.4441391,-3.7035825,6.6368423,4.5597397,9.9166667,16.4166666,-7.293702282558367,-8.4654674,-6.825145150844913,-6.381970708677661,-7.347855826009757,-6.588530730754936,-7.898127531345582,-7.2484948,-8.4751357,13.0464806,15.1666665,11.3187372,13.2461296,9.0284647,11.0377839,10.000654,0.9716791701901576,6.1296751,-9.0490601,-6.8184175660976445,-8.6301239,-7.398033775032418,-7.1119081,-6.606515459159162,14.155048,27.5837224],\"marker\":{\"color\":\"#636efa\"},\"mode\":\"markers\",\"name\":\"\",\"showlegend\":false,\"subplot\":\"mapbox\",\"type\":\"scattermapbox\"}],                        {\"template\":{\"data\":{\"histogram2dcontour\":[{\"type\":\"histogram2dcontour\",\"colorbar\":{\"outlinewidth\":0,\"ticks\":\"\"},\"colorscale\":[[0.0,\"#0d0887\"],[0.1111111111111111,\"#46039f\"],[0.2222222222222222,\"#7201a8\"],[0.3333333333333333,\"#9c179e\"],[0.4444444444444444,\"#bd3786\"],[0.5555555555555556,\"#d8576b\"],[0.6666666666666666,\"#ed7953\"],[0.7777777777777778,\"#fb9f3a\"],[0.8888888888888888,\"#fdca26\"],[1.0,\"#f0f921\"]]}],\"choropleth\":[{\"type\":\"choropleth\",\"colorbar\":{\"outlinewidth\":0,\"ticks\":\"\"}}],\"histogram2d\":[{\"type\":\"histogram2d\",\"colorbar\":{\"outlinewidth\":0,\"ticks\":\"\"},\"colorscale\":[[0.0,\"#0d0887\"],[0.1111111111111111,\"#46039f\"],[0.2222222222222222,\"#7201a8\"],[0.3333333333333333,\"#9c179e\"],[0.4444444444444444,\"#bd3786\"],[0.5555555555555556,\"#d8576b\"],[0.6666666666666666,\"#ed7953\"],[0.7777777777777778,\"#fb9f3a\"],[0.8888888888888888,\"#fdca26\"],[1.0,\"#f0f921\"]]}],\"heatmap\":[{\"type\":\"heatmap\",\"colorbar\":{\"outlinewidth\":0,\"ticks\":\"\"},\"colorscale\":[[0.0,\"#0d0887\"],[0.1111111111111111,\"#46039f\"],[0.2222222222222222,\"#7201a8\"],[0.3333333333333333,\"#9c179e\"],[0.4444444444444444,\"#bd3786\"],[0.5555555555555556,\"#d8576b\"],[0.6666666666666666,\"#ed7953\"],[0.7777777777777778,\"#fb9f3a\"],[0.8888888888888888,\"#fdca26\"],[1.0,\"#f0f921\"]]}],\"heatmapgl\":[{\"type\":\"heatmapgl\",\"colorbar\":{\"outlinewidth\":0,\"ticks\":\"\"},\"colorscale\":[[0.0,\"#0d0887\"],[0.1111111111111111,\"#46039f\"],[0.2222222222222222,\"#7201a8\"],[0.3333333333333333,\"#9c179e\"],[0.4444444444444444,\"#bd3786\"],[0.5555555555555556,\"#d8576b\"],[0.6666666666666666,\"#ed7953\"],[0.7777777777777778,\"#fb9f3a\"],[0.8888888888888888,\"#fdca26\"],[1.0,\"#f0f921\"]]}],\"contourcarpet\":[{\"type\":\"contourcarpet\",\"colorbar\":{\"outlinewidth\":0,\"ticks\":\"\"}}],\"contour\":[{\"type\":\"contour\",\"colorbar\":{\"outlinewidth\":0,\"ticks\":\"\"},\"colorscale\":[[0.0,\"#0d0887\"],[0.1111111111111111,\"#46039f\"],[0.2222222222222222,\"#7201a8\"],[0.3333333333333333,\"#9c179e\"],[0.4444444444444444,\"#bd3786\"],[0.5555555555555556,\"#d8576b\"],[0.6666666666666666,\"#ed7953\"],[0.7777777777777778,\"#fb9f3a\"],[0.8888888888888888,\"#fdca26\"],[1.0,\"#f0f921\"]]}],\"surface\":[{\"type\":\"surface\",\"colorbar\":{\"outlinewidth\":0,\"ticks\":\"\"},\"colorscale\":[[0.0,\"#0d0887\"],[0.1111111111111111,\"#46039f\"],[0.2222222222222222,\"#7201a8\"],[0.3333333333333333,\"#9c179e\"],[0.4444444444444444,\"#bd3786\"],[0.5555555555555556,\"#d8576b\"],[0.6666666666666666,\"#ed7953\"],[0.7777777777777778,\"#fb9f3a\"],[0.8888888888888888,\"#fdca26\"],[1.0,\"#f0f921\"]]}],\"mesh3d\":[{\"type\":\"mesh3d\",\"colorbar\":{\"outlinewidth\":0,\"ticks\":\"\"}}],\"scatter\":[{\"fillpattern\":{\"fillmode\":\"overlay\",\"size\":10,\"solidity\":0.2},\"type\":\"scatter\"}],\"parcoords\":[{\"type\":\"parcoords\",\"line\":{\"colorbar\":{\"outlinewidth\":0,\"ticks\":\"\"}}}],\"scatterpolargl\":[{\"type\":\"scatterpolargl\",\"marker\":{\"colorbar\":{\"outlinewidth\":0,\"ticks\":\"\"}}}],\"bar\":[{\"error_x\":{\"color\":\"#2a3f5f\"},\"error_y\":{\"color\":\"#2a3f5f\"},\"marker\":{\"line\":{\"color\":\"#E5ECF6\",\"width\":0.5},\"pattern\":{\"fillmode\":\"overlay\",\"size\":10,\"solidity\":0.2}},\"type\":\"bar\"}],\"scattergeo\":[{\"type\":\"scattergeo\",\"marker\":{\"colorbar\":{\"outlinewidth\":0,\"ticks\":\"\"}}}],\"scatterpolar\":[{\"type\":\"scatterpolar\",\"marker\":{\"colorbar\":{\"outlinewidth\":0,\"ticks\":\"\"}}}],\"histogram\":[{\"marker\":{\"pattern\":{\"fillmode\":\"overlay\",\"size\":10,\"solidity\":0.2}},\"type\":\"histogram\"}],\"scattergl\":[{\"type\":\"scattergl\",\"marker\":{\"colorbar\":{\"outlinewidth\":0,\"ticks\":\"\"}}}],\"scatter3d\":[{\"type\":\"scatter3d\",\"line\":{\"colorbar\":{\"outlinewidth\":0,\"ticks\":\"\"}},\"marker\":{\"colorbar\":{\"outlinewidth\":0,\"ticks\":\"\"}}}],\"scattermapbox\":[{\"type\":\"scattermapbox\",\"marker\":{\"colorbar\":{\"outlinewidth\":0,\"ticks\":\"\"}}}],\"scatterternary\":[{\"type\":\"scatterternary\",\"marker\":{\"colorbar\":{\"outlinewidth\":0,\"ticks\":\"\"}}}],\"scattercarpet\":[{\"type\":\"scattercarpet\",\"marker\":{\"colorbar\":{\"outlinewidth\":0,\"ticks\":\"\"}}}],\"carpet\":[{\"aaxis\":{\"endlinecolor\":\"#2a3f5f\",\"gridcolor\":\"white\",\"linecolor\":\"white\",\"minorgridcolor\":\"white\",\"startlinecolor\":\"#2a3f5f\"},\"baxis\":{\"endlinecolor\":\"#2a3f5f\",\"gridcolor\":\"white\",\"linecolor\":\"white\",\"minorgridcolor\":\"white\",\"startlinecolor\":\"#2a3f5f\"},\"type\":\"carpet\"}],\"table\":[{\"cells\":{\"fill\":{\"color\":\"#EBF0F8\"},\"line\":{\"color\":\"white\"}},\"header\":{\"fill\":{\"color\":\"#C8D4E3\"},\"line\":{\"color\":\"white\"}},\"type\":\"table\"}],\"barpolar\":[{\"marker\":{\"line\":{\"color\":\"#E5ECF6\",\"width\":0.5},\"pattern\":{\"fillmode\":\"overlay\",\"size\":10,\"solidity\":0.2}},\"type\":\"barpolar\"}],\"pie\":[{\"automargin\":true,\"type\":\"pie\"}]},\"layout\":{\"autotypenumbers\":\"strict\",\"colorway\":[\"#636efa\",\"#EF553B\",\"#00cc96\",\"#ab63fa\",\"#FFA15A\",\"#19d3f3\",\"#FF6692\",\"#B6E880\",\"#FF97FF\",\"#FECB52\"],\"font\":{\"color\":\"#2a3f5f\"},\"hovermode\":\"closest\",\"hoverlabel\":{\"align\":\"left\"},\"paper_bgcolor\":\"white\",\"plot_bgcolor\":\"#E5ECF6\",\"polar\":{\"bgcolor\":\"#E5ECF6\",\"angularaxis\":{\"gridcolor\":\"white\",\"linecolor\":\"white\",\"ticks\":\"\"},\"radialaxis\":{\"gridcolor\":\"white\",\"linecolor\":\"white\",\"ticks\":\"\"}},\"ternary\":{\"bgcolor\":\"#E5ECF6\",\"aaxis\":{\"gridcolor\":\"white\",\"linecolor\":\"white\",\"ticks\":\"\"},\"baxis\":{\"gridcolor\":\"white\",\"linecolor\":\"white\",\"ticks\":\"\"},\"caxis\":{\"gridcolor\":\"white\",\"linecolor\":\"white\",\"ticks\":\"\"}},\"coloraxis\":{\"colorbar\":{\"outlinewidth\":0,\"ticks\":\"\"}},\"colorscale\":{\"sequential\":[[0.0,\"#0d0887\"],[0.1111111111111111,\"#46039f\"],[0.2222222222222222,\"#7201a8\"],[0.3333333333333333,\"#9c179e\"],[0.4444444444444444,\"#bd3786\"],[0.5555555555555556,\"#d8576b\"],[0.6666666666666666,\"#ed7953\"],[0.7777777777777778,\"#fb9f3a\"],[0.8888888888888888,\"#fdca26\"],[1.0,\"#f0f921\"]],\"sequentialminus\":[[0.0,\"#0d0887\"],[0.1111111111111111,\"#46039f\"],[0.2222222222222222,\"#7201a8\"],[0.3333333333333333,\"#9c179e\"],[0.4444444444444444,\"#bd3786\"],[0.5555555555555556,\"#d8576b\"],[0.6666666666666666,\"#ed7953\"],[0.7777777777777778,\"#fb9f3a\"],[0.8888888888888888,\"#fdca26\"],[1.0,\"#f0f921\"]],\"diverging\":[[0,\"#8e0152\"],[0.1,\"#c51b7d\"],[0.2,\"#de77ae\"],[0.3,\"#f1b6da\"],[0.4,\"#fde0ef\"],[0.5,\"#f7f7f7\"],[0.6,\"#e6f5d0\"],[0.7,\"#b8e186\"],[0.8,\"#7fbc41\"],[0.9,\"#4d9221\"],[1,\"#276419\"]]},\"xaxis\":{\"gridcolor\":\"white\",\"linecolor\":\"white\",\"ticks\":\"\",\"title\":{\"standoff\":15},\"zerolinecolor\":\"white\",\"automargin\":true,\"zerolinewidth\":2},\"yaxis\":{\"gridcolor\":\"white\",\"linecolor\":\"white\",\"ticks\":\"\",\"title\":{\"standoff\":15},\"zerolinecolor\":\"white\",\"automargin\":true,\"zerolinewidth\":2},\"scene\":{\"xaxis\":{\"backgroundcolor\":\"#E5ECF6\",\"gridcolor\":\"white\",\"linecolor\":\"white\",\"showbackground\":true,\"ticks\":\"\",\"zerolinecolor\":\"white\",\"gridwidth\":2},\"yaxis\":{\"backgroundcolor\":\"#E5ECF6\",\"gridcolor\":\"white\",\"linecolor\":\"white\",\"showbackground\":true,\"ticks\":\"\",\"zerolinecolor\":\"white\",\"gridwidth\":2},\"zaxis\":{\"backgroundcolor\":\"#E5ECF6\",\"gridcolor\":\"white\",\"linecolor\":\"white\",\"showbackground\":true,\"ticks\":\"\",\"zerolinecolor\":\"white\",\"gridwidth\":2}},\"shapedefaults\":{\"line\":{\"color\":\"#2a3f5f\"}},\"annotationdefaults\":{\"arrowcolor\":\"#2a3f5f\",\"arrowhead\":0,\"arrowwidth\":1},\"geo\":{\"bgcolor\":\"white\",\"landcolor\":\"#E5ECF6\",\"subunitcolor\":\"white\",\"showland\":true,\"showlakes\":true,\"lakecolor\":\"white\"},\"title\":{\"x\":0.05},\"mapbox\":{\"style\":\"light\"}}},\"mapbox\":{\"domain\":{\"x\":[0.0,1.0],\"y\":[0.0,1.0]},\"center\":{\"lat\":50.36312082500001,\"lon\":4.154607569862823},\"zoom\":8,\"style\":\"open-street-map\"},\"legend\":{\"tracegroupgap\":0},\"margin\":{\"t\":0,\"r\":0,\"l\":0,\"b\":0}},                        {\"responsive\": true}                    ).then(function(){\n",
       "                            \n",
       "var gd = document.getElementById('4ef4f2cc-c866-40f4-874d-91b95474f0fb');\n",
       "var x = new MutationObserver(function (mutations, observer) {{\n",
       "        var display = window.getComputedStyle(gd).display;\n",
       "        if (!display || display === 'none') {{\n",
       "            console.log([gd, 'removed!']);\n",
       "            Plotly.purge(gd);\n",
       "            observer.disconnect();\n",
       "        }}\n",
       "}});\n",
       "\n",
       "// Listen for the removal of the full notebook cells\n",
       "var notebookContainer = gd.closest('#notebook-container');\n",
       "if (notebookContainer) {{\n",
       "    x.observe(notebookContainer, {childList: true});\n",
       "}}\n",
       "\n",
       "// Listen for the clearing of the current output cell\n",
       "var outputEl = gd.closest('.output');\n",
       "if (outputEl) {{\n",
       "    x.observe(outputEl, {childList: true});\n",
       "}}\n",
       "\n",
       "                        })                };                });            </script>        </div>"
      ]
     },
     "metadata": {},
     "output_type": "display_data"
    }
   ],
   "source": [
    "metadata = pd.read_table(\"data/Europe_20230320-20230410/original/sequencing_technology_metadata_with_latlon.tsv\")\n",
    "metadata = metadata.drop_duplicates([\"Latitude\", \"Longitude\"])\n",
    "metadata[\"ID\"] = metadata[\"Virus name\"]+\"|\"+metadata[\"Accession ID\"]+\"|\"+metadata[\"Collection date\"]\n",
    "\n",
    "metadata.to_csv(\"data/Europe_20230320-20230410/filtered/sequencing_technology_metadata_filtered.tsv\", sep=\"\\t\", index=False)\n",
    "\n",
    "print(\"There are\", metadata.shape[0], \"unique locations.\")\n",
    "\n",
    "\n",
    "fig = px.scatter_mapbox(metadata, \n",
    "                        lat=\"Latitude\", \n",
    "                        lon=\"Longitude\", \n",
    "                        hover_name=\"Virus name\",\n",
    "                        hover_data=[\"Continent\", \"Country\", \"Region\", \"City\"],\n",
    "                        zoom=8)\n",
    "\n",
    "fig.update_layout(mapbox_style=\"open-street-map\")\n",
    "fig.update_layout(margin={\"r\":0,\"t\":0,\"l\":0,\"b\":0})\n",
    "fig.show()"
   ]
  },
  {
   "cell_type": "code",
   "execution_count": 7,
   "id": "94269c34",
   "metadata": {},
   "outputs": [],
   "source": [
    "reference_seq = SeqIO.parse(open(\"data/reference.fasta\"),\"fasta\")\n",
    "fasta_sequences = SeqIO.parse(open(\"data/Europe_20230320-20230410/original/nucleotide_sequences.fasta\"),\"fasta\")\n",
    "records = []\n",
    "for ref in reference_seq:\n",
    "    records.append(ref)\n",
    "for fasta in fasta_sequences:\n",
    "    if fasta.id in list(metadata[\"ID\"]):\n",
    "        records.append(fasta)\n",
    "\n",
    "#output_file = \"data/Europe_20230320-20230410/filtered/nucleotide_sequences_filtered.fasta\"\n",
    "#with open(output_file, 'w') as f:\n",
    "#    SeqIO.write(records, f, 'fasta')"
   ]
  },
  {
   "cell_type": "markdown",
   "id": "ae0f3c26",
   "metadata": {},
   "source": [
    "## Align Sequences"
   ]
  },
  {
   "cell_type": "code",
   "execution_count": 8,
   "id": "e60cf6d5",
   "metadata": {},
   "outputs": [
    {
     "name": "stdout",
     "output_type": "stream",
     "text": [
      "\n",
      "nseq =  73\n",
      "distance =  ktuples\n",
      "iterate =  0\n",
      "cycle =  2\n",
      "sparsepickup = 0\n",
      "nguidetree = 2\n",
      "nthread = 0\n",
      "sueff_global = 0.100000\n",
      "generating a scoring matrix for nucleotide (dist=200) ... done\n",
      "done\n",
      "done\n",
      "scoremtx = -1\n",
      "Gap Penalty = -1.53, +0.00, +0.00\n",
      "\n",
      "tuplesize = 6, dorp = d\n",
      "\n",
      "\n",
      "Making a distance matrix ..\n",
      "\n",
      "There are 4355 ambiguous characters.\n",
      "    1 / 73\n",
      "done.\n",
      "\n",
      "Constructing a UPGMA tree ... \n",
      "   70 / 73\n",
      "done.\n",
      "\n",
      "Progressive alignment 1/2... \n",
      "STEP    67 / 72 f\n",
      "Reallocating..done. *alloclen = 60894\n",
      "STEP    69 / 72 f\n",
      "len1=30056, len2=29679, Switching to the memsave mode\n"
     ]
    },
    {
     "name": "stdout",
     "output_type": "stream",
     "text": [
      "STEP    71 / 72 fm FFT ... rs) DP 00001 / 00193DP 00002 / 00193DP 00003 / 00193DP 00004 / 00193DP 00005 / 00193DP 00006 / 00193DP 00007 / 00193DP 00008 / 00193DP 00009 / 00193DP 00010 / 00193DP 00011 / 00193DP 00012 / 00193DP 00013 / 00193DP 00014 / 00193DP 00015 / 00193DP 00016 / 00193DP 00017 / 00193DP 00018 / 00193DP 00019 / 00193DP 00020 / 00193DP 00021 / 00193DP 00022 / 00193DP 00023 / 00193DP 00024 / 00193DP 00025 / 00193DP 00026 / 00193DP 00027 / 00193DP 00028 / 00193DP 00029 / 00193DP 00030 / 00193DP 00031 / 00193DP 00032 / 00193DP 00033 / 00193DP 00034 / 00193DP 00035 / 00193DP 00036 / 00193DP 00037 / 00193DP 00038 / 00193DP 00039 / 00193DP 00040 / 00193DP 00041 / 00193DP 00042 / 00193DP 00043 / 00193DP 00044 / 00193DP 00045 / 00193DP 00046 / 00193DP 00047 / 00193DP 00048 / 00193DP 00049 / 00193DP 00050 / 00193DP 00051 / 00193DP 00052 / 00193DP 00053 / 00193DP 00054 / 00193DP 00055 / 00193DP 00056 / 00193DP 00057 / 00193DP 00058 / 00193DP 00059 / 00193DP 00060 / 00193DP 00061 / 00193DP 00062 / 00193DP 00063 / 00193DP 00064 / 00193DP 00065 / 00193DP 00066 / 00193DP 00067 / 00193DP 00068 / 00193DP 00069 / 00193DP 00070 / 00193DP 00071 / 00193DP 00072 / 00193DP 00073 / 00193DP 00074 / 00193DP 00075 / 00193DP 00076 / 00193DP 00077 / 00193DP 00078 / 00193DP 00079 / 00193DP 00080 / 00193DP 00081 / 00193DP 00082 / 00193DP 00083 / 00193DP 00084 / 00193DP 00085 / 00193DP 00086 / 00193DP 00087 / 00193DP 00088 / 00193DP 00089 / 00193DP 00090 / 00193DP 00091 / 00193DP 00092 / 00193DP 00093 / 00193DP 00094 / 00193DP 00095 / 00193DP 00096 / 00193DP 00097 / 00193DP 00098 / 00193DP 00099 / 00193DP 00100 / 00193DP 00101 / 00193DP 00102 / 00193DP 00103 / 00193DP 00104 / 00193DP 00105 / 00193DP 00106 / 00193DP 00107 / 00193DP 00108 / 00193DP 00109 / 00193DP 00110 / 00193DP 00111 / 00193DP 00112 / 00193DP 00113 / 00193DP 00114 / 00193DP 00115 / 00193DP 00116 / 00193DP 00117 / 00193DP 00118 / 00193DP 00119 / 00193DP 00120 / 00193DP 00121 / 00193DP 00122 / 00193DP 00123 / 00193DP 00124 / 00193DP 00125 / 00193DP 00126 / 00193DP 00127 / 00193DP 00128 / 00193DP 00129 / 00193DP 00130 / 00193DP 00131 / 00193DP 00132 / 00193DP 00133 / 00193DP 00134 / 00193DP 00135 / 00193DP 00136 / 00193DP 00137 / 00193DP 00138 / 00193DP 00139 / 00193DP 00140 / 00193DP 00141 / 00193DP 00142 / 00193DP 00143 / 00193DP 00144 / 00193DP 00145 / 00193DP 00146 / 00193DP 00147 / 00193DP 00148 / 00193DP 00149 / 00193DP 00150 / 00193DP 00151 / 00193DP 00152 / 00193DP 00153 / 00193DP 00154 / 00193DP 00155 / 00193DP 00156 / 00193DP 00157 / 00193DP 00158 / 00193DP 00159 / 00193DP 00160 / 00193DP 00161 / 00193DP 00162 / 00193DP 00163 / 00193DP 00164 / 00193DP 00165 / 00193DP 00166 / 00193DP 00167 / 00193DP 00168 / 00193DP 00169 / 00193DP 00170 / 00193DP 00171 / 00193DP 00172 / 00193DP 00173 / 00193DP 00174 / 00193DP 00175 / 00193DP 00176 / 00193DP 00177 / 00193DP 00178 / 00193DP 00179 / 00193DP 00180 / 00193DP 00181 / 00193DP 00182 / 00193DP 00183 / 00193DP 00184 / 00193DP 00185 / 00193DP 00186 / 00193DP 00187 / 00193DP 00188 / 00193DP 00189 / 00193DP 00190 / 00193DP 00191 / 00193DP 00192 / 00193DP 00193 / 00193done. (190 anchors) DP 00001 / 00191DP 00002 / 00191DP 00003 / 00191DP 00004 / 00191DP 00005 / 00191DP 00006 / 00191DP 00007 / 00191DP 00008 / 00191DP 00009 / 00191DP 00010 / 00191DP 00011 / 00191DP 00012 / 00191DP 00013 / 00191DP 00014 / 00191DP 00015 / 00191DP 00016 / 00191DP 00017 / 00191DP 00018 / 00191DP 00019 / 00191DP 00020 / 00191DP 00021 / 00191DP 00022 / 00191DP 00023 / 00191DP 00024 / 00191DP 00025 / 00191DP 00026 / 00191DP 00027 / 00191DP 00028 / 00191DP 00029 / 00191DP 00030 / 00191DP 00031 / 00191DP 00032 / 00191DP 00033 / 00191DP 00034 / 00191DP 00035 / 00191DP 00036 / 00191DP 00037 / 00191DP 00038 / 00191DP 00039 / 00191DP 00040 / 00191DP 00041 / 00191DP 00042 / 00191DP 00043 / 00191DP 00044 / 00191DP 00045 / 00191DP 00046 / 00191DP 00047 / 00191DP 00048 / 00191DP 00049 / 00191DP 00050 / 00191DP 00051 / 00191DP 00052 / 00191DP 00053 / 00191DP 00054 / 00191DP 00055 / 00191DP 00056 / 00191DP 00057 / 00191DP 00058 / 00191DP 00059 / 00191DP 00060 / 00191DP 00061 / 00191DP 00062 / 00191DP 00063 / 00191DP 00064 / 00191DP 00065 / 00191DP 00066 / 00191DP 00067 / 00191DP 00068 / 00191DP 00069 / 00191DP 00070 / 00191DP 00071 / 00191DP 00072 / 00191DP 00073 / 00191DP 00074 / 00191DP 00075 / 00191DP 00076 / 00191DP 00077 / 00191DP 00078 / 00191DP 00079 / 00191DP 00080 / 00191DP 00081 / 00191DP 00082 / 00191DP 00083 / 00191DP 00084 / 00191DP 00085 / 00191DP 00086 / 00191DP 00087 / 00191DP 00088 / 00191DP 00089 / 00191DP 00090 / 00191DP 00091 / 00191DP 00092 / 00191DP 00093 / 00191DP 00094 / 00191DP 00095 / 00191DP 00096 / 00191DP 00097 / 00191DP 00098 / 00191DP 00099 / 00191DP 00100 / 00191DP 00101 / 00191DP 00102 / 00191DP 00103 / 00191DP 00104 / 00191DP 00105 / 00191DP 00106 / 00191DP 00107 / 00191DP 00108 / 00191DP 00109 / 00191DP 00110 / 00191DP 00111 / 00191DP 00112 / 00191DP 00113 / 00191DP 00114 / 00191DP 00115 / 00191DP 00116 / 00191DP 00117 / 00191DP 00118 / 00191DP 00119 / 00191DP 00120 / 00191DP 00121 / 00191DP 00122 / 00191DP 00123 / 00191DP 00124 / 00191DP 00125 / 00191DP 00126 / 00191DP 00127 / 00191DP 00128 / 00191DP 00129 / 00191DP 00130 / 00191DP 00131 / 00191DP 00132 / 00191DP 00133 / 00191DP 00134 / 00191DP 00135 / 00191DP 00136 / 00191DP 00137 / 00191DP 00138 / 00191DP 00139 / 00191DP 00140 / 00191DP 00141 / 00191DP 00142 / 00191DP 00143 / 00191DP 00144 / 00191DP 00145 / 00191DP 00146 / 00191DP 00147 / 00191DP 00148 / 00191DP 00149 / 00191DP 00150 / 00191DP 00151 / 00191DP 00152 / 00191DP 00153 / 00191DP 00154 / 00191DP 00155 / 00191DP 00156 / 00191DP 00157 / 00191DP 00158 / 00191DP 00159 / 00191DP 00160 / 00191DP 00161 / 00191DP 00162 / 00191DP 00163 / 00191DP 00164 / 00191DP 00165 / 00191DP 00166 / 00191DP 00167 / 00191DP 00168 / 00191DP 00169 / 00191DP 00170 / 00191DP 00171 / 00191DP 00172 / 00191DP 00173 / 00191DP 00174 / 00191DP 00175 / 00191DP 00176 / 00191DP 00177 / 00191DP 00178 / 00191DP 00179 / 00191DP 00180 / 00191DP 00181 / 00191DP 00182 / 00191DP 00183 / 00191DP 00184 / 00191DP 00185 / 00191DP 00186 / 00191DP 00187 / 00191DP 00188 / 00191DP 00189 / 00191DP 00190 / 00191DP 00191 / 00191done. (190 anchors) DP 00001 / 00191DP 00002 / 00191DP 00003 / 00191DP 00004 / 00191DP 00005 / 00191DP 00006 / 00191DP 00007 / 00191DP 00008 / 00191DP 00009 / 00191DP 00010 / 00191DP 00011 / 00191DP 00012 / 00191DP 00013 / 00191DP 00014 / 00191DP 00015 / 00191DP 00016 / 00191DP 00017 / 00191DP 00018 / 00191DP 00019 / 00191DP 00020 / 00191DP 00021 / 00191DP 00022 / 00191DP 00023 / 00191DP 00024 / 00191DP 00025 / 00191DP 00026 / 00191DP 00027 / 00191DP 00028 / 00191DP 00029 / 00191DP 00030 / 00191DP 00031 / 00191DP 00032 / 00191DP 00033 / 00191DP 00034 / 00191DP 00035 / 00191DP 00036 / 00191DP 00037 / 00191DP 00038 / 00191DP 00039 / 00191DP 00040 / 00191DP 00041 / 00191DP 00042 / 00191DP 00043 / 00191DP 00044 / 00191DP 00045 / 00191DP 00046 / 00191DP 00047 / 00191DP 00048 / 00191DP 00049 / 00191DP 00050 / 00191DP 00051 / 00191DP 00052 / 00191DP 00053 / 00191DP 00054 / 00191DP 00055 / 00191DP 00056 / 00191DP 00057 / 00191DP 00058 / 00191DP 00059 / 00191DP 00060 / 00191DP 00061 / 00191DP 00062 / 00191DP 00063 / 00191DP 00064 / 00191DP 00065 / 00191DP 00066 / 00191DP 00067 / 00191DP 00068 / 00191DP 00069 / 00191DP 00070 / 00191DP 00071 / 00191DP 00072 / 00191DP 00073 / 00191DP 00074 / 00191DP 00075 / 00191DP 00076 / 00191DP 00077 / 00191DP 00078 / 00191DP 00079 / 00191DP 00080 / 00191DP 00081 / 00191DP 00082 / 00191DP 00083 / 00191DP 00084 / 00191DP 00085 / 00191DP 00086 / 00191DP 00087 / 00191DP 00088 / 00191DP 00089 / 00191DP 00090 / 00191DP 00091 / 00191DP 00092 / 00191DP 00093 / 00191DP 00094 / 00191DP 00095 / 00191DP 00096 / 00191DP 00097 / 00191DP 00098 / 00191DP 00099 / 00191DP 00100 / 00191DP 00101 / 00191DP 00102 / 00191DP 00103 / 00191DP 00104 / 00191DP 00105 / 00191DP 00106 / 00191DP 00107 / 00191DP 00108 / 00191DP 00109 / 00191DP 00110 / 00191DP 00111 / 00191DP 00112 / 00191DP 00113 / 00191DP 00114 / 00191DP 00115 / 00191DP 00116 / 00191DP 00117 / 00191DP 00118 / 00191DP 00119 / 00191DP 00120 / 00191DP 00121 / 00191DP 00122 / 00191DP 00123 / 00191DP 00124 / 00191DP 00125 / 00191DP 00126 / 00191DP 00127 / 00191DP 00128 / 00191DP 00129 / 00191DP 00130 / 00191DP 00131 / 00191DP 00132 / 00191DP 00133 / 00191DP 00134 / 00191DP 00135 / 00191DP 00136 / 00191DP 00137 / 00191DP 00138 / 00191DP 00139 / 00191DP 00140 / 00191DP 00141 / 00191DP 00142 / 00191DP 00143 / 00191DP 00144 / 00191DP 00145 / 00191DP 00146 / 00191DP 00147 / 00191DP 00148 / 00191DP 00149 / 00191DP 00150 / 00191DP 00151 / 00191DP 00152 / 00191DP 00153 / 00191DP 00154 / 00191DP 00155 / 00191DP 00156 / 00191DP 00157 / 00191DP 00158 / 00191DP 00159 / 00191DP 00160 / 00191DP 00161 / 00191DP 00162 / 00191DP 00163 / 00191STEP    72 / 72 fm FFT ... done. (190 anchors) DP 00001 / 00191DP 00002 / 00191DP 00003 / 00191DP 00004 / 00191DP 00005 / 00191DP 00006 / 00191DP 00007 / 00191DP 00008 / 00191DP 00009 / 00191DP 00010 / 00191DP 00011 / 00191DP 00012 / 00191DP 00013 / 00191DP 00014 / 00191DP 00015 / 001911DP 00182 / 00191DP 00183 / 00191DP 00184 / 00191DP 00185 / 00191DP 00186 / 00191DP 00187 / 00191DP 00188 / 00191DP 00189 / 00191DP 00190 / 00191DP 00191 / 00191DP 00016 / 00191DP 00017 / 00191DP 00018 / 00191DP 00019 / 00191DP 00020 / 00191DP 00021 / 00191DP 00022 / 00191DP 00023 / 00191DP 00024 / 00191DP 00025 / 00191DP 00026 / 00191DP 00027 / 00191DP 00028 / 00191DP 00029 / 00191DP 00030 / 00191DP 00031 / 00191DP 00032 / 00191DP 00033 / 00191DP 00034 / 00191DP 00035 / 00191DP 00036 / 00191DP 00037 / 00191DP 00038 / 00191DP 00039 / 00191DP 00040 / 00191DP 00041 / 00191DP 00042 / 00191DP 00043 / 00191DP 00044 / 00191DP 00045 / 00191DP 00046 / 00191DP 00047 / 00191DP 00048 / 00191DP 00049 / 00191DP 00050 / 00191DP 00051 / 00191DP 00052 / 00191DP 00053 / 00191DP 00054 / 00191DP 00055 / 00191DP 00056 / 00191DP 00057 / 00191DP 00058 / 00191DP 00059 / 00191DP 00060 / 00191DP 00061 / 00191DP 00062 / 00191DP 00063 / 00191DP 00064 / 00191DP 00065 / 00191DP 00066 / 00191DP 00067 / 00191DP 00068 / 00191DP 00069 / 00191DP 00070 / 00191DP 00071 / 00191DP 00072 / 00191DP 00073 / 00191DP 00074 / 00191DP 00075 / 00191DP 00076 / 00191DP 00077 / 00191DP 00078 / 00191DP 00079 / 00191DP 00080 / 00191DP 00081 / 00191DP 00082 / 00191DP 00083 / 00191DP 00084 / 00191DP 00085 / 00191DP 00086 / 00191DP 00087 / 00191DP 00088 / 00191DP 00089 / 00191DP 00090 / 00191DP 00091 / 00191DP 00092 / 00191DP 00093 / 00191DP 00094 / 00191DP 00095 / 00191DP 00096 / 00191DP 00097 / 00191DP 00098 / 00191DP 00099 / 00191DP 00100 / 00191DP 00101 / 00191DP 00102 / 00191DP 00103 / 00191DP 00104 / 00191DP 00105 / 00191DP 00106 / 00191DP 00107 / 00191DP 00108 / 00191DP 00109 / 00191DP 00110 / 00191DP 00111 / 00191DP 00112 / 00191DP 00113 / 00191DP 00114 / 00191DP 00115 / 00191DP 00116 / 00191DP 00117 / 00191DP 00118 / 00191DP 00119 / 00191DP 00120 / 00191DP 00121 / 00191DP 00122 / 00191DP 00123 / 00191DP 00124 / 00191DP 00125 / 00191DP 00126 / 00191DP 00127 / 00191DP 00128 / 00191DP 00129 / 00191DP 00130 / 00191DP 00131 / 00191DP 00132 / 00191DP 00133 / 00191DP 00134 / 00191DP 00135 / 00191DP 00136 / 00191DP 00137 / 00191DP 00138 / 00191DP 00139 / 00191DP 00140 / 00191DP 00141 / 00191DP 00142 / 00191DP 00143 / 00191DP 00144 / 00191DP 00145 / 00191DP 00146 / 00191DP 00147 / 00191DP 00148 / 00191DP 00149 / 00191DP 00150 / 00191DP 00151 / 00191DP 00152 / 00191DP 00153 / 00191DP 00154 / 00191DP 00155 / 00191DP 00156 / 00191DP 00157 / 00191DP 00158 / 00191DP 00159 / 00191DP 00160 / 00191DP 00161 / 00191DP 00162 / 00191DP 00163 / 00191DP 00164 / 00191DP 00165 / 00191DP 00166 / 00191DP 00167 / 00191DP 00168 / 00191DP 00169 / 00191DP 00170 / 00191DP 00171 / 00191DP 00172 / 00191DP 00173 / 00191DP 00174 / 00191DP 00175 / 00191DP 00176 / 00191DP 00177 / 00191DP 00178 / 00191DP 00179 / 00191DP 00180 / 00191DP 00181 / 00191DP 00182 / 00191DP 00183 / 00191DP 00184 / 00191DP 00185 / 00191DP 00186 / 00191DP 00187 / 00191DP 00188 / 00191DP 00189 / 00191DP 00190 / 00191DP 00191 / 00191\n",
      "done.\n",
      "\n",
      "Making a distance matrix from msa.. \n",
      "   70 / 73\n",
      "done.\n",
      "\n",
      "Constructing a UPGMA tree ... \n",
      "   70 / 73\n",
      "done.\n",
      "\n",
      "Progressive alignment 2/2... \n",
      "STEP    62 / 72 f\n",
      "Reallocating..done. *alloclen = 60818\n",
      "STEP    72 / 72 f\n",
      "len1=30074, len2=29767, Switching to the memsave mode\n",
      "fm FFT ... done. (185 anchors) DP 00001 / 00186DP 00002 / 00186DP 00003 / 00186DP 00004 / 00186DP 00005 / 00186DP 00006 / 00186DP 00007 / 00186DP 00008 / 00186DP 00009 / 00186DP 00010 / 00186DP 00011 / 00186DP 00012 / 00186DP 00013 / 00186DP 00014 / 00186DP 00015 / 00186DP 00016 / 00186DP 00017 / 00186DP 00018 / 00186DP 00019 / 00186DP 00020 / 00186DP 00021 / 00186DP 00022 / 00186DP 00023 / 00186DP 00024 / 00186DP 00025 / 00186DP 00026 / 00186DP 00027 / 00186DP 00028 / 00186DP 00029 / 00186DP 00030 / 00186DP 00031 / 00186DP 00032 / 00186DP 00033 / 00186DP 00034 / 00186DP 00035 / 00186DP 00036 / 00186DP 00037 / 00186DP 00038 / 00186DP 00039 / 00186DP 00040 / 00186DP 00041 / 00186DP 00042 / 00186DP 00043 / 00186DP 00044 / 00186DP 00045 / 00186DP 00046 / 00186DP 00047 / 00186DP 00048 / 00186DP 00049 / 00186DP 00050 / 00186DP 00051 / 00186DP 00052 / 00186DP 00053 / 00186DP 00054 / 00186DP 00055 / 00186DP 00056 / 00186DP 00057 / 00186DP 00058 / 00186DP 00059 / 00186DP 00060 / 00186DP 00061 / 00186DP 00062 / 00186DP 00063 / 00186DP 00064 / 00186DP 00065 / 00186DP 00066 / 00186DP 00067 / 00186DP 00068 / 00186DP 00069 / 00186DP 00070 / 00186DP 00071 / 00186DP 00072 / 00186DP 00073 / 00186DP 00074 / 00186DP 00075 / 00186DP 00076 / 00186DP 00077 / 00186DP 00078 / 00186DP 00079 / 00186DP 00080 / 00186DP 00081 / 00186DP 00082 / 00186DP 00083 / 00186DP 00084 / 00186DP 00085 / 00186DP 00086 / 00186DP 00087 / 00186DP 00088 / 00186DP 00089 / 00186DP 00090 / 00186DP 00091 / 00186DP 00092 / 00186DP 00093 / 00186DP 00094 / 00186DP 00095 / 00186DP 00096 / 00186DP 00097 / 00186DP 00098 / 00186DP 00099 / 00186DP 00100 / 00186DP 00101 / 00186DP 00102 / 00186DP 00103 / 00186DP 00104 / 00186DP 00105 / 00186DP 00106 / 00186DP 00107 / 00186DP 00108 / 00186DP 00109 / 00186DP 00110 / 00186DP 00111 / 00186DP 00112 / 00186DP 00113 / 00186DP 00114 / 00186DP 00115 / 00186DP 00116 / 00186DP 00117 / 00186DP 00118 / 00186DP 00119 / 00186DP 00120 / 00186DP 00121 / 00186DP 00122 / 00186DP 00123 / 00186DP 00124 / 00186DP 00125 / 00186DP 00126 / 00186DP 00127 / 00186DP 00128 / 00186DP 00129 / 00186DP 00130 / 00186DP 00131 / 00186DP 00132 / 00186DP 00133 / 00186DP 00134 / 00186DP 00135 / 00186DP 00136 / 00186DP 00137 / 00186DP 00138 / 00186DP 00139 / 00186DP 00140 / 00186DP 00141 / 00186DP 00142 / 00186DP 00143 / 00186DP 00144 / 00186DP 00145 / 00186DP 00146 / 00186DP 00147 / 00186DP 00148 / 00186DP 00149 / 00186DP 00150 / 00186DP 00151 / 00186DP 00152 / 00186DP 00153 / 00186DP 00154 / 00186DP 00155 / 00186DP 00156 / 00186DP 00157 / 00186DP 00158 / 00186DP 00159 / 00186DP 00160 / 00186DP 00161 / 00186DP 00162 / 00186DP 00163 / 00186DP 00164 / 00186DP 00165 / 00186DP 00166 / 00186DP 00167 / 00186DP 00168 / 00186DP 00169 / 00186DP 00170 / 00186DP 00171 / 00186DP 00172 / 00186DP 00173 / 00186DP 00174 / 00186DP 00175 / 00186DP 00176 / 00186DP 00177 / 00186DP 00178 / 00186DP 00179 / 00186DP 00180 / 00186DP 00181 / 00186DP 00182 / 00186DP 00183 / 00186DP 00184 / 00186DP 00185 / 00186DP 00186 / 00186\n",
      "done.\n",
      "\n",
      "disttbfast (nuc) Version 7.245 alg=M, model=DNA200 (2), 1.53 (4.59), -0.00 (-0.00), noshift, amax=0.0\n",
      "0 thread(s)\n",
      "\n",
      "\n",
      "Strategy:\n",
      " FFT-NS-2 (Fast but rough)\n",
      " Progressive method (guide trees were built 2 times.)\n",
      "\n",
      "If unsure which option to use, try 'mafft --auto input > output'.\n",
      "For more information, see 'mafft --help', 'mafft --man' and the mafft page.\n",
      "\n",
      "The default gap scoring scheme has been changed in version 7.110 (2013 Oct).\n",
      "It tends to insert more gaps into gap-rich regions than previous versions.\n",
      "To disable this change, add the --leavegappyregion option.\n",
      "\n"
     ]
    }
   ],
   "source": [
    "#!mafft data/Europe_20230320-20230410/filtered/nucleotide_sequences_filtered.fasta > data/Europe_20230320-20230410/filtered/nucleotide_sequences_filtered_aligned.fasta"
   ]
  },
  {
   "cell_type": "code",
   "execution_count": 11,
   "id": "405defeb",
   "metadata": {},
   "outputs": [
    {
     "name": "stdout",
     "output_type": "stream",
     "text": [
      "30075\n",
      "30075\n",
      "30075\n",
      "30075\n",
      "30075\n",
      "30075\n",
      "30075\n",
      "30075\n",
      "30075\n",
      "30075\n",
      "30075\n",
      "30075\n",
      "30075\n",
      "30075\n",
      "30075\n",
      "30075\n",
      "30075\n",
      "30075\n",
      "30075\n",
      "30075\n",
      "30075\n",
      "30075\n",
      "30075\n",
      "30075\n",
      "30075\n",
      "30075\n",
      "30075\n",
      "30075\n",
      "30075\n",
      "30075\n",
      "30075\n",
      "30075\n",
      "30075\n",
      "30075\n",
      "30075\n",
      "30075\n",
      "30075\n",
      "30075\n",
      "30075\n",
      "30075\n",
      "30075\n",
      "30075\n",
      "30075\n",
      "30075\n",
      "30075\n",
      "30075\n",
      "30075\n",
      "30075\n",
      "30075\n",
      "30075\n",
      "30075\n",
      "30075\n",
      "30075\n",
      "30075\n",
      "30075\n",
      "30075\n",
      "30075\n",
      "30075\n",
      "30075\n",
      "30075\n",
      "30075\n",
      "30075\n",
      "30075\n",
      "30075\n",
      "30075\n",
      "30075\n",
      "30075\n",
      "30075\n",
      "30075\n",
      "30075\n",
      "30075\n",
      "30075\n",
      "30075\n"
     ]
    }
   ],
   "source": [
    "aligned_fasta_sequences = SeqIO.parse(open(\"data/Europe_20230320-20230410/filtered/nucleotide_sequences_filtered_aligned.fasta\"),\"fasta\")\n",
    "for seq in aligned_fasta_sequences:\n",
    "    print(len(seq.seq))"
   ]
  },
  {
   "cell_type": "code",
   "execution_count": 12,
   "id": "8c64b276",
   "metadata": {},
   "outputs": [
    {
     "name": "stdout",
     "output_type": "stream",
     "text": [
      "29903\n",
      "29903\n",
      "29903\n",
      "29903\n",
      "29903\n",
      "29903\n",
      "29903\n",
      "29903\n",
      "29903\n",
      "29903\n",
      "29903\n",
      "29903\n",
      "29903\n",
      "29903\n",
      "29903\n",
      "29903\n",
      "29903\n",
      "29903\n",
      "29903\n",
      "29903\n",
      "29903\n",
      "29903\n",
      "29903\n",
      "29903\n",
      "29903\n",
      "29903\n",
      "29903\n",
      "29903\n",
      "29903\n",
      "29903\n",
      "29903\n",
      "29903\n",
      "29903\n",
      "29903\n",
      "29903\n",
      "29903\n",
      "29903\n",
      "29903\n",
      "29903\n",
      "29903\n",
      "29903\n",
      "29903\n",
      "29903\n",
      "29903\n",
      "29903\n",
      "29903\n",
      "29903\n",
      "29903\n",
      "29903\n",
      "29903\n",
      "29903\n",
      "29903\n",
      "29903\n",
      "29903\n",
      "29903\n",
      "29903\n",
      "29903\n",
      "29903\n",
      "29903\n",
      "29903\n",
      "29903\n",
      "29903\n",
      "29903\n",
      "29903\n",
      "29903\n",
      "29903\n",
      "29903\n",
      "29903\n",
      "29903\n",
      "29903\n",
      "29903\n",
      "29903\n",
      "29903\n"
     ]
    }
   ],
   "source": [
    "aligned_fasta_sequences = SeqIO.parse(open(\"data/Europe_20230320-20230410/filtered/nextclade.aligned.fasta\"),\"fasta\")\n",
    "for seq in aligned_fasta_sequences:\n",
    "    print(len(seq.seq))"
   ]
  },
  {
   "cell_type": "code",
   "execution_count": null,
   "id": "6424c292",
   "metadata": {},
   "outputs": [],
   "source": []
  }
 ],
 "metadata": {
  "kernelspec": {
   "display_name": "Python 3 (ipykernel)",
   "language": "python",
   "name": "python3"
  },
  "language_info": {
   "codemirror_mode": {
    "name": "ipython",
    "version": 3
   },
   "file_extension": ".py",
   "mimetype": "text/x-python",
   "name": "python",
   "nbconvert_exporter": "python",
   "pygments_lexer": "ipython3",
   "version": "3.8.13"
  }
 },
 "nbformat": 4,
 "nbformat_minor": 5
}
